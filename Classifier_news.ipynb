{
  "nbformat": 4,
  "nbformat_minor": 0,
  "metadata": {
    "colab": {
      "name": "Classifier_news.ipynb",
      "provenance": [],
      "collapsed_sections": [],
      "toc_visible": true,
      "include_colab_link": true
    },
    "kernelspec": {
      "display_name": "Python 3",
      "language": "python",
      "name": "python3"
    },
    "language_info": {
      "codemirror_mode": {
        "name": "ipython",
        "version": 3
      },
      "file_extension": ".py",
      "mimetype": "text/x-python",
      "name": "python",
      "nbconvert_exporter": "python",
      "pygments_lexer": "ipython3",
      "version": "3.8.1"
    },
    "widgets": {
      "application/vnd.jupyter.widget-state+json": {
        "36732768007c476e972bee3c5ffe3d29": {
          "model_module": "@jupyter-widgets/controls",
          "model_name": "HBoxModel",
          "state": {
            "_view_name": "HBoxView",
            "_dom_classes": [],
            "_model_name": "HBoxModel",
            "_view_module": "@jupyter-widgets/controls",
            "_model_module_version": "1.5.0",
            "_view_count": null,
            "_view_module_version": "1.5.0",
            "box_style": "",
            "layout": "IPY_MODEL_4f0234e08d454a36878e13692417031f",
            "_model_module": "@jupyter-widgets/controls",
            "children": [
              "IPY_MODEL_179f9122511f45909a46ba3fe0e5151d",
              "IPY_MODEL_c0279ec0c9a54026a3fa55b9045c9f2e"
            ]
          }
        },
        "4f0234e08d454a36878e13692417031f": {
          "model_module": "@jupyter-widgets/base",
          "model_name": "LayoutModel",
          "state": {
            "_view_name": "LayoutView",
            "grid_template_rows": null,
            "right": null,
            "justify_content": null,
            "_view_module": "@jupyter-widgets/base",
            "overflow": null,
            "_model_module_version": "1.2.0",
            "_view_count": null,
            "flex_flow": null,
            "width": null,
            "min_width": null,
            "border": null,
            "align_items": null,
            "bottom": null,
            "_model_module": "@jupyter-widgets/base",
            "top": null,
            "grid_column": null,
            "overflow_y": null,
            "overflow_x": null,
            "grid_auto_flow": null,
            "grid_area": null,
            "grid_template_columns": null,
            "flex": null,
            "_model_name": "LayoutModel",
            "justify_items": null,
            "grid_row": null,
            "max_height": null,
            "align_content": null,
            "visibility": null,
            "align_self": null,
            "height": null,
            "min_height": null,
            "padding": null,
            "grid_auto_rows": null,
            "grid_gap": null,
            "max_width": null,
            "order": null,
            "_view_module_version": "1.2.0",
            "grid_template_areas": null,
            "object_position": null,
            "object_fit": null,
            "grid_auto_columns": null,
            "margin": null,
            "display": null,
            "left": null
          }
        },
        "179f9122511f45909a46ba3fe0e5151d": {
          "model_module": "@jupyter-widgets/controls",
          "model_name": "FloatProgressModel",
          "state": {
            "_view_name": "ProgressView",
            "style": "IPY_MODEL_0e8fafe91f064bf2a33bec99774eb55b",
            "_dom_classes": [],
            "description": "100%",
            "_model_name": "FloatProgressModel",
            "bar_style": "success",
            "max": 69955,
            "_view_module": "@jupyter-widgets/controls",
            "_model_module_version": "1.5.0",
            "value": 69955,
            "_view_count": null,
            "_view_module_version": "1.5.0",
            "orientation": "horizontal",
            "min": 0,
            "description_tooltip": null,
            "_model_module": "@jupyter-widgets/controls",
            "layout": "IPY_MODEL_ebfcaf24140542c1b2ae8b77b0c81a04"
          }
        },
        "c0279ec0c9a54026a3fa55b9045c9f2e": {
          "model_module": "@jupyter-widgets/controls",
          "model_name": "HTMLModel",
          "state": {
            "_view_name": "HTMLView",
            "style": "IPY_MODEL_5ea3e8084d9046ac9893afb5def610b2",
            "_dom_classes": [],
            "description": "",
            "_model_name": "HTMLModel",
            "placeholder": "​",
            "_view_module": "@jupyter-widgets/controls",
            "_model_module_version": "1.5.0",
            "value": " 69955/69955 [00:06&lt;00:00, 11428.57it/s]",
            "_view_count": null,
            "_view_module_version": "1.5.0",
            "description_tooltip": null,
            "_model_module": "@jupyter-widgets/controls",
            "layout": "IPY_MODEL_a9aa2170216745a8a255b354b97719a3"
          }
        },
        "0e8fafe91f064bf2a33bec99774eb55b": {
          "model_module": "@jupyter-widgets/controls",
          "model_name": "ProgressStyleModel",
          "state": {
            "_view_name": "StyleView",
            "_model_name": "ProgressStyleModel",
            "description_width": "initial",
            "_view_module": "@jupyter-widgets/base",
            "_model_module_version": "1.5.0",
            "_view_count": null,
            "_view_module_version": "1.2.0",
            "bar_color": null,
            "_model_module": "@jupyter-widgets/controls"
          }
        },
        "ebfcaf24140542c1b2ae8b77b0c81a04": {
          "model_module": "@jupyter-widgets/base",
          "model_name": "LayoutModel",
          "state": {
            "_view_name": "LayoutView",
            "grid_template_rows": null,
            "right": null,
            "justify_content": null,
            "_view_module": "@jupyter-widgets/base",
            "overflow": null,
            "_model_module_version": "1.2.0",
            "_view_count": null,
            "flex_flow": null,
            "width": null,
            "min_width": null,
            "border": null,
            "align_items": null,
            "bottom": null,
            "_model_module": "@jupyter-widgets/base",
            "top": null,
            "grid_column": null,
            "overflow_y": null,
            "overflow_x": null,
            "grid_auto_flow": null,
            "grid_area": null,
            "grid_template_columns": null,
            "flex": null,
            "_model_name": "LayoutModel",
            "justify_items": null,
            "grid_row": null,
            "max_height": null,
            "align_content": null,
            "visibility": null,
            "align_self": null,
            "height": null,
            "min_height": null,
            "padding": null,
            "grid_auto_rows": null,
            "grid_gap": null,
            "max_width": null,
            "order": null,
            "_view_module_version": "1.2.0",
            "grid_template_areas": null,
            "object_position": null,
            "object_fit": null,
            "grid_auto_columns": null,
            "margin": null,
            "display": null,
            "left": null
          }
        },
        "5ea3e8084d9046ac9893afb5def610b2": {
          "model_module": "@jupyter-widgets/controls",
          "model_name": "DescriptionStyleModel",
          "state": {
            "_view_name": "StyleView",
            "_model_name": "DescriptionStyleModel",
            "description_width": "",
            "_view_module": "@jupyter-widgets/base",
            "_model_module_version": "1.5.0",
            "_view_count": null,
            "_view_module_version": "1.2.0",
            "_model_module": "@jupyter-widgets/controls"
          }
        },
        "a9aa2170216745a8a255b354b97719a3": {
          "model_module": "@jupyter-widgets/base",
          "model_name": "LayoutModel",
          "state": {
            "_view_name": "LayoutView",
            "grid_template_rows": null,
            "right": null,
            "justify_content": null,
            "_view_module": "@jupyter-widgets/base",
            "overflow": null,
            "_model_module_version": "1.2.0",
            "_view_count": null,
            "flex_flow": null,
            "width": null,
            "min_width": null,
            "border": null,
            "align_items": null,
            "bottom": null,
            "_model_module": "@jupyter-widgets/base",
            "top": null,
            "grid_column": null,
            "overflow_y": null,
            "overflow_x": null,
            "grid_auto_flow": null,
            "grid_area": null,
            "grid_template_columns": null,
            "flex": null,
            "_model_name": "LayoutModel",
            "justify_items": null,
            "grid_row": null,
            "max_height": null,
            "align_content": null,
            "visibility": null,
            "align_self": null,
            "height": null,
            "min_height": null,
            "padding": null,
            "grid_auto_rows": null,
            "grid_gap": null,
            "max_width": null,
            "order": null,
            "_view_module_version": "1.2.0",
            "grid_template_areas": null,
            "object_position": null,
            "object_fit": null,
            "grid_auto_columns": null,
            "margin": null,
            "display": null,
            "left": null
          }
        },
        "76183d732a5c4690bbb183e8dcc4ce39": {
          "model_module": "@jupyter-widgets/controls",
          "model_name": "HBoxModel",
          "state": {
            "_dom_classes": [],
            "_model_module": "@jupyter-widgets/controls",
            "_model_module_version": "1.5.0",
            "_model_name": "HBoxModel",
            "_view_count": null,
            "_view_module": "@jupyter-widgets/controls",
            "_view_module_version": "1.5.0",
            "_view_name": "HBoxView",
            "box_style": "",
            "children": [
              "IPY_MODEL_f92b96b81c2e499bb362bffc3b9eac9e",
              "IPY_MODEL_b2df6bcad79d423a94c9c5454eaac0d0"
            ],
            "layout": "IPY_MODEL_fdb8c0d65d294e1897ff0698007b6456"
          }
        },
        "f92b96b81c2e499bb362bffc3b9eac9e": {
          "model_module": "@jupyter-widgets/controls",
          "model_name": "FloatProgressModel",
          "state": {
            "_dom_classes": [],
            "_model_module": "@jupyter-widgets/controls",
            "_model_module_version": "1.5.0",
            "_model_name": "FloatProgressModel",
            "_view_count": null,
            "_view_module": "@jupyter-widgets/controls",
            "_view_module_version": "1.5.0",
            "_view_name": "ProgressView",
            "bar_style": "success",
            "description": "100%",
            "description_tooltip": null,
            "layout": "IPY_MODEL_d7e72a403e954059a1bc51875d89faf5",
            "max": 100,
            "min": 0,
            "orientation": "horizontal",
            "style": "IPY_MODEL_2e5a1c02c19b40ac809d052167131c35",
            "value": 100
          }
        },
        "b2df6bcad79d423a94c9c5454eaac0d0": {
          "model_module": "@jupyter-widgets/controls",
          "model_name": "HTMLModel",
          "state": {
            "_dom_classes": [],
            "_model_module": "@jupyter-widgets/controls",
            "_model_module_version": "1.5.0",
            "_model_name": "HTMLModel",
            "_view_count": null,
            "_view_module": "@jupyter-widgets/controls",
            "_view_module_version": "1.5.0",
            "_view_name": "HTMLView",
            "description": "",
            "description_tooltip": null,
            "layout": "IPY_MODEL_4a477af054ee4c8c82cac98f4313150a",
            "placeholder": "​",
            "style": "IPY_MODEL_42af2609beb34fe59c06d2ba62e6f503",
            "value": " 100/100 [00:00&lt;00:00, 126.92it/s]"
          }
        },
        "fdb8c0d65d294e1897ff0698007b6456": {
          "model_module": "@jupyter-widgets/base",
          "model_name": "LayoutModel",
          "state": {
            "_model_module": "@jupyter-widgets/base",
            "_model_module_version": "1.2.0",
            "_model_name": "LayoutModel",
            "_view_count": null,
            "_view_module": "@jupyter-widgets/base",
            "_view_module_version": "1.2.0",
            "_view_name": "LayoutView",
            "align_content": null,
            "align_items": null,
            "align_self": null,
            "border": null,
            "bottom": null,
            "display": null,
            "flex": null,
            "flex_flow": null,
            "grid_area": null,
            "grid_auto_columns": null,
            "grid_auto_flow": null,
            "grid_auto_rows": null,
            "grid_column": null,
            "grid_gap": null,
            "grid_row": null,
            "grid_template_areas": null,
            "grid_template_columns": null,
            "grid_template_rows": null,
            "height": null,
            "justify_content": null,
            "justify_items": null,
            "left": null,
            "margin": null,
            "max_height": null,
            "max_width": null,
            "min_height": null,
            "min_width": null,
            "object_fit": null,
            "object_position": null,
            "order": null,
            "overflow": null,
            "overflow_x": null,
            "overflow_y": null,
            "padding": null,
            "right": null,
            "top": null,
            "visibility": null,
            "width": null
          }
        },
        "d7e72a403e954059a1bc51875d89faf5": {
          "model_module": "@jupyter-widgets/base",
          "model_name": "LayoutModel",
          "state": {
            "_model_module": "@jupyter-widgets/base",
            "_model_module_version": "1.2.0",
            "_model_name": "LayoutModel",
            "_view_count": null,
            "_view_module": "@jupyter-widgets/base",
            "_view_module_version": "1.2.0",
            "_view_name": "LayoutView",
            "align_content": null,
            "align_items": null,
            "align_self": null,
            "border": null,
            "bottom": null,
            "display": null,
            "flex": null,
            "flex_flow": null,
            "grid_area": null,
            "grid_auto_columns": null,
            "grid_auto_flow": null,
            "grid_auto_rows": null,
            "grid_column": null,
            "grid_gap": null,
            "grid_row": null,
            "grid_template_areas": null,
            "grid_template_columns": null,
            "grid_template_rows": null,
            "height": null,
            "justify_content": null,
            "justify_items": null,
            "left": null,
            "margin": null,
            "max_height": null,
            "max_width": null,
            "min_height": null,
            "min_width": null,
            "object_fit": null,
            "object_position": null,
            "order": null,
            "overflow": null,
            "overflow_x": null,
            "overflow_y": null,
            "padding": null,
            "right": null,
            "top": null,
            "visibility": null,
            "width": null
          }
        },
        "2e5a1c02c19b40ac809d052167131c35": {
          "model_module": "@jupyter-widgets/controls",
          "model_name": "ProgressStyleModel",
          "state": {
            "_model_module": "@jupyter-widgets/controls",
            "_model_module_version": "1.5.0",
            "_model_name": "ProgressStyleModel",
            "_view_count": null,
            "_view_module": "@jupyter-widgets/base",
            "_view_module_version": "1.2.0",
            "_view_name": "StyleView",
            "bar_color": null,
            "description_width": "initial"
          }
        },
        "4a477af054ee4c8c82cac98f4313150a": {
          "model_module": "@jupyter-widgets/base",
          "model_name": "LayoutModel",
          "state": {
            "_model_module": "@jupyter-widgets/base",
            "_model_module_version": "1.2.0",
            "_model_name": "LayoutModel",
            "_view_count": null,
            "_view_module": "@jupyter-widgets/base",
            "_view_module_version": "1.2.0",
            "_view_name": "LayoutView",
            "align_content": null,
            "align_items": null,
            "align_self": null,
            "border": null,
            "bottom": null,
            "display": null,
            "flex": null,
            "flex_flow": null,
            "grid_area": null,
            "grid_auto_columns": null,
            "grid_auto_flow": null,
            "grid_auto_rows": null,
            "grid_column": null,
            "grid_gap": null,
            "grid_row": null,
            "grid_template_areas": null,
            "grid_template_columns": null,
            "grid_template_rows": null,
            "height": null,
            "justify_content": null,
            "justify_items": null,
            "left": null,
            "margin": null,
            "max_height": null,
            "max_width": null,
            "min_height": null,
            "min_width": null,
            "object_fit": null,
            "object_position": null,
            "order": null,
            "overflow": null,
            "overflow_x": null,
            "overflow_y": null,
            "padding": null,
            "right": null,
            "top": null,
            "visibility": null,
            "width": null
          }
        },
        "42af2609beb34fe59c06d2ba62e6f503": {
          "model_module": "@jupyter-widgets/controls",
          "model_name": "DescriptionStyleModel",
          "state": {
            "_model_module": "@jupyter-widgets/controls",
            "_model_module_version": "1.5.0",
            "_model_name": "DescriptionStyleModel",
            "_view_count": null,
            "_view_module": "@jupyter-widgets/base",
            "_view_module_version": "1.2.0",
            "_view_name": "StyleView",
            "description_width": ""
          }
        },
        "93f57a0b1bab464c848b980ef6acadbb": {
          "model_module": "@jupyter-widgets/controls",
          "model_name": "HBoxModel",
          "state": {
            "_dom_classes": [],
            "_model_module": "@jupyter-widgets/controls",
            "_model_module_version": "1.5.0",
            "_model_name": "HBoxModel",
            "_view_count": null,
            "_view_module": "@jupyter-widgets/controls",
            "_view_module_version": "1.5.0",
            "_view_name": "HBoxView",
            "box_style": "",
            "children": [
              "IPY_MODEL_a5ba64be3d9144a695420cb54238e957",
              "IPY_MODEL_42ea0c85e1ac4ec99e62c6357356daec"
            ],
            "layout": "IPY_MODEL_1d0d2a465c214fef8a874b6fab579a52"
          }
        },
        "a5ba64be3d9144a695420cb54238e957": {
          "model_module": "@jupyter-widgets/controls",
          "model_name": "FloatProgressModel",
          "state": {
            "_dom_classes": [],
            "_model_module": "@jupyter-widgets/controls",
            "_model_module_version": "1.5.0",
            "_model_name": "FloatProgressModel",
            "_view_count": null,
            "_view_module": "@jupyter-widgets/controls",
            "_view_module_version": "1.5.0",
            "_view_name": "ProgressView",
            "bar_style": "success",
            "description": "100%",
            "description_tooltip": null,
            "layout": "IPY_MODEL_9da9c2fb525144338eb3126bf078701c",
            "max": 36564,
            "min": 0,
            "orientation": "horizontal",
            "style": "IPY_MODEL_bfb79de31a044a6fa360c776c5851473",
            "value": 36564
          }
        },
        "42ea0c85e1ac4ec99e62c6357356daec": {
          "model_module": "@jupyter-widgets/controls",
          "model_name": "HTMLModel",
          "state": {
            "_dom_classes": [],
            "_model_module": "@jupyter-widgets/controls",
            "_model_module_version": "1.5.0",
            "_model_name": "HTMLModel",
            "_view_count": null,
            "_view_module": "@jupyter-widgets/controls",
            "_view_module_version": "1.5.0",
            "_view_name": "HTMLView",
            "description": "",
            "description_tooltip": null,
            "layout": "IPY_MODEL_53d192ba0e8d4cb1945a72c33590ed21",
            "placeholder": "​",
            "style": "IPY_MODEL_01444cb336cc44b394d074c00a3388da",
            "value": " 36564/36564 [01:59&lt;00:00, 305.98it/s]"
          }
        },
        "1d0d2a465c214fef8a874b6fab579a52": {
          "model_module": "@jupyter-widgets/base",
          "model_name": "LayoutModel",
          "state": {
            "_model_module": "@jupyter-widgets/base",
            "_model_module_version": "1.2.0",
            "_model_name": "LayoutModel",
            "_view_count": null,
            "_view_module": "@jupyter-widgets/base",
            "_view_module_version": "1.2.0",
            "_view_name": "LayoutView",
            "align_content": null,
            "align_items": null,
            "align_self": null,
            "border": null,
            "bottom": null,
            "display": null,
            "flex": null,
            "flex_flow": null,
            "grid_area": null,
            "grid_auto_columns": null,
            "grid_auto_flow": null,
            "grid_auto_rows": null,
            "grid_column": null,
            "grid_gap": null,
            "grid_row": null,
            "grid_template_areas": null,
            "grid_template_columns": null,
            "grid_template_rows": null,
            "height": null,
            "justify_content": null,
            "justify_items": null,
            "left": null,
            "margin": null,
            "max_height": null,
            "max_width": null,
            "min_height": null,
            "min_width": null,
            "object_fit": null,
            "object_position": null,
            "order": null,
            "overflow": null,
            "overflow_x": null,
            "overflow_y": null,
            "padding": null,
            "right": null,
            "top": null,
            "visibility": null,
            "width": null
          }
        },
        "9da9c2fb525144338eb3126bf078701c": {
          "model_module": "@jupyter-widgets/base",
          "model_name": "LayoutModel",
          "state": {
            "_model_module": "@jupyter-widgets/base",
            "_model_module_version": "1.2.0",
            "_model_name": "LayoutModel",
            "_view_count": null,
            "_view_module": "@jupyter-widgets/base",
            "_view_module_version": "1.2.0",
            "_view_name": "LayoutView",
            "align_content": null,
            "align_items": null,
            "align_self": null,
            "border": null,
            "bottom": null,
            "display": null,
            "flex": null,
            "flex_flow": null,
            "grid_area": null,
            "grid_auto_columns": null,
            "grid_auto_flow": null,
            "grid_auto_rows": null,
            "grid_column": null,
            "grid_gap": null,
            "grid_row": null,
            "grid_template_areas": null,
            "grid_template_columns": null,
            "grid_template_rows": null,
            "height": null,
            "justify_content": null,
            "justify_items": null,
            "left": null,
            "margin": null,
            "max_height": null,
            "max_width": null,
            "min_height": null,
            "min_width": null,
            "object_fit": null,
            "object_position": null,
            "order": null,
            "overflow": null,
            "overflow_x": null,
            "overflow_y": null,
            "padding": null,
            "right": null,
            "top": null,
            "visibility": null,
            "width": null
          }
        },
        "bfb79de31a044a6fa360c776c5851473": {
          "model_module": "@jupyter-widgets/controls",
          "model_name": "ProgressStyleModel",
          "state": {
            "_model_module": "@jupyter-widgets/controls",
            "_model_module_version": "1.5.0",
            "_model_name": "ProgressStyleModel",
            "_view_count": null,
            "_view_module": "@jupyter-widgets/base",
            "_view_module_version": "1.2.0",
            "_view_name": "StyleView",
            "bar_color": null,
            "description_width": "initial"
          }
        },
        "53d192ba0e8d4cb1945a72c33590ed21": {
          "model_module": "@jupyter-widgets/base",
          "model_name": "LayoutModel",
          "state": {
            "_model_module": "@jupyter-widgets/base",
            "_model_module_version": "1.2.0",
            "_model_name": "LayoutModel",
            "_view_count": null,
            "_view_module": "@jupyter-widgets/base",
            "_view_module_version": "1.2.0",
            "_view_name": "LayoutView",
            "align_content": null,
            "align_items": null,
            "align_self": null,
            "border": null,
            "bottom": null,
            "display": null,
            "flex": null,
            "flex_flow": null,
            "grid_area": null,
            "grid_auto_columns": null,
            "grid_auto_flow": null,
            "grid_auto_rows": null,
            "grid_column": null,
            "grid_gap": null,
            "grid_row": null,
            "grid_template_areas": null,
            "grid_template_columns": null,
            "grid_template_rows": null,
            "height": null,
            "justify_content": null,
            "justify_items": null,
            "left": null,
            "margin": null,
            "max_height": null,
            "max_width": null,
            "min_height": null,
            "min_width": null,
            "object_fit": null,
            "object_position": null,
            "order": null,
            "overflow": null,
            "overflow_x": null,
            "overflow_y": null,
            "padding": null,
            "right": null,
            "top": null,
            "visibility": null,
            "width": null
          }
        },
        "01444cb336cc44b394d074c00a3388da": {
          "model_module": "@jupyter-widgets/controls",
          "model_name": "DescriptionStyleModel",
          "state": {
            "_model_module": "@jupyter-widgets/controls",
            "_model_module_version": "1.5.0",
            "_model_name": "DescriptionStyleModel",
            "_view_count": null,
            "_view_module": "@jupyter-widgets/base",
            "_view_module_version": "1.2.0",
            "_view_name": "StyleView",
            "description_width": ""
          }
        },
        "19b55f908afd4ac2bd12aacab65e6ca6": {
          "model_module": "@jupyter-widgets/controls",
          "model_name": "HBoxModel",
          "state": {
            "_dom_classes": [],
            "_model_module": "@jupyter-widgets/controls",
            "_model_module_version": "1.5.0",
            "_model_name": "HBoxModel",
            "_view_count": null,
            "_view_module": "@jupyter-widgets/controls",
            "_view_module_version": "1.5.0",
            "_view_name": "HBoxView",
            "box_style": "",
            "children": [
              "IPY_MODEL_41c66c2edb054374b8dc17b85090902e",
              "IPY_MODEL_fa78ef3e19754169a88c777529ec67b3"
            ],
            "layout": "IPY_MODEL_77d06b6f8eeb41e9a091ae7b912e2788"
          }
        },
        "41c66c2edb054374b8dc17b85090902e": {
          "model_module": "@jupyter-widgets/controls",
          "model_name": "FloatProgressModel",
          "state": {
            "_dom_classes": [],
            "_model_module": "@jupyter-widgets/controls",
            "_model_module_version": "1.5.0",
            "_model_name": "FloatProgressModel",
            "_view_count": null,
            "_view_module": "@jupyter-widgets/controls",
            "_view_module_version": "1.5.0",
            "_view_name": "ProgressView",
            "bar_style": "success",
            "description": "100%",
            "description_tooltip": null,
            "layout": "IPY_MODEL_6dbf8f27e64e449c946d6aebac3f0f56",
            "max": 13994,
            "min": 0,
            "orientation": "horizontal",
            "style": "IPY_MODEL_f5155e83fed944889b26453c6b84fcdf",
            "value": 13994
          }
        },
        "fa78ef3e19754169a88c777529ec67b3": {
          "model_module": "@jupyter-widgets/controls",
          "model_name": "HTMLModel",
          "state": {
            "_dom_classes": [],
            "_model_module": "@jupyter-widgets/controls",
            "_model_module_version": "1.5.0",
            "_model_name": "HTMLModel",
            "_view_count": null,
            "_view_module": "@jupyter-widgets/controls",
            "_view_module_version": "1.5.0",
            "_view_name": "HTMLView",
            "description": "",
            "description_tooltip": null,
            "layout": "IPY_MODEL_c61fac757118452397bfbe625804ed9c",
            "placeholder": "​",
            "style": "IPY_MODEL_f49135fd8a2d4ecca8ed9518aee19bd9",
            "value": " 13994/13994 [00:19&lt;00:00, 715.95it/s]"
          }
        },
        "77d06b6f8eeb41e9a091ae7b912e2788": {
          "model_module": "@jupyter-widgets/base",
          "model_name": "LayoutModel",
          "state": {
            "_model_module": "@jupyter-widgets/base",
            "_model_module_version": "1.2.0",
            "_model_name": "LayoutModel",
            "_view_count": null,
            "_view_module": "@jupyter-widgets/base",
            "_view_module_version": "1.2.0",
            "_view_name": "LayoutView",
            "align_content": null,
            "align_items": null,
            "align_self": null,
            "border": null,
            "bottom": null,
            "display": null,
            "flex": null,
            "flex_flow": null,
            "grid_area": null,
            "grid_auto_columns": null,
            "grid_auto_flow": null,
            "grid_auto_rows": null,
            "grid_column": null,
            "grid_gap": null,
            "grid_row": null,
            "grid_template_areas": null,
            "grid_template_columns": null,
            "grid_template_rows": null,
            "height": null,
            "justify_content": null,
            "justify_items": null,
            "left": null,
            "margin": null,
            "max_height": null,
            "max_width": null,
            "min_height": null,
            "min_width": null,
            "object_fit": null,
            "object_position": null,
            "order": null,
            "overflow": null,
            "overflow_x": null,
            "overflow_y": null,
            "padding": null,
            "right": null,
            "top": null,
            "visibility": null,
            "width": null
          }
        },
        "6dbf8f27e64e449c946d6aebac3f0f56": {
          "model_module": "@jupyter-widgets/base",
          "model_name": "LayoutModel",
          "state": {
            "_model_module": "@jupyter-widgets/base",
            "_model_module_version": "1.2.0",
            "_model_name": "LayoutModel",
            "_view_count": null,
            "_view_module": "@jupyter-widgets/base",
            "_view_module_version": "1.2.0",
            "_view_name": "LayoutView",
            "align_content": null,
            "align_items": null,
            "align_self": null,
            "border": null,
            "bottom": null,
            "display": null,
            "flex": null,
            "flex_flow": null,
            "grid_area": null,
            "grid_auto_columns": null,
            "grid_auto_flow": null,
            "grid_auto_rows": null,
            "grid_column": null,
            "grid_gap": null,
            "grid_row": null,
            "grid_template_areas": null,
            "grid_template_columns": null,
            "grid_template_rows": null,
            "height": null,
            "justify_content": null,
            "justify_items": null,
            "left": null,
            "margin": null,
            "max_height": null,
            "max_width": null,
            "min_height": null,
            "min_width": null,
            "object_fit": null,
            "object_position": null,
            "order": null,
            "overflow": null,
            "overflow_x": null,
            "overflow_y": null,
            "padding": null,
            "right": null,
            "top": null,
            "visibility": null,
            "width": null
          }
        },
        "f5155e83fed944889b26453c6b84fcdf": {
          "model_module": "@jupyter-widgets/controls",
          "model_name": "ProgressStyleModel",
          "state": {
            "_model_module": "@jupyter-widgets/controls",
            "_model_module_version": "1.5.0",
            "_model_name": "ProgressStyleModel",
            "_view_count": null,
            "_view_module": "@jupyter-widgets/base",
            "_view_module_version": "1.2.0",
            "_view_name": "StyleView",
            "bar_color": null,
            "description_width": "initial"
          }
        },
        "c61fac757118452397bfbe625804ed9c": {
          "model_module": "@jupyter-widgets/base",
          "model_name": "LayoutModel",
          "state": {
            "_model_module": "@jupyter-widgets/base",
            "_model_module_version": "1.2.0",
            "_model_name": "LayoutModel",
            "_view_count": null,
            "_view_module": "@jupyter-widgets/base",
            "_view_module_version": "1.2.0",
            "_view_name": "LayoutView",
            "align_content": null,
            "align_items": null,
            "align_self": null,
            "border": null,
            "bottom": null,
            "display": null,
            "flex": null,
            "flex_flow": null,
            "grid_area": null,
            "grid_auto_columns": null,
            "grid_auto_flow": null,
            "grid_auto_rows": null,
            "grid_column": null,
            "grid_gap": null,
            "grid_row": null,
            "grid_template_areas": null,
            "grid_template_columns": null,
            "grid_template_rows": null,
            "height": null,
            "justify_content": null,
            "justify_items": null,
            "left": null,
            "margin": null,
            "max_height": null,
            "max_width": null,
            "min_height": null,
            "min_width": null,
            "object_fit": null,
            "object_position": null,
            "order": null,
            "overflow": null,
            "overflow_x": null,
            "overflow_y": null,
            "padding": null,
            "right": null,
            "top": null,
            "visibility": null,
            "width": null
          }
        },
        "f49135fd8a2d4ecca8ed9518aee19bd9": {
          "model_module": "@jupyter-widgets/controls",
          "model_name": "DescriptionStyleModel",
          "state": {
            "_model_module": "@jupyter-widgets/controls",
            "_model_module_version": "1.5.0",
            "_model_name": "DescriptionStyleModel",
            "_view_count": null,
            "_view_module": "@jupyter-widgets/base",
            "_view_module_version": "1.2.0",
            "_view_name": "StyleView",
            "description_width": ""
          }
        },
        "6d1f0efd42d94c5584d4b85609396eaf": {
          "model_module": "@jupyter-widgets/controls",
          "model_name": "HBoxModel",
          "state": {
            "_view_name": "HBoxView",
            "_dom_classes": [],
            "_model_name": "HBoxModel",
            "_view_module": "@jupyter-widgets/controls",
            "_model_module_version": "1.5.0",
            "_view_count": null,
            "_view_module_version": "1.5.0",
            "box_style": "",
            "layout": "IPY_MODEL_614540a176cc45ebaca15633d61ac384",
            "_model_module": "@jupyter-widgets/controls",
            "children": [
              "IPY_MODEL_00998bf1ada64125bb9db3c068513cc7",
              "IPY_MODEL_c1674a9ef5834b269ce9bfd5e24ba913"
            ]
          }
        },
        "614540a176cc45ebaca15633d61ac384": {
          "model_module": "@jupyter-widgets/base",
          "model_name": "LayoutModel",
          "state": {
            "_view_name": "LayoutView",
            "grid_template_rows": null,
            "right": null,
            "justify_content": null,
            "_view_module": "@jupyter-widgets/base",
            "overflow": null,
            "_model_module_version": "1.2.0",
            "_view_count": null,
            "flex_flow": null,
            "width": null,
            "min_width": null,
            "border": null,
            "align_items": null,
            "bottom": null,
            "_model_module": "@jupyter-widgets/base",
            "top": null,
            "grid_column": null,
            "overflow_y": null,
            "overflow_x": null,
            "grid_auto_flow": null,
            "grid_area": null,
            "grid_template_columns": null,
            "flex": null,
            "_model_name": "LayoutModel",
            "justify_items": null,
            "grid_row": null,
            "max_height": null,
            "align_content": null,
            "visibility": null,
            "align_self": null,
            "height": null,
            "min_height": null,
            "padding": null,
            "grid_auto_rows": null,
            "grid_gap": null,
            "max_width": null,
            "order": null,
            "_view_module_version": "1.2.0",
            "grid_template_areas": null,
            "object_position": null,
            "object_fit": null,
            "grid_auto_columns": null,
            "margin": null,
            "display": null,
            "left": null
          }
        },
        "00998bf1ada64125bb9db3c068513cc7": {
          "model_module": "@jupyter-widgets/controls",
          "model_name": "FloatProgressModel",
          "state": {
            "_view_name": "ProgressView",
            "style": "IPY_MODEL_cb06dc855b894119b250464309b5e034",
            "_dom_classes": [],
            "description": "100%",
            "_model_name": "FloatProgressModel",
            "bar_style": "success",
            "max": 27132,
            "_view_module": "@jupyter-widgets/controls",
            "_model_module_version": "1.5.0",
            "value": 27132,
            "_view_count": null,
            "_view_module_version": "1.5.0",
            "orientation": "horizontal",
            "min": 0,
            "description_tooltip": null,
            "_model_module": "@jupyter-widgets/controls",
            "layout": "IPY_MODEL_ef2dd054f24a45188509cc381c1d9515"
          }
        },
        "c1674a9ef5834b269ce9bfd5e24ba913": {
          "model_module": "@jupyter-widgets/controls",
          "model_name": "HTMLModel",
          "state": {
            "_view_name": "HTMLView",
            "style": "IPY_MODEL_533788ad9a8b4157a32c2da357ff4d13",
            "_dom_classes": [],
            "description": "",
            "_model_name": "HTMLModel",
            "placeholder": "​",
            "_view_module": "@jupyter-widgets/controls",
            "_model_module_version": "1.5.0",
            "value": " 27132/27132 [05:56&lt;00:00, 76.15it/s]",
            "_view_count": null,
            "_view_module_version": "1.5.0",
            "description_tooltip": null,
            "_model_module": "@jupyter-widgets/controls",
            "layout": "IPY_MODEL_7f18e0a9186c4aa9afe681d6e1bb6868"
          }
        },
        "cb06dc855b894119b250464309b5e034": {
          "model_module": "@jupyter-widgets/controls",
          "model_name": "ProgressStyleModel",
          "state": {
            "_view_name": "StyleView",
            "_model_name": "ProgressStyleModel",
            "description_width": "initial",
            "_view_module": "@jupyter-widgets/base",
            "_model_module_version": "1.5.0",
            "_view_count": null,
            "_view_module_version": "1.2.0",
            "bar_color": null,
            "_model_module": "@jupyter-widgets/controls"
          }
        },
        "ef2dd054f24a45188509cc381c1d9515": {
          "model_module": "@jupyter-widgets/base",
          "model_name": "LayoutModel",
          "state": {
            "_view_name": "LayoutView",
            "grid_template_rows": null,
            "right": null,
            "justify_content": null,
            "_view_module": "@jupyter-widgets/base",
            "overflow": null,
            "_model_module_version": "1.2.0",
            "_view_count": null,
            "flex_flow": null,
            "width": null,
            "min_width": null,
            "border": null,
            "align_items": null,
            "bottom": null,
            "_model_module": "@jupyter-widgets/base",
            "top": null,
            "grid_column": null,
            "overflow_y": null,
            "overflow_x": null,
            "grid_auto_flow": null,
            "grid_area": null,
            "grid_template_columns": null,
            "flex": null,
            "_model_name": "LayoutModel",
            "justify_items": null,
            "grid_row": null,
            "max_height": null,
            "align_content": null,
            "visibility": null,
            "align_self": null,
            "height": null,
            "min_height": null,
            "padding": null,
            "grid_auto_rows": null,
            "grid_gap": null,
            "max_width": null,
            "order": null,
            "_view_module_version": "1.2.0",
            "grid_template_areas": null,
            "object_position": null,
            "object_fit": null,
            "grid_auto_columns": null,
            "margin": null,
            "display": null,
            "left": null
          }
        },
        "533788ad9a8b4157a32c2da357ff4d13": {
          "model_module": "@jupyter-widgets/controls",
          "model_name": "DescriptionStyleModel",
          "state": {
            "_view_name": "StyleView",
            "_model_name": "DescriptionStyleModel",
            "description_width": "",
            "_view_module": "@jupyter-widgets/base",
            "_model_module_version": "1.5.0",
            "_view_count": null,
            "_view_module_version": "1.2.0",
            "_model_module": "@jupyter-widgets/controls"
          }
        },
        "7f18e0a9186c4aa9afe681d6e1bb6868": {
          "model_module": "@jupyter-widgets/base",
          "model_name": "LayoutModel",
          "state": {
            "_view_name": "LayoutView",
            "grid_template_rows": null,
            "right": null,
            "justify_content": null,
            "_view_module": "@jupyter-widgets/base",
            "overflow": null,
            "_model_module_version": "1.2.0",
            "_view_count": null,
            "flex_flow": null,
            "width": null,
            "min_width": null,
            "border": null,
            "align_items": null,
            "bottom": null,
            "_model_module": "@jupyter-widgets/base",
            "top": null,
            "grid_column": null,
            "overflow_y": null,
            "overflow_x": null,
            "grid_auto_flow": null,
            "grid_area": null,
            "grid_template_columns": null,
            "flex": null,
            "_model_name": "LayoutModel",
            "justify_items": null,
            "grid_row": null,
            "max_height": null,
            "align_content": null,
            "visibility": null,
            "align_self": null,
            "height": null,
            "min_height": null,
            "padding": null,
            "grid_auto_rows": null,
            "grid_gap": null,
            "max_width": null,
            "order": null,
            "_view_module_version": "1.2.0",
            "grid_template_areas": null,
            "object_position": null,
            "object_fit": null,
            "grid_auto_columns": null,
            "margin": null,
            "display": null,
            "left": null
          }
        },
        "65f995d118e046b0a63908da5a9fd2d1": {
          "model_module": "@jupyter-widgets/controls",
          "model_name": "HBoxModel",
          "state": {
            "_view_name": "HBoxView",
            "_dom_classes": [],
            "_model_name": "HBoxModel",
            "_view_module": "@jupyter-widgets/controls",
            "_model_module_version": "1.5.0",
            "_view_count": null,
            "_view_module_version": "1.5.0",
            "box_style": "",
            "layout": "IPY_MODEL_eb67da9a1330434682dd562b619415dc",
            "_model_module": "@jupyter-widgets/controls",
            "children": [
              "IPY_MODEL_4cadb23bde454adeb3c00c63f21f77a0",
              "IPY_MODEL_52c9b931e86044afaf1b40c7174f9c0f"
            ]
          }
        },
        "eb67da9a1330434682dd562b619415dc": {
          "model_module": "@jupyter-widgets/base",
          "model_name": "LayoutModel",
          "state": {
            "_view_name": "LayoutView",
            "grid_template_rows": null,
            "right": null,
            "justify_content": null,
            "_view_module": "@jupyter-widgets/base",
            "overflow": null,
            "_model_module_version": "1.2.0",
            "_view_count": null,
            "flex_flow": null,
            "width": null,
            "min_width": null,
            "border": null,
            "align_items": null,
            "bottom": null,
            "_model_module": "@jupyter-widgets/base",
            "top": null,
            "grid_column": null,
            "overflow_y": null,
            "overflow_x": null,
            "grid_auto_flow": null,
            "grid_area": null,
            "grid_template_columns": null,
            "flex": null,
            "_model_name": "LayoutModel",
            "justify_items": null,
            "grid_row": null,
            "max_height": null,
            "align_content": null,
            "visibility": null,
            "align_self": null,
            "height": null,
            "min_height": null,
            "padding": null,
            "grid_auto_rows": null,
            "grid_gap": null,
            "max_width": null,
            "order": null,
            "_view_module_version": "1.2.0",
            "grid_template_areas": null,
            "object_position": null,
            "object_fit": null,
            "grid_auto_columns": null,
            "margin": null,
            "display": null,
            "left": null
          }
        },
        "4cadb23bde454adeb3c00c63f21f77a0": {
          "model_module": "@jupyter-widgets/controls",
          "model_name": "FloatProgressModel",
          "state": {
            "_view_name": "ProgressView",
            "style": "IPY_MODEL_c89dc205058d4f6796b8e76b85e42df4",
            "_dom_classes": [],
            "description": "100%",
            "_model_name": "FloatProgressModel",
            "bar_style": "success",
            "max": 6783,
            "_view_module": "@jupyter-widgets/controls",
            "_model_module_version": "1.5.0",
            "value": 6783,
            "_view_count": null,
            "_view_module_version": "1.5.0",
            "orientation": "horizontal",
            "min": 0,
            "description_tooltip": null,
            "_model_module": "@jupyter-widgets/controls",
            "layout": "IPY_MODEL_3a69a0460f084b7f8c34ed3f3f09b2de"
          }
        },
        "52c9b931e86044afaf1b40c7174f9c0f": {
          "model_module": "@jupyter-widgets/controls",
          "model_name": "HTMLModel",
          "state": {
            "_view_name": "HTMLView",
            "style": "IPY_MODEL_dd4c229e1dac4fdd877489f94b56399e",
            "_dom_classes": [],
            "description": "",
            "_model_name": "HTMLModel",
            "placeholder": "​",
            "_view_module": "@jupyter-widgets/controls",
            "_model_module_version": "1.5.0",
            "value": " 6783/6783 [03:14&lt;00:00, 34.84it/s]",
            "_view_count": null,
            "_view_module_version": "1.5.0",
            "description_tooltip": null,
            "_model_module": "@jupyter-widgets/controls",
            "layout": "IPY_MODEL_f3b3f35a064a42878aa717cd9734f86a"
          }
        },
        "c89dc205058d4f6796b8e76b85e42df4": {
          "model_module": "@jupyter-widgets/controls",
          "model_name": "ProgressStyleModel",
          "state": {
            "_view_name": "StyleView",
            "_model_name": "ProgressStyleModel",
            "description_width": "initial",
            "_view_module": "@jupyter-widgets/base",
            "_model_module_version": "1.5.0",
            "_view_count": null,
            "_view_module_version": "1.2.0",
            "bar_color": null,
            "_model_module": "@jupyter-widgets/controls"
          }
        },
        "3a69a0460f084b7f8c34ed3f3f09b2de": {
          "model_module": "@jupyter-widgets/base",
          "model_name": "LayoutModel",
          "state": {
            "_view_name": "LayoutView",
            "grid_template_rows": null,
            "right": null,
            "justify_content": null,
            "_view_module": "@jupyter-widgets/base",
            "overflow": null,
            "_model_module_version": "1.2.0",
            "_view_count": null,
            "flex_flow": null,
            "width": null,
            "min_width": null,
            "border": null,
            "align_items": null,
            "bottom": null,
            "_model_module": "@jupyter-widgets/base",
            "top": null,
            "grid_column": null,
            "overflow_y": null,
            "overflow_x": null,
            "grid_auto_flow": null,
            "grid_area": null,
            "grid_template_columns": null,
            "flex": null,
            "_model_name": "LayoutModel",
            "justify_items": null,
            "grid_row": null,
            "max_height": null,
            "align_content": null,
            "visibility": null,
            "align_self": null,
            "height": null,
            "min_height": null,
            "padding": null,
            "grid_auto_rows": null,
            "grid_gap": null,
            "max_width": null,
            "order": null,
            "_view_module_version": "1.2.0",
            "grid_template_areas": null,
            "object_position": null,
            "object_fit": null,
            "grid_auto_columns": null,
            "margin": null,
            "display": null,
            "left": null
          }
        },
        "dd4c229e1dac4fdd877489f94b56399e": {
          "model_module": "@jupyter-widgets/controls",
          "model_name": "DescriptionStyleModel",
          "state": {
            "_view_name": "StyleView",
            "_model_name": "DescriptionStyleModel",
            "description_width": "",
            "_view_module": "@jupyter-widgets/base",
            "_model_module_version": "1.5.0",
            "_view_count": null,
            "_view_module_version": "1.2.0",
            "_model_module": "@jupyter-widgets/controls"
          }
        },
        "f3b3f35a064a42878aa717cd9734f86a": {
          "model_module": "@jupyter-widgets/base",
          "model_name": "LayoutModel",
          "state": {
            "_view_name": "LayoutView",
            "grid_template_rows": null,
            "right": null,
            "justify_content": null,
            "_view_module": "@jupyter-widgets/base",
            "overflow": null,
            "_model_module_version": "1.2.0",
            "_view_count": null,
            "flex_flow": null,
            "width": null,
            "min_width": null,
            "border": null,
            "align_items": null,
            "bottom": null,
            "_model_module": "@jupyter-widgets/base",
            "top": null,
            "grid_column": null,
            "overflow_y": null,
            "overflow_x": null,
            "grid_auto_flow": null,
            "grid_area": null,
            "grid_template_columns": null,
            "flex": null,
            "_model_name": "LayoutModel",
            "justify_items": null,
            "grid_row": null,
            "max_height": null,
            "align_content": null,
            "visibility": null,
            "align_self": null,
            "height": null,
            "min_height": null,
            "padding": null,
            "grid_auto_rows": null,
            "grid_gap": null,
            "max_width": null,
            "order": null,
            "_view_module_version": "1.2.0",
            "grid_template_areas": null,
            "object_position": null,
            "object_fit": null,
            "grid_auto_columns": null,
            "margin": null,
            "display": null,
            "left": null
          }
        },
        "f9664c732221444b87c2785554103486": {
          "model_module": "@jupyter-widgets/controls",
          "model_name": "HBoxModel",
          "state": {
            "_view_name": "HBoxView",
            "_dom_classes": [],
            "_model_name": "HBoxModel",
            "_view_module": "@jupyter-widgets/controls",
            "_model_module_version": "1.5.0",
            "_view_count": null,
            "_view_module_version": "1.5.0",
            "box_style": "",
            "layout": "IPY_MODEL_1f93cb65be1b4c82a4c1966f9c5079c9",
            "_model_module": "@jupyter-widgets/controls",
            "children": [
              "IPY_MODEL_79b88faf393e439cacfad11ff2bd5f58",
              "IPY_MODEL_dfe2cc8d752745a4a07c49702d051bcb"
            ]
          }
        },
        "1f93cb65be1b4c82a4c1966f9c5079c9": {
          "model_module": "@jupyter-widgets/base",
          "model_name": "LayoutModel",
          "state": {
            "_view_name": "LayoutView",
            "grid_template_rows": null,
            "right": null,
            "justify_content": null,
            "_view_module": "@jupyter-widgets/base",
            "overflow": null,
            "_model_module_version": "1.2.0",
            "_view_count": null,
            "flex_flow": null,
            "width": null,
            "min_width": null,
            "border": null,
            "align_items": null,
            "bottom": null,
            "_model_module": "@jupyter-widgets/base",
            "top": null,
            "grid_column": null,
            "overflow_y": null,
            "overflow_x": null,
            "grid_auto_flow": null,
            "grid_area": null,
            "grid_template_columns": null,
            "flex": null,
            "_model_name": "LayoutModel",
            "justify_items": null,
            "grid_row": null,
            "max_height": null,
            "align_content": null,
            "visibility": null,
            "align_self": null,
            "height": null,
            "min_height": null,
            "padding": null,
            "grid_auto_rows": null,
            "grid_gap": null,
            "max_width": null,
            "order": null,
            "_view_module_version": "1.2.0",
            "grid_template_areas": null,
            "object_position": null,
            "object_fit": null,
            "grid_auto_columns": null,
            "margin": null,
            "display": null,
            "left": null
          }
        },
        "79b88faf393e439cacfad11ff2bd5f58": {
          "model_module": "@jupyter-widgets/controls",
          "model_name": "FloatProgressModel",
          "state": {
            "_view_name": "ProgressView",
            "style": "IPY_MODEL_94ea84d5e7d64806a62c4420b46439bd",
            "_dom_classes": [],
            "description": "100%",
            "_model_name": "FloatProgressModel",
            "bar_style": "success",
            "max": 27132,
            "_view_module": "@jupyter-widgets/controls",
            "_model_module_version": "1.5.0",
            "value": 27132,
            "_view_count": null,
            "_view_module_version": "1.5.0",
            "orientation": "horizontal",
            "min": 0,
            "description_tooltip": null,
            "_model_module": "@jupyter-widgets/controls",
            "layout": "IPY_MODEL_fac40d03dead4f0a9c0dfbe54c8a9cfb"
          }
        },
        "dfe2cc8d752745a4a07c49702d051bcb": {
          "model_module": "@jupyter-widgets/controls",
          "model_name": "HTMLModel",
          "state": {
            "_view_name": "HTMLView",
            "style": "IPY_MODEL_e5183e07acb243d1976785e1d8165b90",
            "_dom_classes": [],
            "description": "",
            "_model_name": "HTMLModel",
            "placeholder": "​",
            "_view_module": "@jupyter-widgets/controls",
            "_model_module_version": "1.5.0",
            "value": " 27132/27132 [03:12&lt;00:00, 140.90it/s]",
            "_view_count": null,
            "_view_module_version": "1.5.0",
            "description_tooltip": null,
            "_model_module": "@jupyter-widgets/controls",
            "layout": "IPY_MODEL_41f59dc32d854f14acc042eab6bb34fd"
          }
        },
        "94ea84d5e7d64806a62c4420b46439bd": {
          "model_module": "@jupyter-widgets/controls",
          "model_name": "ProgressStyleModel",
          "state": {
            "_view_name": "StyleView",
            "_model_name": "ProgressStyleModel",
            "description_width": "initial",
            "_view_module": "@jupyter-widgets/base",
            "_model_module_version": "1.5.0",
            "_view_count": null,
            "_view_module_version": "1.2.0",
            "bar_color": null,
            "_model_module": "@jupyter-widgets/controls"
          }
        },
        "fac40d03dead4f0a9c0dfbe54c8a9cfb": {
          "model_module": "@jupyter-widgets/base",
          "model_name": "LayoutModel",
          "state": {
            "_view_name": "LayoutView",
            "grid_template_rows": null,
            "right": null,
            "justify_content": null,
            "_view_module": "@jupyter-widgets/base",
            "overflow": null,
            "_model_module_version": "1.2.0",
            "_view_count": null,
            "flex_flow": null,
            "width": null,
            "min_width": null,
            "border": null,
            "align_items": null,
            "bottom": null,
            "_model_module": "@jupyter-widgets/base",
            "top": null,
            "grid_column": null,
            "overflow_y": null,
            "overflow_x": null,
            "grid_auto_flow": null,
            "grid_area": null,
            "grid_template_columns": null,
            "flex": null,
            "_model_name": "LayoutModel",
            "justify_items": null,
            "grid_row": null,
            "max_height": null,
            "align_content": null,
            "visibility": null,
            "align_self": null,
            "height": null,
            "min_height": null,
            "padding": null,
            "grid_auto_rows": null,
            "grid_gap": null,
            "max_width": null,
            "order": null,
            "_view_module_version": "1.2.0",
            "grid_template_areas": null,
            "object_position": null,
            "object_fit": null,
            "grid_auto_columns": null,
            "margin": null,
            "display": null,
            "left": null
          }
        },
        "e5183e07acb243d1976785e1d8165b90": {
          "model_module": "@jupyter-widgets/controls",
          "model_name": "DescriptionStyleModel",
          "state": {
            "_view_name": "StyleView",
            "_model_name": "DescriptionStyleModel",
            "description_width": "",
            "_view_module": "@jupyter-widgets/base",
            "_model_module_version": "1.5.0",
            "_view_count": null,
            "_view_module_version": "1.2.0",
            "_model_module": "@jupyter-widgets/controls"
          }
        },
        "41f59dc32d854f14acc042eab6bb34fd": {
          "model_module": "@jupyter-widgets/base",
          "model_name": "LayoutModel",
          "state": {
            "_view_name": "LayoutView",
            "grid_template_rows": null,
            "right": null,
            "justify_content": null,
            "_view_module": "@jupyter-widgets/base",
            "overflow": null,
            "_model_module_version": "1.2.0",
            "_view_count": null,
            "flex_flow": null,
            "width": null,
            "min_width": null,
            "border": null,
            "align_items": null,
            "bottom": null,
            "_model_module": "@jupyter-widgets/base",
            "top": null,
            "grid_column": null,
            "overflow_y": null,
            "overflow_x": null,
            "grid_auto_flow": null,
            "grid_area": null,
            "grid_template_columns": null,
            "flex": null,
            "_model_name": "LayoutModel",
            "justify_items": null,
            "grid_row": null,
            "max_height": null,
            "align_content": null,
            "visibility": null,
            "align_self": null,
            "height": null,
            "min_height": null,
            "padding": null,
            "grid_auto_rows": null,
            "grid_gap": null,
            "max_width": null,
            "order": null,
            "_view_module_version": "1.2.0",
            "grid_template_areas": null,
            "object_position": null,
            "object_fit": null,
            "grid_auto_columns": null,
            "margin": null,
            "display": null,
            "left": null
          }
        },
        "6ee32fd51604433cbcfbbe487e5cd9d1": {
          "model_module": "@jupyter-widgets/controls",
          "model_name": "HBoxModel",
          "state": {
            "_view_name": "HBoxView",
            "_dom_classes": [],
            "_model_name": "HBoxModel",
            "_view_module": "@jupyter-widgets/controls",
            "_model_module_version": "1.5.0",
            "_view_count": null,
            "_view_module_version": "1.5.0",
            "box_style": "",
            "layout": "IPY_MODEL_401bd72c281f4fcfb3e60a026e44c50c",
            "_model_module": "@jupyter-widgets/controls",
            "children": [
              "IPY_MODEL_b86cf444710b4b57b1639299c750e9fc",
              "IPY_MODEL_79e6ef4f4ebc43308f145ff57949763b"
            ]
          }
        },
        "401bd72c281f4fcfb3e60a026e44c50c": {
          "model_module": "@jupyter-widgets/base",
          "model_name": "LayoutModel",
          "state": {
            "_view_name": "LayoutView",
            "grid_template_rows": null,
            "right": null,
            "justify_content": null,
            "_view_module": "@jupyter-widgets/base",
            "overflow": null,
            "_model_module_version": "1.2.0",
            "_view_count": null,
            "flex_flow": null,
            "width": null,
            "min_width": null,
            "border": null,
            "align_items": null,
            "bottom": null,
            "_model_module": "@jupyter-widgets/base",
            "top": null,
            "grid_column": null,
            "overflow_y": null,
            "overflow_x": null,
            "grid_auto_flow": null,
            "grid_area": null,
            "grid_template_columns": null,
            "flex": null,
            "_model_name": "LayoutModel",
            "justify_items": null,
            "grid_row": null,
            "max_height": null,
            "align_content": null,
            "visibility": null,
            "align_self": null,
            "height": null,
            "min_height": null,
            "padding": null,
            "grid_auto_rows": null,
            "grid_gap": null,
            "max_width": null,
            "order": null,
            "_view_module_version": "1.2.0",
            "grid_template_areas": null,
            "object_position": null,
            "object_fit": null,
            "grid_auto_columns": null,
            "margin": null,
            "display": null,
            "left": null
          }
        },
        "b86cf444710b4b57b1639299c750e9fc": {
          "model_module": "@jupyter-widgets/controls",
          "model_name": "FloatProgressModel",
          "state": {
            "_view_name": "ProgressView",
            "style": "IPY_MODEL_38aa7eefd30846db944ffc0d1d283054",
            "_dom_classes": [],
            "description": "100%",
            "_model_name": "FloatProgressModel",
            "bar_style": "success",
            "max": 6783,
            "_view_module": "@jupyter-widgets/controls",
            "_model_module_version": "1.5.0",
            "value": 6783,
            "_view_count": null,
            "_view_module_version": "1.5.0",
            "orientation": "horizontal",
            "min": 0,
            "description_tooltip": null,
            "_model_module": "@jupyter-widgets/controls",
            "layout": "IPY_MODEL_c834c46c26334ccf9e58762328518e56"
          }
        },
        "79e6ef4f4ebc43308f145ff57949763b": {
          "model_module": "@jupyter-widgets/controls",
          "model_name": "HTMLModel",
          "state": {
            "_view_name": "HTMLView",
            "style": "IPY_MODEL_05ab4c0108354c0aac9c826c8ed95570",
            "_dom_classes": [],
            "description": "",
            "_model_name": "HTMLModel",
            "placeholder": "​",
            "_view_module": "@jupyter-widgets/controls",
            "_model_module_version": "1.5.0",
            "value": " 6783/6783 [05:54&lt;00:00, 19.15it/s]",
            "_view_count": null,
            "_view_module_version": "1.5.0",
            "description_tooltip": null,
            "_model_module": "@jupyter-widgets/controls",
            "layout": "IPY_MODEL_a55af05fc17b45cba216a529510a1feb"
          }
        },
        "38aa7eefd30846db944ffc0d1d283054": {
          "model_module": "@jupyter-widgets/controls",
          "model_name": "ProgressStyleModel",
          "state": {
            "_view_name": "StyleView",
            "_model_name": "ProgressStyleModel",
            "description_width": "initial",
            "_view_module": "@jupyter-widgets/base",
            "_model_module_version": "1.5.0",
            "_view_count": null,
            "_view_module_version": "1.2.0",
            "bar_color": null,
            "_model_module": "@jupyter-widgets/controls"
          }
        },
        "c834c46c26334ccf9e58762328518e56": {
          "model_module": "@jupyter-widgets/base",
          "model_name": "LayoutModel",
          "state": {
            "_view_name": "LayoutView",
            "grid_template_rows": null,
            "right": null,
            "justify_content": null,
            "_view_module": "@jupyter-widgets/base",
            "overflow": null,
            "_model_module_version": "1.2.0",
            "_view_count": null,
            "flex_flow": null,
            "width": null,
            "min_width": null,
            "border": null,
            "align_items": null,
            "bottom": null,
            "_model_module": "@jupyter-widgets/base",
            "top": null,
            "grid_column": null,
            "overflow_y": null,
            "overflow_x": null,
            "grid_auto_flow": null,
            "grid_area": null,
            "grid_template_columns": null,
            "flex": null,
            "_model_name": "LayoutModel",
            "justify_items": null,
            "grid_row": null,
            "max_height": null,
            "align_content": null,
            "visibility": null,
            "align_self": null,
            "height": null,
            "min_height": null,
            "padding": null,
            "grid_auto_rows": null,
            "grid_gap": null,
            "max_width": null,
            "order": null,
            "_view_module_version": "1.2.0",
            "grid_template_areas": null,
            "object_position": null,
            "object_fit": null,
            "grid_auto_columns": null,
            "margin": null,
            "display": null,
            "left": null
          }
        },
        "05ab4c0108354c0aac9c826c8ed95570": {
          "model_module": "@jupyter-widgets/controls",
          "model_name": "DescriptionStyleModel",
          "state": {
            "_view_name": "StyleView",
            "_model_name": "DescriptionStyleModel",
            "description_width": "",
            "_view_module": "@jupyter-widgets/base",
            "_model_module_version": "1.5.0",
            "_view_count": null,
            "_view_module_version": "1.2.0",
            "_model_module": "@jupyter-widgets/controls"
          }
        },
        "a55af05fc17b45cba216a529510a1feb": {
          "model_module": "@jupyter-widgets/base",
          "model_name": "LayoutModel",
          "state": {
            "_view_name": "LayoutView",
            "grid_template_rows": null,
            "right": null,
            "justify_content": null,
            "_view_module": "@jupyter-widgets/base",
            "overflow": null,
            "_model_module_version": "1.2.0",
            "_view_count": null,
            "flex_flow": null,
            "width": null,
            "min_width": null,
            "border": null,
            "align_items": null,
            "bottom": null,
            "_model_module": "@jupyter-widgets/base",
            "top": null,
            "grid_column": null,
            "overflow_y": null,
            "overflow_x": null,
            "grid_auto_flow": null,
            "grid_area": null,
            "grid_template_columns": null,
            "flex": null,
            "_model_name": "LayoutModel",
            "justify_items": null,
            "grid_row": null,
            "max_height": null,
            "align_content": null,
            "visibility": null,
            "align_self": null,
            "height": null,
            "min_height": null,
            "padding": null,
            "grid_auto_rows": null,
            "grid_gap": null,
            "max_width": null,
            "order": null,
            "_view_module_version": "1.2.0",
            "grid_template_areas": null,
            "object_position": null,
            "object_fit": null,
            "grid_auto_columns": null,
            "margin": null,
            "display": null,
            "left": null
          }
        },
        "1582128e8c6d4ea29a91ecd27cad37f6": {
          "model_module": "@jupyter-widgets/controls",
          "model_name": "HBoxModel",
          "state": {
            "_view_name": "HBoxView",
            "_dom_classes": [],
            "_model_name": "HBoxModel",
            "_view_module": "@jupyter-widgets/controls",
            "_model_module_version": "1.5.0",
            "_view_count": null,
            "_view_module_version": "1.5.0",
            "box_style": "",
            "layout": "IPY_MODEL_4bf273e1681a4524bf619ddccaa897fe",
            "_model_module": "@jupyter-widgets/controls",
            "children": [
              "IPY_MODEL_c1c9a6993fdb4120957d54df080f3016",
              "IPY_MODEL_c7fcbd0c2e9b4d989e0faedfced95398"
            ]
          }
        },
        "4bf273e1681a4524bf619ddccaa897fe": {
          "model_module": "@jupyter-widgets/base",
          "model_name": "LayoutModel",
          "state": {
            "_view_name": "LayoutView",
            "grid_template_rows": null,
            "right": null,
            "justify_content": null,
            "_view_module": "@jupyter-widgets/base",
            "overflow": null,
            "_model_module_version": "1.2.0",
            "_view_count": null,
            "flex_flow": null,
            "width": null,
            "min_width": null,
            "border": null,
            "align_items": null,
            "bottom": null,
            "_model_module": "@jupyter-widgets/base",
            "top": null,
            "grid_column": null,
            "overflow_y": null,
            "overflow_x": null,
            "grid_auto_flow": null,
            "grid_area": null,
            "grid_template_columns": null,
            "flex": null,
            "_model_name": "LayoutModel",
            "justify_items": null,
            "grid_row": null,
            "max_height": null,
            "align_content": null,
            "visibility": null,
            "align_self": null,
            "height": null,
            "min_height": null,
            "padding": null,
            "grid_auto_rows": null,
            "grid_gap": null,
            "max_width": null,
            "order": null,
            "_view_module_version": "1.2.0",
            "grid_template_areas": null,
            "object_position": null,
            "object_fit": null,
            "grid_auto_columns": null,
            "margin": null,
            "display": null,
            "left": null
          }
        },
        "c1c9a6993fdb4120957d54df080f3016": {
          "model_module": "@jupyter-widgets/controls",
          "model_name": "FloatProgressModel",
          "state": {
            "_view_name": "ProgressView",
            "style": "IPY_MODEL_79bed6d805f84f63ab3fb3ad8f9ea89f",
            "_dom_classes": [],
            "description": "100%",
            "_model_name": "FloatProgressModel",
            "bar_style": "success",
            "max": 100,
            "_view_module": "@jupyter-widgets/controls",
            "_model_module_version": "1.5.0",
            "value": 100,
            "_view_count": null,
            "_view_module_version": "1.5.0",
            "orientation": "horizontal",
            "min": 0,
            "description_tooltip": null,
            "_model_module": "@jupyter-widgets/controls",
            "layout": "IPY_MODEL_70b4bd77e9cd4d5389f64df4a5d10085"
          }
        },
        "c7fcbd0c2e9b4d989e0faedfced95398": {
          "model_module": "@jupyter-widgets/controls",
          "model_name": "HTMLModel",
          "state": {
            "_view_name": "HTMLView",
            "style": "IPY_MODEL_97e66f957d304cfa85621019d5e750c8",
            "_dom_classes": [],
            "description": "",
            "_model_name": "HTMLModel",
            "placeholder": "​",
            "_view_module": "@jupyter-widgets/controls",
            "_model_module_version": "1.5.0",
            "value": " 100/100 [00:08&lt;00:00, 11.76it/s]",
            "_view_count": null,
            "_view_module_version": "1.5.0",
            "description_tooltip": null,
            "_model_module": "@jupyter-widgets/controls",
            "layout": "IPY_MODEL_84f0feb7017e46e4a8d1ffb578657626"
          }
        },
        "79bed6d805f84f63ab3fb3ad8f9ea89f": {
          "model_module": "@jupyter-widgets/controls",
          "model_name": "ProgressStyleModel",
          "state": {
            "_view_name": "StyleView",
            "_model_name": "ProgressStyleModel",
            "description_width": "initial",
            "_view_module": "@jupyter-widgets/base",
            "_model_module_version": "1.5.0",
            "_view_count": null,
            "_view_module_version": "1.2.0",
            "bar_color": null,
            "_model_module": "@jupyter-widgets/controls"
          }
        },
        "70b4bd77e9cd4d5389f64df4a5d10085": {
          "model_module": "@jupyter-widgets/base",
          "model_name": "LayoutModel",
          "state": {
            "_view_name": "LayoutView",
            "grid_template_rows": null,
            "right": null,
            "justify_content": null,
            "_view_module": "@jupyter-widgets/base",
            "overflow": null,
            "_model_module_version": "1.2.0",
            "_view_count": null,
            "flex_flow": null,
            "width": null,
            "min_width": null,
            "border": null,
            "align_items": null,
            "bottom": null,
            "_model_module": "@jupyter-widgets/base",
            "top": null,
            "grid_column": null,
            "overflow_y": null,
            "overflow_x": null,
            "grid_auto_flow": null,
            "grid_area": null,
            "grid_template_columns": null,
            "flex": null,
            "_model_name": "LayoutModel",
            "justify_items": null,
            "grid_row": null,
            "max_height": null,
            "align_content": null,
            "visibility": null,
            "align_self": null,
            "height": null,
            "min_height": null,
            "padding": null,
            "grid_auto_rows": null,
            "grid_gap": null,
            "max_width": null,
            "order": null,
            "_view_module_version": "1.2.0",
            "grid_template_areas": null,
            "object_position": null,
            "object_fit": null,
            "grid_auto_columns": null,
            "margin": null,
            "display": null,
            "left": null
          }
        },
        "97e66f957d304cfa85621019d5e750c8": {
          "model_module": "@jupyter-widgets/controls",
          "model_name": "DescriptionStyleModel",
          "state": {
            "_view_name": "StyleView",
            "_model_name": "DescriptionStyleModel",
            "description_width": "",
            "_view_module": "@jupyter-widgets/base",
            "_model_module_version": "1.5.0",
            "_view_count": null,
            "_view_module_version": "1.2.0",
            "_model_module": "@jupyter-widgets/controls"
          }
        },
        "84f0feb7017e46e4a8d1ffb578657626": {
          "model_module": "@jupyter-widgets/base",
          "model_name": "LayoutModel",
          "state": {
            "_view_name": "LayoutView",
            "grid_template_rows": null,
            "right": null,
            "justify_content": null,
            "_view_module": "@jupyter-widgets/base",
            "overflow": null,
            "_model_module_version": "1.2.0",
            "_view_count": null,
            "flex_flow": null,
            "width": null,
            "min_width": null,
            "border": null,
            "align_items": null,
            "bottom": null,
            "_model_module": "@jupyter-widgets/base",
            "top": null,
            "grid_column": null,
            "overflow_y": null,
            "overflow_x": null,
            "grid_auto_flow": null,
            "grid_area": null,
            "grid_template_columns": null,
            "flex": null,
            "_model_name": "LayoutModel",
            "justify_items": null,
            "grid_row": null,
            "max_height": null,
            "align_content": null,
            "visibility": null,
            "align_self": null,
            "height": null,
            "min_height": null,
            "padding": null,
            "grid_auto_rows": null,
            "grid_gap": null,
            "max_width": null,
            "order": null,
            "_view_module_version": "1.2.0",
            "grid_template_areas": null,
            "object_position": null,
            "object_fit": null,
            "grid_auto_columns": null,
            "margin": null,
            "display": null,
            "left": null
          }
        },
        "528a637ccd294a81aaa7752a947e94b6": {
          "model_module": "@jupyter-widgets/controls",
          "model_name": "HBoxModel",
          "state": {
            "_view_name": "HBoxView",
            "_dom_classes": [],
            "_model_name": "HBoxModel",
            "_view_module": "@jupyter-widgets/controls",
            "_model_module_version": "1.5.0",
            "_view_count": null,
            "_view_module_version": "1.5.0",
            "box_style": "",
            "layout": "IPY_MODEL_819f7f4648e64465beb6d0f146d91e23",
            "_model_module": "@jupyter-widgets/controls",
            "children": [
              "IPY_MODEL_d4ddd2857a8b44b6a389d34bfc856fce",
              "IPY_MODEL_f603b2f4fc9542f299c5693105f1f3e8"
            ]
          }
        },
        "819f7f4648e64465beb6d0f146d91e23": {
          "model_module": "@jupyter-widgets/base",
          "model_name": "LayoutModel",
          "state": {
            "_view_name": "LayoutView",
            "grid_template_rows": null,
            "right": null,
            "justify_content": null,
            "_view_module": "@jupyter-widgets/base",
            "overflow": null,
            "_model_module_version": "1.2.0",
            "_view_count": null,
            "flex_flow": null,
            "width": null,
            "min_width": null,
            "border": null,
            "align_items": null,
            "bottom": null,
            "_model_module": "@jupyter-widgets/base",
            "top": null,
            "grid_column": null,
            "overflow_y": null,
            "overflow_x": null,
            "grid_auto_flow": null,
            "grid_area": null,
            "grid_template_columns": null,
            "flex": null,
            "_model_name": "LayoutModel",
            "justify_items": null,
            "grid_row": null,
            "max_height": null,
            "align_content": null,
            "visibility": null,
            "align_self": null,
            "height": null,
            "min_height": null,
            "padding": null,
            "grid_auto_rows": null,
            "grid_gap": null,
            "max_width": null,
            "order": null,
            "_view_module_version": "1.2.0",
            "grid_template_areas": null,
            "object_position": null,
            "object_fit": null,
            "grid_auto_columns": null,
            "margin": null,
            "display": null,
            "left": null
          }
        },
        "d4ddd2857a8b44b6a389d34bfc856fce": {
          "model_module": "@jupyter-widgets/controls",
          "model_name": "FloatProgressModel",
          "state": {
            "_view_name": "ProgressView",
            "style": "IPY_MODEL_29ac2ad1b3004c538efc797c359852db",
            "_dom_classes": [],
            "description": "100%",
            "_model_name": "FloatProgressModel",
            "bar_style": "success",
            "max": 27132,
            "_view_module": "@jupyter-widgets/controls",
            "_model_module_version": "1.5.0",
            "value": 27132,
            "_view_count": null,
            "_view_module_version": "1.5.0",
            "orientation": "horizontal",
            "min": 0,
            "description_tooltip": null,
            "_model_module": "@jupyter-widgets/controls",
            "layout": "IPY_MODEL_2f9b0ef2616844069f4c93af6f8748a8"
          }
        },
        "f603b2f4fc9542f299c5693105f1f3e8": {
          "model_module": "@jupyter-widgets/controls",
          "model_name": "HTMLModel",
          "state": {
            "_view_name": "HTMLView",
            "style": "IPY_MODEL_bca6aceda42e49e9a54a861db22fec12",
            "_dom_classes": [],
            "description": "",
            "_model_name": "HTMLModel",
            "placeholder": "​",
            "_view_module": "@jupyter-widgets/controls",
            "_model_module_version": "1.5.0",
            "value": " 27132/27132 [07:56&lt;00:00, 56.91it/s]",
            "_view_count": null,
            "_view_module_version": "1.5.0",
            "description_tooltip": null,
            "_model_module": "@jupyter-widgets/controls",
            "layout": "IPY_MODEL_3999998d33094210a98142fe8b4675a9"
          }
        },
        "29ac2ad1b3004c538efc797c359852db": {
          "model_module": "@jupyter-widgets/controls",
          "model_name": "ProgressStyleModel",
          "state": {
            "_view_name": "StyleView",
            "_model_name": "ProgressStyleModel",
            "description_width": "initial",
            "_view_module": "@jupyter-widgets/base",
            "_model_module_version": "1.5.0",
            "_view_count": null,
            "_view_module_version": "1.2.0",
            "bar_color": null,
            "_model_module": "@jupyter-widgets/controls"
          }
        },
        "2f9b0ef2616844069f4c93af6f8748a8": {
          "model_module": "@jupyter-widgets/base",
          "model_name": "LayoutModel",
          "state": {
            "_view_name": "LayoutView",
            "grid_template_rows": null,
            "right": null,
            "justify_content": null,
            "_view_module": "@jupyter-widgets/base",
            "overflow": null,
            "_model_module_version": "1.2.0",
            "_view_count": null,
            "flex_flow": null,
            "width": null,
            "min_width": null,
            "border": null,
            "align_items": null,
            "bottom": null,
            "_model_module": "@jupyter-widgets/base",
            "top": null,
            "grid_column": null,
            "overflow_y": null,
            "overflow_x": null,
            "grid_auto_flow": null,
            "grid_area": null,
            "grid_template_columns": null,
            "flex": null,
            "_model_name": "LayoutModel",
            "justify_items": null,
            "grid_row": null,
            "max_height": null,
            "align_content": null,
            "visibility": null,
            "align_self": null,
            "height": null,
            "min_height": null,
            "padding": null,
            "grid_auto_rows": null,
            "grid_gap": null,
            "max_width": null,
            "order": null,
            "_view_module_version": "1.2.0",
            "grid_template_areas": null,
            "object_position": null,
            "object_fit": null,
            "grid_auto_columns": null,
            "margin": null,
            "display": null,
            "left": null
          }
        },
        "bca6aceda42e49e9a54a861db22fec12": {
          "model_module": "@jupyter-widgets/controls",
          "model_name": "DescriptionStyleModel",
          "state": {
            "_view_name": "StyleView",
            "_model_name": "DescriptionStyleModel",
            "description_width": "",
            "_view_module": "@jupyter-widgets/base",
            "_model_module_version": "1.5.0",
            "_view_count": null,
            "_view_module_version": "1.2.0",
            "_model_module": "@jupyter-widgets/controls"
          }
        },
        "3999998d33094210a98142fe8b4675a9": {
          "model_module": "@jupyter-widgets/base",
          "model_name": "LayoutModel",
          "state": {
            "_view_name": "LayoutView",
            "grid_template_rows": null,
            "right": null,
            "justify_content": null,
            "_view_module": "@jupyter-widgets/base",
            "overflow": null,
            "_model_module_version": "1.2.0",
            "_view_count": null,
            "flex_flow": null,
            "width": null,
            "min_width": null,
            "border": null,
            "align_items": null,
            "bottom": null,
            "_model_module": "@jupyter-widgets/base",
            "top": null,
            "grid_column": null,
            "overflow_y": null,
            "overflow_x": null,
            "grid_auto_flow": null,
            "grid_area": null,
            "grid_template_columns": null,
            "flex": null,
            "_model_name": "LayoutModel",
            "justify_items": null,
            "grid_row": null,
            "max_height": null,
            "align_content": null,
            "visibility": null,
            "align_self": null,
            "height": null,
            "min_height": null,
            "padding": null,
            "grid_auto_rows": null,
            "grid_gap": null,
            "max_width": null,
            "order": null,
            "_view_module_version": "1.2.0",
            "grid_template_areas": null,
            "object_position": null,
            "object_fit": null,
            "grid_auto_columns": null,
            "margin": null,
            "display": null,
            "left": null
          }
        },
        "ff12efd6fc194df5ac0a9dc6a70328d1": {
          "model_module": "@jupyter-widgets/controls",
          "model_name": "HBoxModel",
          "state": {
            "_view_name": "HBoxView",
            "_dom_classes": [],
            "_model_name": "HBoxModel",
            "_view_module": "@jupyter-widgets/controls",
            "_model_module_version": "1.5.0",
            "_view_count": null,
            "_view_module_version": "1.5.0",
            "box_style": "",
            "layout": "IPY_MODEL_0f10ca0df6db4939a1855919a567e6de",
            "_model_module": "@jupyter-widgets/controls",
            "children": [
              "IPY_MODEL_ab59eedffb764c5bb3b89b5ca958fb73",
              "IPY_MODEL_0d347fcb8fe342f49e657dad66e9de58"
            ]
          }
        },
        "0f10ca0df6db4939a1855919a567e6de": {
          "model_module": "@jupyter-widgets/base",
          "model_name": "LayoutModel",
          "state": {
            "_view_name": "LayoutView",
            "grid_template_rows": null,
            "right": null,
            "justify_content": null,
            "_view_module": "@jupyter-widgets/base",
            "overflow": null,
            "_model_module_version": "1.2.0",
            "_view_count": null,
            "flex_flow": null,
            "width": null,
            "min_width": null,
            "border": null,
            "align_items": null,
            "bottom": null,
            "_model_module": "@jupyter-widgets/base",
            "top": null,
            "grid_column": null,
            "overflow_y": null,
            "overflow_x": null,
            "grid_auto_flow": null,
            "grid_area": null,
            "grid_template_columns": null,
            "flex": null,
            "_model_name": "LayoutModel",
            "justify_items": null,
            "grid_row": null,
            "max_height": null,
            "align_content": null,
            "visibility": null,
            "align_self": null,
            "height": null,
            "min_height": null,
            "padding": null,
            "grid_auto_rows": null,
            "grid_gap": null,
            "max_width": null,
            "order": null,
            "_view_module_version": "1.2.0",
            "grid_template_areas": null,
            "object_position": null,
            "object_fit": null,
            "grid_auto_columns": null,
            "margin": null,
            "display": null,
            "left": null
          }
        },
        "ab59eedffb764c5bb3b89b5ca958fb73": {
          "model_module": "@jupyter-widgets/controls",
          "model_name": "FloatProgressModel",
          "state": {
            "_view_name": "ProgressView",
            "style": "IPY_MODEL_92c5f083f7684c7ea111f274a4e420a5",
            "_dom_classes": [],
            "description": "100%",
            "_model_name": "FloatProgressModel",
            "bar_style": "success",
            "max": 6783,
            "_view_module": "@jupyter-widgets/controls",
            "_model_module_version": "1.5.0",
            "value": 6783,
            "_view_count": null,
            "_view_module_version": "1.5.0",
            "orientation": "horizontal",
            "min": 0,
            "description_tooltip": null,
            "_model_module": "@jupyter-widgets/controls",
            "layout": "IPY_MODEL_3a866183993940fca61c65dbaee3b8f8"
          }
        },
        "0d347fcb8fe342f49e657dad66e9de58": {
          "model_module": "@jupyter-widgets/controls",
          "model_name": "HTMLModel",
          "state": {
            "_view_name": "HTMLView",
            "style": "IPY_MODEL_327538312ed949568f34b27678458f46",
            "_dom_classes": [],
            "description": "",
            "_model_name": "HTMLModel",
            "placeholder": "​",
            "_view_module": "@jupyter-widgets/controls",
            "_model_module_version": "1.5.0",
            "value": " 6783/6783 [01:36&lt;00:00, 70.52it/s]",
            "_view_count": null,
            "_view_module_version": "1.5.0",
            "description_tooltip": null,
            "_model_module": "@jupyter-widgets/controls",
            "layout": "IPY_MODEL_7eed550ee88a44018aa6e52003c77427"
          }
        },
        "92c5f083f7684c7ea111f274a4e420a5": {
          "model_module": "@jupyter-widgets/controls",
          "model_name": "ProgressStyleModel",
          "state": {
            "_view_name": "StyleView",
            "_model_name": "ProgressStyleModel",
            "description_width": "initial",
            "_view_module": "@jupyter-widgets/base",
            "_model_module_version": "1.5.0",
            "_view_count": null,
            "_view_module_version": "1.2.0",
            "bar_color": null,
            "_model_module": "@jupyter-widgets/controls"
          }
        },
        "3a866183993940fca61c65dbaee3b8f8": {
          "model_module": "@jupyter-widgets/base",
          "model_name": "LayoutModel",
          "state": {
            "_view_name": "LayoutView",
            "grid_template_rows": null,
            "right": null,
            "justify_content": null,
            "_view_module": "@jupyter-widgets/base",
            "overflow": null,
            "_model_module_version": "1.2.0",
            "_view_count": null,
            "flex_flow": null,
            "width": null,
            "min_width": null,
            "border": null,
            "align_items": null,
            "bottom": null,
            "_model_module": "@jupyter-widgets/base",
            "top": null,
            "grid_column": null,
            "overflow_y": null,
            "overflow_x": null,
            "grid_auto_flow": null,
            "grid_area": null,
            "grid_template_columns": null,
            "flex": null,
            "_model_name": "LayoutModel",
            "justify_items": null,
            "grid_row": null,
            "max_height": null,
            "align_content": null,
            "visibility": null,
            "align_self": null,
            "height": null,
            "min_height": null,
            "padding": null,
            "grid_auto_rows": null,
            "grid_gap": null,
            "max_width": null,
            "order": null,
            "_view_module_version": "1.2.0",
            "grid_template_areas": null,
            "object_position": null,
            "object_fit": null,
            "grid_auto_columns": null,
            "margin": null,
            "display": null,
            "left": null
          }
        },
        "327538312ed949568f34b27678458f46": {
          "model_module": "@jupyter-widgets/controls",
          "model_name": "DescriptionStyleModel",
          "state": {
            "_view_name": "StyleView",
            "_model_name": "DescriptionStyleModel",
            "description_width": "",
            "_view_module": "@jupyter-widgets/base",
            "_model_module_version": "1.5.0",
            "_view_count": null,
            "_view_module_version": "1.2.0",
            "_model_module": "@jupyter-widgets/controls"
          }
        },
        "7eed550ee88a44018aa6e52003c77427": {
          "model_module": "@jupyter-widgets/base",
          "model_name": "LayoutModel",
          "state": {
            "_view_name": "LayoutView",
            "grid_template_rows": null,
            "right": null,
            "justify_content": null,
            "_view_module": "@jupyter-widgets/base",
            "overflow": null,
            "_model_module_version": "1.2.0",
            "_view_count": null,
            "flex_flow": null,
            "width": null,
            "min_width": null,
            "border": null,
            "align_items": null,
            "bottom": null,
            "_model_module": "@jupyter-widgets/base",
            "top": null,
            "grid_column": null,
            "overflow_y": null,
            "overflow_x": null,
            "grid_auto_flow": null,
            "grid_area": null,
            "grid_template_columns": null,
            "flex": null,
            "_model_name": "LayoutModel",
            "justify_items": null,
            "grid_row": null,
            "max_height": null,
            "align_content": null,
            "visibility": null,
            "align_self": null,
            "height": null,
            "min_height": null,
            "padding": null,
            "grid_auto_rows": null,
            "grid_gap": null,
            "max_width": null,
            "order": null,
            "_view_module_version": "1.2.0",
            "grid_template_areas": null,
            "object_position": null,
            "object_fit": null,
            "grid_auto_columns": null,
            "margin": null,
            "display": null,
            "left": null
          }
        },
        "14a4ae79eda34190aa085ed3ff50da1f": {
          "model_module": "@jupyter-widgets/controls",
          "model_name": "HBoxModel",
          "state": {
            "_dom_classes": [],
            "_model_module": "@jupyter-widgets/controls",
            "_model_module_version": "1.5.0",
            "_model_name": "HBoxModel",
            "_view_count": null,
            "_view_module": "@jupyter-widgets/controls",
            "_view_module_version": "1.5.0",
            "_view_name": "HBoxView",
            "box_style": "",
            "children": [
              "IPY_MODEL_2f7e5be00a0a466e95e4fdb39e6fc92e",
              "IPY_MODEL_fcb043e9f37144acbccda47b61e0aa93"
            ],
            "layout": "IPY_MODEL_3533fdc55b554e2aa6dc746fa3eca224"
          }
        },
        "2f7e5be00a0a466e95e4fdb39e6fc92e": {
          "model_module": "@jupyter-widgets/controls",
          "model_name": "FloatProgressModel",
          "state": {
            "_dom_classes": [],
            "_model_module": "@jupyter-widgets/controls",
            "_model_module_version": "1.5.0",
            "_model_name": "FloatProgressModel",
            "_view_count": null,
            "_view_module": "@jupyter-widgets/controls",
            "_view_module_version": "1.5.0",
            "_view_name": "ProgressView",
            "bar_style": "success",
            "description": "",
            "description_tooltip": null,
            "layout": "IPY_MODEL_5228753d9e6a4242afc5de2330f79702",
            "max": 1,
            "min": 0,
            "orientation": "horizontal",
            "style": "IPY_MODEL_edabb6d6efba4ea18d8053c2cfd52917",
            "value": 1
          }
        },
        "fcb043e9f37144acbccda47b61e0aa93": {
          "model_module": "@jupyter-widgets/controls",
          "model_name": "HTMLModel",
          "state": {
            "_dom_classes": [],
            "_model_module": "@jupyter-widgets/controls",
            "_model_module_version": "1.5.0",
            "_model_name": "HTMLModel",
            "_view_count": null,
            "_view_module": "@jupyter-widgets/controls",
            "_view_module_version": "1.5.0",
            "_view_name": "HTMLView",
            "description": "",
            "description_tooltip": null,
            "layout": "IPY_MODEL_61c2f9563bc34ecea3abd1e8364ba2c1",
            "placeholder": "​",
            "style": "IPY_MODEL_b2b0121b0fd4405295cdeb2b13cc018e",
            "value": " 151841/? [00:02&lt;00:00, 72154.54it/s]"
          }
        },
        "3533fdc55b554e2aa6dc746fa3eca224": {
          "model_module": "@jupyter-widgets/base",
          "model_name": "LayoutModel",
          "state": {
            "_model_module": "@jupyter-widgets/base",
            "_model_module_version": "1.2.0",
            "_model_name": "LayoutModel",
            "_view_count": null,
            "_view_module": "@jupyter-widgets/base",
            "_view_module_version": "1.2.0",
            "_view_name": "LayoutView",
            "align_content": null,
            "align_items": null,
            "align_self": null,
            "border": null,
            "bottom": null,
            "display": null,
            "flex": null,
            "flex_flow": null,
            "grid_area": null,
            "grid_auto_columns": null,
            "grid_auto_flow": null,
            "grid_auto_rows": null,
            "grid_column": null,
            "grid_gap": null,
            "grid_row": null,
            "grid_template_areas": null,
            "grid_template_columns": null,
            "grid_template_rows": null,
            "height": null,
            "justify_content": null,
            "justify_items": null,
            "left": null,
            "margin": null,
            "max_height": null,
            "max_width": null,
            "min_height": null,
            "min_width": null,
            "object_fit": null,
            "object_position": null,
            "order": null,
            "overflow": null,
            "overflow_x": null,
            "overflow_y": null,
            "padding": null,
            "right": null,
            "top": null,
            "visibility": null,
            "width": null
          }
        },
        "5228753d9e6a4242afc5de2330f79702": {
          "model_module": "@jupyter-widgets/base",
          "model_name": "LayoutModel",
          "state": {
            "_model_module": "@jupyter-widgets/base",
            "_model_module_version": "1.2.0",
            "_model_name": "LayoutModel",
            "_view_count": null,
            "_view_module": "@jupyter-widgets/base",
            "_view_module_version": "1.2.0",
            "_view_name": "LayoutView",
            "align_content": null,
            "align_items": null,
            "align_self": null,
            "border": null,
            "bottom": null,
            "display": null,
            "flex": null,
            "flex_flow": null,
            "grid_area": null,
            "grid_auto_columns": null,
            "grid_auto_flow": null,
            "grid_auto_rows": null,
            "grid_column": null,
            "grid_gap": null,
            "grid_row": null,
            "grid_template_areas": null,
            "grid_template_columns": null,
            "grid_template_rows": null,
            "height": null,
            "justify_content": null,
            "justify_items": null,
            "left": null,
            "margin": null,
            "max_height": null,
            "max_width": null,
            "min_height": null,
            "min_width": null,
            "object_fit": null,
            "object_position": null,
            "order": null,
            "overflow": null,
            "overflow_x": null,
            "overflow_y": null,
            "padding": null,
            "right": null,
            "top": null,
            "visibility": null,
            "width": null
          }
        },
        "edabb6d6efba4ea18d8053c2cfd52917": {
          "model_module": "@jupyter-widgets/controls",
          "model_name": "ProgressStyleModel",
          "state": {
            "_model_module": "@jupyter-widgets/controls",
            "_model_module_version": "1.5.0",
            "_model_name": "ProgressStyleModel",
            "_view_count": null,
            "_view_module": "@jupyter-widgets/base",
            "_view_module_version": "1.2.0",
            "_view_name": "StyleView",
            "bar_color": null,
            "description_width": "initial"
          }
        },
        "61c2f9563bc34ecea3abd1e8364ba2c1": {
          "model_module": "@jupyter-widgets/base",
          "model_name": "LayoutModel",
          "state": {
            "_model_module": "@jupyter-widgets/base",
            "_model_module_version": "1.2.0",
            "_model_name": "LayoutModel",
            "_view_count": null,
            "_view_module": "@jupyter-widgets/base",
            "_view_module_version": "1.2.0",
            "_view_name": "LayoutView",
            "align_content": null,
            "align_items": null,
            "align_self": null,
            "border": null,
            "bottom": null,
            "display": null,
            "flex": null,
            "flex_flow": null,
            "grid_area": null,
            "grid_auto_columns": null,
            "grid_auto_flow": null,
            "grid_auto_rows": null,
            "grid_column": null,
            "grid_gap": null,
            "grid_row": null,
            "grid_template_areas": null,
            "grid_template_columns": null,
            "grid_template_rows": null,
            "height": null,
            "justify_content": null,
            "justify_items": null,
            "left": null,
            "margin": null,
            "max_height": null,
            "max_width": null,
            "min_height": null,
            "min_width": null,
            "object_fit": null,
            "object_position": null,
            "order": null,
            "overflow": null,
            "overflow_x": null,
            "overflow_y": null,
            "padding": null,
            "right": null,
            "top": null,
            "visibility": null,
            "width": null
          }
        },
        "b2b0121b0fd4405295cdeb2b13cc018e": {
          "model_module": "@jupyter-widgets/controls",
          "model_name": "DescriptionStyleModel",
          "state": {
            "_model_module": "@jupyter-widgets/controls",
            "_model_module_version": "1.5.0",
            "_model_name": "DescriptionStyleModel",
            "_view_count": null,
            "_view_module": "@jupyter-widgets/base",
            "_view_module_version": "1.2.0",
            "_view_name": "StyleView",
            "description_width": ""
          }
        },
        "dec086ddc1514d87ad0fd784786aaa65": {
          "model_module": "@jupyter-widgets/controls",
          "model_name": "HBoxModel",
          "state": {
            "_dom_classes": [],
            "_model_module": "@jupyter-widgets/controls",
            "_model_module_version": "1.5.0",
            "_model_name": "HBoxModel",
            "_view_count": null,
            "_view_module": "@jupyter-widgets/controls",
            "_view_module_version": "1.5.0",
            "_view_name": "HBoxView",
            "box_style": "",
            "children": [
              "IPY_MODEL_aea7ff2bcc18422f9f0c499f3d1a8cf3",
              "IPY_MODEL_ce0fd42a7bd34557b9e23c7014db6a73"
            ],
            "layout": "IPY_MODEL_3ca8591d53f647d582ff5fab6234ffce"
          }
        },
        "aea7ff2bcc18422f9f0c499f3d1a8cf3": {
          "model_module": "@jupyter-widgets/controls",
          "model_name": "FloatProgressModel",
          "state": {
            "_dom_classes": [],
            "_model_module": "@jupyter-widgets/controls",
            "_model_module_version": "1.5.0",
            "_model_name": "FloatProgressModel",
            "_view_count": null,
            "_view_module": "@jupyter-widgets/controls",
            "_view_module_version": "1.5.0",
            "_view_name": "ProgressView",
            "bar_style": "success",
            "description": "100%",
            "description_tooltip": null,
            "layout": "IPY_MODEL_2eb31e6b2bca41c5b57c7e3349f8f764",
            "max": 27132,
            "min": 0,
            "orientation": "horizontal",
            "style": "IPY_MODEL_25d11b1a2dd04d02a4b0b9e6ed8bb5bc",
            "value": 27132
          }
        },
        "ce0fd42a7bd34557b9e23c7014db6a73": {
          "model_module": "@jupyter-widgets/controls",
          "model_name": "HTMLModel",
          "state": {
            "_dom_classes": [],
            "_model_module": "@jupyter-widgets/controls",
            "_model_module_version": "1.5.0",
            "_model_name": "HTMLModel",
            "_view_count": null,
            "_view_module": "@jupyter-widgets/controls",
            "_view_module_version": "1.5.0",
            "_view_name": "HTMLView",
            "description": "",
            "description_tooltip": null,
            "layout": "IPY_MODEL_2f03602320994cf7b20808580eefdeb6",
            "placeholder": "​",
            "style": "IPY_MODEL_198f20f5bc2c456db81a44ba6419f16a",
            "value": " 27132/27132 [00:05&lt;00:00, 5407.61it/s]"
          }
        },
        "3ca8591d53f647d582ff5fab6234ffce": {
          "model_module": "@jupyter-widgets/base",
          "model_name": "LayoutModel",
          "state": {
            "_model_module": "@jupyter-widgets/base",
            "_model_module_version": "1.2.0",
            "_model_name": "LayoutModel",
            "_view_count": null,
            "_view_module": "@jupyter-widgets/base",
            "_view_module_version": "1.2.0",
            "_view_name": "LayoutView",
            "align_content": null,
            "align_items": null,
            "align_self": null,
            "border": null,
            "bottom": null,
            "display": null,
            "flex": null,
            "flex_flow": null,
            "grid_area": null,
            "grid_auto_columns": null,
            "grid_auto_flow": null,
            "grid_auto_rows": null,
            "grid_column": null,
            "grid_gap": null,
            "grid_row": null,
            "grid_template_areas": null,
            "grid_template_columns": null,
            "grid_template_rows": null,
            "height": null,
            "justify_content": null,
            "justify_items": null,
            "left": null,
            "margin": null,
            "max_height": null,
            "max_width": null,
            "min_height": null,
            "min_width": null,
            "object_fit": null,
            "object_position": null,
            "order": null,
            "overflow": null,
            "overflow_x": null,
            "overflow_y": null,
            "padding": null,
            "right": null,
            "top": null,
            "visibility": null,
            "width": null
          }
        },
        "2eb31e6b2bca41c5b57c7e3349f8f764": {
          "model_module": "@jupyter-widgets/base",
          "model_name": "LayoutModel",
          "state": {
            "_model_module": "@jupyter-widgets/base",
            "_model_module_version": "1.2.0",
            "_model_name": "LayoutModel",
            "_view_count": null,
            "_view_module": "@jupyter-widgets/base",
            "_view_module_version": "1.2.0",
            "_view_name": "LayoutView",
            "align_content": null,
            "align_items": null,
            "align_self": null,
            "border": null,
            "bottom": null,
            "display": null,
            "flex": null,
            "flex_flow": null,
            "grid_area": null,
            "grid_auto_columns": null,
            "grid_auto_flow": null,
            "grid_auto_rows": null,
            "grid_column": null,
            "grid_gap": null,
            "grid_row": null,
            "grid_template_areas": null,
            "grid_template_columns": null,
            "grid_template_rows": null,
            "height": null,
            "justify_content": null,
            "justify_items": null,
            "left": null,
            "margin": null,
            "max_height": null,
            "max_width": null,
            "min_height": null,
            "min_width": null,
            "object_fit": null,
            "object_position": null,
            "order": null,
            "overflow": null,
            "overflow_x": null,
            "overflow_y": null,
            "padding": null,
            "right": null,
            "top": null,
            "visibility": null,
            "width": null
          }
        },
        "25d11b1a2dd04d02a4b0b9e6ed8bb5bc": {
          "model_module": "@jupyter-widgets/controls",
          "model_name": "ProgressStyleModel",
          "state": {
            "_model_module": "@jupyter-widgets/controls",
            "_model_module_version": "1.5.0",
            "_model_name": "ProgressStyleModel",
            "_view_count": null,
            "_view_module": "@jupyter-widgets/base",
            "_view_module_version": "1.2.0",
            "_view_name": "StyleView",
            "bar_color": null,
            "description_width": "initial"
          }
        },
        "2f03602320994cf7b20808580eefdeb6": {
          "model_module": "@jupyter-widgets/base",
          "model_name": "LayoutModel",
          "state": {
            "_model_module": "@jupyter-widgets/base",
            "_model_module_version": "1.2.0",
            "_model_name": "LayoutModel",
            "_view_count": null,
            "_view_module": "@jupyter-widgets/base",
            "_view_module_version": "1.2.0",
            "_view_name": "LayoutView",
            "align_content": null,
            "align_items": null,
            "align_self": null,
            "border": null,
            "bottom": null,
            "display": null,
            "flex": null,
            "flex_flow": null,
            "grid_area": null,
            "grid_auto_columns": null,
            "grid_auto_flow": null,
            "grid_auto_rows": null,
            "grid_column": null,
            "grid_gap": null,
            "grid_row": null,
            "grid_template_areas": null,
            "grid_template_columns": null,
            "grid_template_rows": null,
            "height": null,
            "justify_content": null,
            "justify_items": null,
            "left": null,
            "margin": null,
            "max_height": null,
            "max_width": null,
            "min_height": null,
            "min_width": null,
            "object_fit": null,
            "object_position": null,
            "order": null,
            "overflow": null,
            "overflow_x": null,
            "overflow_y": null,
            "padding": null,
            "right": null,
            "top": null,
            "visibility": null,
            "width": null
          }
        },
        "198f20f5bc2c456db81a44ba6419f16a": {
          "model_module": "@jupyter-widgets/controls",
          "model_name": "DescriptionStyleModel",
          "state": {
            "_model_module": "@jupyter-widgets/controls",
            "_model_module_version": "1.5.0",
            "_model_name": "DescriptionStyleModel",
            "_view_count": null,
            "_view_module": "@jupyter-widgets/base",
            "_view_module_version": "1.2.0",
            "_view_name": "StyleView",
            "description_width": ""
          }
        },
        "5694c9611e264f129b8646ffab97dafe": {
          "model_module": "@jupyter-widgets/controls",
          "model_name": "HBoxModel",
          "state": {
            "_dom_classes": [],
            "_model_module": "@jupyter-widgets/controls",
            "_model_module_version": "1.5.0",
            "_model_name": "HBoxModel",
            "_view_count": null,
            "_view_module": "@jupyter-widgets/controls",
            "_view_module_version": "1.5.0",
            "_view_name": "HBoxView",
            "box_style": "",
            "children": [
              "IPY_MODEL_d95262e7e30e4f46bf939dc30b279a42",
              "IPY_MODEL_98dfe849cfe641f4b62c9d73b1b2d4f3"
            ],
            "layout": "IPY_MODEL_ef7a112eabfd42d9b80db9aba3a357ea"
          }
        },
        "d95262e7e30e4f46bf939dc30b279a42": {
          "model_module": "@jupyter-widgets/controls",
          "model_name": "FloatProgressModel",
          "state": {
            "_dom_classes": [],
            "_model_module": "@jupyter-widgets/controls",
            "_model_module_version": "1.5.0",
            "_model_name": "FloatProgressModel",
            "_view_count": null,
            "_view_module": "@jupyter-widgets/controls",
            "_view_module_version": "1.5.0",
            "_view_name": "ProgressView",
            "bar_style": "success",
            "description": "100%",
            "description_tooltip": null,
            "layout": "IPY_MODEL_8b232e273cb243939feef215b1bb5575",
            "max": 6783,
            "min": 0,
            "orientation": "horizontal",
            "style": "IPY_MODEL_850f259017e442578f77159b4b50cc12",
            "value": 6783
          }
        },
        "98dfe849cfe641f4b62c9d73b1b2d4f3": {
          "model_module": "@jupyter-widgets/controls",
          "model_name": "HTMLModel",
          "state": {
            "_dom_classes": [],
            "_model_module": "@jupyter-widgets/controls",
            "_model_module_version": "1.5.0",
            "_model_name": "HTMLModel",
            "_view_count": null,
            "_view_module": "@jupyter-widgets/controls",
            "_view_module_version": "1.5.0",
            "_view_name": "HTMLView",
            "description": "",
            "description_tooltip": null,
            "layout": "IPY_MODEL_6a414d44fba5465184ddc711f1a0627c",
            "placeholder": "​",
            "style": "IPY_MODEL_3e2a81517be248f89459b821b7e0fe73",
            "value": " 6783/6783 [00:03&lt;00:00, 1857.03it/s]"
          }
        },
        "ef7a112eabfd42d9b80db9aba3a357ea": {
          "model_module": "@jupyter-widgets/base",
          "model_name": "LayoutModel",
          "state": {
            "_model_module": "@jupyter-widgets/base",
            "_model_module_version": "1.2.0",
            "_model_name": "LayoutModel",
            "_view_count": null,
            "_view_module": "@jupyter-widgets/base",
            "_view_module_version": "1.2.0",
            "_view_name": "LayoutView",
            "align_content": null,
            "align_items": null,
            "align_self": null,
            "border": null,
            "bottom": null,
            "display": null,
            "flex": null,
            "flex_flow": null,
            "grid_area": null,
            "grid_auto_columns": null,
            "grid_auto_flow": null,
            "grid_auto_rows": null,
            "grid_column": null,
            "grid_gap": null,
            "grid_row": null,
            "grid_template_areas": null,
            "grid_template_columns": null,
            "grid_template_rows": null,
            "height": null,
            "justify_content": null,
            "justify_items": null,
            "left": null,
            "margin": null,
            "max_height": null,
            "max_width": null,
            "min_height": null,
            "min_width": null,
            "object_fit": null,
            "object_position": null,
            "order": null,
            "overflow": null,
            "overflow_x": null,
            "overflow_y": null,
            "padding": null,
            "right": null,
            "top": null,
            "visibility": null,
            "width": null
          }
        },
        "8b232e273cb243939feef215b1bb5575": {
          "model_module": "@jupyter-widgets/base",
          "model_name": "LayoutModel",
          "state": {
            "_model_module": "@jupyter-widgets/base",
            "_model_module_version": "1.2.0",
            "_model_name": "LayoutModel",
            "_view_count": null,
            "_view_module": "@jupyter-widgets/base",
            "_view_module_version": "1.2.0",
            "_view_name": "LayoutView",
            "align_content": null,
            "align_items": null,
            "align_self": null,
            "border": null,
            "bottom": null,
            "display": null,
            "flex": null,
            "flex_flow": null,
            "grid_area": null,
            "grid_auto_columns": null,
            "grid_auto_flow": null,
            "grid_auto_rows": null,
            "grid_column": null,
            "grid_gap": null,
            "grid_row": null,
            "grid_template_areas": null,
            "grid_template_columns": null,
            "grid_template_rows": null,
            "height": null,
            "justify_content": null,
            "justify_items": null,
            "left": null,
            "margin": null,
            "max_height": null,
            "max_width": null,
            "min_height": null,
            "min_width": null,
            "object_fit": null,
            "object_position": null,
            "order": null,
            "overflow": null,
            "overflow_x": null,
            "overflow_y": null,
            "padding": null,
            "right": null,
            "top": null,
            "visibility": null,
            "width": null
          }
        },
        "850f259017e442578f77159b4b50cc12": {
          "model_module": "@jupyter-widgets/controls",
          "model_name": "ProgressStyleModel",
          "state": {
            "_model_module": "@jupyter-widgets/controls",
            "_model_module_version": "1.5.0",
            "_model_name": "ProgressStyleModel",
            "_view_count": null,
            "_view_module": "@jupyter-widgets/base",
            "_view_module_version": "1.2.0",
            "_view_name": "StyleView",
            "bar_color": null,
            "description_width": "initial"
          }
        },
        "6a414d44fba5465184ddc711f1a0627c": {
          "model_module": "@jupyter-widgets/base",
          "model_name": "LayoutModel",
          "state": {
            "_model_module": "@jupyter-widgets/base",
            "_model_module_version": "1.2.0",
            "_model_name": "LayoutModel",
            "_view_count": null,
            "_view_module": "@jupyter-widgets/base",
            "_view_module_version": "1.2.0",
            "_view_name": "LayoutView",
            "align_content": null,
            "align_items": null,
            "align_self": null,
            "border": null,
            "bottom": null,
            "display": null,
            "flex": null,
            "flex_flow": null,
            "grid_area": null,
            "grid_auto_columns": null,
            "grid_auto_flow": null,
            "grid_auto_rows": null,
            "grid_column": null,
            "grid_gap": null,
            "grid_row": null,
            "grid_template_areas": null,
            "grid_template_columns": null,
            "grid_template_rows": null,
            "height": null,
            "justify_content": null,
            "justify_items": null,
            "left": null,
            "margin": null,
            "max_height": null,
            "max_width": null,
            "min_height": null,
            "min_width": null,
            "object_fit": null,
            "object_position": null,
            "order": null,
            "overflow": null,
            "overflow_x": null,
            "overflow_y": null,
            "padding": null,
            "right": null,
            "top": null,
            "visibility": null,
            "width": null
          }
        },
        "3e2a81517be248f89459b821b7e0fe73": {
          "model_module": "@jupyter-widgets/controls",
          "model_name": "DescriptionStyleModel",
          "state": {
            "_model_module": "@jupyter-widgets/controls",
            "_model_module_version": "1.5.0",
            "_model_name": "DescriptionStyleModel",
            "_view_count": null,
            "_view_module": "@jupyter-widgets/base",
            "_view_module_version": "1.2.0",
            "_view_name": "StyleView",
            "description_width": ""
          }
        },
        "735766b49e7a4d99bf4ac00d66e35971": {
          "model_module": "@jupyter-widgets/controls",
          "model_name": "HBoxModel",
          "state": {
            "_dom_classes": [],
            "_model_module": "@jupyter-widgets/controls",
            "_model_module_version": "1.5.0",
            "_model_name": "HBoxModel",
            "_view_count": null,
            "_view_module": "@jupyter-widgets/controls",
            "_view_module_version": "1.5.0",
            "_view_name": "HBoxView",
            "box_style": "",
            "children": [
              "IPY_MODEL_d05a8bcb273f4003a25bbb85beed83b6",
              "IPY_MODEL_64e4a1a5abc64de0a791e84b257a340e"
            ],
            "layout": "IPY_MODEL_577fab83490f4ac8a906d6622972331e"
          }
        },
        "d05a8bcb273f4003a25bbb85beed83b6": {
          "model_module": "@jupyter-widgets/controls",
          "model_name": "FloatProgressModel",
          "state": {
            "_dom_classes": [],
            "_model_module": "@jupyter-widgets/controls",
            "_model_module_version": "1.5.0",
            "_model_name": "FloatProgressModel",
            "_view_count": null,
            "_view_module": "@jupyter-widgets/controls",
            "_view_module_version": "1.5.0",
            "_view_name": "ProgressView",
            "bar_style": "success",
            "description": "100%",
            "description_tooltip": null,
            "layout": "IPY_MODEL_6ea625af0a094e1397d0cdde60f35a94",
            "max": 379940,
            "min": 0,
            "orientation": "horizontal",
            "style": "IPY_MODEL_344f1668cf0d46b980305e43d0032a4e",
            "value": 379940
          }
        },
        "64e4a1a5abc64de0a791e84b257a340e": {
          "model_module": "@jupyter-widgets/controls",
          "model_name": "HTMLModel",
          "state": {
            "_dom_classes": [],
            "_model_module": "@jupyter-widgets/controls",
            "_model_module_version": "1.5.0",
            "_model_name": "HTMLModel",
            "_view_count": null,
            "_view_module": "@jupyter-widgets/controls",
            "_view_module_version": "1.5.0",
            "_view_name": "HTMLView",
            "description": "",
            "description_tooltip": null,
            "layout": "IPY_MODEL_bc78c505a66e4f38a8648c1746686c56",
            "placeholder": "​",
            "style": "IPY_MODEL_979f6440dab04ef198c6cecc33d26b30",
            "value": " 379940/379940 [00:50&lt;00:00, 7564.77it/s]"
          }
        },
        "577fab83490f4ac8a906d6622972331e": {
          "model_module": "@jupyter-widgets/base",
          "model_name": "LayoutModel",
          "state": {
            "_model_module": "@jupyter-widgets/base",
            "_model_module_version": "1.2.0",
            "_model_name": "LayoutModel",
            "_view_count": null,
            "_view_module": "@jupyter-widgets/base",
            "_view_module_version": "1.2.0",
            "_view_name": "LayoutView",
            "align_content": null,
            "align_items": null,
            "align_self": null,
            "border": null,
            "bottom": null,
            "display": null,
            "flex": null,
            "flex_flow": null,
            "grid_area": null,
            "grid_auto_columns": null,
            "grid_auto_flow": null,
            "grid_auto_rows": null,
            "grid_column": null,
            "grid_gap": null,
            "grid_row": null,
            "grid_template_areas": null,
            "grid_template_columns": null,
            "grid_template_rows": null,
            "height": null,
            "justify_content": null,
            "justify_items": null,
            "left": null,
            "margin": null,
            "max_height": null,
            "max_width": null,
            "min_height": null,
            "min_width": null,
            "object_fit": null,
            "object_position": null,
            "order": null,
            "overflow": null,
            "overflow_x": null,
            "overflow_y": null,
            "padding": null,
            "right": null,
            "top": null,
            "visibility": null,
            "width": null
          }
        },
        "6ea625af0a094e1397d0cdde60f35a94": {
          "model_module": "@jupyter-widgets/base",
          "model_name": "LayoutModel",
          "state": {
            "_model_module": "@jupyter-widgets/base",
            "_model_module_version": "1.2.0",
            "_model_name": "LayoutModel",
            "_view_count": null,
            "_view_module": "@jupyter-widgets/base",
            "_view_module_version": "1.2.0",
            "_view_name": "LayoutView",
            "align_content": null,
            "align_items": null,
            "align_self": null,
            "border": null,
            "bottom": null,
            "display": null,
            "flex": null,
            "flex_flow": null,
            "grid_area": null,
            "grid_auto_columns": null,
            "grid_auto_flow": null,
            "grid_auto_rows": null,
            "grid_column": null,
            "grid_gap": null,
            "grid_row": null,
            "grid_template_areas": null,
            "grid_template_columns": null,
            "grid_template_rows": null,
            "height": null,
            "justify_content": null,
            "justify_items": null,
            "left": null,
            "margin": null,
            "max_height": null,
            "max_width": null,
            "min_height": null,
            "min_width": null,
            "object_fit": null,
            "object_position": null,
            "order": null,
            "overflow": null,
            "overflow_x": null,
            "overflow_y": null,
            "padding": null,
            "right": null,
            "top": null,
            "visibility": null,
            "width": null
          }
        },
        "344f1668cf0d46b980305e43d0032a4e": {
          "model_module": "@jupyter-widgets/controls",
          "model_name": "ProgressStyleModel",
          "state": {
            "_model_module": "@jupyter-widgets/controls",
            "_model_module_version": "1.5.0",
            "_model_name": "ProgressStyleModel",
            "_view_count": null,
            "_view_module": "@jupyter-widgets/base",
            "_view_module_version": "1.2.0",
            "_view_name": "StyleView",
            "bar_color": null,
            "description_width": "initial"
          }
        },
        "bc78c505a66e4f38a8648c1746686c56": {
          "model_module": "@jupyter-widgets/base",
          "model_name": "LayoutModel",
          "state": {
            "_model_module": "@jupyter-widgets/base",
            "_model_module_version": "1.2.0",
            "_model_name": "LayoutModel",
            "_view_count": null,
            "_view_module": "@jupyter-widgets/base",
            "_view_module_version": "1.2.0",
            "_view_name": "LayoutView",
            "align_content": null,
            "align_items": null,
            "align_self": null,
            "border": null,
            "bottom": null,
            "display": null,
            "flex": null,
            "flex_flow": null,
            "grid_area": null,
            "grid_auto_columns": null,
            "grid_auto_flow": null,
            "grid_auto_rows": null,
            "grid_column": null,
            "grid_gap": null,
            "grid_row": null,
            "grid_template_areas": null,
            "grid_template_columns": null,
            "grid_template_rows": null,
            "height": null,
            "justify_content": null,
            "justify_items": null,
            "left": null,
            "margin": null,
            "max_height": null,
            "max_width": null,
            "min_height": null,
            "min_width": null,
            "object_fit": null,
            "object_position": null,
            "order": null,
            "overflow": null,
            "overflow_x": null,
            "overflow_y": null,
            "padding": null,
            "right": null,
            "top": null,
            "visibility": null,
            "width": null
          }
        },
        "979f6440dab04ef198c6cecc33d26b30": {
          "model_module": "@jupyter-widgets/controls",
          "model_name": "DescriptionStyleModel",
          "state": {
            "_model_module": "@jupyter-widgets/controls",
            "_model_module_version": "1.5.0",
            "_model_name": "DescriptionStyleModel",
            "_view_count": null,
            "_view_module": "@jupyter-widgets/base",
            "_view_module_version": "1.2.0",
            "_view_name": "StyleView",
            "description_width": ""
          }
        },
        "a3479c2cd15148f7829c653333a6613b": {
          "model_module": "@jupyter-widgets/controls",
          "model_name": "HBoxModel",
          "state": {
            "_view_name": "HBoxView",
            "_dom_classes": [],
            "_model_name": "HBoxModel",
            "_view_module": "@jupyter-widgets/controls",
            "_model_module_version": "1.5.0",
            "_view_count": null,
            "_view_module_version": "1.5.0",
            "box_style": "",
            "layout": "IPY_MODEL_4131ccb501b84629a329f082e31b82d7",
            "_model_module": "@jupyter-widgets/controls",
            "children": [
              "IPY_MODEL_9627e690c2bd4f1db403fd74239043b1",
              "IPY_MODEL_cfcc0804c67140f990cffb623edbd659"
            ]
          }
        },
        "4131ccb501b84629a329f082e31b82d7": {
          "model_module": "@jupyter-widgets/base",
          "model_name": "LayoutModel",
          "state": {
            "_view_name": "LayoutView",
            "grid_template_rows": null,
            "right": null,
            "justify_content": null,
            "_view_module": "@jupyter-widgets/base",
            "overflow": null,
            "_model_module_version": "1.2.0",
            "_view_count": null,
            "flex_flow": null,
            "width": null,
            "min_width": null,
            "border": null,
            "align_items": null,
            "bottom": null,
            "_model_module": "@jupyter-widgets/base",
            "top": null,
            "grid_column": null,
            "overflow_y": null,
            "overflow_x": null,
            "grid_auto_flow": null,
            "grid_area": null,
            "grid_template_columns": null,
            "flex": null,
            "_model_name": "LayoutModel",
            "justify_items": null,
            "grid_row": null,
            "max_height": null,
            "align_content": null,
            "visibility": null,
            "align_self": null,
            "height": null,
            "min_height": null,
            "padding": null,
            "grid_auto_rows": null,
            "grid_gap": null,
            "max_width": null,
            "order": null,
            "_view_module_version": "1.2.0",
            "grid_template_areas": null,
            "object_position": null,
            "object_fit": null,
            "grid_auto_columns": null,
            "margin": null,
            "display": null,
            "left": null
          }
        },
        "9627e690c2bd4f1db403fd74239043b1": {
          "model_module": "@jupyter-widgets/controls",
          "model_name": "FloatProgressModel",
          "state": {
            "_view_name": "ProgressView",
            "style": "IPY_MODEL_08f7dc1000ee4001b03a368d78970883",
            "_dom_classes": [],
            "description": "Downloading: 100%",
            "_model_name": "FloatProgressModel",
            "bar_style": "success",
            "max": 625,
            "_view_module": "@jupyter-widgets/controls",
            "_model_module_version": "1.5.0",
            "value": 625,
            "_view_count": null,
            "_view_module_version": "1.5.0",
            "orientation": "horizontal",
            "min": 0,
            "description_tooltip": null,
            "_model_module": "@jupyter-widgets/controls",
            "layout": "IPY_MODEL_403eadcbb1f44809905de50dfc7c00a0"
          }
        },
        "cfcc0804c67140f990cffb623edbd659": {
          "model_module": "@jupyter-widgets/controls",
          "model_name": "HTMLModel",
          "state": {
            "_view_name": "HTMLView",
            "style": "IPY_MODEL_68c5ed2a0eee4d8487f0dcfc3b262302",
            "_dom_classes": [],
            "description": "",
            "_model_name": "HTMLModel",
            "placeholder": "​",
            "_view_module": "@jupyter-widgets/controls",
            "_model_module_version": "1.5.0",
            "value": " 625/625 [00:00&lt;00:00, 13.0kB/s]",
            "_view_count": null,
            "_view_module_version": "1.5.0",
            "description_tooltip": null,
            "_model_module": "@jupyter-widgets/controls",
            "layout": "IPY_MODEL_9e2a3165115d4fef923c67f77f33612e"
          }
        },
        "08f7dc1000ee4001b03a368d78970883": {
          "model_module": "@jupyter-widgets/controls",
          "model_name": "ProgressStyleModel",
          "state": {
            "_view_name": "StyleView",
            "_model_name": "ProgressStyleModel",
            "description_width": "initial",
            "_view_module": "@jupyter-widgets/base",
            "_model_module_version": "1.5.0",
            "_view_count": null,
            "_view_module_version": "1.2.0",
            "bar_color": null,
            "_model_module": "@jupyter-widgets/controls"
          }
        },
        "403eadcbb1f44809905de50dfc7c00a0": {
          "model_module": "@jupyter-widgets/base",
          "model_name": "LayoutModel",
          "state": {
            "_view_name": "LayoutView",
            "grid_template_rows": null,
            "right": null,
            "justify_content": null,
            "_view_module": "@jupyter-widgets/base",
            "overflow": null,
            "_model_module_version": "1.2.0",
            "_view_count": null,
            "flex_flow": null,
            "width": null,
            "min_width": null,
            "border": null,
            "align_items": null,
            "bottom": null,
            "_model_module": "@jupyter-widgets/base",
            "top": null,
            "grid_column": null,
            "overflow_y": null,
            "overflow_x": null,
            "grid_auto_flow": null,
            "grid_area": null,
            "grid_template_columns": null,
            "flex": null,
            "_model_name": "LayoutModel",
            "justify_items": null,
            "grid_row": null,
            "max_height": null,
            "align_content": null,
            "visibility": null,
            "align_self": null,
            "height": null,
            "min_height": null,
            "padding": null,
            "grid_auto_rows": null,
            "grid_gap": null,
            "max_width": null,
            "order": null,
            "_view_module_version": "1.2.0",
            "grid_template_areas": null,
            "object_position": null,
            "object_fit": null,
            "grid_auto_columns": null,
            "margin": null,
            "display": null,
            "left": null
          }
        },
        "68c5ed2a0eee4d8487f0dcfc3b262302": {
          "model_module": "@jupyter-widgets/controls",
          "model_name": "DescriptionStyleModel",
          "state": {
            "_view_name": "StyleView",
            "_model_name": "DescriptionStyleModel",
            "description_width": "",
            "_view_module": "@jupyter-widgets/base",
            "_model_module_version": "1.5.0",
            "_view_count": null,
            "_view_module_version": "1.2.0",
            "_model_module": "@jupyter-widgets/controls"
          }
        },
        "9e2a3165115d4fef923c67f77f33612e": {
          "model_module": "@jupyter-widgets/base",
          "model_name": "LayoutModel",
          "state": {
            "_view_name": "LayoutView",
            "grid_template_rows": null,
            "right": null,
            "justify_content": null,
            "_view_module": "@jupyter-widgets/base",
            "overflow": null,
            "_model_module_version": "1.2.0",
            "_view_count": null,
            "flex_flow": null,
            "width": null,
            "min_width": null,
            "border": null,
            "align_items": null,
            "bottom": null,
            "_model_module": "@jupyter-widgets/base",
            "top": null,
            "grid_column": null,
            "overflow_y": null,
            "overflow_x": null,
            "grid_auto_flow": null,
            "grid_area": null,
            "grid_template_columns": null,
            "flex": null,
            "_model_name": "LayoutModel",
            "justify_items": null,
            "grid_row": null,
            "max_height": null,
            "align_content": null,
            "visibility": null,
            "align_self": null,
            "height": null,
            "min_height": null,
            "padding": null,
            "grid_auto_rows": null,
            "grid_gap": null,
            "max_width": null,
            "order": null,
            "_view_module_version": "1.2.0",
            "grid_template_areas": null,
            "object_position": null,
            "object_fit": null,
            "grid_auto_columns": null,
            "margin": null,
            "display": null,
            "left": null
          }
        },
        "937438e7335a47a4992fdbe89c3cbe61": {
          "model_module": "@jupyter-widgets/controls",
          "model_name": "HBoxModel",
          "state": {
            "_view_name": "HBoxView",
            "_dom_classes": [],
            "_model_name": "HBoxModel",
            "_view_module": "@jupyter-widgets/controls",
            "_model_module_version": "1.5.0",
            "_view_count": null,
            "_view_module_version": "1.5.0",
            "box_style": "",
            "layout": "IPY_MODEL_7203a062093045ae89a6a96a89315e55",
            "_model_module": "@jupyter-widgets/controls",
            "children": [
              "IPY_MODEL_1e547471634c4a35a078b5117da580f2",
              "IPY_MODEL_79fdb25f34504bc3acdd0b0bedf86fef"
            ]
          }
        },
        "7203a062093045ae89a6a96a89315e55": {
          "model_module": "@jupyter-widgets/base",
          "model_name": "LayoutModel",
          "state": {
            "_view_name": "LayoutView",
            "grid_template_rows": null,
            "right": null,
            "justify_content": null,
            "_view_module": "@jupyter-widgets/base",
            "overflow": null,
            "_model_module_version": "1.2.0",
            "_view_count": null,
            "flex_flow": null,
            "width": null,
            "min_width": null,
            "border": null,
            "align_items": null,
            "bottom": null,
            "_model_module": "@jupyter-widgets/base",
            "top": null,
            "grid_column": null,
            "overflow_y": null,
            "overflow_x": null,
            "grid_auto_flow": null,
            "grid_area": null,
            "grid_template_columns": null,
            "flex": null,
            "_model_name": "LayoutModel",
            "justify_items": null,
            "grid_row": null,
            "max_height": null,
            "align_content": null,
            "visibility": null,
            "align_self": null,
            "height": null,
            "min_height": null,
            "padding": null,
            "grid_auto_rows": null,
            "grid_gap": null,
            "max_width": null,
            "order": null,
            "_view_module_version": "1.2.0",
            "grid_template_areas": null,
            "object_position": null,
            "object_fit": null,
            "grid_auto_columns": null,
            "margin": null,
            "display": null,
            "left": null
          }
        },
        "1e547471634c4a35a078b5117da580f2": {
          "model_module": "@jupyter-widgets/controls",
          "model_name": "FloatProgressModel",
          "state": {
            "_view_name": "ProgressView",
            "style": "IPY_MODEL_6d2a89e25be04caa8deee82e109e2e43",
            "_dom_classes": [],
            "description": "Downloading: 100%",
            "_model_name": "FloatProgressModel",
            "bar_style": "success",
            "max": 999358484,
            "_view_module": "@jupyter-widgets/controls",
            "_model_module_version": "1.5.0",
            "value": 999358484,
            "_view_count": null,
            "_view_module_version": "1.5.0",
            "orientation": "horizontal",
            "min": 0,
            "description_tooltip": null,
            "_model_module": "@jupyter-widgets/controls",
            "layout": "IPY_MODEL_4b245de0fa6f406aae37986ddeee8e04"
          }
        },
        "79fdb25f34504bc3acdd0b0bedf86fef": {
          "model_module": "@jupyter-widgets/controls",
          "model_name": "HTMLModel",
          "state": {
            "_view_name": "HTMLView",
            "style": "IPY_MODEL_ed065a06ae2f426cbfb58179f11f565f",
            "_dom_classes": [],
            "description": "",
            "_model_name": "HTMLModel",
            "placeholder": "​",
            "_view_module": "@jupyter-widgets/controls",
            "_model_module_version": "1.5.0",
            "value": " 999M/999M [00:18&lt;00:00, 54.6MB/s]",
            "_view_count": null,
            "_view_module_version": "1.5.0",
            "description_tooltip": null,
            "_model_module": "@jupyter-widgets/controls",
            "layout": "IPY_MODEL_2ff8f50932b3415994f9e915701833bf"
          }
        },
        "6d2a89e25be04caa8deee82e109e2e43": {
          "model_module": "@jupyter-widgets/controls",
          "model_name": "ProgressStyleModel",
          "state": {
            "_view_name": "StyleView",
            "_model_name": "ProgressStyleModel",
            "description_width": "initial",
            "_view_module": "@jupyter-widgets/base",
            "_model_module_version": "1.5.0",
            "_view_count": null,
            "_view_module_version": "1.2.0",
            "bar_color": null,
            "_model_module": "@jupyter-widgets/controls"
          }
        },
        "4b245de0fa6f406aae37986ddeee8e04": {
          "model_module": "@jupyter-widgets/base",
          "model_name": "LayoutModel",
          "state": {
            "_view_name": "LayoutView",
            "grid_template_rows": null,
            "right": null,
            "justify_content": null,
            "_view_module": "@jupyter-widgets/base",
            "overflow": null,
            "_model_module_version": "1.2.0",
            "_view_count": null,
            "flex_flow": null,
            "width": null,
            "min_width": null,
            "border": null,
            "align_items": null,
            "bottom": null,
            "_model_module": "@jupyter-widgets/base",
            "top": null,
            "grid_column": null,
            "overflow_y": null,
            "overflow_x": null,
            "grid_auto_flow": null,
            "grid_area": null,
            "grid_template_columns": null,
            "flex": null,
            "_model_name": "LayoutModel",
            "justify_items": null,
            "grid_row": null,
            "max_height": null,
            "align_content": null,
            "visibility": null,
            "align_self": null,
            "height": null,
            "min_height": null,
            "padding": null,
            "grid_auto_rows": null,
            "grid_gap": null,
            "max_width": null,
            "order": null,
            "_view_module_version": "1.2.0",
            "grid_template_areas": null,
            "object_position": null,
            "object_fit": null,
            "grid_auto_columns": null,
            "margin": null,
            "display": null,
            "left": null
          }
        },
        "ed065a06ae2f426cbfb58179f11f565f": {
          "model_module": "@jupyter-widgets/controls",
          "model_name": "DescriptionStyleModel",
          "state": {
            "_view_name": "StyleView",
            "_model_name": "DescriptionStyleModel",
            "description_width": "",
            "_view_module": "@jupyter-widgets/base",
            "_model_module_version": "1.5.0",
            "_view_count": null,
            "_view_module_version": "1.2.0",
            "_model_module": "@jupyter-widgets/controls"
          }
        },
        "2ff8f50932b3415994f9e915701833bf": {
          "model_module": "@jupyter-widgets/base",
          "model_name": "LayoutModel",
          "state": {
            "_view_name": "LayoutView",
            "grid_template_rows": null,
            "right": null,
            "justify_content": null,
            "_view_module": "@jupyter-widgets/base",
            "overflow": null,
            "_model_module_version": "1.2.0",
            "_view_count": null,
            "flex_flow": null,
            "width": null,
            "min_width": null,
            "border": null,
            "align_items": null,
            "bottom": null,
            "_model_module": "@jupyter-widgets/base",
            "top": null,
            "grid_column": null,
            "overflow_y": null,
            "overflow_x": null,
            "grid_auto_flow": null,
            "grid_area": null,
            "grid_template_columns": null,
            "flex": null,
            "_model_name": "LayoutModel",
            "justify_items": null,
            "grid_row": null,
            "max_height": null,
            "align_content": null,
            "visibility": null,
            "align_self": null,
            "height": null,
            "min_height": null,
            "padding": null,
            "grid_auto_rows": null,
            "grid_gap": null,
            "max_width": null,
            "order": null,
            "_view_module_version": "1.2.0",
            "grid_template_areas": null,
            "object_position": null,
            "object_fit": null,
            "grid_auto_columns": null,
            "margin": null,
            "display": null,
            "left": null
          }
        },
        "ae6d059db80f43628256a991f4ef99a4": {
          "model_module": "@jupyter-widgets/controls",
          "model_name": "HBoxModel",
          "state": {
            "_view_name": "HBoxView",
            "_dom_classes": [],
            "_model_name": "HBoxModel",
            "_view_module": "@jupyter-widgets/controls",
            "_model_module_version": "1.5.0",
            "_view_count": null,
            "_view_module_version": "1.5.0",
            "box_style": "",
            "layout": "IPY_MODEL_0cd4afb08afd4591882e6c87c71bfc28",
            "_model_module": "@jupyter-widgets/controls",
            "children": [
              "IPY_MODEL_c36b07d096ff4fc192620a0fa5ee20e8",
              "IPY_MODEL_d08288edabc244d88042c863bdb99689"
            ]
          }
        },
        "0cd4afb08afd4591882e6c87c71bfc28": {
          "model_module": "@jupyter-widgets/base",
          "model_name": "LayoutModel",
          "state": {
            "_view_name": "LayoutView",
            "grid_template_rows": null,
            "right": null,
            "justify_content": null,
            "_view_module": "@jupyter-widgets/base",
            "overflow": null,
            "_model_module_version": "1.2.0",
            "_view_count": null,
            "flex_flow": null,
            "width": null,
            "min_width": null,
            "border": null,
            "align_items": null,
            "bottom": null,
            "_model_module": "@jupyter-widgets/base",
            "top": null,
            "grid_column": null,
            "overflow_y": null,
            "overflow_x": null,
            "grid_auto_flow": null,
            "grid_area": null,
            "grid_template_columns": null,
            "flex": null,
            "_model_name": "LayoutModel",
            "justify_items": null,
            "grid_row": null,
            "max_height": null,
            "align_content": null,
            "visibility": null,
            "align_self": null,
            "height": null,
            "min_height": null,
            "padding": null,
            "grid_auto_rows": null,
            "grid_gap": null,
            "max_width": null,
            "order": null,
            "_view_module_version": "1.2.0",
            "grid_template_areas": null,
            "object_position": null,
            "object_fit": null,
            "grid_auto_columns": null,
            "margin": null,
            "display": null,
            "left": null
          }
        },
        "c36b07d096ff4fc192620a0fa5ee20e8": {
          "model_module": "@jupyter-widgets/controls",
          "model_name": "FloatProgressModel",
          "state": {
            "_view_name": "ProgressView",
            "style": "IPY_MODEL_e5cf98c2fa554658b7f17fde62faba0d",
            "_dom_classes": [],
            "description": "Downloading: 100%",
            "_model_name": "FloatProgressModel",
            "bar_style": "success",
            "max": 871891,
            "_view_module": "@jupyter-widgets/controls",
            "_model_module_version": "1.5.0",
            "value": 871891,
            "_view_count": null,
            "_view_module_version": "1.5.0",
            "orientation": "horizontal",
            "min": 0,
            "description_tooltip": null,
            "_model_module": "@jupyter-widgets/controls",
            "layout": "IPY_MODEL_0992577854ad4cd68543ba57767bb0a8"
          }
        },
        "d08288edabc244d88042c863bdb99689": {
          "model_module": "@jupyter-widgets/controls",
          "model_name": "HTMLModel",
          "state": {
            "_view_name": "HTMLView",
            "style": "IPY_MODEL_dddd99f463324c369ba1de57a3c59e3e",
            "_dom_classes": [],
            "description": "",
            "_model_name": "HTMLModel",
            "placeholder": "​",
            "_view_module": "@jupyter-widgets/controls",
            "_model_module_version": "1.5.0",
            "value": " 872k/872k [00:01&lt;00:00, 563kB/s]",
            "_view_count": null,
            "_view_module_version": "1.5.0",
            "description_tooltip": null,
            "_model_module": "@jupyter-widgets/controls",
            "layout": "IPY_MODEL_c725fd3518a24cba863d7eb31f6187ae"
          }
        },
        "e5cf98c2fa554658b7f17fde62faba0d": {
          "model_module": "@jupyter-widgets/controls",
          "model_name": "ProgressStyleModel",
          "state": {
            "_view_name": "StyleView",
            "_model_name": "ProgressStyleModel",
            "description_width": "initial",
            "_view_module": "@jupyter-widgets/base",
            "_model_module_version": "1.5.0",
            "_view_count": null,
            "_view_module_version": "1.2.0",
            "bar_color": null,
            "_model_module": "@jupyter-widgets/controls"
          }
        },
        "0992577854ad4cd68543ba57767bb0a8": {
          "model_module": "@jupyter-widgets/base",
          "model_name": "LayoutModel",
          "state": {
            "_view_name": "LayoutView",
            "grid_template_rows": null,
            "right": null,
            "justify_content": null,
            "_view_module": "@jupyter-widgets/base",
            "overflow": null,
            "_model_module_version": "1.2.0",
            "_view_count": null,
            "flex_flow": null,
            "width": null,
            "min_width": null,
            "border": null,
            "align_items": null,
            "bottom": null,
            "_model_module": "@jupyter-widgets/base",
            "top": null,
            "grid_column": null,
            "overflow_y": null,
            "overflow_x": null,
            "grid_auto_flow": null,
            "grid_area": null,
            "grid_template_columns": null,
            "flex": null,
            "_model_name": "LayoutModel",
            "justify_items": null,
            "grid_row": null,
            "max_height": null,
            "align_content": null,
            "visibility": null,
            "align_self": null,
            "height": null,
            "min_height": null,
            "padding": null,
            "grid_auto_rows": null,
            "grid_gap": null,
            "max_width": null,
            "order": null,
            "_view_module_version": "1.2.0",
            "grid_template_areas": null,
            "object_position": null,
            "object_fit": null,
            "grid_auto_columns": null,
            "margin": null,
            "display": null,
            "left": null
          }
        },
        "dddd99f463324c369ba1de57a3c59e3e": {
          "model_module": "@jupyter-widgets/controls",
          "model_name": "DescriptionStyleModel",
          "state": {
            "_view_name": "StyleView",
            "_model_name": "DescriptionStyleModel",
            "description_width": "",
            "_view_module": "@jupyter-widgets/base",
            "_model_module_version": "1.5.0",
            "_view_count": null,
            "_view_module_version": "1.2.0",
            "_model_module": "@jupyter-widgets/controls"
          }
        },
        "c725fd3518a24cba863d7eb31f6187ae": {
          "model_module": "@jupyter-widgets/base",
          "model_name": "LayoutModel",
          "state": {
            "_view_name": "LayoutView",
            "grid_template_rows": null,
            "right": null,
            "justify_content": null,
            "_view_module": "@jupyter-widgets/base",
            "overflow": null,
            "_model_module_version": "1.2.0",
            "_view_count": null,
            "flex_flow": null,
            "width": null,
            "min_width": null,
            "border": null,
            "align_items": null,
            "bottom": null,
            "_model_module": "@jupyter-widgets/base",
            "top": null,
            "grid_column": null,
            "overflow_y": null,
            "overflow_x": null,
            "grid_auto_flow": null,
            "grid_area": null,
            "grid_template_columns": null,
            "flex": null,
            "_model_name": "LayoutModel",
            "justify_items": null,
            "grid_row": null,
            "max_height": null,
            "align_content": null,
            "visibility": null,
            "align_self": null,
            "height": null,
            "min_height": null,
            "padding": null,
            "grid_auto_rows": null,
            "grid_gap": null,
            "max_width": null,
            "order": null,
            "_view_module_version": "1.2.0",
            "grid_template_areas": null,
            "object_position": null,
            "object_fit": null,
            "grid_auto_columns": null,
            "margin": null,
            "display": null,
            "left": null
          }
        },
        "9e76d64e573742c594dfd0a479b30a97": {
          "model_module": "@jupyter-widgets/controls",
          "model_name": "HBoxModel",
          "state": {
            "_view_name": "HBoxView",
            "_dom_classes": [],
            "_model_name": "HBoxModel",
            "_view_module": "@jupyter-widgets/controls",
            "_model_module_version": "1.5.0",
            "_view_count": null,
            "_view_module_version": "1.5.0",
            "box_style": "",
            "layout": "IPY_MODEL_fb0bc4095f14464aa774986216db00d5",
            "_model_module": "@jupyter-widgets/controls",
            "children": [
              "IPY_MODEL_f9ff8183b39242d9b10c12b5af707bd8",
              "IPY_MODEL_0a87d5475da4492f9d2a6d7b3d29fd55"
            ]
          }
        },
        "fb0bc4095f14464aa774986216db00d5": {
          "model_module": "@jupyter-widgets/base",
          "model_name": "LayoutModel",
          "state": {
            "_view_name": "LayoutView",
            "grid_template_rows": null,
            "right": null,
            "justify_content": null,
            "_view_module": "@jupyter-widgets/base",
            "overflow": null,
            "_model_module_version": "1.2.0",
            "_view_count": null,
            "flex_flow": null,
            "width": null,
            "min_width": null,
            "border": null,
            "align_items": null,
            "bottom": null,
            "_model_module": "@jupyter-widgets/base",
            "top": null,
            "grid_column": null,
            "overflow_y": null,
            "overflow_x": null,
            "grid_auto_flow": null,
            "grid_area": null,
            "grid_template_columns": null,
            "flex": null,
            "_model_name": "LayoutModel",
            "justify_items": null,
            "grid_row": null,
            "max_height": null,
            "align_content": null,
            "visibility": null,
            "align_self": null,
            "height": null,
            "min_height": null,
            "padding": null,
            "grid_auto_rows": null,
            "grid_gap": null,
            "max_width": null,
            "order": null,
            "_view_module_version": "1.2.0",
            "grid_template_areas": null,
            "object_position": null,
            "object_fit": null,
            "grid_auto_columns": null,
            "margin": null,
            "display": null,
            "left": null
          }
        },
        "f9ff8183b39242d9b10c12b5af707bd8": {
          "model_module": "@jupyter-widgets/controls",
          "model_name": "FloatProgressModel",
          "state": {
            "_view_name": "ProgressView",
            "style": "IPY_MODEL_8a7983d1457f4e2ab4e620da2581baa4",
            "_dom_classes": [],
            "description": "Downloading: 100%",
            "_model_name": "FloatProgressModel",
            "bar_style": "success",
            "max": 28,
            "_view_module": "@jupyter-widgets/controls",
            "_model_module_version": "1.5.0",
            "value": 28,
            "_view_count": null,
            "_view_module_version": "1.5.0",
            "orientation": "horizontal",
            "min": 0,
            "description_tooltip": null,
            "_model_module": "@jupyter-widgets/controls",
            "layout": "IPY_MODEL_95e522164ed144ae96a4356a5575ac37"
          }
        },
        "0a87d5475da4492f9d2a6d7b3d29fd55": {
          "model_module": "@jupyter-widgets/controls",
          "model_name": "HTMLModel",
          "state": {
            "_view_name": "HTMLView",
            "style": "IPY_MODEL_4b708ed49a9044418dee176670dc3756",
            "_dom_classes": [],
            "description": "",
            "_model_name": "HTMLModel",
            "placeholder": "​",
            "_view_module": "@jupyter-widgets/controls",
            "_model_module_version": "1.5.0",
            "value": " 28.0/28.0 [00:01&lt;00:00, 22.2B/s]",
            "_view_count": null,
            "_view_module_version": "1.5.0",
            "description_tooltip": null,
            "_model_module": "@jupyter-widgets/controls",
            "layout": "IPY_MODEL_2c528cceaa7b49bb828783c88ce9cc5a"
          }
        },
        "8a7983d1457f4e2ab4e620da2581baa4": {
          "model_module": "@jupyter-widgets/controls",
          "model_name": "ProgressStyleModel",
          "state": {
            "_view_name": "StyleView",
            "_model_name": "ProgressStyleModel",
            "description_width": "initial",
            "_view_module": "@jupyter-widgets/base",
            "_model_module_version": "1.5.0",
            "_view_count": null,
            "_view_module_version": "1.2.0",
            "bar_color": null,
            "_model_module": "@jupyter-widgets/controls"
          }
        },
        "95e522164ed144ae96a4356a5575ac37": {
          "model_module": "@jupyter-widgets/base",
          "model_name": "LayoutModel",
          "state": {
            "_view_name": "LayoutView",
            "grid_template_rows": null,
            "right": null,
            "justify_content": null,
            "_view_module": "@jupyter-widgets/base",
            "overflow": null,
            "_model_module_version": "1.2.0",
            "_view_count": null,
            "flex_flow": null,
            "width": null,
            "min_width": null,
            "border": null,
            "align_items": null,
            "bottom": null,
            "_model_module": "@jupyter-widgets/base",
            "top": null,
            "grid_column": null,
            "overflow_y": null,
            "overflow_x": null,
            "grid_auto_flow": null,
            "grid_area": null,
            "grid_template_columns": null,
            "flex": null,
            "_model_name": "LayoutModel",
            "justify_items": null,
            "grid_row": null,
            "max_height": null,
            "align_content": null,
            "visibility": null,
            "align_self": null,
            "height": null,
            "min_height": null,
            "padding": null,
            "grid_auto_rows": null,
            "grid_gap": null,
            "max_width": null,
            "order": null,
            "_view_module_version": "1.2.0",
            "grid_template_areas": null,
            "object_position": null,
            "object_fit": null,
            "grid_auto_columns": null,
            "margin": null,
            "display": null,
            "left": null
          }
        },
        "4b708ed49a9044418dee176670dc3756": {
          "model_module": "@jupyter-widgets/controls",
          "model_name": "DescriptionStyleModel",
          "state": {
            "_view_name": "StyleView",
            "_model_name": "DescriptionStyleModel",
            "description_width": "",
            "_view_module": "@jupyter-widgets/base",
            "_model_module_version": "1.5.0",
            "_view_count": null,
            "_view_module_version": "1.2.0",
            "_model_module": "@jupyter-widgets/controls"
          }
        },
        "2c528cceaa7b49bb828783c88ce9cc5a": {
          "model_module": "@jupyter-widgets/base",
          "model_name": "LayoutModel",
          "state": {
            "_view_name": "LayoutView",
            "grid_template_rows": null,
            "right": null,
            "justify_content": null,
            "_view_module": "@jupyter-widgets/base",
            "overflow": null,
            "_model_module_version": "1.2.0",
            "_view_count": null,
            "flex_flow": null,
            "width": null,
            "min_width": null,
            "border": null,
            "align_items": null,
            "bottom": null,
            "_model_module": "@jupyter-widgets/base",
            "top": null,
            "grid_column": null,
            "overflow_y": null,
            "overflow_x": null,
            "grid_auto_flow": null,
            "grid_area": null,
            "grid_template_columns": null,
            "flex": null,
            "_model_name": "LayoutModel",
            "justify_items": null,
            "grid_row": null,
            "max_height": null,
            "align_content": null,
            "visibility": null,
            "align_self": null,
            "height": null,
            "min_height": null,
            "padding": null,
            "grid_auto_rows": null,
            "grid_gap": null,
            "max_width": null,
            "order": null,
            "_view_module_version": "1.2.0",
            "grid_template_areas": null,
            "object_position": null,
            "object_fit": null,
            "grid_auto_columns": null,
            "margin": null,
            "display": null,
            "left": null
          }
        },
        "682c5723d67f48f6949167744db0de0a": {
          "model_module": "@jupyter-widgets/controls",
          "model_name": "HBoxModel",
          "state": {
            "_view_name": "HBoxView",
            "_dom_classes": [],
            "_model_name": "HBoxModel",
            "_view_module": "@jupyter-widgets/controls",
            "_model_module_version": "1.5.0",
            "_view_count": null,
            "_view_module_version": "1.5.0",
            "box_style": "",
            "layout": "IPY_MODEL_2fb4a89a077f4f90a865f5935596e865",
            "_model_module": "@jupyter-widgets/controls",
            "children": [
              "IPY_MODEL_839644bd99e14c09bd144bddfa20778e",
              "IPY_MODEL_5498a7a4bb4345e38ea8180d2b46dedb"
            ]
          }
        },
        "2fb4a89a077f4f90a865f5935596e865": {
          "model_module": "@jupyter-widgets/base",
          "model_name": "LayoutModel",
          "state": {
            "_view_name": "LayoutView",
            "grid_template_rows": null,
            "right": null,
            "justify_content": null,
            "_view_module": "@jupyter-widgets/base",
            "overflow": null,
            "_model_module_version": "1.2.0",
            "_view_count": null,
            "flex_flow": null,
            "width": null,
            "min_width": null,
            "border": null,
            "align_items": null,
            "bottom": null,
            "_model_module": "@jupyter-widgets/base",
            "top": null,
            "grid_column": null,
            "overflow_y": null,
            "overflow_x": null,
            "grid_auto_flow": null,
            "grid_area": null,
            "grid_template_columns": null,
            "flex": null,
            "_model_name": "LayoutModel",
            "justify_items": null,
            "grid_row": null,
            "max_height": null,
            "align_content": null,
            "visibility": null,
            "align_self": null,
            "height": null,
            "min_height": null,
            "padding": null,
            "grid_auto_rows": null,
            "grid_gap": null,
            "max_width": null,
            "order": null,
            "_view_module_version": "1.2.0",
            "grid_template_areas": null,
            "object_position": null,
            "object_fit": null,
            "grid_auto_columns": null,
            "margin": null,
            "display": null,
            "left": null
          }
        },
        "839644bd99e14c09bd144bddfa20778e": {
          "model_module": "@jupyter-widgets/controls",
          "model_name": "FloatProgressModel",
          "state": {
            "_view_name": "ProgressView",
            "style": "IPY_MODEL_53464b397ce443e69ca4da279e69ae3d",
            "_dom_classes": [],
            "description": "Downloading: 100%",
            "_model_name": "FloatProgressModel",
            "bar_style": "success",
            "max": 1715180,
            "_view_module": "@jupyter-widgets/controls",
            "_model_module_version": "1.5.0",
            "value": 1715180,
            "_view_count": null,
            "_view_module_version": "1.5.0",
            "orientation": "horizontal",
            "min": 0,
            "description_tooltip": null,
            "_model_module": "@jupyter-widgets/controls",
            "layout": "IPY_MODEL_c119ea521f06480ebb1031f9fbb7c942"
          }
        },
        "5498a7a4bb4345e38ea8180d2b46dedb": {
          "model_module": "@jupyter-widgets/controls",
          "model_name": "HTMLModel",
          "state": {
            "_view_name": "HTMLView",
            "style": "IPY_MODEL_435c49898eb846f4b8714bde528e9833",
            "_dom_classes": [],
            "description": "",
            "_model_name": "HTMLModel",
            "placeholder": "​",
            "_view_module": "@jupyter-widgets/controls",
            "_model_module_version": "1.5.0",
            "value": " 1.72M/1.72M [00:00&lt;00:00, 2.67MB/s]",
            "_view_count": null,
            "_view_module_version": "1.5.0",
            "description_tooltip": null,
            "_model_module": "@jupyter-widgets/controls",
            "layout": "IPY_MODEL_c4e3cdbc9c5644de9625b9ee6eaa0eab"
          }
        },
        "53464b397ce443e69ca4da279e69ae3d": {
          "model_module": "@jupyter-widgets/controls",
          "model_name": "ProgressStyleModel",
          "state": {
            "_view_name": "StyleView",
            "_model_name": "ProgressStyleModel",
            "description_width": "initial",
            "_view_module": "@jupyter-widgets/base",
            "_model_module_version": "1.5.0",
            "_view_count": null,
            "_view_module_version": "1.2.0",
            "bar_color": null,
            "_model_module": "@jupyter-widgets/controls"
          }
        },
        "c119ea521f06480ebb1031f9fbb7c942": {
          "model_module": "@jupyter-widgets/base",
          "model_name": "LayoutModel",
          "state": {
            "_view_name": "LayoutView",
            "grid_template_rows": null,
            "right": null,
            "justify_content": null,
            "_view_module": "@jupyter-widgets/base",
            "overflow": null,
            "_model_module_version": "1.2.0",
            "_view_count": null,
            "flex_flow": null,
            "width": null,
            "min_width": null,
            "border": null,
            "align_items": null,
            "bottom": null,
            "_model_module": "@jupyter-widgets/base",
            "top": null,
            "grid_column": null,
            "overflow_y": null,
            "overflow_x": null,
            "grid_auto_flow": null,
            "grid_area": null,
            "grid_template_columns": null,
            "flex": null,
            "_model_name": "LayoutModel",
            "justify_items": null,
            "grid_row": null,
            "max_height": null,
            "align_content": null,
            "visibility": null,
            "align_self": null,
            "height": null,
            "min_height": null,
            "padding": null,
            "grid_auto_rows": null,
            "grid_gap": null,
            "max_width": null,
            "order": null,
            "_view_module_version": "1.2.0",
            "grid_template_areas": null,
            "object_position": null,
            "object_fit": null,
            "grid_auto_columns": null,
            "margin": null,
            "display": null,
            "left": null
          }
        },
        "435c49898eb846f4b8714bde528e9833": {
          "model_module": "@jupyter-widgets/controls",
          "model_name": "DescriptionStyleModel",
          "state": {
            "_view_name": "StyleView",
            "_model_name": "DescriptionStyleModel",
            "description_width": "",
            "_view_module": "@jupyter-widgets/base",
            "_model_module_version": "1.5.0",
            "_view_count": null,
            "_view_module_version": "1.2.0",
            "_model_module": "@jupyter-widgets/controls"
          }
        },
        "c4e3cdbc9c5644de9625b9ee6eaa0eab": {
          "model_module": "@jupyter-widgets/base",
          "model_name": "LayoutModel",
          "state": {
            "_view_name": "LayoutView",
            "grid_template_rows": null,
            "right": null,
            "justify_content": null,
            "_view_module": "@jupyter-widgets/base",
            "overflow": null,
            "_model_module_version": "1.2.0",
            "_view_count": null,
            "flex_flow": null,
            "width": null,
            "min_width": null,
            "border": null,
            "align_items": null,
            "bottom": null,
            "_model_module": "@jupyter-widgets/base",
            "top": null,
            "grid_column": null,
            "overflow_y": null,
            "overflow_x": null,
            "grid_auto_flow": null,
            "grid_area": null,
            "grid_template_columns": null,
            "flex": null,
            "_model_name": "LayoutModel",
            "justify_items": null,
            "grid_row": null,
            "max_height": null,
            "align_content": null,
            "visibility": null,
            "align_self": null,
            "height": null,
            "min_height": null,
            "padding": null,
            "grid_auto_rows": null,
            "grid_gap": null,
            "max_width": null,
            "order": null,
            "_view_module_version": "1.2.0",
            "grid_template_areas": null,
            "object_position": null,
            "object_fit": null,
            "grid_auto_columns": null,
            "margin": null,
            "display": null,
            "left": null
          }
        },
        "583f18546d6b48b89c9f1399f0310d11": {
          "model_module": "@jupyter-widgets/controls",
          "model_name": "HBoxModel",
          "state": {
            "_view_name": "HBoxView",
            "_dom_classes": [],
            "_model_name": "HBoxModel",
            "_view_module": "@jupyter-widgets/controls",
            "_model_module_version": "1.5.0",
            "_view_count": null,
            "_view_module_version": "1.5.0",
            "box_style": "",
            "layout": "IPY_MODEL_01b12eaae610419393dd972b952da785",
            "_model_module": "@jupyter-widgets/controls",
            "children": [
              "IPY_MODEL_b3ab2e1bf8884d41bcaa52fe45d44a69",
              "IPY_MODEL_b6b7766aace04563a19150ba85b734ff"
            ]
          }
        },
        "01b12eaae610419393dd972b952da785": {
          "model_module": "@jupyter-widgets/base",
          "model_name": "LayoutModel",
          "state": {
            "_view_name": "LayoutView",
            "grid_template_rows": null,
            "right": null,
            "justify_content": null,
            "_view_module": "@jupyter-widgets/base",
            "overflow": null,
            "_model_module_version": "1.2.0",
            "_view_count": null,
            "flex_flow": null,
            "width": null,
            "min_width": null,
            "border": null,
            "align_items": null,
            "bottom": null,
            "_model_module": "@jupyter-widgets/base",
            "top": null,
            "grid_column": null,
            "overflow_y": null,
            "overflow_x": null,
            "grid_auto_flow": null,
            "grid_area": null,
            "grid_template_columns": null,
            "flex": null,
            "_model_name": "LayoutModel",
            "justify_items": null,
            "grid_row": null,
            "max_height": null,
            "align_content": null,
            "visibility": null,
            "align_self": null,
            "height": null,
            "min_height": null,
            "padding": null,
            "grid_auto_rows": null,
            "grid_gap": null,
            "max_width": null,
            "order": null,
            "_view_module_version": "1.2.0",
            "grid_template_areas": null,
            "object_position": null,
            "object_fit": null,
            "grid_auto_columns": null,
            "margin": null,
            "display": null,
            "left": null
          }
        },
        "b3ab2e1bf8884d41bcaa52fe45d44a69": {
          "model_module": "@jupyter-widgets/controls",
          "model_name": "FloatProgressModel",
          "state": {
            "_view_name": "ProgressView",
            "style": "IPY_MODEL_f813fb1c65b544a48ff1a3b0b1c5f7e5",
            "_dom_classes": [],
            "description": "100%",
            "_model_name": "FloatProgressModel",
            "bar_style": "success",
            "max": 6783,
            "_view_module": "@jupyter-widgets/controls",
            "_model_module_version": "1.5.0",
            "value": 6783,
            "_view_count": null,
            "_view_module_version": "1.5.0",
            "orientation": "horizontal",
            "min": 0,
            "description_tooltip": null,
            "_model_module": "@jupyter-widgets/controls",
            "layout": "IPY_MODEL_cd49675a56884f11ad50df3b26253207"
          }
        },
        "b6b7766aace04563a19150ba85b734ff": {
          "model_module": "@jupyter-widgets/controls",
          "model_name": "HTMLModel",
          "state": {
            "_view_name": "HTMLView",
            "style": "IPY_MODEL_285655ed2e5d47328e1b59c1f522f761",
            "_dom_classes": [],
            "description": "",
            "_model_name": "HTMLModel",
            "placeholder": "​",
            "_view_module": "@jupyter-widgets/controls",
            "_model_module_version": "1.5.0",
            "value": " 6783/6783 [04:16&lt;00:00, 26.49it/s]",
            "_view_count": null,
            "_view_module_version": "1.5.0",
            "description_tooltip": null,
            "_model_module": "@jupyter-widgets/controls",
            "layout": "IPY_MODEL_1b10037e6b7142578cd111a7e365c5b7"
          }
        },
        "f813fb1c65b544a48ff1a3b0b1c5f7e5": {
          "model_module": "@jupyter-widgets/controls",
          "model_name": "ProgressStyleModel",
          "state": {
            "_view_name": "StyleView",
            "_model_name": "ProgressStyleModel",
            "description_width": "initial",
            "_view_module": "@jupyter-widgets/base",
            "_model_module_version": "1.5.0",
            "_view_count": null,
            "_view_module_version": "1.2.0",
            "bar_color": null,
            "_model_module": "@jupyter-widgets/controls"
          }
        },
        "cd49675a56884f11ad50df3b26253207": {
          "model_module": "@jupyter-widgets/base",
          "model_name": "LayoutModel",
          "state": {
            "_view_name": "LayoutView",
            "grid_template_rows": null,
            "right": null,
            "justify_content": null,
            "_view_module": "@jupyter-widgets/base",
            "overflow": null,
            "_model_module_version": "1.2.0",
            "_view_count": null,
            "flex_flow": null,
            "width": null,
            "min_width": null,
            "border": null,
            "align_items": null,
            "bottom": null,
            "_model_module": "@jupyter-widgets/base",
            "top": null,
            "grid_column": null,
            "overflow_y": null,
            "overflow_x": null,
            "grid_auto_flow": null,
            "grid_area": null,
            "grid_template_columns": null,
            "flex": null,
            "_model_name": "LayoutModel",
            "justify_items": null,
            "grid_row": null,
            "max_height": null,
            "align_content": null,
            "visibility": null,
            "align_self": null,
            "height": null,
            "min_height": null,
            "padding": null,
            "grid_auto_rows": null,
            "grid_gap": null,
            "max_width": null,
            "order": null,
            "_view_module_version": "1.2.0",
            "grid_template_areas": null,
            "object_position": null,
            "object_fit": null,
            "grid_auto_columns": null,
            "margin": null,
            "display": null,
            "left": null
          }
        },
        "285655ed2e5d47328e1b59c1f522f761": {
          "model_module": "@jupyter-widgets/controls",
          "model_name": "DescriptionStyleModel",
          "state": {
            "_view_name": "StyleView",
            "_model_name": "DescriptionStyleModel",
            "description_width": "",
            "_view_module": "@jupyter-widgets/base",
            "_model_module_version": "1.5.0",
            "_view_count": null,
            "_view_module_version": "1.2.0",
            "_model_module": "@jupyter-widgets/controls"
          }
        },
        "1b10037e6b7142578cd111a7e365c5b7": {
          "model_module": "@jupyter-widgets/base",
          "model_name": "LayoutModel",
          "state": {
            "_view_name": "LayoutView",
            "grid_template_rows": null,
            "right": null,
            "justify_content": null,
            "_view_module": "@jupyter-widgets/base",
            "overflow": null,
            "_model_module_version": "1.2.0",
            "_view_count": null,
            "flex_flow": null,
            "width": null,
            "min_width": null,
            "border": null,
            "align_items": null,
            "bottom": null,
            "_model_module": "@jupyter-widgets/base",
            "top": null,
            "grid_column": null,
            "overflow_y": null,
            "overflow_x": null,
            "grid_auto_flow": null,
            "grid_area": null,
            "grid_template_columns": null,
            "flex": null,
            "_model_name": "LayoutModel",
            "justify_items": null,
            "grid_row": null,
            "max_height": null,
            "align_content": null,
            "visibility": null,
            "align_self": null,
            "height": null,
            "min_height": null,
            "padding": null,
            "grid_auto_rows": null,
            "grid_gap": null,
            "max_width": null,
            "order": null,
            "_view_module_version": "1.2.0",
            "grid_template_areas": null,
            "object_position": null,
            "object_fit": null,
            "grid_auto_columns": null,
            "margin": null,
            "display": null,
            "left": null
          }
        },
        "5f914dc2b5fb4f9b94a48396b903bb2d": {
          "model_module": "@jupyter-widgets/controls",
          "model_name": "HBoxModel",
          "state": {
            "_view_name": "HBoxView",
            "_dom_classes": [],
            "_model_name": "HBoxModel",
            "_view_module": "@jupyter-widgets/controls",
            "_model_module_version": "1.5.0",
            "_view_count": null,
            "_view_module_version": "1.5.0",
            "box_style": "",
            "layout": "IPY_MODEL_7068b6c73c0d4bf1bcd43c96d84f416d",
            "_model_module": "@jupyter-widgets/controls",
            "children": [
              "IPY_MODEL_eaea1d63797148b783451522e0ae8e48",
              "IPY_MODEL_0dbf5d4efc1841b1aef8165209fc104f"
            ]
          }
        },
        "7068b6c73c0d4bf1bcd43c96d84f416d": {
          "model_module": "@jupyter-widgets/base",
          "model_name": "LayoutModel",
          "state": {
            "_view_name": "LayoutView",
            "grid_template_rows": null,
            "right": null,
            "justify_content": null,
            "_view_module": "@jupyter-widgets/base",
            "overflow": null,
            "_model_module_version": "1.2.0",
            "_view_count": null,
            "flex_flow": null,
            "width": null,
            "min_width": null,
            "border": null,
            "align_items": null,
            "bottom": null,
            "_model_module": "@jupyter-widgets/base",
            "top": null,
            "grid_column": null,
            "overflow_y": null,
            "overflow_x": null,
            "grid_auto_flow": null,
            "grid_area": null,
            "grid_template_columns": null,
            "flex": null,
            "_model_name": "LayoutModel",
            "justify_items": null,
            "grid_row": null,
            "max_height": null,
            "align_content": null,
            "visibility": null,
            "align_self": null,
            "height": null,
            "min_height": null,
            "padding": null,
            "grid_auto_rows": null,
            "grid_gap": null,
            "max_width": null,
            "order": null,
            "_view_module_version": "1.2.0",
            "grid_template_areas": null,
            "object_position": null,
            "object_fit": null,
            "grid_auto_columns": null,
            "margin": null,
            "display": null,
            "left": null
          }
        },
        "eaea1d63797148b783451522e0ae8e48": {
          "model_module": "@jupyter-widgets/controls",
          "model_name": "FloatProgressModel",
          "state": {
            "_view_name": "ProgressView",
            "style": "IPY_MODEL_38690ca1157a462dba84ecc3bdc56c5d",
            "_dom_classes": [],
            "description": "100%",
            "_model_name": "FloatProgressModel",
            "bar_style": "success",
            "max": 27132,
            "_view_module": "@jupyter-widgets/controls",
            "_model_module_version": "1.5.0",
            "value": 27132,
            "_view_count": null,
            "_view_module_version": "1.5.0",
            "orientation": "horizontal",
            "min": 0,
            "description_tooltip": null,
            "_model_module": "@jupyter-widgets/controls",
            "layout": "IPY_MODEL_f78352ae13c94431a8a83119fffc0227"
          }
        },
        "0dbf5d4efc1841b1aef8165209fc104f": {
          "model_module": "@jupyter-widgets/controls",
          "model_name": "HTMLModel",
          "state": {
            "_view_name": "HTMLView",
            "style": "IPY_MODEL_a06ede82fd44405f9cd2aded375f06bb",
            "_dom_classes": [],
            "description": "",
            "_model_name": "HTMLModel",
            "placeholder": "​",
            "_view_module": "@jupyter-widgets/controls",
            "_model_module_version": "1.5.0",
            "value": " 27132/27132 [05:14&lt;00:00, 86.26it/s]",
            "_view_count": null,
            "_view_module_version": "1.5.0",
            "description_tooltip": null,
            "_model_module": "@jupyter-widgets/controls",
            "layout": "IPY_MODEL_adf0b9486bbf4d81a584961976d58a4a"
          }
        },
        "38690ca1157a462dba84ecc3bdc56c5d": {
          "model_module": "@jupyter-widgets/controls",
          "model_name": "ProgressStyleModel",
          "state": {
            "_view_name": "StyleView",
            "_model_name": "ProgressStyleModel",
            "description_width": "initial",
            "_view_module": "@jupyter-widgets/base",
            "_model_module_version": "1.5.0",
            "_view_count": null,
            "_view_module_version": "1.2.0",
            "bar_color": null,
            "_model_module": "@jupyter-widgets/controls"
          }
        },
        "f78352ae13c94431a8a83119fffc0227": {
          "model_module": "@jupyter-widgets/base",
          "model_name": "LayoutModel",
          "state": {
            "_view_name": "LayoutView",
            "grid_template_rows": null,
            "right": null,
            "justify_content": null,
            "_view_module": "@jupyter-widgets/base",
            "overflow": null,
            "_model_module_version": "1.2.0",
            "_view_count": null,
            "flex_flow": null,
            "width": null,
            "min_width": null,
            "border": null,
            "align_items": null,
            "bottom": null,
            "_model_module": "@jupyter-widgets/base",
            "top": null,
            "grid_column": null,
            "overflow_y": null,
            "overflow_x": null,
            "grid_auto_flow": null,
            "grid_area": null,
            "grid_template_columns": null,
            "flex": null,
            "_model_name": "LayoutModel",
            "justify_items": null,
            "grid_row": null,
            "max_height": null,
            "align_content": null,
            "visibility": null,
            "align_self": null,
            "height": null,
            "min_height": null,
            "padding": null,
            "grid_auto_rows": null,
            "grid_gap": null,
            "max_width": null,
            "order": null,
            "_view_module_version": "1.2.0",
            "grid_template_areas": null,
            "object_position": null,
            "object_fit": null,
            "grid_auto_columns": null,
            "margin": null,
            "display": null,
            "left": null
          }
        },
        "a06ede82fd44405f9cd2aded375f06bb": {
          "model_module": "@jupyter-widgets/controls",
          "model_name": "DescriptionStyleModel",
          "state": {
            "_view_name": "StyleView",
            "_model_name": "DescriptionStyleModel",
            "description_width": "",
            "_view_module": "@jupyter-widgets/base",
            "_model_module_version": "1.5.0",
            "_view_count": null,
            "_view_module_version": "1.2.0",
            "_model_module": "@jupyter-widgets/controls"
          }
        },
        "adf0b9486bbf4d81a584961976d58a4a": {
          "model_module": "@jupyter-widgets/base",
          "model_name": "LayoutModel",
          "state": {
            "_view_name": "LayoutView",
            "grid_template_rows": null,
            "right": null,
            "justify_content": null,
            "_view_module": "@jupyter-widgets/base",
            "overflow": null,
            "_model_module_version": "1.2.0",
            "_view_count": null,
            "flex_flow": null,
            "width": null,
            "min_width": null,
            "border": null,
            "align_items": null,
            "bottom": null,
            "_model_module": "@jupyter-widgets/base",
            "top": null,
            "grid_column": null,
            "overflow_y": null,
            "overflow_x": null,
            "grid_auto_flow": null,
            "grid_area": null,
            "grid_template_columns": null,
            "flex": null,
            "_model_name": "LayoutModel",
            "justify_items": null,
            "grid_row": null,
            "max_height": null,
            "align_content": null,
            "visibility": null,
            "align_self": null,
            "height": null,
            "min_height": null,
            "padding": null,
            "grid_auto_rows": null,
            "grid_gap": null,
            "max_width": null,
            "order": null,
            "_view_module_version": "1.2.0",
            "grid_template_areas": null,
            "object_position": null,
            "object_fit": null,
            "grid_auto_columns": null,
            "margin": null,
            "display": null,
            "left": null
          }
        },
        "6e7667c6ba86427a9ccbb2c7f4d5e089": {
          "model_module": "@jupyter-widgets/controls",
          "model_name": "HBoxModel",
          "state": {
            "_view_name": "HBoxView",
            "_dom_classes": [],
            "_model_name": "HBoxModel",
            "_view_module": "@jupyter-widgets/controls",
            "_model_module_version": "1.5.0",
            "_view_count": null,
            "_view_module_version": "1.5.0",
            "box_style": "",
            "layout": "IPY_MODEL_762f940b7cfe4318a9fa6f486951a07a",
            "_model_module": "@jupyter-widgets/controls",
            "children": [
              "IPY_MODEL_7441e057d3534ff3a138aded2739e46e",
              "IPY_MODEL_305bffac1acb4b3e8abed4fd413e7c3f"
            ]
          }
        },
        "762f940b7cfe4318a9fa6f486951a07a": {
          "model_module": "@jupyter-widgets/base",
          "model_name": "LayoutModel",
          "state": {
            "_view_name": "LayoutView",
            "grid_template_rows": null,
            "right": null,
            "justify_content": null,
            "_view_module": "@jupyter-widgets/base",
            "overflow": null,
            "_model_module_version": "1.2.0",
            "_view_count": null,
            "flex_flow": null,
            "width": null,
            "min_width": null,
            "border": null,
            "align_items": null,
            "bottom": null,
            "_model_module": "@jupyter-widgets/base",
            "top": null,
            "grid_column": null,
            "overflow_y": null,
            "overflow_x": null,
            "grid_auto_flow": null,
            "grid_area": null,
            "grid_template_columns": null,
            "flex": null,
            "_model_name": "LayoutModel",
            "justify_items": null,
            "grid_row": null,
            "max_height": null,
            "align_content": null,
            "visibility": null,
            "align_self": null,
            "height": null,
            "min_height": null,
            "padding": null,
            "grid_auto_rows": null,
            "grid_gap": null,
            "max_width": null,
            "order": null,
            "_view_module_version": "1.2.0",
            "grid_template_areas": null,
            "object_position": null,
            "object_fit": null,
            "grid_auto_columns": null,
            "margin": null,
            "display": null,
            "left": null
          }
        },
        "7441e057d3534ff3a138aded2739e46e": {
          "model_module": "@jupyter-widgets/controls",
          "model_name": "FloatProgressModel",
          "state": {
            "_view_name": "ProgressView",
            "style": "IPY_MODEL_cae79a634a914a34920bc9845cb54997",
            "_dom_classes": [],
            "description": "100%",
            "_model_name": "FloatProgressModel",
            "bar_style": "success",
            "max": 6783,
            "_view_module": "@jupyter-widgets/controls",
            "_model_module_version": "1.5.0",
            "value": 6783,
            "_view_count": null,
            "_view_module_version": "1.5.0",
            "orientation": "horizontal",
            "min": 0,
            "description_tooltip": null,
            "_model_module": "@jupyter-widgets/controls",
            "layout": "IPY_MODEL_a3f2fc48489a45fe99d63a277f1a27c6"
          }
        },
        "305bffac1acb4b3e8abed4fd413e7c3f": {
          "model_module": "@jupyter-widgets/controls",
          "model_name": "HTMLModel",
          "state": {
            "_view_name": "HTMLView",
            "style": "IPY_MODEL_bb3d7dd541544c4d90e4dacd657e2588",
            "_dom_classes": [],
            "description": "",
            "_model_name": "HTMLModel",
            "placeholder": "​",
            "_view_module": "@jupyter-widgets/controls",
            "_model_module_version": "1.5.0",
            "value": " 6783/6783 [00:05&lt;00:00, 1310.58it/s]",
            "_view_count": null,
            "_view_module_version": "1.5.0",
            "description_tooltip": null,
            "_model_module": "@jupyter-widgets/controls",
            "layout": "IPY_MODEL_cf0ea693b8da4cf9b886e5732f2becff"
          }
        },
        "cae79a634a914a34920bc9845cb54997": {
          "model_module": "@jupyter-widgets/controls",
          "model_name": "ProgressStyleModel",
          "state": {
            "_view_name": "StyleView",
            "_model_name": "ProgressStyleModel",
            "description_width": "initial",
            "_view_module": "@jupyter-widgets/base",
            "_model_module_version": "1.5.0",
            "_view_count": null,
            "_view_module_version": "1.2.0",
            "bar_color": null,
            "_model_module": "@jupyter-widgets/controls"
          }
        },
        "a3f2fc48489a45fe99d63a277f1a27c6": {
          "model_module": "@jupyter-widgets/base",
          "model_name": "LayoutModel",
          "state": {
            "_view_name": "LayoutView",
            "grid_template_rows": null,
            "right": null,
            "justify_content": null,
            "_view_module": "@jupyter-widgets/base",
            "overflow": null,
            "_model_module_version": "1.2.0",
            "_view_count": null,
            "flex_flow": null,
            "width": null,
            "min_width": null,
            "border": null,
            "align_items": null,
            "bottom": null,
            "_model_module": "@jupyter-widgets/base",
            "top": null,
            "grid_column": null,
            "overflow_y": null,
            "overflow_x": null,
            "grid_auto_flow": null,
            "grid_area": null,
            "grid_template_columns": null,
            "flex": null,
            "_model_name": "LayoutModel",
            "justify_items": null,
            "grid_row": null,
            "max_height": null,
            "align_content": null,
            "visibility": null,
            "align_self": null,
            "height": null,
            "min_height": null,
            "padding": null,
            "grid_auto_rows": null,
            "grid_gap": null,
            "max_width": null,
            "order": null,
            "_view_module_version": "1.2.0",
            "grid_template_areas": null,
            "object_position": null,
            "object_fit": null,
            "grid_auto_columns": null,
            "margin": null,
            "display": null,
            "left": null
          }
        },
        "bb3d7dd541544c4d90e4dacd657e2588": {
          "model_module": "@jupyter-widgets/controls",
          "model_name": "DescriptionStyleModel",
          "state": {
            "_view_name": "StyleView",
            "_model_name": "DescriptionStyleModel",
            "description_width": "",
            "_view_module": "@jupyter-widgets/base",
            "_model_module_version": "1.5.0",
            "_view_count": null,
            "_view_module_version": "1.2.0",
            "_model_module": "@jupyter-widgets/controls"
          }
        },
        "cf0ea693b8da4cf9b886e5732f2becff": {
          "model_module": "@jupyter-widgets/base",
          "model_name": "LayoutModel",
          "state": {
            "_view_name": "LayoutView",
            "grid_template_rows": null,
            "right": null,
            "justify_content": null,
            "_view_module": "@jupyter-widgets/base",
            "overflow": null,
            "_model_module_version": "1.2.0",
            "_view_count": null,
            "flex_flow": null,
            "width": null,
            "min_width": null,
            "border": null,
            "align_items": null,
            "bottom": null,
            "_model_module": "@jupyter-widgets/base",
            "top": null,
            "grid_column": null,
            "overflow_y": null,
            "overflow_x": null,
            "grid_auto_flow": null,
            "grid_area": null,
            "grid_template_columns": null,
            "flex": null,
            "_model_name": "LayoutModel",
            "justify_items": null,
            "grid_row": null,
            "max_height": null,
            "align_content": null,
            "visibility": null,
            "align_self": null,
            "height": null,
            "min_height": null,
            "padding": null,
            "grid_auto_rows": null,
            "grid_gap": null,
            "max_width": null,
            "order": null,
            "_view_module_version": "1.2.0",
            "grid_template_areas": null,
            "object_position": null,
            "object_fit": null,
            "grid_auto_columns": null,
            "margin": null,
            "display": null,
            "left": null
          }
        },
        "dd2ba9db1aa544e9b84e37359557b827": {
          "model_module": "@jupyter-widgets/controls",
          "model_name": "HBoxModel",
          "state": {
            "_view_name": "HBoxView",
            "_dom_classes": [],
            "_model_name": "HBoxModel",
            "_view_module": "@jupyter-widgets/controls",
            "_model_module_version": "1.5.0",
            "_view_count": null,
            "_view_module_version": "1.5.0",
            "box_style": "",
            "layout": "IPY_MODEL_521412328eb9403fa1eae29b9af877dc",
            "_model_module": "@jupyter-widgets/controls",
            "children": [
              "IPY_MODEL_995c8c1460ab46bb9c3847adf101fb5d",
              "IPY_MODEL_454a4fcd18f74a67bba0ec7b67c01b1b"
            ]
          }
        },
        "521412328eb9403fa1eae29b9af877dc": {
          "model_module": "@jupyter-widgets/base",
          "model_name": "LayoutModel",
          "state": {
            "_view_name": "LayoutView",
            "grid_template_rows": null,
            "right": null,
            "justify_content": null,
            "_view_module": "@jupyter-widgets/base",
            "overflow": null,
            "_model_module_version": "1.2.0",
            "_view_count": null,
            "flex_flow": null,
            "width": null,
            "min_width": null,
            "border": null,
            "align_items": null,
            "bottom": null,
            "_model_module": "@jupyter-widgets/base",
            "top": null,
            "grid_column": null,
            "overflow_y": null,
            "overflow_x": null,
            "grid_auto_flow": null,
            "grid_area": null,
            "grid_template_columns": null,
            "flex": null,
            "_model_name": "LayoutModel",
            "justify_items": null,
            "grid_row": null,
            "max_height": null,
            "align_content": null,
            "visibility": null,
            "align_self": null,
            "height": null,
            "min_height": null,
            "padding": null,
            "grid_auto_rows": null,
            "grid_gap": null,
            "max_width": null,
            "order": null,
            "_view_module_version": "1.2.0",
            "grid_template_areas": null,
            "object_position": null,
            "object_fit": null,
            "grid_auto_columns": null,
            "margin": null,
            "display": null,
            "left": null
          }
        },
        "995c8c1460ab46bb9c3847adf101fb5d": {
          "model_module": "@jupyter-widgets/controls",
          "model_name": "FloatProgressModel",
          "state": {
            "_view_name": "ProgressView",
            "style": "IPY_MODEL_017278fe1f084a79b2fe1c27b50546f0",
            "_dom_classes": [],
            "description": "100%",
            "_model_name": "FloatProgressModel",
            "bar_style": "success",
            "max": 27132,
            "_view_module": "@jupyter-widgets/controls",
            "_model_module_version": "1.5.0",
            "value": 27132,
            "_view_count": null,
            "_view_module_version": "1.5.0",
            "orientation": "horizontal",
            "min": 0,
            "description_tooltip": null,
            "_model_module": "@jupyter-widgets/controls",
            "layout": "IPY_MODEL_c85e267f618d4ee081c4fb1a2c2392ed"
          }
        },
        "454a4fcd18f74a67bba0ec7b67c01b1b": {
          "model_module": "@jupyter-widgets/controls",
          "model_name": "HTMLModel",
          "state": {
            "_view_name": "HTMLView",
            "style": "IPY_MODEL_bd2d63b1aa8640a28d6cbc6ac120771a",
            "_dom_classes": [],
            "description": "",
            "_model_name": "HTMLModel",
            "placeholder": "​",
            "_view_module": "@jupyter-widgets/controls",
            "_model_module_version": "1.5.0",
            "value": " 27132/27132 [00:05&lt;00:00, 5343.21it/s]",
            "_view_count": null,
            "_view_module_version": "1.5.0",
            "description_tooltip": null,
            "_model_module": "@jupyter-widgets/controls",
            "layout": "IPY_MODEL_e0a27f955f714f5eb4cb4472adc774d5"
          }
        },
        "017278fe1f084a79b2fe1c27b50546f0": {
          "model_module": "@jupyter-widgets/controls",
          "model_name": "ProgressStyleModel",
          "state": {
            "_view_name": "StyleView",
            "_model_name": "ProgressStyleModel",
            "description_width": "initial",
            "_view_module": "@jupyter-widgets/base",
            "_model_module_version": "1.5.0",
            "_view_count": null,
            "_view_module_version": "1.2.0",
            "bar_color": null,
            "_model_module": "@jupyter-widgets/controls"
          }
        },
        "c85e267f618d4ee081c4fb1a2c2392ed": {
          "model_module": "@jupyter-widgets/base",
          "model_name": "LayoutModel",
          "state": {
            "_view_name": "LayoutView",
            "grid_template_rows": null,
            "right": null,
            "justify_content": null,
            "_view_module": "@jupyter-widgets/base",
            "overflow": null,
            "_model_module_version": "1.2.0",
            "_view_count": null,
            "flex_flow": null,
            "width": null,
            "min_width": null,
            "border": null,
            "align_items": null,
            "bottom": null,
            "_model_module": "@jupyter-widgets/base",
            "top": null,
            "grid_column": null,
            "overflow_y": null,
            "overflow_x": null,
            "grid_auto_flow": null,
            "grid_area": null,
            "grid_template_columns": null,
            "flex": null,
            "_model_name": "LayoutModel",
            "justify_items": null,
            "grid_row": null,
            "max_height": null,
            "align_content": null,
            "visibility": null,
            "align_self": null,
            "height": null,
            "min_height": null,
            "padding": null,
            "grid_auto_rows": null,
            "grid_gap": null,
            "max_width": null,
            "order": null,
            "_view_module_version": "1.2.0",
            "grid_template_areas": null,
            "object_position": null,
            "object_fit": null,
            "grid_auto_columns": null,
            "margin": null,
            "display": null,
            "left": null
          }
        },
        "bd2d63b1aa8640a28d6cbc6ac120771a": {
          "model_module": "@jupyter-widgets/controls",
          "model_name": "DescriptionStyleModel",
          "state": {
            "_view_name": "StyleView",
            "_model_name": "DescriptionStyleModel",
            "description_width": "",
            "_view_module": "@jupyter-widgets/base",
            "_model_module_version": "1.5.0",
            "_view_count": null,
            "_view_module_version": "1.2.0",
            "_model_module": "@jupyter-widgets/controls"
          }
        },
        "e0a27f955f714f5eb4cb4472adc774d5": {
          "model_module": "@jupyter-widgets/base",
          "model_name": "LayoutModel",
          "state": {
            "_view_name": "LayoutView",
            "grid_template_rows": null,
            "right": null,
            "justify_content": null,
            "_view_module": "@jupyter-widgets/base",
            "overflow": null,
            "_model_module_version": "1.2.0",
            "_view_count": null,
            "flex_flow": null,
            "width": null,
            "min_width": null,
            "border": null,
            "align_items": null,
            "bottom": null,
            "_model_module": "@jupyter-widgets/base",
            "top": null,
            "grid_column": null,
            "overflow_y": null,
            "overflow_x": null,
            "grid_auto_flow": null,
            "grid_area": null,
            "grid_template_columns": null,
            "flex": null,
            "_model_name": "LayoutModel",
            "justify_items": null,
            "grid_row": null,
            "max_height": null,
            "align_content": null,
            "visibility": null,
            "align_self": null,
            "height": null,
            "min_height": null,
            "padding": null,
            "grid_auto_rows": null,
            "grid_gap": null,
            "max_width": null,
            "order": null,
            "_view_module_version": "1.2.0",
            "grid_template_areas": null,
            "object_position": null,
            "object_fit": null,
            "grid_auto_columns": null,
            "margin": null,
            "display": null,
            "left": null
          }
        },
        "58258acb2254493590b44deb662f516a": {
          "model_module": "@jupyter-widgets/controls",
          "model_name": "HBoxModel",
          "state": {
            "_view_name": "HBoxView",
            "_dom_classes": [],
            "_model_name": "HBoxModel",
            "_view_module": "@jupyter-widgets/controls",
            "_model_module_version": "1.5.0",
            "_view_count": null,
            "_view_module_version": "1.5.0",
            "box_style": "",
            "layout": "IPY_MODEL_dca2e54632dc44bc84acc5d937c6305a",
            "_model_module": "@jupyter-widgets/controls",
            "children": [
              "IPY_MODEL_35b47dbea3f94b4c85a403feb381e70e",
              "IPY_MODEL_6eaaaa70de9d4ecbab6b9556a79cb468"
            ]
          }
        },
        "dca2e54632dc44bc84acc5d937c6305a": {
          "model_module": "@jupyter-widgets/base",
          "model_name": "LayoutModel",
          "state": {
            "_view_name": "LayoutView",
            "grid_template_rows": null,
            "right": null,
            "justify_content": null,
            "_view_module": "@jupyter-widgets/base",
            "overflow": null,
            "_model_module_version": "1.2.0",
            "_view_count": null,
            "flex_flow": null,
            "width": null,
            "min_width": null,
            "border": null,
            "align_items": null,
            "bottom": null,
            "_model_module": "@jupyter-widgets/base",
            "top": null,
            "grid_column": null,
            "overflow_y": null,
            "overflow_x": null,
            "grid_auto_flow": null,
            "grid_area": null,
            "grid_template_columns": null,
            "flex": null,
            "_model_name": "LayoutModel",
            "justify_items": null,
            "grid_row": null,
            "max_height": null,
            "align_content": null,
            "visibility": null,
            "align_self": null,
            "height": null,
            "min_height": null,
            "padding": null,
            "grid_auto_rows": null,
            "grid_gap": null,
            "max_width": null,
            "order": null,
            "_view_module_version": "1.2.0",
            "grid_template_areas": null,
            "object_position": null,
            "object_fit": null,
            "grid_auto_columns": null,
            "margin": null,
            "display": null,
            "left": null
          }
        },
        "35b47dbea3f94b4c85a403feb381e70e": {
          "model_module": "@jupyter-widgets/controls",
          "model_name": "FloatProgressModel",
          "state": {
            "_view_name": "ProgressView",
            "style": "IPY_MODEL_74766b22888a4a0985b0a2dfdca83d4d",
            "_dom_classes": [],
            "description": "Downloading: 100%",
            "_model_name": "FloatProgressModel",
            "bar_style": "success",
            "max": 674,
            "_view_module": "@jupyter-widgets/controls",
            "_model_module_version": "1.5.0",
            "value": 674,
            "_view_count": null,
            "_view_module_version": "1.5.0",
            "orientation": "horizontal",
            "min": 0,
            "description_tooltip": null,
            "_model_module": "@jupyter-widgets/controls",
            "layout": "IPY_MODEL_6b5f9b63762e47659839cdbdf6f8fe3c"
          }
        },
        "6eaaaa70de9d4ecbab6b9556a79cb468": {
          "model_module": "@jupyter-widgets/controls",
          "model_name": "HTMLModel",
          "state": {
            "_view_name": "HTMLView",
            "style": "IPY_MODEL_4b7cfeeb08dd4cd48eb4a7dae826b200",
            "_dom_classes": [],
            "description": "",
            "_model_name": "HTMLModel",
            "placeholder": "​",
            "_view_module": "@jupyter-widgets/controls",
            "_model_module_version": "1.5.0",
            "value": " 674/674 [00:03&lt;00:00, 203B/s]",
            "_view_count": null,
            "_view_module_version": "1.5.0",
            "description_tooltip": null,
            "_model_module": "@jupyter-widgets/controls",
            "layout": "IPY_MODEL_d89beb4399cf40f0ad58c67ea38fb038"
          }
        },
        "74766b22888a4a0985b0a2dfdca83d4d": {
          "model_module": "@jupyter-widgets/controls",
          "model_name": "ProgressStyleModel",
          "state": {
            "_view_name": "StyleView",
            "_model_name": "ProgressStyleModel",
            "description_width": "initial",
            "_view_module": "@jupyter-widgets/base",
            "_model_module_version": "1.5.0",
            "_view_count": null,
            "_view_module_version": "1.2.0",
            "bar_color": null,
            "_model_module": "@jupyter-widgets/controls"
          }
        },
        "6b5f9b63762e47659839cdbdf6f8fe3c": {
          "model_module": "@jupyter-widgets/base",
          "model_name": "LayoutModel",
          "state": {
            "_view_name": "LayoutView",
            "grid_template_rows": null,
            "right": null,
            "justify_content": null,
            "_view_module": "@jupyter-widgets/base",
            "overflow": null,
            "_model_module_version": "1.2.0",
            "_view_count": null,
            "flex_flow": null,
            "width": null,
            "min_width": null,
            "border": null,
            "align_items": null,
            "bottom": null,
            "_model_module": "@jupyter-widgets/base",
            "top": null,
            "grid_column": null,
            "overflow_y": null,
            "overflow_x": null,
            "grid_auto_flow": null,
            "grid_area": null,
            "grid_template_columns": null,
            "flex": null,
            "_model_name": "LayoutModel",
            "justify_items": null,
            "grid_row": null,
            "max_height": null,
            "align_content": null,
            "visibility": null,
            "align_self": null,
            "height": null,
            "min_height": null,
            "padding": null,
            "grid_auto_rows": null,
            "grid_gap": null,
            "max_width": null,
            "order": null,
            "_view_module_version": "1.2.0",
            "grid_template_areas": null,
            "object_position": null,
            "object_fit": null,
            "grid_auto_columns": null,
            "margin": null,
            "display": null,
            "left": null
          }
        },
        "4b7cfeeb08dd4cd48eb4a7dae826b200": {
          "model_module": "@jupyter-widgets/controls",
          "model_name": "DescriptionStyleModel",
          "state": {
            "_view_name": "StyleView",
            "_model_name": "DescriptionStyleModel",
            "description_width": "",
            "_view_module": "@jupyter-widgets/base",
            "_model_module_version": "1.5.0",
            "_view_count": null,
            "_view_module_version": "1.2.0",
            "_model_module": "@jupyter-widgets/controls"
          }
        },
        "d89beb4399cf40f0ad58c67ea38fb038": {
          "model_module": "@jupyter-widgets/base",
          "model_name": "LayoutModel",
          "state": {
            "_view_name": "LayoutView",
            "grid_template_rows": null,
            "right": null,
            "justify_content": null,
            "_view_module": "@jupyter-widgets/base",
            "overflow": null,
            "_model_module_version": "1.2.0",
            "_view_count": null,
            "flex_flow": null,
            "width": null,
            "min_width": null,
            "border": null,
            "align_items": null,
            "bottom": null,
            "_model_module": "@jupyter-widgets/base",
            "top": null,
            "grid_column": null,
            "overflow_y": null,
            "overflow_x": null,
            "grid_auto_flow": null,
            "grid_area": null,
            "grid_template_columns": null,
            "flex": null,
            "_model_name": "LayoutModel",
            "justify_items": null,
            "grid_row": null,
            "max_height": null,
            "align_content": null,
            "visibility": null,
            "align_self": null,
            "height": null,
            "min_height": null,
            "padding": null,
            "grid_auto_rows": null,
            "grid_gap": null,
            "max_width": null,
            "order": null,
            "_view_module_version": "1.2.0",
            "grid_template_areas": null,
            "object_position": null,
            "object_fit": null,
            "grid_auto_columns": null,
            "margin": null,
            "display": null,
            "left": null
          }
        },
        "1a5618fe9b324e6d8e595baae92e12ef": {
          "model_module": "@jupyter-widgets/controls",
          "model_name": "HBoxModel",
          "state": {
            "_view_name": "HBoxView",
            "_dom_classes": [],
            "_model_name": "HBoxModel",
            "_view_module": "@jupyter-widgets/controls",
            "_model_module_version": "1.5.0",
            "_view_count": null,
            "_view_module_version": "1.5.0",
            "box_style": "",
            "layout": "IPY_MODEL_5e2db0facf4848bfb96baed370dab2cb",
            "_model_module": "@jupyter-widgets/controls",
            "children": [
              "IPY_MODEL_3c0973748b054574b22e1c9ab8b4eb7c",
              "IPY_MODEL_3ee78c805d76440fb53361205c6590ec"
            ]
          }
        },
        "5e2db0facf4848bfb96baed370dab2cb": {
          "model_module": "@jupyter-widgets/base",
          "model_name": "LayoutModel",
          "state": {
            "_view_name": "LayoutView",
            "grid_template_rows": null,
            "right": null,
            "justify_content": null,
            "_view_module": "@jupyter-widgets/base",
            "overflow": null,
            "_model_module_version": "1.2.0",
            "_view_count": null,
            "flex_flow": null,
            "width": null,
            "min_width": null,
            "border": null,
            "align_items": null,
            "bottom": null,
            "_model_module": "@jupyter-widgets/base",
            "top": null,
            "grid_column": null,
            "overflow_y": null,
            "overflow_x": null,
            "grid_auto_flow": null,
            "grid_area": null,
            "grid_template_columns": null,
            "flex": null,
            "_model_name": "LayoutModel",
            "justify_items": null,
            "grid_row": null,
            "max_height": null,
            "align_content": null,
            "visibility": null,
            "align_self": null,
            "height": null,
            "min_height": null,
            "padding": null,
            "grid_auto_rows": null,
            "grid_gap": null,
            "max_width": null,
            "order": null,
            "_view_module_version": "1.2.0",
            "grid_template_areas": null,
            "object_position": null,
            "object_fit": null,
            "grid_auto_columns": null,
            "margin": null,
            "display": null,
            "left": null
          }
        },
        "3c0973748b054574b22e1c9ab8b4eb7c": {
          "model_module": "@jupyter-widgets/controls",
          "model_name": "FloatProgressModel",
          "state": {
            "_view_name": "ProgressView",
            "style": "IPY_MODEL_1a06af7f3815462581d99b972611a3ac",
            "_dom_classes": [],
            "description": "Downloading: 100%",
            "_model_name": "FloatProgressModel",
            "bar_style": "success",
            "max": 1612610,
            "_view_module": "@jupyter-widgets/controls",
            "_model_module_version": "1.5.0",
            "value": 1612610,
            "_view_count": null,
            "_view_module_version": "1.5.0",
            "orientation": "horizontal",
            "min": 0,
            "description_tooltip": null,
            "_model_module": "@jupyter-widgets/controls",
            "layout": "IPY_MODEL_d49989f729fc47cdbc04abf0b9e73b24"
          }
        },
        "3ee78c805d76440fb53361205c6590ec": {
          "model_module": "@jupyter-widgets/controls",
          "model_name": "HTMLModel",
          "state": {
            "_view_name": "HTMLView",
            "style": "IPY_MODEL_ec6a5003297445889b41c914ed1bd9a5",
            "_dom_classes": [],
            "description": "",
            "_model_name": "HTMLModel",
            "placeholder": "​",
            "_view_module": "@jupyter-widgets/controls",
            "_model_module_version": "1.5.0",
            "value": " 1.61M/1.61M [00:02&lt;00:00, 594kB/s]",
            "_view_count": null,
            "_view_module_version": "1.5.0",
            "description_tooltip": null,
            "_model_module": "@jupyter-widgets/controls",
            "layout": "IPY_MODEL_32e6b609761d4a929305f893782531e9"
          }
        },
        "1a06af7f3815462581d99b972611a3ac": {
          "model_module": "@jupyter-widgets/controls",
          "model_name": "ProgressStyleModel",
          "state": {
            "_view_name": "StyleView",
            "_model_name": "ProgressStyleModel",
            "description_width": "initial",
            "_view_module": "@jupyter-widgets/base",
            "_model_module_version": "1.5.0",
            "_view_count": null,
            "_view_module_version": "1.2.0",
            "bar_color": null,
            "_model_module": "@jupyter-widgets/controls"
          }
        },
        "d49989f729fc47cdbc04abf0b9e73b24": {
          "model_module": "@jupyter-widgets/base",
          "model_name": "LayoutModel",
          "state": {
            "_view_name": "LayoutView",
            "grid_template_rows": null,
            "right": null,
            "justify_content": null,
            "_view_module": "@jupyter-widgets/base",
            "overflow": null,
            "_model_module_version": "1.2.0",
            "_view_count": null,
            "flex_flow": null,
            "width": null,
            "min_width": null,
            "border": null,
            "align_items": null,
            "bottom": null,
            "_model_module": "@jupyter-widgets/base",
            "top": null,
            "grid_column": null,
            "overflow_y": null,
            "overflow_x": null,
            "grid_auto_flow": null,
            "grid_area": null,
            "grid_template_columns": null,
            "flex": null,
            "_model_name": "LayoutModel",
            "justify_items": null,
            "grid_row": null,
            "max_height": null,
            "align_content": null,
            "visibility": null,
            "align_self": null,
            "height": null,
            "min_height": null,
            "padding": null,
            "grid_auto_rows": null,
            "grid_gap": null,
            "max_width": null,
            "order": null,
            "_view_module_version": "1.2.0",
            "grid_template_areas": null,
            "object_position": null,
            "object_fit": null,
            "grid_auto_columns": null,
            "margin": null,
            "display": null,
            "left": null
          }
        },
        "ec6a5003297445889b41c914ed1bd9a5": {
          "model_module": "@jupyter-widgets/controls",
          "model_name": "DescriptionStyleModel",
          "state": {
            "_view_name": "StyleView",
            "_model_name": "DescriptionStyleModel",
            "description_width": "",
            "_view_module": "@jupyter-widgets/base",
            "_model_module_version": "1.5.0",
            "_view_count": null,
            "_view_module_version": "1.2.0",
            "_model_module": "@jupyter-widgets/controls"
          }
        },
        "32e6b609761d4a929305f893782531e9": {
          "model_module": "@jupyter-widgets/base",
          "model_name": "LayoutModel",
          "state": {
            "_view_name": "LayoutView",
            "grid_template_rows": null,
            "right": null,
            "justify_content": null,
            "_view_module": "@jupyter-widgets/base",
            "overflow": null,
            "_model_module_version": "1.2.0",
            "_view_count": null,
            "flex_flow": null,
            "width": null,
            "min_width": null,
            "border": null,
            "align_items": null,
            "bottom": null,
            "_model_module": "@jupyter-widgets/base",
            "top": null,
            "grid_column": null,
            "overflow_y": null,
            "overflow_x": null,
            "grid_auto_flow": null,
            "grid_area": null,
            "grid_template_columns": null,
            "flex": null,
            "_model_name": "LayoutModel",
            "justify_items": null,
            "grid_row": null,
            "max_height": null,
            "align_content": null,
            "visibility": null,
            "align_self": null,
            "height": null,
            "min_height": null,
            "padding": null,
            "grid_auto_rows": null,
            "grid_gap": null,
            "max_width": null,
            "order": null,
            "_view_module_version": "1.2.0",
            "grid_template_areas": null,
            "object_position": null,
            "object_fit": null,
            "grid_auto_columns": null,
            "margin": null,
            "display": null,
            "left": null
          }
        },
        "61dffac98b544c95b125c98047ffc451": {
          "model_module": "@jupyter-widgets/controls",
          "model_name": "HBoxModel",
          "state": {
            "_view_name": "HBoxView",
            "_dom_classes": [],
            "_model_name": "HBoxModel",
            "_view_module": "@jupyter-widgets/controls",
            "_model_module_version": "1.5.0",
            "_view_count": null,
            "_view_module_version": "1.5.0",
            "box_style": "",
            "layout": "IPY_MODEL_fd042fcd991346b598db25f9a1864a0b",
            "_model_module": "@jupyter-widgets/controls",
            "children": [
              "IPY_MODEL_da0399d08f834c4cb4b11907cb9b1040",
              "IPY_MODEL_d92245d3fc5c49f8afa0466c77fc600a"
            ]
          }
        },
        "fd042fcd991346b598db25f9a1864a0b": {
          "model_module": "@jupyter-widgets/base",
          "model_name": "LayoutModel",
          "state": {
            "_view_name": "LayoutView",
            "grid_template_rows": null,
            "right": null,
            "justify_content": null,
            "_view_module": "@jupyter-widgets/base",
            "overflow": null,
            "_model_module_version": "1.2.0",
            "_view_count": null,
            "flex_flow": null,
            "width": null,
            "min_width": null,
            "border": null,
            "align_items": null,
            "bottom": null,
            "_model_module": "@jupyter-widgets/base",
            "top": null,
            "grid_column": null,
            "overflow_y": null,
            "overflow_x": null,
            "grid_auto_flow": null,
            "grid_area": null,
            "grid_template_columns": null,
            "flex": null,
            "_model_name": "LayoutModel",
            "justify_items": null,
            "grid_row": null,
            "max_height": null,
            "align_content": null,
            "visibility": null,
            "align_self": null,
            "height": null,
            "min_height": null,
            "padding": null,
            "grid_auto_rows": null,
            "grid_gap": null,
            "max_width": null,
            "order": null,
            "_view_module_version": "1.2.0",
            "grid_template_areas": null,
            "object_position": null,
            "object_fit": null,
            "grid_auto_columns": null,
            "margin": null,
            "display": null,
            "left": null
          }
        },
        "da0399d08f834c4cb4b11907cb9b1040": {
          "model_module": "@jupyter-widgets/controls",
          "model_name": "FloatProgressModel",
          "state": {
            "_view_name": "ProgressView",
            "style": "IPY_MODEL_e744495adea34c16ae758f8c756d2d4b",
            "_dom_classes": [],
            "description": "Downloading: 100%",
            "_model_name": "FloatProgressModel",
            "bar_style": "success",
            "max": 1270963,
            "_view_module": "@jupyter-widgets/controls",
            "_model_module_version": "1.5.0",
            "value": 1270963,
            "_view_count": null,
            "_view_module_version": "1.5.0",
            "orientation": "horizontal",
            "min": 0,
            "description_tooltip": null,
            "_model_module": "@jupyter-widgets/controls",
            "layout": "IPY_MODEL_e11f8f5cbeb049f5bfc52c14f46ac2d4"
          }
        },
        "d92245d3fc5c49f8afa0466c77fc600a": {
          "model_module": "@jupyter-widgets/controls",
          "model_name": "HTMLModel",
          "state": {
            "_view_name": "HTMLView",
            "style": "IPY_MODEL_908c8c3647104e5abdedf9f1b18b1d47",
            "_dom_classes": [],
            "description": "",
            "_model_name": "HTMLModel",
            "placeholder": "​",
            "_view_module": "@jupyter-widgets/controls",
            "_model_module_version": "1.5.0",
            "value": " 1.27M/1.27M [00:01&lt;00:00, 783kB/s]",
            "_view_count": null,
            "_view_module_version": "1.5.0",
            "description_tooltip": null,
            "_model_module": "@jupyter-widgets/controls",
            "layout": "IPY_MODEL_1dcee69e70f24964a91899894cf4a73a"
          }
        },
        "e744495adea34c16ae758f8c756d2d4b": {
          "model_module": "@jupyter-widgets/controls",
          "model_name": "ProgressStyleModel",
          "state": {
            "_view_name": "StyleView",
            "_model_name": "ProgressStyleModel",
            "description_width": "initial",
            "_view_module": "@jupyter-widgets/base",
            "_model_module_version": "1.5.0",
            "_view_count": null,
            "_view_module_version": "1.2.0",
            "bar_color": null,
            "_model_module": "@jupyter-widgets/controls"
          }
        },
        "e11f8f5cbeb049f5bfc52c14f46ac2d4": {
          "model_module": "@jupyter-widgets/base",
          "model_name": "LayoutModel",
          "state": {
            "_view_name": "LayoutView",
            "grid_template_rows": null,
            "right": null,
            "justify_content": null,
            "_view_module": "@jupyter-widgets/base",
            "overflow": null,
            "_model_module_version": "1.2.0",
            "_view_count": null,
            "flex_flow": null,
            "width": null,
            "min_width": null,
            "border": null,
            "align_items": null,
            "bottom": null,
            "_model_module": "@jupyter-widgets/base",
            "top": null,
            "grid_column": null,
            "overflow_y": null,
            "overflow_x": null,
            "grid_auto_flow": null,
            "grid_area": null,
            "grid_template_columns": null,
            "flex": null,
            "_model_name": "LayoutModel",
            "justify_items": null,
            "grid_row": null,
            "max_height": null,
            "align_content": null,
            "visibility": null,
            "align_self": null,
            "height": null,
            "min_height": null,
            "padding": null,
            "grid_auto_rows": null,
            "grid_gap": null,
            "max_width": null,
            "order": null,
            "_view_module_version": "1.2.0",
            "grid_template_areas": null,
            "object_position": null,
            "object_fit": null,
            "grid_auto_columns": null,
            "margin": null,
            "display": null,
            "left": null
          }
        },
        "908c8c3647104e5abdedf9f1b18b1d47": {
          "model_module": "@jupyter-widgets/controls",
          "model_name": "DescriptionStyleModel",
          "state": {
            "_view_name": "StyleView",
            "_model_name": "DescriptionStyleModel",
            "description_width": "",
            "_view_module": "@jupyter-widgets/base",
            "_model_module_version": "1.5.0",
            "_view_count": null,
            "_view_module_version": "1.2.0",
            "_model_module": "@jupyter-widgets/controls"
          }
        },
        "1dcee69e70f24964a91899894cf4a73a": {
          "model_module": "@jupyter-widgets/base",
          "model_name": "LayoutModel",
          "state": {
            "_view_name": "LayoutView",
            "grid_template_rows": null,
            "right": null,
            "justify_content": null,
            "_view_module": "@jupyter-widgets/base",
            "overflow": null,
            "_model_module_version": "1.2.0",
            "_view_count": null,
            "flex_flow": null,
            "width": null,
            "min_width": null,
            "border": null,
            "align_items": null,
            "bottom": null,
            "_model_module": "@jupyter-widgets/base",
            "top": null,
            "grid_column": null,
            "overflow_y": null,
            "overflow_x": null,
            "grid_auto_flow": null,
            "grid_area": null,
            "grid_template_columns": null,
            "flex": null,
            "_model_name": "LayoutModel",
            "justify_items": null,
            "grid_row": null,
            "max_height": null,
            "align_content": null,
            "visibility": null,
            "align_self": null,
            "height": null,
            "min_height": null,
            "padding": null,
            "grid_auto_rows": null,
            "grid_gap": null,
            "max_width": null,
            "order": null,
            "_view_module_version": "1.2.0",
            "grid_template_areas": null,
            "object_position": null,
            "object_fit": null,
            "grid_auto_columns": null,
            "margin": null,
            "display": null,
            "left": null
          }
        },
        "37607772868a4ce78dcb4d57aa0524af": {
          "model_module": "@jupyter-widgets/controls",
          "model_name": "HBoxModel",
          "state": {
            "_view_name": "HBoxView",
            "_dom_classes": [],
            "_model_name": "HBoxModel",
            "_view_module": "@jupyter-widgets/controls",
            "_model_module_version": "1.5.0",
            "_view_count": null,
            "_view_module_version": "1.5.0",
            "box_style": "",
            "layout": "IPY_MODEL_2ff62eadebbf4a5fa0db70b3a156b8ae",
            "_model_module": "@jupyter-widgets/controls",
            "children": [
              "IPY_MODEL_1f8f86a418094219ab6d1d61f4a060f7",
              "IPY_MODEL_e9dc19e67de642bf917f2507b81403bc"
            ]
          }
        },
        "2ff62eadebbf4a5fa0db70b3a156b8ae": {
          "model_module": "@jupyter-widgets/base",
          "model_name": "LayoutModel",
          "state": {
            "_view_name": "LayoutView",
            "grid_template_rows": null,
            "right": null,
            "justify_content": null,
            "_view_module": "@jupyter-widgets/base",
            "overflow": null,
            "_model_module_version": "1.2.0",
            "_view_count": null,
            "flex_flow": null,
            "width": null,
            "min_width": null,
            "border": null,
            "align_items": null,
            "bottom": null,
            "_model_module": "@jupyter-widgets/base",
            "top": null,
            "grid_column": null,
            "overflow_y": null,
            "overflow_x": null,
            "grid_auto_flow": null,
            "grid_area": null,
            "grid_template_columns": null,
            "flex": null,
            "_model_name": "LayoutModel",
            "justify_items": null,
            "grid_row": null,
            "max_height": null,
            "align_content": null,
            "visibility": null,
            "align_self": null,
            "height": null,
            "min_height": null,
            "padding": null,
            "grid_auto_rows": null,
            "grid_gap": null,
            "max_width": null,
            "order": null,
            "_view_module_version": "1.2.0",
            "grid_template_areas": null,
            "object_position": null,
            "object_fit": null,
            "grid_auto_columns": null,
            "margin": null,
            "display": null,
            "left": null
          }
        },
        "1f8f86a418094219ab6d1d61f4a060f7": {
          "model_module": "@jupyter-widgets/controls",
          "model_name": "FloatProgressModel",
          "state": {
            "_view_name": "ProgressView",
            "style": "IPY_MODEL_7b83e741acbc49e7b9b2fced6ab4578b",
            "_dom_classes": [],
            "description": "Downloading: 100%",
            "_model_name": "FloatProgressModel",
            "bar_style": "success",
            "max": 1730074771,
            "_view_module": "@jupyter-widgets/controls",
            "_model_module_version": "1.5.0",
            "value": 1730074771,
            "_view_count": null,
            "_view_module_version": "1.5.0",
            "orientation": "horizontal",
            "min": 0,
            "description_tooltip": null,
            "_model_module": "@jupyter-widgets/controls",
            "layout": "IPY_MODEL_52de75ca97fd4acfbbde799dbc3e68fa"
          }
        },
        "e9dc19e67de642bf917f2507b81403bc": {
          "model_module": "@jupyter-widgets/controls",
          "model_name": "HTMLModel",
          "state": {
            "_view_name": "HTMLView",
            "style": "IPY_MODEL_6c936f529572424bbc42a3f9be1b4f24",
            "_dom_classes": [],
            "description": "",
            "_model_name": "HTMLModel",
            "placeholder": "​",
            "_view_module": "@jupyter-widgets/controls",
            "_model_module_version": "1.5.0",
            "value": " 1.73G/1.73G [01:00&lt;00:00, 28.7MB/s]",
            "_view_count": null,
            "_view_module_version": "1.5.0",
            "description_tooltip": null,
            "_model_module": "@jupyter-widgets/controls",
            "layout": "IPY_MODEL_25d655b537934784adc9d0160b62a652"
          }
        },
        "7b83e741acbc49e7b9b2fced6ab4578b": {
          "model_module": "@jupyter-widgets/controls",
          "model_name": "ProgressStyleModel",
          "state": {
            "_view_name": "StyleView",
            "_model_name": "ProgressStyleModel",
            "description_width": "initial",
            "_view_module": "@jupyter-widgets/base",
            "_model_module_version": "1.5.0",
            "_view_count": null,
            "_view_module_version": "1.2.0",
            "bar_color": null,
            "_model_module": "@jupyter-widgets/controls"
          }
        },
        "52de75ca97fd4acfbbde799dbc3e68fa": {
          "model_module": "@jupyter-widgets/base",
          "model_name": "LayoutModel",
          "state": {
            "_view_name": "LayoutView",
            "grid_template_rows": null,
            "right": null,
            "justify_content": null,
            "_view_module": "@jupyter-widgets/base",
            "overflow": null,
            "_model_module_version": "1.2.0",
            "_view_count": null,
            "flex_flow": null,
            "width": null,
            "min_width": null,
            "border": null,
            "align_items": null,
            "bottom": null,
            "_model_module": "@jupyter-widgets/base",
            "top": null,
            "grid_column": null,
            "overflow_y": null,
            "overflow_x": null,
            "grid_auto_flow": null,
            "grid_area": null,
            "grid_template_columns": null,
            "flex": null,
            "_model_name": "LayoutModel",
            "justify_items": null,
            "grid_row": null,
            "max_height": null,
            "align_content": null,
            "visibility": null,
            "align_self": null,
            "height": null,
            "min_height": null,
            "padding": null,
            "grid_auto_rows": null,
            "grid_gap": null,
            "max_width": null,
            "order": null,
            "_view_module_version": "1.2.0",
            "grid_template_areas": null,
            "object_position": null,
            "object_fit": null,
            "grid_auto_columns": null,
            "margin": null,
            "display": null,
            "left": null
          }
        },
        "6c936f529572424bbc42a3f9be1b4f24": {
          "model_module": "@jupyter-widgets/controls",
          "model_name": "DescriptionStyleModel",
          "state": {
            "_view_name": "StyleView",
            "_model_name": "DescriptionStyleModel",
            "description_width": "",
            "_view_module": "@jupyter-widgets/base",
            "_model_module_version": "1.5.0",
            "_view_count": null,
            "_view_module_version": "1.2.0",
            "_model_module": "@jupyter-widgets/controls"
          }
        },
        "25d655b537934784adc9d0160b62a652": {
          "model_module": "@jupyter-widgets/base",
          "model_name": "LayoutModel",
          "state": {
            "_view_name": "LayoutView",
            "grid_template_rows": null,
            "right": null,
            "justify_content": null,
            "_view_module": "@jupyter-widgets/base",
            "overflow": null,
            "_model_module_version": "1.2.0",
            "_view_count": null,
            "flex_flow": null,
            "width": null,
            "min_width": null,
            "border": null,
            "align_items": null,
            "bottom": null,
            "_model_module": "@jupyter-widgets/base",
            "top": null,
            "grid_column": null,
            "overflow_y": null,
            "overflow_x": null,
            "grid_auto_flow": null,
            "grid_area": null,
            "grid_template_columns": null,
            "flex": null,
            "_model_name": "LayoutModel",
            "justify_items": null,
            "grid_row": null,
            "max_height": null,
            "align_content": null,
            "visibility": null,
            "align_self": null,
            "height": null,
            "min_height": null,
            "padding": null,
            "grid_auto_rows": null,
            "grid_gap": null,
            "max_width": null,
            "order": null,
            "_view_module_version": "1.2.0",
            "grid_template_areas": null,
            "object_position": null,
            "object_fit": null,
            "grid_auto_columns": null,
            "margin": null,
            "display": null,
            "left": null
          }
        },
        "7c2393037d0641cf83323c7700491ffa": {
          "model_module": "@jupyter-widgets/controls",
          "model_name": "HBoxModel",
          "state": {
            "_view_name": "HBoxView",
            "_dom_classes": [],
            "_model_name": "HBoxModel",
            "_view_module": "@jupyter-widgets/controls",
            "_model_module_version": "1.5.0",
            "_view_count": null,
            "_view_module_version": "1.5.0",
            "box_style": "",
            "layout": "IPY_MODEL_3e7b042a86924025a9b7a64b7ceb6740",
            "_model_module": "@jupyter-widgets/controls",
            "children": [
              "IPY_MODEL_f0e056fe2964468bb1423e9a2757fea0",
              "IPY_MODEL_f351ed4287f7480c9a35e740fbd0b720"
            ]
          }
        },
        "3e7b042a86924025a9b7a64b7ceb6740": {
          "model_module": "@jupyter-widgets/base",
          "model_name": "LayoutModel",
          "state": {
            "_view_name": "LayoutView",
            "grid_template_rows": null,
            "right": null,
            "justify_content": null,
            "_view_module": "@jupyter-widgets/base",
            "overflow": null,
            "_model_module_version": "1.2.0",
            "_view_count": null,
            "flex_flow": null,
            "width": null,
            "min_width": null,
            "border": null,
            "align_items": null,
            "bottom": null,
            "_model_module": "@jupyter-widgets/base",
            "top": null,
            "grid_column": null,
            "overflow_y": null,
            "overflow_x": null,
            "grid_auto_flow": null,
            "grid_area": null,
            "grid_template_columns": null,
            "flex": null,
            "_model_name": "LayoutModel",
            "justify_items": null,
            "grid_row": null,
            "max_height": null,
            "align_content": null,
            "visibility": null,
            "align_self": null,
            "height": null,
            "min_height": null,
            "padding": null,
            "grid_auto_rows": null,
            "grid_gap": null,
            "max_width": null,
            "order": null,
            "_view_module_version": "1.2.0",
            "grid_template_areas": null,
            "object_position": null,
            "object_fit": null,
            "grid_auto_columns": null,
            "margin": null,
            "display": null,
            "left": null
          }
        },
        "f0e056fe2964468bb1423e9a2757fea0": {
          "model_module": "@jupyter-widgets/controls",
          "model_name": "FloatProgressModel",
          "state": {
            "_view_name": "ProgressView",
            "style": "IPY_MODEL_de016fe275414155994fea36d858aaf1",
            "_dom_classes": [],
            "description": "100%",
            "_model_name": "FloatProgressModel",
            "bar_style": "success",
            "max": 4,
            "_view_module": "@jupyter-widgets/controls",
            "_model_module_version": "1.5.0",
            "value": 4,
            "_view_count": null,
            "_view_module_version": "1.5.0",
            "orientation": "horizontal",
            "min": 0,
            "description_tooltip": null,
            "_model_module": "@jupyter-widgets/controls",
            "layout": "IPY_MODEL_afe2f29d0ed84667a76bde1dfb8e01f3"
          }
        },
        "f351ed4287f7480c9a35e740fbd0b720": {
          "model_module": "@jupyter-widgets/controls",
          "model_name": "HTMLModel",
          "state": {
            "_view_name": "HTMLView",
            "style": "IPY_MODEL_650a156a712f4643a1dd0cf509e90de4",
            "_dom_classes": [],
            "description": "",
            "_model_name": "HTMLModel",
            "placeholder": "​",
            "_view_module": "@jupyter-widgets/controls",
            "_model_module_version": "1.5.0",
            "value": " 4/4 [6:39:43&lt;00:00, 5995.84s/it]",
            "_view_count": null,
            "_view_module_version": "1.5.0",
            "description_tooltip": null,
            "_model_module": "@jupyter-widgets/controls",
            "layout": "IPY_MODEL_e3413d1d435a43b78c3370a3e6dba7ab"
          }
        },
        "de016fe275414155994fea36d858aaf1": {
          "model_module": "@jupyter-widgets/controls",
          "model_name": "ProgressStyleModel",
          "state": {
            "_view_name": "StyleView",
            "_model_name": "ProgressStyleModel",
            "description_width": "initial",
            "_view_module": "@jupyter-widgets/base",
            "_model_module_version": "1.5.0",
            "_view_count": null,
            "_view_module_version": "1.2.0",
            "bar_color": null,
            "_model_module": "@jupyter-widgets/controls"
          }
        },
        "afe2f29d0ed84667a76bde1dfb8e01f3": {
          "model_module": "@jupyter-widgets/base",
          "model_name": "LayoutModel",
          "state": {
            "_view_name": "LayoutView",
            "grid_template_rows": null,
            "right": null,
            "justify_content": null,
            "_view_module": "@jupyter-widgets/base",
            "overflow": null,
            "_model_module_version": "1.2.0",
            "_view_count": null,
            "flex_flow": null,
            "width": null,
            "min_width": null,
            "border": null,
            "align_items": null,
            "bottom": null,
            "_model_module": "@jupyter-widgets/base",
            "top": null,
            "grid_column": null,
            "overflow_y": null,
            "overflow_x": null,
            "grid_auto_flow": null,
            "grid_area": null,
            "grid_template_columns": null,
            "flex": null,
            "_model_name": "LayoutModel",
            "justify_items": null,
            "grid_row": null,
            "max_height": null,
            "align_content": null,
            "visibility": null,
            "align_self": null,
            "height": null,
            "min_height": null,
            "padding": null,
            "grid_auto_rows": null,
            "grid_gap": null,
            "max_width": null,
            "order": null,
            "_view_module_version": "1.2.0",
            "grid_template_areas": null,
            "object_position": null,
            "object_fit": null,
            "grid_auto_columns": null,
            "margin": null,
            "display": null,
            "left": null
          }
        },
        "650a156a712f4643a1dd0cf509e90de4": {
          "model_module": "@jupyter-widgets/controls",
          "model_name": "DescriptionStyleModel",
          "state": {
            "_view_name": "StyleView",
            "_model_name": "DescriptionStyleModel",
            "description_width": "",
            "_view_module": "@jupyter-widgets/base",
            "_model_module_version": "1.5.0",
            "_view_count": null,
            "_view_module_version": "1.2.0",
            "_model_module": "@jupyter-widgets/controls"
          }
        },
        "e3413d1d435a43b78c3370a3e6dba7ab": {
          "model_module": "@jupyter-widgets/base",
          "model_name": "LayoutModel",
          "state": {
            "_view_name": "LayoutView",
            "grid_template_rows": null,
            "right": null,
            "justify_content": null,
            "_view_module": "@jupyter-widgets/base",
            "overflow": null,
            "_model_module_version": "1.2.0",
            "_view_count": null,
            "flex_flow": null,
            "width": null,
            "min_width": null,
            "border": null,
            "align_items": null,
            "bottom": null,
            "_model_module": "@jupyter-widgets/base",
            "top": null,
            "grid_column": null,
            "overflow_y": null,
            "overflow_x": null,
            "grid_auto_flow": null,
            "grid_area": null,
            "grid_template_columns": null,
            "flex": null,
            "_model_name": "LayoutModel",
            "justify_items": null,
            "grid_row": null,
            "max_height": null,
            "align_content": null,
            "visibility": null,
            "align_self": null,
            "height": null,
            "min_height": null,
            "padding": null,
            "grid_auto_rows": null,
            "grid_gap": null,
            "max_width": null,
            "order": null,
            "_view_module_version": "1.2.0",
            "grid_template_areas": null,
            "object_position": null,
            "object_fit": null,
            "grid_auto_columns": null,
            "margin": null,
            "display": null,
            "left": null
          }
        },
        "9a8ce906a00d4f6db0112931d70b9a69": {
          "model_module": "@jupyter-widgets/controls",
          "model_name": "HBoxModel",
          "state": {
            "_view_name": "HBoxView",
            "_dom_classes": [],
            "_model_name": "HBoxModel",
            "_view_module": "@jupyter-widgets/controls",
            "_model_module_version": "1.5.0",
            "_view_count": null,
            "_view_module_version": "1.5.0",
            "box_style": "",
            "layout": "IPY_MODEL_0634a0eb3b094dbfa03ca84bcf04c7fc",
            "_model_module": "@jupyter-widgets/controls",
            "children": [
              "IPY_MODEL_a09119f42acf4910a01bd633a55efe5c",
              "IPY_MODEL_428a0c3008624cbda496ef27d67a39f9"
            ]
          }
        },
        "0634a0eb3b094dbfa03ca84bcf04c7fc": {
          "model_module": "@jupyter-widgets/base",
          "model_name": "LayoutModel",
          "state": {
            "_view_name": "LayoutView",
            "grid_template_rows": null,
            "right": null,
            "justify_content": null,
            "_view_module": "@jupyter-widgets/base",
            "overflow": null,
            "_model_module_version": "1.2.0",
            "_view_count": null,
            "flex_flow": null,
            "width": null,
            "min_width": null,
            "border": null,
            "align_items": null,
            "bottom": null,
            "_model_module": "@jupyter-widgets/base",
            "top": null,
            "grid_column": null,
            "overflow_y": null,
            "overflow_x": null,
            "grid_auto_flow": null,
            "grid_area": null,
            "grid_template_columns": null,
            "flex": null,
            "_model_name": "LayoutModel",
            "justify_items": null,
            "grid_row": null,
            "max_height": null,
            "align_content": null,
            "visibility": null,
            "align_self": null,
            "height": null,
            "min_height": null,
            "padding": null,
            "grid_auto_rows": null,
            "grid_gap": null,
            "max_width": null,
            "order": null,
            "_view_module_version": "1.2.0",
            "grid_template_areas": null,
            "object_position": null,
            "object_fit": null,
            "grid_auto_columns": null,
            "margin": null,
            "display": null,
            "left": null
          }
        },
        "a09119f42acf4910a01bd633a55efe5c": {
          "model_module": "@jupyter-widgets/controls",
          "model_name": "FloatProgressModel",
          "state": {
            "_view_name": "ProgressView",
            "style": "IPY_MODEL_7a38ea4fe5584fc7b7ed0c6a0095bfda",
            "_dom_classes": [],
            "description": "100%",
            "_model_name": "FloatProgressModel",
            "bar_style": "success",
            "max": 3392,
            "_view_module": "@jupyter-widgets/controls",
            "_model_module_version": "1.5.0",
            "value": 3392,
            "_view_count": null,
            "_view_module_version": "1.5.0",
            "orientation": "horizontal",
            "min": 0,
            "description_tooltip": null,
            "_model_module": "@jupyter-widgets/controls",
            "layout": "IPY_MODEL_5c6c2c01ca734556bc53ad01a64ef973"
          }
        },
        "428a0c3008624cbda496ef27d67a39f9": {
          "model_module": "@jupyter-widgets/controls",
          "model_name": "HTMLModel",
          "state": {
            "_view_name": "HTMLView",
            "style": "IPY_MODEL_1e5223225d4d4fda8425fc3cb617935f",
            "_dom_classes": [],
            "description": "",
            "_model_name": "HTMLModel",
            "placeholder": "​",
            "_view_module": "@jupyter-widgets/controls",
            "_model_module_version": "1.5.0",
            "value": " 3392/3392 [1:33:51&lt;00:00,  1.66s/it]",
            "_view_count": null,
            "_view_module_version": "1.5.0",
            "description_tooltip": null,
            "_model_module": "@jupyter-widgets/controls",
            "layout": "IPY_MODEL_cd698a123b57497da2652fc47e4efd1f"
          }
        },
        "7a38ea4fe5584fc7b7ed0c6a0095bfda": {
          "model_module": "@jupyter-widgets/controls",
          "model_name": "ProgressStyleModel",
          "state": {
            "_view_name": "StyleView",
            "_model_name": "ProgressStyleModel",
            "description_width": "initial",
            "_view_module": "@jupyter-widgets/base",
            "_model_module_version": "1.5.0",
            "_view_count": null,
            "_view_module_version": "1.2.0",
            "bar_color": null,
            "_model_module": "@jupyter-widgets/controls"
          }
        },
        "5c6c2c01ca734556bc53ad01a64ef973": {
          "model_module": "@jupyter-widgets/base",
          "model_name": "LayoutModel",
          "state": {
            "_view_name": "LayoutView",
            "grid_template_rows": null,
            "right": null,
            "justify_content": null,
            "_view_module": "@jupyter-widgets/base",
            "overflow": null,
            "_model_module_version": "1.2.0",
            "_view_count": null,
            "flex_flow": null,
            "width": null,
            "min_width": null,
            "border": null,
            "align_items": null,
            "bottom": null,
            "_model_module": "@jupyter-widgets/base",
            "top": null,
            "grid_column": null,
            "overflow_y": null,
            "overflow_x": null,
            "grid_auto_flow": null,
            "grid_area": null,
            "grid_template_columns": null,
            "flex": null,
            "_model_name": "LayoutModel",
            "justify_items": null,
            "grid_row": null,
            "max_height": null,
            "align_content": null,
            "visibility": null,
            "align_self": null,
            "height": null,
            "min_height": null,
            "padding": null,
            "grid_auto_rows": null,
            "grid_gap": null,
            "max_width": null,
            "order": null,
            "_view_module_version": "1.2.0",
            "grid_template_areas": null,
            "object_position": null,
            "object_fit": null,
            "grid_auto_columns": null,
            "margin": null,
            "display": null,
            "left": null
          }
        },
        "1e5223225d4d4fda8425fc3cb617935f": {
          "model_module": "@jupyter-widgets/controls",
          "model_name": "DescriptionStyleModel",
          "state": {
            "_view_name": "StyleView",
            "_model_name": "DescriptionStyleModel",
            "description_width": "",
            "_view_module": "@jupyter-widgets/base",
            "_model_module_version": "1.5.0",
            "_view_count": null,
            "_view_module_version": "1.2.0",
            "_model_module": "@jupyter-widgets/controls"
          }
        },
        "cd698a123b57497da2652fc47e4efd1f": {
          "model_module": "@jupyter-widgets/base",
          "model_name": "LayoutModel",
          "state": {
            "_view_name": "LayoutView",
            "grid_template_rows": null,
            "right": null,
            "justify_content": null,
            "_view_module": "@jupyter-widgets/base",
            "overflow": null,
            "_model_module_version": "1.2.0",
            "_view_count": null,
            "flex_flow": null,
            "width": null,
            "min_width": null,
            "border": null,
            "align_items": null,
            "bottom": null,
            "_model_module": "@jupyter-widgets/base",
            "top": null,
            "grid_column": null,
            "overflow_y": null,
            "overflow_x": null,
            "grid_auto_flow": null,
            "grid_area": null,
            "grid_template_columns": null,
            "flex": null,
            "_model_name": "LayoutModel",
            "justify_items": null,
            "grid_row": null,
            "max_height": null,
            "align_content": null,
            "visibility": null,
            "align_self": null,
            "height": null,
            "min_height": null,
            "padding": null,
            "grid_auto_rows": null,
            "grid_gap": null,
            "max_width": null,
            "order": null,
            "_view_module_version": "1.2.0",
            "grid_template_areas": null,
            "object_position": null,
            "object_fit": null,
            "grid_auto_columns": null,
            "margin": null,
            "display": null,
            "left": null
          }
        },
        "cbc65dd7c3ef42418b0a1842a294c272": {
          "model_module": "@jupyter-widgets/controls",
          "model_name": "HBoxModel",
          "state": {
            "_view_name": "HBoxView",
            "_dom_classes": [],
            "_model_name": "HBoxModel",
            "_view_module": "@jupyter-widgets/controls",
            "_model_module_version": "1.5.0",
            "_view_count": null,
            "_view_module_version": "1.5.0",
            "box_style": "",
            "layout": "IPY_MODEL_b133d240ffb14d29805d7ba1e415c4d3",
            "_model_module": "@jupyter-widgets/controls",
            "children": [
              "IPY_MODEL_544c13cc9a674b80a3f049fbb07aaf17",
              "IPY_MODEL_6be954f525c24531a13856a6a7198722"
            ]
          }
        },
        "b133d240ffb14d29805d7ba1e415c4d3": {
          "model_module": "@jupyter-widgets/base",
          "model_name": "LayoutModel",
          "state": {
            "_view_name": "LayoutView",
            "grid_template_rows": null,
            "right": null,
            "justify_content": null,
            "_view_module": "@jupyter-widgets/base",
            "overflow": null,
            "_model_module_version": "1.2.0",
            "_view_count": null,
            "flex_flow": null,
            "width": null,
            "min_width": null,
            "border": null,
            "align_items": null,
            "bottom": null,
            "_model_module": "@jupyter-widgets/base",
            "top": null,
            "grid_column": null,
            "overflow_y": null,
            "overflow_x": null,
            "grid_auto_flow": null,
            "grid_area": null,
            "grid_template_columns": null,
            "flex": null,
            "_model_name": "LayoutModel",
            "justify_items": null,
            "grid_row": null,
            "max_height": null,
            "align_content": null,
            "visibility": null,
            "align_self": null,
            "height": null,
            "min_height": null,
            "padding": null,
            "grid_auto_rows": null,
            "grid_gap": null,
            "max_width": null,
            "order": null,
            "_view_module_version": "1.2.0",
            "grid_template_areas": null,
            "object_position": null,
            "object_fit": null,
            "grid_auto_columns": null,
            "margin": null,
            "display": null,
            "left": null
          }
        },
        "544c13cc9a674b80a3f049fbb07aaf17": {
          "model_module": "@jupyter-widgets/controls",
          "model_name": "FloatProgressModel",
          "state": {
            "_view_name": "ProgressView",
            "style": "IPY_MODEL_27b8309b88bd42bab181cd9d8dfc94b9",
            "_dom_classes": [],
            "description": "100%",
            "_model_name": "FloatProgressModel",
            "bar_style": "success",
            "max": 848,
            "_view_module": "@jupyter-widgets/controls",
            "_model_module_version": "1.5.0",
            "value": 848,
            "_view_count": null,
            "_view_module_version": "1.5.0",
            "orientation": "horizontal",
            "min": 0,
            "description_tooltip": null,
            "_model_module": "@jupyter-widgets/controls",
            "layout": "IPY_MODEL_40a159ab6d9e474db883b895f018eb8f"
          }
        },
        "6be954f525c24531a13856a6a7198722": {
          "model_module": "@jupyter-widgets/controls",
          "model_name": "HTMLModel",
          "state": {
            "_view_name": "HTMLView",
            "style": "IPY_MODEL_46819199c9314f07a35f5e06698b131d",
            "_dom_classes": [],
            "description": "",
            "_model_name": "HTMLModel",
            "placeholder": "​",
            "_view_module": "@jupyter-widgets/controls",
            "_model_module_version": "1.5.0",
            "value": " 848/848 [12:18&lt;00:00,  1.15it/s]",
            "_view_count": null,
            "_view_module_version": "1.5.0",
            "description_tooltip": null,
            "_model_module": "@jupyter-widgets/controls",
            "layout": "IPY_MODEL_e1f2691980f647f99411a65bc3971e97"
          }
        },
        "27b8309b88bd42bab181cd9d8dfc94b9": {
          "model_module": "@jupyter-widgets/controls",
          "model_name": "ProgressStyleModel",
          "state": {
            "_view_name": "StyleView",
            "_model_name": "ProgressStyleModel",
            "description_width": "initial",
            "_view_module": "@jupyter-widgets/base",
            "_model_module_version": "1.5.0",
            "_view_count": null,
            "_view_module_version": "1.2.0",
            "bar_color": null,
            "_model_module": "@jupyter-widgets/controls"
          }
        },
        "40a159ab6d9e474db883b895f018eb8f": {
          "model_module": "@jupyter-widgets/base",
          "model_name": "LayoutModel",
          "state": {
            "_view_name": "LayoutView",
            "grid_template_rows": null,
            "right": null,
            "justify_content": null,
            "_view_module": "@jupyter-widgets/base",
            "overflow": null,
            "_model_module_version": "1.2.0",
            "_view_count": null,
            "flex_flow": null,
            "width": null,
            "min_width": null,
            "border": null,
            "align_items": null,
            "bottom": null,
            "_model_module": "@jupyter-widgets/base",
            "top": null,
            "grid_column": null,
            "overflow_y": null,
            "overflow_x": null,
            "grid_auto_flow": null,
            "grid_area": null,
            "grid_template_columns": null,
            "flex": null,
            "_model_name": "LayoutModel",
            "justify_items": null,
            "grid_row": null,
            "max_height": null,
            "align_content": null,
            "visibility": null,
            "align_self": null,
            "height": null,
            "min_height": null,
            "padding": null,
            "grid_auto_rows": null,
            "grid_gap": null,
            "max_width": null,
            "order": null,
            "_view_module_version": "1.2.0",
            "grid_template_areas": null,
            "object_position": null,
            "object_fit": null,
            "grid_auto_columns": null,
            "margin": null,
            "display": null,
            "left": null
          }
        },
        "46819199c9314f07a35f5e06698b131d": {
          "model_module": "@jupyter-widgets/controls",
          "model_name": "DescriptionStyleModel",
          "state": {
            "_view_name": "StyleView",
            "_model_name": "DescriptionStyleModel",
            "description_width": "",
            "_view_module": "@jupyter-widgets/base",
            "_model_module_version": "1.5.0",
            "_view_count": null,
            "_view_module_version": "1.2.0",
            "_model_module": "@jupyter-widgets/controls"
          }
        },
        "e1f2691980f647f99411a65bc3971e97": {
          "model_module": "@jupyter-widgets/base",
          "model_name": "LayoutModel",
          "state": {
            "_view_name": "LayoutView",
            "grid_template_rows": null,
            "right": null,
            "justify_content": null,
            "_view_module": "@jupyter-widgets/base",
            "overflow": null,
            "_model_module_version": "1.2.0",
            "_view_count": null,
            "flex_flow": null,
            "width": null,
            "min_width": null,
            "border": null,
            "align_items": null,
            "bottom": null,
            "_model_module": "@jupyter-widgets/base",
            "top": null,
            "grid_column": null,
            "overflow_y": null,
            "overflow_x": null,
            "grid_auto_flow": null,
            "grid_area": null,
            "grid_template_columns": null,
            "flex": null,
            "_model_name": "LayoutModel",
            "justify_items": null,
            "grid_row": null,
            "max_height": null,
            "align_content": null,
            "visibility": null,
            "align_self": null,
            "height": null,
            "min_height": null,
            "padding": null,
            "grid_auto_rows": null,
            "grid_gap": null,
            "max_width": null,
            "order": null,
            "_view_module_version": "1.2.0",
            "grid_template_areas": null,
            "object_position": null,
            "object_fit": null,
            "grid_auto_columns": null,
            "margin": null,
            "display": null,
            "left": null
          }
        },
        "3323ed3a0e0e4224a398d2249ee23713": {
          "model_module": "@jupyter-widgets/controls",
          "model_name": "HBoxModel",
          "state": {
            "_view_name": "HBoxView",
            "_dom_classes": [],
            "_model_name": "HBoxModel",
            "_view_module": "@jupyter-widgets/controls",
            "_model_module_version": "1.5.0",
            "_view_count": null,
            "_view_module_version": "1.5.0",
            "box_style": "",
            "layout": "IPY_MODEL_bd56f0f9fe7c4d53bb375553f56c2689",
            "_model_module": "@jupyter-widgets/controls",
            "children": [
              "IPY_MODEL_6081f127fc8e47098ed641b64f4eb645",
              "IPY_MODEL_079ac6073444424f8dc9eb8dc8964731"
            ]
          }
        },
        "bd56f0f9fe7c4d53bb375553f56c2689": {
          "model_module": "@jupyter-widgets/base",
          "model_name": "LayoutModel",
          "state": {
            "_view_name": "LayoutView",
            "grid_template_rows": null,
            "right": null,
            "justify_content": null,
            "_view_module": "@jupyter-widgets/base",
            "overflow": null,
            "_model_module_version": "1.2.0",
            "_view_count": null,
            "flex_flow": null,
            "width": null,
            "min_width": null,
            "border": null,
            "align_items": null,
            "bottom": null,
            "_model_module": "@jupyter-widgets/base",
            "top": null,
            "grid_column": null,
            "overflow_y": null,
            "overflow_x": null,
            "grid_auto_flow": null,
            "grid_area": null,
            "grid_template_columns": null,
            "flex": null,
            "_model_name": "LayoutModel",
            "justify_items": null,
            "grid_row": null,
            "max_height": null,
            "align_content": null,
            "visibility": null,
            "align_self": null,
            "height": null,
            "min_height": null,
            "padding": null,
            "grid_auto_rows": null,
            "grid_gap": null,
            "max_width": null,
            "order": null,
            "_view_module_version": "1.2.0",
            "grid_template_areas": null,
            "object_position": null,
            "object_fit": null,
            "grid_auto_columns": null,
            "margin": null,
            "display": null,
            "left": null
          }
        },
        "6081f127fc8e47098ed641b64f4eb645": {
          "model_module": "@jupyter-widgets/controls",
          "model_name": "FloatProgressModel",
          "state": {
            "_view_name": "ProgressView",
            "style": "IPY_MODEL_0b00f5005d94440faefa2a9e31d16bc5",
            "_dom_classes": [],
            "description": "100%",
            "_model_name": "FloatProgressModel",
            "bar_style": "success",
            "max": 3392,
            "_view_module": "@jupyter-widgets/controls",
            "_model_module_version": "1.5.0",
            "value": 3392,
            "_view_count": null,
            "_view_module_version": "1.5.0",
            "orientation": "horizontal",
            "min": 0,
            "description_tooltip": null,
            "_model_module": "@jupyter-widgets/controls",
            "layout": "IPY_MODEL_995d25a181d04d9382d71ef23323de35"
          }
        },
        "079ac6073444424f8dc9eb8dc8964731": {
          "model_module": "@jupyter-widgets/controls",
          "model_name": "HTMLModel",
          "state": {
            "_view_name": "HTMLView",
            "style": "IPY_MODEL_1696f487910b4243a22b2889bfd5641a",
            "_dom_classes": [],
            "description": "",
            "_model_name": "HTMLModel",
            "placeholder": "​",
            "_view_module": "@jupyter-widgets/controls",
            "_model_module_version": "1.5.0",
            "value": " 3392/3392 [1:33:20&lt;00:00,  1.65s/it]",
            "_view_count": null,
            "_view_module_version": "1.5.0",
            "description_tooltip": null,
            "_model_module": "@jupyter-widgets/controls",
            "layout": "IPY_MODEL_0df54387855547868ad3b2c4b57002f2"
          }
        },
        "0b00f5005d94440faefa2a9e31d16bc5": {
          "model_module": "@jupyter-widgets/controls",
          "model_name": "ProgressStyleModel",
          "state": {
            "_view_name": "StyleView",
            "_model_name": "ProgressStyleModel",
            "description_width": "initial",
            "_view_module": "@jupyter-widgets/base",
            "_model_module_version": "1.5.0",
            "_view_count": null,
            "_view_module_version": "1.2.0",
            "bar_color": null,
            "_model_module": "@jupyter-widgets/controls"
          }
        },
        "995d25a181d04d9382d71ef23323de35": {
          "model_module": "@jupyter-widgets/base",
          "model_name": "LayoutModel",
          "state": {
            "_view_name": "LayoutView",
            "grid_template_rows": null,
            "right": null,
            "justify_content": null,
            "_view_module": "@jupyter-widgets/base",
            "overflow": null,
            "_model_module_version": "1.2.0",
            "_view_count": null,
            "flex_flow": null,
            "width": null,
            "min_width": null,
            "border": null,
            "align_items": null,
            "bottom": null,
            "_model_module": "@jupyter-widgets/base",
            "top": null,
            "grid_column": null,
            "overflow_y": null,
            "overflow_x": null,
            "grid_auto_flow": null,
            "grid_area": null,
            "grid_template_columns": null,
            "flex": null,
            "_model_name": "LayoutModel",
            "justify_items": null,
            "grid_row": null,
            "max_height": null,
            "align_content": null,
            "visibility": null,
            "align_self": null,
            "height": null,
            "min_height": null,
            "padding": null,
            "grid_auto_rows": null,
            "grid_gap": null,
            "max_width": null,
            "order": null,
            "_view_module_version": "1.2.0",
            "grid_template_areas": null,
            "object_position": null,
            "object_fit": null,
            "grid_auto_columns": null,
            "margin": null,
            "display": null,
            "left": null
          }
        },
        "1696f487910b4243a22b2889bfd5641a": {
          "model_module": "@jupyter-widgets/controls",
          "model_name": "DescriptionStyleModel",
          "state": {
            "_view_name": "StyleView",
            "_model_name": "DescriptionStyleModel",
            "description_width": "",
            "_view_module": "@jupyter-widgets/base",
            "_model_module_version": "1.5.0",
            "_view_count": null,
            "_view_module_version": "1.2.0",
            "_model_module": "@jupyter-widgets/controls"
          }
        },
        "0df54387855547868ad3b2c4b57002f2": {
          "model_module": "@jupyter-widgets/base",
          "model_name": "LayoutModel",
          "state": {
            "_view_name": "LayoutView",
            "grid_template_rows": null,
            "right": null,
            "justify_content": null,
            "_view_module": "@jupyter-widgets/base",
            "overflow": null,
            "_model_module_version": "1.2.0",
            "_view_count": null,
            "flex_flow": null,
            "width": null,
            "min_width": null,
            "border": null,
            "align_items": null,
            "bottom": null,
            "_model_module": "@jupyter-widgets/base",
            "top": null,
            "grid_column": null,
            "overflow_y": null,
            "overflow_x": null,
            "grid_auto_flow": null,
            "grid_area": null,
            "grid_template_columns": null,
            "flex": null,
            "_model_name": "LayoutModel",
            "justify_items": null,
            "grid_row": null,
            "max_height": null,
            "align_content": null,
            "visibility": null,
            "align_self": null,
            "height": null,
            "min_height": null,
            "padding": null,
            "grid_auto_rows": null,
            "grid_gap": null,
            "max_width": null,
            "order": null,
            "_view_module_version": "1.2.0",
            "grid_template_areas": null,
            "object_position": null,
            "object_fit": null,
            "grid_auto_columns": null,
            "margin": null,
            "display": null,
            "left": null
          }
        },
        "34eef362fb4447cc9dd14c9373336f94": {
          "model_module": "@jupyter-widgets/controls",
          "model_name": "HBoxModel",
          "state": {
            "_view_name": "HBoxView",
            "_dom_classes": [],
            "_model_name": "HBoxModel",
            "_view_module": "@jupyter-widgets/controls",
            "_model_module_version": "1.5.0",
            "_view_count": null,
            "_view_module_version": "1.5.0",
            "box_style": "",
            "layout": "IPY_MODEL_ba8e02ce97c54995a395c16eedc6ee67",
            "_model_module": "@jupyter-widgets/controls",
            "children": [
              "IPY_MODEL_107c42b8543546c0bf578e01591701ab",
              "IPY_MODEL_bbc8ba651f194d89a6652a062c93eb26"
            ]
          }
        },
        "ba8e02ce97c54995a395c16eedc6ee67": {
          "model_module": "@jupyter-widgets/base",
          "model_name": "LayoutModel",
          "state": {
            "_view_name": "LayoutView",
            "grid_template_rows": null,
            "right": null,
            "justify_content": null,
            "_view_module": "@jupyter-widgets/base",
            "overflow": null,
            "_model_module_version": "1.2.0",
            "_view_count": null,
            "flex_flow": null,
            "width": null,
            "min_width": null,
            "border": null,
            "align_items": null,
            "bottom": null,
            "_model_module": "@jupyter-widgets/base",
            "top": null,
            "grid_column": null,
            "overflow_y": null,
            "overflow_x": null,
            "grid_auto_flow": null,
            "grid_area": null,
            "grid_template_columns": null,
            "flex": null,
            "_model_name": "LayoutModel",
            "justify_items": null,
            "grid_row": null,
            "max_height": null,
            "align_content": null,
            "visibility": null,
            "align_self": null,
            "height": null,
            "min_height": null,
            "padding": null,
            "grid_auto_rows": null,
            "grid_gap": null,
            "max_width": null,
            "order": null,
            "_view_module_version": "1.2.0",
            "grid_template_areas": null,
            "object_position": null,
            "object_fit": null,
            "grid_auto_columns": null,
            "margin": null,
            "display": null,
            "left": null
          }
        },
        "107c42b8543546c0bf578e01591701ab": {
          "model_module": "@jupyter-widgets/controls",
          "model_name": "FloatProgressModel",
          "state": {
            "_view_name": "ProgressView",
            "style": "IPY_MODEL_4617d7adbe3b45618d8590b2e20b73e2",
            "_dom_classes": [],
            "description": "100%",
            "_model_name": "FloatProgressModel",
            "bar_style": "success",
            "max": 848,
            "_view_module": "@jupyter-widgets/controls",
            "_model_module_version": "1.5.0",
            "value": 848,
            "_view_count": null,
            "_view_module_version": "1.5.0",
            "orientation": "horizontal",
            "min": 0,
            "description_tooltip": null,
            "_model_module": "@jupyter-widgets/controls",
            "layout": "IPY_MODEL_d5fb7883d8264e24a533175b6534cd46"
          }
        },
        "bbc8ba651f194d89a6652a062c93eb26": {
          "model_module": "@jupyter-widgets/controls",
          "model_name": "HTMLModel",
          "state": {
            "_view_name": "HTMLView",
            "style": "IPY_MODEL_de7356c959b74aa99cf6a4e0cbdf3297",
            "_dom_classes": [],
            "description": "",
            "_model_name": "HTMLModel",
            "placeholder": "​",
            "_view_module": "@jupyter-widgets/controls",
            "_model_module_version": "1.5.0",
            "value": " 848/848 [07:55&lt;00:00,  1.78it/s]",
            "_view_count": null,
            "_view_module_version": "1.5.0",
            "description_tooltip": null,
            "_model_module": "@jupyter-widgets/controls",
            "layout": "IPY_MODEL_a42886068aca4861911bd2e5fab34fff"
          }
        },
        "4617d7adbe3b45618d8590b2e20b73e2": {
          "model_module": "@jupyter-widgets/controls",
          "model_name": "ProgressStyleModel",
          "state": {
            "_view_name": "StyleView",
            "_model_name": "ProgressStyleModel",
            "description_width": "initial",
            "_view_module": "@jupyter-widgets/base",
            "_model_module_version": "1.5.0",
            "_view_count": null,
            "_view_module_version": "1.2.0",
            "bar_color": null,
            "_model_module": "@jupyter-widgets/controls"
          }
        },
        "d5fb7883d8264e24a533175b6534cd46": {
          "model_module": "@jupyter-widgets/base",
          "model_name": "LayoutModel",
          "state": {
            "_view_name": "LayoutView",
            "grid_template_rows": null,
            "right": null,
            "justify_content": null,
            "_view_module": "@jupyter-widgets/base",
            "overflow": null,
            "_model_module_version": "1.2.0",
            "_view_count": null,
            "flex_flow": null,
            "width": null,
            "min_width": null,
            "border": null,
            "align_items": null,
            "bottom": null,
            "_model_module": "@jupyter-widgets/base",
            "top": null,
            "grid_column": null,
            "overflow_y": null,
            "overflow_x": null,
            "grid_auto_flow": null,
            "grid_area": null,
            "grid_template_columns": null,
            "flex": null,
            "_model_name": "LayoutModel",
            "justify_items": null,
            "grid_row": null,
            "max_height": null,
            "align_content": null,
            "visibility": null,
            "align_self": null,
            "height": null,
            "min_height": null,
            "padding": null,
            "grid_auto_rows": null,
            "grid_gap": null,
            "max_width": null,
            "order": null,
            "_view_module_version": "1.2.0",
            "grid_template_areas": null,
            "object_position": null,
            "object_fit": null,
            "grid_auto_columns": null,
            "margin": null,
            "display": null,
            "left": null
          }
        },
        "de7356c959b74aa99cf6a4e0cbdf3297": {
          "model_module": "@jupyter-widgets/controls",
          "model_name": "DescriptionStyleModel",
          "state": {
            "_view_name": "StyleView",
            "_model_name": "DescriptionStyleModel",
            "description_width": "",
            "_view_module": "@jupyter-widgets/base",
            "_model_module_version": "1.5.0",
            "_view_count": null,
            "_view_module_version": "1.2.0",
            "_model_module": "@jupyter-widgets/controls"
          }
        },
        "a42886068aca4861911bd2e5fab34fff": {
          "model_module": "@jupyter-widgets/base",
          "model_name": "LayoutModel",
          "state": {
            "_view_name": "LayoutView",
            "grid_template_rows": null,
            "right": null,
            "justify_content": null,
            "_view_module": "@jupyter-widgets/base",
            "overflow": null,
            "_model_module_version": "1.2.0",
            "_view_count": null,
            "flex_flow": null,
            "width": null,
            "min_width": null,
            "border": null,
            "align_items": null,
            "bottom": null,
            "_model_module": "@jupyter-widgets/base",
            "top": null,
            "grid_column": null,
            "overflow_y": null,
            "overflow_x": null,
            "grid_auto_flow": null,
            "grid_area": null,
            "grid_template_columns": null,
            "flex": null,
            "_model_name": "LayoutModel",
            "justify_items": null,
            "grid_row": null,
            "max_height": null,
            "align_content": null,
            "visibility": null,
            "align_self": null,
            "height": null,
            "min_height": null,
            "padding": null,
            "grid_auto_rows": null,
            "grid_gap": null,
            "max_width": null,
            "order": null,
            "_view_module_version": "1.2.0",
            "grid_template_areas": null,
            "object_position": null,
            "object_fit": null,
            "grid_auto_columns": null,
            "margin": null,
            "display": null,
            "left": null
          }
        },
        "54baa06e7ff6466e9d1342197e3ca264": {
          "model_module": "@jupyter-widgets/controls",
          "model_name": "HBoxModel",
          "state": {
            "_view_name": "HBoxView",
            "_dom_classes": [],
            "_model_name": "HBoxModel",
            "_view_module": "@jupyter-widgets/controls",
            "_model_module_version": "1.5.0",
            "_view_count": null,
            "_view_module_version": "1.5.0",
            "box_style": "",
            "layout": "IPY_MODEL_40d56d18cd764a0bb972208c7d8a0c73",
            "_model_module": "@jupyter-widgets/controls",
            "children": [
              "IPY_MODEL_f47b2ecd78b6471786b0017ae1294f3b",
              "IPY_MODEL_68b84e9e5abe476bb387a2343b9a3371"
            ]
          }
        },
        "40d56d18cd764a0bb972208c7d8a0c73": {
          "model_module": "@jupyter-widgets/base",
          "model_name": "LayoutModel",
          "state": {
            "_view_name": "LayoutView",
            "grid_template_rows": null,
            "right": null,
            "justify_content": null,
            "_view_module": "@jupyter-widgets/base",
            "overflow": null,
            "_model_module_version": "1.2.0",
            "_view_count": null,
            "flex_flow": null,
            "width": null,
            "min_width": null,
            "border": null,
            "align_items": null,
            "bottom": null,
            "_model_module": "@jupyter-widgets/base",
            "top": null,
            "grid_column": null,
            "overflow_y": null,
            "overflow_x": null,
            "grid_auto_flow": null,
            "grid_area": null,
            "grid_template_columns": null,
            "flex": null,
            "_model_name": "LayoutModel",
            "justify_items": null,
            "grid_row": null,
            "max_height": null,
            "align_content": null,
            "visibility": null,
            "align_self": null,
            "height": null,
            "min_height": null,
            "padding": null,
            "grid_auto_rows": null,
            "grid_gap": null,
            "max_width": null,
            "order": null,
            "_view_module_version": "1.2.0",
            "grid_template_areas": null,
            "object_position": null,
            "object_fit": null,
            "grid_auto_columns": null,
            "margin": null,
            "display": null,
            "left": null
          }
        },
        "f47b2ecd78b6471786b0017ae1294f3b": {
          "model_module": "@jupyter-widgets/controls",
          "model_name": "FloatProgressModel",
          "state": {
            "_view_name": "ProgressView",
            "style": "IPY_MODEL_c4b1f7249e2a4c028ff68e6e7488e3e3",
            "_dom_classes": [],
            "description": "100%",
            "_model_name": "FloatProgressModel",
            "bar_style": "success",
            "max": 3392,
            "_view_module": "@jupyter-widgets/controls",
            "_model_module_version": "1.5.0",
            "value": 3392,
            "_view_count": null,
            "_view_module_version": "1.5.0",
            "orientation": "horizontal",
            "min": 0,
            "description_tooltip": null,
            "_model_module": "@jupyter-widgets/controls",
            "layout": "IPY_MODEL_593b110f3a264b7f9b55f0666f91ad5a"
          }
        },
        "68b84e9e5abe476bb387a2343b9a3371": {
          "model_module": "@jupyter-widgets/controls",
          "model_name": "HTMLModel",
          "state": {
            "_view_name": "HTMLView",
            "style": "IPY_MODEL_49ec8dd4564c4e9ab5d7b198d6090599",
            "_dom_classes": [],
            "description": "",
            "_model_name": "HTMLModel",
            "placeholder": "​",
            "_view_module": "@jupyter-widgets/controls",
            "_model_module_version": "1.5.0",
            "value": " 3392/3392 [1:32:59&lt;00:00,  1.64s/it]",
            "_view_count": null,
            "_view_module_version": "1.5.0",
            "description_tooltip": null,
            "_model_module": "@jupyter-widgets/controls",
            "layout": "IPY_MODEL_6653e47e5b7c448299f3050115a821f0"
          }
        },
        "c4b1f7249e2a4c028ff68e6e7488e3e3": {
          "model_module": "@jupyter-widgets/controls",
          "model_name": "ProgressStyleModel",
          "state": {
            "_view_name": "StyleView",
            "_model_name": "ProgressStyleModel",
            "description_width": "initial",
            "_view_module": "@jupyter-widgets/base",
            "_model_module_version": "1.5.0",
            "_view_count": null,
            "_view_module_version": "1.2.0",
            "bar_color": null,
            "_model_module": "@jupyter-widgets/controls"
          }
        },
        "593b110f3a264b7f9b55f0666f91ad5a": {
          "model_module": "@jupyter-widgets/base",
          "model_name": "LayoutModel",
          "state": {
            "_view_name": "LayoutView",
            "grid_template_rows": null,
            "right": null,
            "justify_content": null,
            "_view_module": "@jupyter-widgets/base",
            "overflow": null,
            "_model_module_version": "1.2.0",
            "_view_count": null,
            "flex_flow": null,
            "width": null,
            "min_width": null,
            "border": null,
            "align_items": null,
            "bottom": null,
            "_model_module": "@jupyter-widgets/base",
            "top": null,
            "grid_column": null,
            "overflow_y": null,
            "overflow_x": null,
            "grid_auto_flow": null,
            "grid_area": null,
            "grid_template_columns": null,
            "flex": null,
            "_model_name": "LayoutModel",
            "justify_items": null,
            "grid_row": null,
            "max_height": null,
            "align_content": null,
            "visibility": null,
            "align_self": null,
            "height": null,
            "min_height": null,
            "padding": null,
            "grid_auto_rows": null,
            "grid_gap": null,
            "max_width": null,
            "order": null,
            "_view_module_version": "1.2.0",
            "grid_template_areas": null,
            "object_position": null,
            "object_fit": null,
            "grid_auto_columns": null,
            "margin": null,
            "display": null,
            "left": null
          }
        },
        "49ec8dd4564c4e9ab5d7b198d6090599": {
          "model_module": "@jupyter-widgets/controls",
          "model_name": "DescriptionStyleModel",
          "state": {
            "_view_name": "StyleView",
            "_model_name": "DescriptionStyleModel",
            "description_width": "",
            "_view_module": "@jupyter-widgets/base",
            "_model_module_version": "1.5.0",
            "_view_count": null,
            "_view_module_version": "1.2.0",
            "_model_module": "@jupyter-widgets/controls"
          }
        },
        "6653e47e5b7c448299f3050115a821f0": {
          "model_module": "@jupyter-widgets/base",
          "model_name": "LayoutModel",
          "state": {
            "_view_name": "LayoutView",
            "grid_template_rows": null,
            "right": null,
            "justify_content": null,
            "_view_module": "@jupyter-widgets/base",
            "overflow": null,
            "_model_module_version": "1.2.0",
            "_view_count": null,
            "flex_flow": null,
            "width": null,
            "min_width": null,
            "border": null,
            "align_items": null,
            "bottom": null,
            "_model_module": "@jupyter-widgets/base",
            "top": null,
            "grid_column": null,
            "overflow_y": null,
            "overflow_x": null,
            "grid_auto_flow": null,
            "grid_area": null,
            "grid_template_columns": null,
            "flex": null,
            "_model_name": "LayoutModel",
            "justify_items": null,
            "grid_row": null,
            "max_height": null,
            "align_content": null,
            "visibility": null,
            "align_self": null,
            "height": null,
            "min_height": null,
            "padding": null,
            "grid_auto_rows": null,
            "grid_gap": null,
            "max_width": null,
            "order": null,
            "_view_module_version": "1.2.0",
            "grid_template_areas": null,
            "object_position": null,
            "object_fit": null,
            "grid_auto_columns": null,
            "margin": null,
            "display": null,
            "left": null
          }
        },
        "04ebfe99327f44519830b3622ba84bd7": {
          "model_module": "@jupyter-widgets/controls",
          "model_name": "HBoxModel",
          "state": {
            "_view_name": "HBoxView",
            "_dom_classes": [],
            "_model_name": "HBoxModel",
            "_view_module": "@jupyter-widgets/controls",
            "_model_module_version": "1.5.0",
            "_view_count": null,
            "_view_module_version": "1.5.0",
            "box_style": "",
            "layout": "IPY_MODEL_0d84e02eeb8044318b4189c7a56c0a63",
            "_model_module": "@jupyter-widgets/controls",
            "children": [
              "IPY_MODEL_9e6638aaefc84e0eb8d008f4b0a4cf13",
              "IPY_MODEL_77ae35fa8fb04b4d8374803901450c65"
            ]
          }
        },
        "0d84e02eeb8044318b4189c7a56c0a63": {
          "model_module": "@jupyter-widgets/base",
          "model_name": "LayoutModel",
          "state": {
            "_view_name": "LayoutView",
            "grid_template_rows": null,
            "right": null,
            "justify_content": null,
            "_view_module": "@jupyter-widgets/base",
            "overflow": null,
            "_model_module_version": "1.2.0",
            "_view_count": null,
            "flex_flow": null,
            "width": null,
            "min_width": null,
            "border": null,
            "align_items": null,
            "bottom": null,
            "_model_module": "@jupyter-widgets/base",
            "top": null,
            "grid_column": null,
            "overflow_y": null,
            "overflow_x": null,
            "grid_auto_flow": null,
            "grid_area": null,
            "grid_template_columns": null,
            "flex": null,
            "_model_name": "LayoutModel",
            "justify_items": null,
            "grid_row": null,
            "max_height": null,
            "align_content": null,
            "visibility": null,
            "align_self": null,
            "height": null,
            "min_height": null,
            "padding": null,
            "grid_auto_rows": null,
            "grid_gap": null,
            "max_width": null,
            "order": null,
            "_view_module_version": "1.2.0",
            "grid_template_areas": null,
            "object_position": null,
            "object_fit": null,
            "grid_auto_columns": null,
            "margin": null,
            "display": null,
            "left": null
          }
        },
        "9e6638aaefc84e0eb8d008f4b0a4cf13": {
          "model_module": "@jupyter-widgets/controls",
          "model_name": "FloatProgressModel",
          "state": {
            "_view_name": "ProgressView",
            "style": "IPY_MODEL_1e1dff051793471ca8c8a0d8b1060399",
            "_dom_classes": [],
            "description": "100%",
            "_model_name": "FloatProgressModel",
            "bar_style": "success",
            "max": 848,
            "_view_module": "@jupyter-widgets/controls",
            "_model_module_version": "1.5.0",
            "value": 848,
            "_view_count": null,
            "_view_module_version": "1.5.0",
            "orientation": "horizontal",
            "min": 0,
            "description_tooltip": null,
            "_model_module": "@jupyter-widgets/controls",
            "layout": "IPY_MODEL_23d8e44e46934e0e80eb448ba83ed10c"
          }
        },
        "77ae35fa8fb04b4d8374803901450c65": {
          "model_module": "@jupyter-widgets/controls",
          "model_name": "HTMLModel",
          "state": {
            "_view_name": "HTMLView",
            "style": "IPY_MODEL_bca36b9baa604fa386e2918e478d51d4",
            "_dom_classes": [],
            "description": "",
            "_model_name": "HTMLModel",
            "placeholder": "​",
            "_view_module": "@jupyter-widgets/controls",
            "_model_module_version": "1.5.0",
            "value": " 848/848 [17:48&lt;00:00,  1.26s/it]",
            "_view_count": null,
            "_view_module_version": "1.5.0",
            "description_tooltip": null,
            "_model_module": "@jupyter-widgets/controls",
            "layout": "IPY_MODEL_06170098c2df4a92a27089ba4d201424"
          }
        },
        "1e1dff051793471ca8c8a0d8b1060399": {
          "model_module": "@jupyter-widgets/controls",
          "model_name": "ProgressStyleModel",
          "state": {
            "_view_name": "StyleView",
            "_model_name": "ProgressStyleModel",
            "description_width": "initial",
            "_view_module": "@jupyter-widgets/base",
            "_model_module_version": "1.5.0",
            "_view_count": null,
            "_view_module_version": "1.2.0",
            "bar_color": null,
            "_model_module": "@jupyter-widgets/controls"
          }
        },
        "23d8e44e46934e0e80eb448ba83ed10c": {
          "model_module": "@jupyter-widgets/base",
          "model_name": "LayoutModel",
          "state": {
            "_view_name": "LayoutView",
            "grid_template_rows": null,
            "right": null,
            "justify_content": null,
            "_view_module": "@jupyter-widgets/base",
            "overflow": null,
            "_model_module_version": "1.2.0",
            "_view_count": null,
            "flex_flow": null,
            "width": null,
            "min_width": null,
            "border": null,
            "align_items": null,
            "bottom": null,
            "_model_module": "@jupyter-widgets/base",
            "top": null,
            "grid_column": null,
            "overflow_y": null,
            "overflow_x": null,
            "grid_auto_flow": null,
            "grid_area": null,
            "grid_template_columns": null,
            "flex": null,
            "_model_name": "LayoutModel",
            "justify_items": null,
            "grid_row": null,
            "max_height": null,
            "align_content": null,
            "visibility": null,
            "align_self": null,
            "height": null,
            "min_height": null,
            "padding": null,
            "grid_auto_rows": null,
            "grid_gap": null,
            "max_width": null,
            "order": null,
            "_view_module_version": "1.2.0",
            "grid_template_areas": null,
            "object_position": null,
            "object_fit": null,
            "grid_auto_columns": null,
            "margin": null,
            "display": null,
            "left": null
          }
        },
        "bca36b9baa604fa386e2918e478d51d4": {
          "model_module": "@jupyter-widgets/controls",
          "model_name": "DescriptionStyleModel",
          "state": {
            "_view_name": "StyleView",
            "_model_name": "DescriptionStyleModel",
            "description_width": "",
            "_view_module": "@jupyter-widgets/base",
            "_model_module_version": "1.5.0",
            "_view_count": null,
            "_view_module_version": "1.2.0",
            "_model_module": "@jupyter-widgets/controls"
          }
        },
        "06170098c2df4a92a27089ba4d201424": {
          "model_module": "@jupyter-widgets/base",
          "model_name": "LayoutModel",
          "state": {
            "_view_name": "LayoutView",
            "grid_template_rows": null,
            "right": null,
            "justify_content": null,
            "_view_module": "@jupyter-widgets/base",
            "overflow": null,
            "_model_module_version": "1.2.0",
            "_view_count": null,
            "flex_flow": null,
            "width": null,
            "min_width": null,
            "border": null,
            "align_items": null,
            "bottom": null,
            "_model_module": "@jupyter-widgets/base",
            "top": null,
            "grid_column": null,
            "overflow_y": null,
            "overflow_x": null,
            "grid_auto_flow": null,
            "grid_area": null,
            "grid_template_columns": null,
            "flex": null,
            "_model_name": "LayoutModel",
            "justify_items": null,
            "grid_row": null,
            "max_height": null,
            "align_content": null,
            "visibility": null,
            "align_self": null,
            "height": null,
            "min_height": null,
            "padding": null,
            "grid_auto_rows": null,
            "grid_gap": null,
            "max_width": null,
            "order": null,
            "_view_module_version": "1.2.0",
            "grid_template_areas": null,
            "object_position": null,
            "object_fit": null,
            "grid_auto_columns": null,
            "margin": null,
            "display": null,
            "left": null
          }
        },
        "131064e9e89e489da1dcf7cfc4ae029e": {
          "model_module": "@jupyter-widgets/controls",
          "model_name": "HBoxModel",
          "state": {
            "_view_name": "HBoxView",
            "_dom_classes": [],
            "_model_name": "HBoxModel",
            "_view_module": "@jupyter-widgets/controls",
            "_model_module_version": "1.5.0",
            "_view_count": null,
            "_view_module_version": "1.5.0",
            "box_style": "",
            "layout": "IPY_MODEL_419e3014a51445e38efaefbb4010fcdb",
            "_model_module": "@jupyter-widgets/controls",
            "children": [
              "IPY_MODEL_14c1a5f4c48d409cb09e8d0071c11e1c",
              "IPY_MODEL_2b63e88e22764d3982f745d14d84ca08"
            ]
          }
        },
        "419e3014a51445e38efaefbb4010fcdb": {
          "model_module": "@jupyter-widgets/base",
          "model_name": "LayoutModel",
          "state": {
            "_view_name": "LayoutView",
            "grid_template_rows": null,
            "right": null,
            "justify_content": null,
            "_view_module": "@jupyter-widgets/base",
            "overflow": null,
            "_model_module_version": "1.2.0",
            "_view_count": null,
            "flex_flow": null,
            "width": null,
            "min_width": null,
            "border": null,
            "align_items": null,
            "bottom": null,
            "_model_module": "@jupyter-widgets/base",
            "top": null,
            "grid_column": null,
            "overflow_y": null,
            "overflow_x": null,
            "grid_auto_flow": null,
            "grid_area": null,
            "grid_template_columns": null,
            "flex": null,
            "_model_name": "LayoutModel",
            "justify_items": null,
            "grid_row": null,
            "max_height": null,
            "align_content": null,
            "visibility": null,
            "align_self": null,
            "height": null,
            "min_height": null,
            "padding": null,
            "grid_auto_rows": null,
            "grid_gap": null,
            "max_width": null,
            "order": null,
            "_view_module_version": "1.2.0",
            "grid_template_areas": null,
            "object_position": null,
            "object_fit": null,
            "grid_auto_columns": null,
            "margin": null,
            "display": null,
            "left": null
          }
        },
        "14c1a5f4c48d409cb09e8d0071c11e1c": {
          "model_module": "@jupyter-widgets/controls",
          "model_name": "FloatProgressModel",
          "state": {
            "_view_name": "ProgressView",
            "style": "IPY_MODEL_bf64d8ce8e834d32b9de12e3a9ffbb64",
            "_dom_classes": [],
            "description": "100%",
            "_model_name": "FloatProgressModel",
            "bar_style": "success",
            "max": 3392,
            "_view_module": "@jupyter-widgets/controls",
            "_model_module_version": "1.5.0",
            "value": 3392,
            "_view_count": null,
            "_view_module_version": "1.5.0",
            "orientation": "horizontal",
            "min": 0,
            "description_tooltip": null,
            "_model_module": "@jupyter-widgets/controls",
            "layout": "IPY_MODEL_6f74f3782c9741e98134b5e08f1e440d"
          }
        },
        "2b63e88e22764d3982f745d14d84ca08": {
          "model_module": "@jupyter-widgets/controls",
          "model_name": "HTMLModel",
          "state": {
            "_view_name": "HTMLView",
            "style": "IPY_MODEL_d33c919d9f5f42d4845072b5a5c015b8",
            "_dom_classes": [],
            "description": "",
            "_model_name": "HTMLModel",
            "placeholder": "​",
            "_view_module": "@jupyter-widgets/controls",
            "_model_module_version": "1.5.0",
            "value": " 3392/3392 [1:32:46&lt;00:00,  1.64s/it]",
            "_view_count": null,
            "_view_module_version": "1.5.0",
            "description_tooltip": null,
            "_model_module": "@jupyter-widgets/controls",
            "layout": "IPY_MODEL_678ec26d6df4409e9a093370205b3d86"
          }
        },
        "bf64d8ce8e834d32b9de12e3a9ffbb64": {
          "model_module": "@jupyter-widgets/controls",
          "model_name": "ProgressStyleModel",
          "state": {
            "_view_name": "StyleView",
            "_model_name": "ProgressStyleModel",
            "description_width": "initial",
            "_view_module": "@jupyter-widgets/base",
            "_model_module_version": "1.5.0",
            "_view_count": null,
            "_view_module_version": "1.2.0",
            "bar_color": null,
            "_model_module": "@jupyter-widgets/controls"
          }
        },
        "6f74f3782c9741e98134b5e08f1e440d": {
          "model_module": "@jupyter-widgets/base",
          "model_name": "LayoutModel",
          "state": {
            "_view_name": "LayoutView",
            "grid_template_rows": null,
            "right": null,
            "justify_content": null,
            "_view_module": "@jupyter-widgets/base",
            "overflow": null,
            "_model_module_version": "1.2.0",
            "_view_count": null,
            "flex_flow": null,
            "width": null,
            "min_width": null,
            "border": null,
            "align_items": null,
            "bottom": null,
            "_model_module": "@jupyter-widgets/base",
            "top": null,
            "grid_column": null,
            "overflow_y": null,
            "overflow_x": null,
            "grid_auto_flow": null,
            "grid_area": null,
            "grid_template_columns": null,
            "flex": null,
            "_model_name": "LayoutModel",
            "justify_items": null,
            "grid_row": null,
            "max_height": null,
            "align_content": null,
            "visibility": null,
            "align_self": null,
            "height": null,
            "min_height": null,
            "padding": null,
            "grid_auto_rows": null,
            "grid_gap": null,
            "max_width": null,
            "order": null,
            "_view_module_version": "1.2.0",
            "grid_template_areas": null,
            "object_position": null,
            "object_fit": null,
            "grid_auto_columns": null,
            "margin": null,
            "display": null,
            "left": null
          }
        },
        "d33c919d9f5f42d4845072b5a5c015b8": {
          "model_module": "@jupyter-widgets/controls",
          "model_name": "DescriptionStyleModel",
          "state": {
            "_view_name": "StyleView",
            "_model_name": "DescriptionStyleModel",
            "description_width": "",
            "_view_module": "@jupyter-widgets/base",
            "_model_module_version": "1.5.0",
            "_view_count": null,
            "_view_module_version": "1.2.0",
            "_model_module": "@jupyter-widgets/controls"
          }
        },
        "678ec26d6df4409e9a093370205b3d86": {
          "model_module": "@jupyter-widgets/base",
          "model_name": "LayoutModel",
          "state": {
            "_view_name": "LayoutView",
            "grid_template_rows": null,
            "right": null,
            "justify_content": null,
            "_view_module": "@jupyter-widgets/base",
            "overflow": null,
            "_model_module_version": "1.2.0",
            "_view_count": null,
            "flex_flow": null,
            "width": null,
            "min_width": null,
            "border": null,
            "align_items": null,
            "bottom": null,
            "_model_module": "@jupyter-widgets/base",
            "top": null,
            "grid_column": null,
            "overflow_y": null,
            "overflow_x": null,
            "grid_auto_flow": null,
            "grid_area": null,
            "grid_template_columns": null,
            "flex": null,
            "_model_name": "LayoutModel",
            "justify_items": null,
            "grid_row": null,
            "max_height": null,
            "align_content": null,
            "visibility": null,
            "align_self": null,
            "height": null,
            "min_height": null,
            "padding": null,
            "grid_auto_rows": null,
            "grid_gap": null,
            "max_width": null,
            "order": null,
            "_view_module_version": "1.2.0",
            "grid_template_areas": null,
            "object_position": null,
            "object_fit": null,
            "grid_auto_columns": null,
            "margin": null,
            "display": null,
            "left": null
          }
        },
        "a6e6f334638c4693a08583d3f0bf8bbc": {
          "model_module": "@jupyter-widgets/controls",
          "model_name": "HBoxModel",
          "state": {
            "_view_name": "HBoxView",
            "_dom_classes": [],
            "_model_name": "HBoxModel",
            "_view_module": "@jupyter-widgets/controls",
            "_model_module_version": "1.5.0",
            "_view_count": null,
            "_view_module_version": "1.5.0",
            "box_style": "",
            "layout": "IPY_MODEL_ca1bff1e72da42c4af58c3a322e8639a",
            "_model_module": "@jupyter-widgets/controls",
            "children": [
              "IPY_MODEL_aaf5300787d947cfa6365a7ea436affb",
              "IPY_MODEL_ea246a013ba2424e9869d2df75fb4a13"
            ]
          }
        },
        "ca1bff1e72da42c4af58c3a322e8639a": {
          "model_module": "@jupyter-widgets/base",
          "model_name": "LayoutModel",
          "state": {
            "_view_name": "LayoutView",
            "grid_template_rows": null,
            "right": null,
            "justify_content": null,
            "_view_module": "@jupyter-widgets/base",
            "overflow": null,
            "_model_module_version": "1.2.0",
            "_view_count": null,
            "flex_flow": null,
            "width": null,
            "min_width": null,
            "border": null,
            "align_items": null,
            "bottom": null,
            "_model_module": "@jupyter-widgets/base",
            "top": null,
            "grid_column": null,
            "overflow_y": null,
            "overflow_x": null,
            "grid_auto_flow": null,
            "grid_area": null,
            "grid_template_columns": null,
            "flex": null,
            "_model_name": "LayoutModel",
            "justify_items": null,
            "grid_row": null,
            "max_height": null,
            "align_content": null,
            "visibility": null,
            "align_self": null,
            "height": null,
            "min_height": null,
            "padding": null,
            "grid_auto_rows": null,
            "grid_gap": null,
            "max_width": null,
            "order": null,
            "_view_module_version": "1.2.0",
            "grid_template_areas": null,
            "object_position": null,
            "object_fit": null,
            "grid_auto_columns": null,
            "margin": null,
            "display": null,
            "left": null
          }
        },
        "aaf5300787d947cfa6365a7ea436affb": {
          "model_module": "@jupyter-widgets/controls",
          "model_name": "FloatProgressModel",
          "state": {
            "_view_name": "ProgressView",
            "style": "IPY_MODEL_651b1c46048943dcb5c886680f09d28c",
            "_dom_classes": [],
            "description": "100%",
            "_model_name": "FloatProgressModel",
            "bar_style": "success",
            "max": 848,
            "_view_module": "@jupyter-widgets/controls",
            "_model_module_version": "1.5.0",
            "value": 848,
            "_view_count": null,
            "_view_module_version": "1.5.0",
            "orientation": "horizontal",
            "min": 0,
            "description_tooltip": null,
            "_model_module": "@jupyter-widgets/controls",
            "layout": "IPY_MODEL_b7925ad3ec484d2da984ac15a9c1efd4"
          }
        },
        "ea246a013ba2424e9869d2df75fb4a13": {
          "model_module": "@jupyter-widgets/controls",
          "model_name": "HTMLModel",
          "state": {
            "_view_name": "HTMLView",
            "style": "IPY_MODEL_a56f2cc56d654e709063bdb2b0d15b7c",
            "_dom_classes": [],
            "description": "",
            "_model_name": "HTMLModel",
            "placeholder": "​",
            "_view_module": "@jupyter-widgets/controls",
            "_model_module_version": "1.5.0",
            "value": " 848/848 [13:22&lt;00:00,  1.06it/s]",
            "_view_count": null,
            "_view_module_version": "1.5.0",
            "description_tooltip": null,
            "_model_module": "@jupyter-widgets/controls",
            "layout": "IPY_MODEL_3067be65aac947f8a17da4b768d5a373"
          }
        },
        "651b1c46048943dcb5c886680f09d28c": {
          "model_module": "@jupyter-widgets/controls",
          "model_name": "ProgressStyleModel",
          "state": {
            "_view_name": "StyleView",
            "_model_name": "ProgressStyleModel",
            "description_width": "initial",
            "_view_module": "@jupyter-widgets/base",
            "_model_module_version": "1.5.0",
            "_view_count": null,
            "_view_module_version": "1.2.0",
            "bar_color": null,
            "_model_module": "@jupyter-widgets/controls"
          }
        },
        "b7925ad3ec484d2da984ac15a9c1efd4": {
          "model_module": "@jupyter-widgets/base",
          "model_name": "LayoutModel",
          "state": {
            "_view_name": "LayoutView",
            "grid_template_rows": null,
            "right": null,
            "justify_content": null,
            "_view_module": "@jupyter-widgets/base",
            "overflow": null,
            "_model_module_version": "1.2.0",
            "_view_count": null,
            "flex_flow": null,
            "width": null,
            "min_width": null,
            "border": null,
            "align_items": null,
            "bottom": null,
            "_model_module": "@jupyter-widgets/base",
            "top": null,
            "grid_column": null,
            "overflow_y": null,
            "overflow_x": null,
            "grid_auto_flow": null,
            "grid_area": null,
            "grid_template_columns": null,
            "flex": null,
            "_model_name": "LayoutModel",
            "justify_items": null,
            "grid_row": null,
            "max_height": null,
            "align_content": null,
            "visibility": null,
            "align_self": null,
            "height": null,
            "min_height": null,
            "padding": null,
            "grid_auto_rows": null,
            "grid_gap": null,
            "max_width": null,
            "order": null,
            "_view_module_version": "1.2.0",
            "grid_template_areas": null,
            "object_position": null,
            "object_fit": null,
            "grid_auto_columns": null,
            "margin": null,
            "display": null,
            "left": null
          }
        },
        "a56f2cc56d654e709063bdb2b0d15b7c": {
          "model_module": "@jupyter-widgets/controls",
          "model_name": "DescriptionStyleModel",
          "state": {
            "_view_name": "StyleView",
            "_model_name": "DescriptionStyleModel",
            "description_width": "",
            "_view_module": "@jupyter-widgets/base",
            "_model_module_version": "1.5.0",
            "_view_count": null,
            "_view_module_version": "1.2.0",
            "_model_module": "@jupyter-widgets/controls"
          }
        },
        "3067be65aac947f8a17da4b768d5a373": {
          "model_module": "@jupyter-widgets/base",
          "model_name": "LayoutModel",
          "state": {
            "_view_name": "LayoutView",
            "grid_template_rows": null,
            "right": null,
            "justify_content": null,
            "_view_module": "@jupyter-widgets/base",
            "overflow": null,
            "_model_module_version": "1.2.0",
            "_view_count": null,
            "flex_flow": null,
            "width": null,
            "min_width": null,
            "border": null,
            "align_items": null,
            "bottom": null,
            "_model_module": "@jupyter-widgets/base",
            "top": null,
            "grid_column": null,
            "overflow_y": null,
            "overflow_x": null,
            "grid_auto_flow": null,
            "grid_area": null,
            "grid_template_columns": null,
            "flex": null,
            "_model_name": "LayoutModel",
            "justify_items": null,
            "grid_row": null,
            "max_height": null,
            "align_content": null,
            "visibility": null,
            "align_self": null,
            "height": null,
            "min_height": null,
            "padding": null,
            "grid_auto_rows": null,
            "grid_gap": null,
            "max_width": null,
            "order": null,
            "_view_module_version": "1.2.0",
            "grid_template_areas": null,
            "object_position": null,
            "object_fit": null,
            "grid_auto_columns": null,
            "margin": null,
            "display": null,
            "left": null
          }
        },
        "aff31a73f93a4278a95431d6acf85434": {
          "model_module": "@jupyter-widgets/controls",
          "model_name": "HBoxModel",
          "state": {
            "_view_name": "HBoxView",
            "_dom_classes": [],
            "_model_name": "HBoxModel",
            "_view_module": "@jupyter-widgets/controls",
            "_model_module_version": "1.5.0",
            "_view_count": null,
            "_view_module_version": "1.5.0",
            "box_style": "",
            "layout": "IPY_MODEL_ad4f89670b1343c78d48ec4651dbc08f",
            "_model_module": "@jupyter-widgets/controls",
            "children": [
              "IPY_MODEL_78fb871e8462480d802ce72d7036c75a",
              "IPY_MODEL_e2958da602394013ba10576e422fa8e3"
            ]
          }
        },
        "ad4f89670b1343c78d48ec4651dbc08f": {
          "model_module": "@jupyter-widgets/base",
          "model_name": "LayoutModel",
          "state": {
            "_view_name": "LayoutView",
            "grid_template_rows": null,
            "right": null,
            "justify_content": null,
            "_view_module": "@jupyter-widgets/base",
            "overflow": null,
            "_model_module_version": "1.2.0",
            "_view_count": null,
            "flex_flow": null,
            "width": null,
            "min_width": null,
            "border": null,
            "align_items": null,
            "bottom": null,
            "_model_module": "@jupyter-widgets/base",
            "top": null,
            "grid_column": null,
            "overflow_y": null,
            "overflow_x": null,
            "grid_auto_flow": null,
            "grid_area": null,
            "grid_template_columns": null,
            "flex": null,
            "_model_name": "LayoutModel",
            "justify_items": null,
            "grid_row": null,
            "max_height": null,
            "align_content": null,
            "visibility": null,
            "align_self": null,
            "height": null,
            "min_height": null,
            "padding": null,
            "grid_auto_rows": null,
            "grid_gap": null,
            "max_width": null,
            "order": null,
            "_view_module_version": "1.2.0",
            "grid_template_areas": null,
            "object_position": null,
            "object_fit": null,
            "grid_auto_columns": null,
            "margin": null,
            "display": null,
            "left": null
          }
        },
        "78fb871e8462480d802ce72d7036c75a": {
          "model_module": "@jupyter-widgets/controls",
          "model_name": "FloatProgressModel",
          "state": {
            "_view_name": "ProgressView",
            "style": "IPY_MODEL_2655d9cd8a0c403f95cf0323b8c8394e",
            "_dom_classes": [],
            "description": "100%",
            "_model_name": "FloatProgressModel",
            "bar_style": "success",
            "max": 848,
            "_view_module": "@jupyter-widgets/controls",
            "_model_module_version": "1.5.0",
            "value": 848,
            "_view_count": null,
            "_view_module_version": "1.5.0",
            "orientation": "horizontal",
            "min": 0,
            "description_tooltip": null,
            "_model_module": "@jupyter-widgets/controls",
            "layout": "IPY_MODEL_afa36680799d4b86897b87ba3d26c408"
          }
        },
        "e2958da602394013ba10576e422fa8e3": {
          "model_module": "@jupyter-widgets/controls",
          "model_name": "HTMLModel",
          "state": {
            "_view_name": "HTMLView",
            "style": "IPY_MODEL_c177ea5c27f54c57852268a19b18a731",
            "_dom_classes": [],
            "description": "",
            "_model_name": "HTMLModel",
            "placeholder": "​",
            "_view_module": "@jupyter-widgets/controls",
            "_model_module_version": "1.5.0",
            "value": " 848/848 [06:41&lt;00:00,  2.11it/s]",
            "_view_count": null,
            "_view_module_version": "1.5.0",
            "description_tooltip": null,
            "_model_module": "@jupyter-widgets/controls",
            "layout": "IPY_MODEL_10d1795d6b834c2bbd19fbfc3db8f101"
          }
        },
        "2655d9cd8a0c403f95cf0323b8c8394e": {
          "model_module": "@jupyter-widgets/controls",
          "model_name": "ProgressStyleModel",
          "state": {
            "_view_name": "StyleView",
            "_model_name": "ProgressStyleModel",
            "description_width": "initial",
            "_view_module": "@jupyter-widgets/base",
            "_model_module_version": "1.5.0",
            "_view_count": null,
            "_view_module_version": "1.2.0",
            "bar_color": null,
            "_model_module": "@jupyter-widgets/controls"
          }
        },
        "afa36680799d4b86897b87ba3d26c408": {
          "model_module": "@jupyter-widgets/base",
          "model_name": "LayoutModel",
          "state": {
            "_view_name": "LayoutView",
            "grid_template_rows": null,
            "right": null,
            "justify_content": null,
            "_view_module": "@jupyter-widgets/base",
            "overflow": null,
            "_model_module_version": "1.2.0",
            "_view_count": null,
            "flex_flow": null,
            "width": null,
            "min_width": null,
            "border": null,
            "align_items": null,
            "bottom": null,
            "_model_module": "@jupyter-widgets/base",
            "top": null,
            "grid_column": null,
            "overflow_y": null,
            "overflow_x": null,
            "grid_auto_flow": null,
            "grid_area": null,
            "grid_template_columns": null,
            "flex": null,
            "_model_name": "LayoutModel",
            "justify_items": null,
            "grid_row": null,
            "max_height": null,
            "align_content": null,
            "visibility": null,
            "align_self": null,
            "height": null,
            "min_height": null,
            "padding": null,
            "grid_auto_rows": null,
            "grid_gap": null,
            "max_width": null,
            "order": null,
            "_view_module_version": "1.2.0",
            "grid_template_areas": null,
            "object_position": null,
            "object_fit": null,
            "grid_auto_columns": null,
            "margin": null,
            "display": null,
            "left": null
          }
        },
        "c177ea5c27f54c57852268a19b18a731": {
          "model_module": "@jupyter-widgets/controls",
          "model_name": "DescriptionStyleModel",
          "state": {
            "_view_name": "StyleView",
            "_model_name": "DescriptionStyleModel",
            "description_width": "",
            "_view_module": "@jupyter-widgets/base",
            "_model_module_version": "1.5.0",
            "_view_count": null,
            "_view_module_version": "1.2.0",
            "_model_module": "@jupyter-widgets/controls"
          }
        },
        "10d1795d6b834c2bbd19fbfc3db8f101": {
          "model_module": "@jupyter-widgets/base",
          "model_name": "LayoutModel",
          "state": {
            "_view_name": "LayoutView",
            "grid_template_rows": null,
            "right": null,
            "justify_content": null,
            "_view_module": "@jupyter-widgets/base",
            "overflow": null,
            "_model_module_version": "1.2.0",
            "_view_count": null,
            "flex_flow": null,
            "width": null,
            "min_width": null,
            "border": null,
            "align_items": null,
            "bottom": null,
            "_model_module": "@jupyter-widgets/base",
            "top": null,
            "grid_column": null,
            "overflow_y": null,
            "overflow_x": null,
            "grid_auto_flow": null,
            "grid_area": null,
            "grid_template_columns": null,
            "flex": null,
            "_model_name": "LayoutModel",
            "justify_items": null,
            "grid_row": null,
            "max_height": null,
            "align_content": null,
            "visibility": null,
            "align_self": null,
            "height": null,
            "min_height": null,
            "padding": null,
            "grid_auto_rows": null,
            "grid_gap": null,
            "max_width": null,
            "order": null,
            "_view_module_version": "1.2.0",
            "grid_template_areas": null,
            "object_position": null,
            "object_fit": null,
            "grid_auto_columns": null,
            "margin": null,
            "display": null,
            "left": null
          }
        }
      }
    },
    "accelerator": "GPU"
  },
  "cells": [
    {
      "cell_type": "markdown",
      "metadata": {
        "id": "view-in-github",
        "colab_type": "text"
      },
      "source": [
        "<a href=\"https://colab.research.google.com/github/andreytsimbalov/News_Classification_and_Vectorization/blob/main/Classifier_news.ipynb\" target=\"_parent\"><img src=\"https://colab.research.google.com/assets/colab-badge.svg\" alt=\"Open In Colab\"/></a>"
      ]
    },
    {
      "cell_type": "markdown",
      "metadata": {
        "id": "37aYdtJS4yvM"
      },
      "source": [
        "# Introduction"
      ]
    },
    {
      "cell_type": "code",
      "metadata": {
        "colab": {
          "base_uri": "https://localhost:8080/"
        },
        "id": "gjwgPKhx51Fd",
        "outputId": "9785f4b7-d8fc-4cfa-badf-37a2857982a8"
      },
      "source": [
        "from google.colab import drive\n",
        "drive.mount('/content/drive')\n",
        "\n",
        "md = '/content/drive/My Drive/Colab Notebooks/Diplom/'"
      ],
      "execution_count": null,
      "outputs": [
        {
          "output_type": "stream",
          "text": [
            "Mounted at /content/drive\n"
          ],
          "name": "stdout"
        }
      ]
    },
    {
      "cell_type": "code",
      "metadata": {
        "id": "UWSL2Wrg4yvR"
      },
      "source": [
        "import sklearn.cluster as sc\n",
        "import gensim\n",
        "import random\n",
        "import pandas as pd\n",
        "import numpy as np\n",
        "import time\n",
        "import datetime\n",
        "import pickle\n",
        "from tqdm.notebook import tqdm\n",
        "\n",
        "%matplotlib inline\n",
        "import matplotlib.pyplot as plt\n"
      ],
      "execution_count": null,
      "outputs": []
    },
    {
      "cell_type": "code",
      "metadata": {
        "id": "l9wJ43s-O5fo"
      },
      "source": [
        "main_tags_list = ['economy',\n",
        " 'entertainment',\n",
        " 'traditions',\n",
        " 'science',\n",
        " 'society',\n",
        " 'sports',\n",
        " 'technology']\n",
        "\n",
        "main_tags_dict = {0: 'economy',\n",
        " 1: 'entertainment',\n",
        " 2: 'traditions',\n",
        " 3: 'science',\n",
        " 4: 'society',\n",
        " 5: 'sports',\n",
        " 6: 'technology'}"
      ],
      "execution_count": null,
      "outputs": []
    },
    {
      "cell_type": "code",
      "metadata": {
        "id": "fwxq4Avy4yvS"
      },
      "source": [
        "# months = {\n",
        "#     'января':'01',\n",
        "#     'февраля':'02',\n",
        "#     'марта':'03',\n",
        "#     'апреля':'04',\n",
        "#     'мая':'05',\n",
        "#     'июня':'06',\n",
        "#     'июля':'07',\n",
        "#     'августа':'08',\n",
        "#     'сентября':'09',\n",
        "#     'октября':'10',\n",
        "#     'ноября':'11',\n",
        "#     'декабря':'12'\n",
        "# }\n",
        "# months_numbers = list(months.values())"
      ],
      "execution_count": null,
      "outputs": []
    },
    {
      "cell_type": "code",
      "metadata": {
        "id": "8KdvLv95VPaN"
      },
      "source": [
        "# def take_from_model(model):\n",
        "#   vocab_m = np.array(list(model.wv.vocab))\n",
        "#   counts_m = np.array([model.wv.vocab[v].count for v in vocab_m])\n",
        "#   n=10 # Выводит первые n самых частотных слов\n",
        "#   counts_max_m = sorted(np.unique(sorted(counts_m,reverse=True)[:n]),reverse=True)\n",
        "#   freq_index = [j  for i in counts_max_m for j in np.where(counts_m == i)[0]]\n",
        "#   freq_m = [vocab_m[i] for i in freq_index]\n",
        "#   return vocab_m, counts_m, counts_max_m, freq_m"
      ],
      "execution_count": null,
      "outputs": []
    },
    {
      "cell_type": "markdown",
      "metadata": {
        "id": "Gohe4mScj3Ki"
      },
      "source": [
        "# Извлечение данных для обучения\n"
      ]
    },
    {
      "cell_type": "code",
      "metadata": {
        "id": "MU0oDhh1Tkv4"
      },
      "source": [
        "# надо нормально проработать индексы для W2v+tfidf в балансиворке и шафле!!!!"
      ],
      "execution_count": null,
      "outputs": []
    },
    {
      "cell_type": "code",
      "metadata": {
        "id": "UwoGVFqSlHq0"
      },
      "source": [
        "# data = pd.read_pickle(md+'data/news_main_2020')\n",
        "# data.head()"
      ],
      "execution_count": null,
      "outputs": []
    },
    {
      "cell_type": "code",
      "metadata": {
        "colab": {
          "base_uri": "https://localhost:8080/"
        },
        "id": "P2PkkxiVkBom",
        "outputId": "370670df-9141-4745-dd24-830a8a98af65"
      },
      "source": [
        "def load_data_to_list_of_dict(path):\n",
        "  # path on lemm/stem data\n",
        "  # {\"label\": l,\"text\": t, }\n",
        "\n",
        "  df  = pd.read_pickle(path)\n",
        "  label = df.label.to_numpy()\n",
        "  try:\n",
        "    text = df.text.to_numpy()\n",
        "  except:\n",
        "    text = df.main_text.to_numpy()\n",
        "    print('text = main_text')\n",
        "\n",
        "  # return [{\"id\": i,\"label\": l,\"text\": t, } for i, l, t in zip(range(len(label)),label,text)]\n",
        "  return [{\"id\": i,\"label\": l,\"text\": t, } for i, l, t in zip(range(len(label)),label,text) if l!=-1]\n",
        "\n",
        "path = md + 'data/data_lemm'\n",
        "# path = md + 'data/news_main_2020'\n",
        "# path = md + 'data/data_stem'\n",
        "data_text = load_data_to_list_of_dict(path)\n",
        "len(data_text), data_text[4]"
      ],
      "execution_count": null,
      "outputs": [
        {
          "output_type": "execute_result",
          "data": {
            "text/plain": [
              "(69955,\n",
              " {'id': 6,\n",
              "  'label': 1,\n",
              "  'text': 'лоза отреагировать критика концерт пугачёв композитор юрий лоза интервью риа новость крым прокомментировать критика концерт алла пугачёв заявить телезритель должный право выбор ранее музыкальный критик сергей соседов признаться рад возвращение сцена ряд исполнитель привести пример алла пугачёв софия ротару николай носков назвать выступление печальный зрелище подчеркнуть примадонна еле дышать стоить сцена лоза встать защита российский артист отметить мир должный цветной человек хотеть видеть этот артист должный видеть тот хотеть мочь смотреть должный разный телепередача каждый житель страна мочь выбрать желаемый рассказать композитор композитор добавить возраст исполнитель иметь значение мнение важно форма находиться артист разница сколько мирей матья граница чувствовать свой ветеран который собирать стадион считать певец апрель прошедшее год государственный кремлёвский дворец состояться первый десять год сольный концерт алла пугачёв p.s. который приурочить число_возраст артистка '})"
            ]
          },
          "metadata": {
            "tags": []
          },
          "execution_count": 4
        }
      ]
    },
    {
      "cell_type": "code",
      "metadata": {
        "id": "Jm_3nx9wkBoo"
      },
      "source": [
        "def data_tr_ts_shaffle(data, koeff = 0.2):\n",
        "  # разбиение всего датасета на \n",
        "  #   тренировосный и тестовый с\n",
        "  #   коеффициентом koeff\n",
        "\n",
        "  \n",
        "  data = [d for d in data if d['label']!=-1]\n",
        "\n",
        "  random.seed(42)\n",
        "  random.shuffle(data)\n",
        "\n",
        "  data_tr_idx=[]\n",
        "  data_ts_idx=[]\n",
        "\n",
        "  data_tr=[]\n",
        "  data_ts=[]\n",
        "\n",
        "  tags = [d[\"label\"] for d in data]\n",
        "  mtv = np.zeros(len(main_tags_list))\n",
        "  for d in data:\n",
        "    mtv[d['label']]+=1\n",
        "  # mtv = list(main_tags_dict.values())\n",
        "  mtv_ts = np.zeros(len(mtv))\n",
        "  for i, d in enumerate(data):\n",
        "    now_tag = d['label']\n",
        "    if mtv_ts[now_tag] < koeff * mtv[now_tag]:\n",
        "      data_ts_idx.extend([i])\n",
        "    else:\n",
        "      data_tr_idx.extend([i])\n",
        "\n",
        "    mtv_ts[now_tag]+=1\n",
        "\n",
        "  random.shuffle(data_tr_idx)\n",
        "  random.shuffle(data_ts_idx)\n",
        "\n",
        "  data_tr = [data[i] for i in data_tr_idx]\n",
        "  data_ts = [data[i] for i in data_ts_idx]\n",
        "\n",
        "  data_tr_idx = [data[i]['id'] for i in data_tr_idx]\n",
        "  data_ts_idx = [data[i]['id'] for i in data_ts_idx]\n",
        "\n",
        "  return data_tr, data_tr_idx, data_ts, data_ts_idx\n",
        "\n",
        "# data_train, data_test = data_tr_ts_shaffle(data_text_bal_tfidf, 0.2) \n",
        "# len(data_train), len(data_test) "
      ],
      "execution_count": null,
      "outputs": []
    },
    {
      "cell_type": "code",
      "metadata": {
        "id": "vHjjPn3akBon"
      },
      "source": [
        "def balancing_classes_data(X, more_less = True, koeff_len = 0.5, return_indexes = False):\n",
        "  # more_less = True -> баленсировка вверх\n",
        "  # more_less = False -> баленсировка вниз\n",
        "\n",
        "  \n",
        "  X = [d for d in X if d['label']!=-1]\n",
        "\n",
        "  labels = [news[\"label\"] for news in X]\n",
        "  un = np.unique(labels)\n",
        "  un_tags_dict = dict(zip(un, np.zeros(len(un))))\n",
        "  for i in X:\n",
        "    un_tags_dict[i[\"label\"]]+=1\n",
        "\n",
        "  if more_less:\n",
        "    normal_un_len = 0\n",
        "    for u in un:\n",
        "      if un_tags_dict[u]>normal_un_len:\n",
        "        normal_un_len = un_tags_dict[u]\n",
        "  else:\n",
        "    normal_un_len =  un_tags_dict[un[0]]\n",
        "    for u in un:\n",
        "      if un_tags_dict[u]<normal_un_len:\n",
        "        normal_un_len = un_tags_dict[u]\n",
        "\n",
        "  \n",
        "  new_dtr=[]\n",
        "  new_dtr_indexes=[]\n",
        "\n",
        "  if more_less:\n",
        "    normal_un_len = normal_un_len * koeff_len\n",
        "    for x_i in X:\n",
        "      # new_dtr+=[x_i]\n",
        "      new_dtr_indexes+=[x_i['id']]\n",
        "      if un_tags_dict[x_i[\"label\"]]<normal_un_len:\n",
        "        for _ in range(int(normal_un_len//un_tags_dict[x_i[\"label\"]])):\n",
        "          # new_dtr+=[x_i]\n",
        "          new_dtr_indexes+=[x_i['id']]\n",
        "\n",
        "  else:\n",
        "    normal_un_len = normal_un_len / koeff_len\n",
        "    un_tags_count_less = dict(zip(un, np.zeros(len(un))))\n",
        "    for i, x_i in enumerate(X):\n",
        "      if un_tags_count_less[x_i[\"label\"]]<normal_un_len:\n",
        "        un_tags_count_less[x_i[\"label\"]]+=1\n",
        "        # new_dtr+=[x_i]\n",
        "        new_dtr_indexes+=[i]\n",
        "  print(f'normal_un_len: {normal_un_len}')\n",
        "  \n",
        "  # random.shuffle(new_dtr)\n",
        "  random.shuffle(new_dtr_indexes)\n",
        "\n",
        "  new_dtr = [X[i] for i in new_dtr_indexes]\n",
        "  new_dtr_indexes = [X[i]['id'] for i in new_dtr_indexes]\n",
        "\n",
        "  return new_dtr, new_dtr_indexes\n",
        "\n",
        "# data_text_bal_tfidf = balancing_classes_data(data_text_tfidf, False, 0.7)\n",
        "# len(data_text_bal_tfidf)"
      ],
      "execution_count": null,
      "outputs": []
    },
    {
      "cell_type": "code",
      "metadata": {
        "colab": {
          "base_uri": "https://localhost:8080/"
        },
        "id": "DZEWcWCkkBoo",
        "outputId": "110d9d2a-6e71-42a4-b872-3e8e087b39f5"
      },
      "source": [
        "data_train, data_train_idx, data_test, data_test_idx = data_tr_ts_shaffle(data_text, 0.2) \n",
        "\n",
        "more_less = False # True -> Up; False -> Down\n",
        "koeff_balance = 1\n",
        "data_train, data_train_idx = balancing_classes_data(data_train, more_less, koeff_balance)\n",
        "data_test, data_test_idx = balancing_classes_data(data_test, more_less, koeff_balance)\n",
        "print(len(data_train), len(data_test))\n",
        "\n",
        "X_train_text = [d['text'] for d in data_train]\n",
        "X_test_text = [d['text'] for d in data_test]\n",
        "\n",
        "y_train = [d['label'] for d in data_train]\n",
        "y_test = [d['label'] for d in data_test]\n",
        "data_train[:5]"
      ],
      "execution_count": null,
      "outputs": [
        {
          "output_type": "stream",
          "text": [
            "normal_un_len: 3876.0\n",
            "normal_un_len: 969.0\n",
            "27132 6783\n"
          ],
          "name": "stdout"
        },
        {
          "output_type": "execute_result",
          "data": {
            "text/plain": [
              "[{'id': 94022,\n",
              "  'label': 1,\n",
              "  'text': 'ефремов предложить сдать анализ запах алкоголь суд бывший адвокат михаил ефремов эльман пашаев предложить организовать сдача анализ актёр подсудимый обвинить запах алкоголь заседание пятница число август сообщать тасс бессовестный человек говорить ефрем употреблять заявить пашаев ответ слово артист пахнуть спиртное ранее ефрем заявить суд отказываться услуга пашаев партнёр елизавета шаргородской затем адвокат попасть видео запечатлеть удивление решение артист вечером число июнь михаил ефрем состояние алкогольный опьянение устроить смертельный авария центр москва автомобиль актёр вылететь встречный полоса столкнуться фургон водитель который сергей захаров скончаться больница ефрем заявить помнить произойти '},\n",
              " {'id': 14143,\n",
              "  'label': 4,\n",
              "  'text': 'вор закон пухлый пузырь завести дело лидерство преступный мир число_возраст вор закон владимир жураковский известный криминальный круг пухлый ровесник хизира акбулатов кличка пузырь завести уголовный дело лидерство преступный мир пятница число февраль сообщать агентство прайма крайма данные настоящий момент оба криминальный авторитет находиться территория турция число февраль сообщаться число_возраст вор закон дмитрий чантурия мирон мочь взять государственный защита заявить вымогательство взятка сторона сотрудник правоохранительный орган воровской мир стать беспрецедентный факт сотрудничество криминальный авторитет высокий уровень изобличение коррупционер мирон официально признать потерпевший действие сотрудник полиция который вымогать крупный сумма деньга предстоять стать суд свидетель обвинение '},\n",
              " {'id': 74418,\n",
              "  'label': 2,\n",
              "  'text': 'гостья свадьба чересчур вызывающий наряд вызвать спор сеть девушка прийти свадебный церемония чересчур вызывающий наряд вызвать спор сеть соответствовать дискуссия портал reddit обратить внимание журналист daily star разместить кадр неизвестный гостья позировать рядом молодой человек полупрозрачный платье красный цвет корсет кружевной вставка образ дополнить босоножка каблук многие пользователь платформа раскритиковать образ девушка казаться приходить чей-то свадьба красный табу казаться кто-то хотеть привлечь внимание хотя такой тело одеваться регулярно считать приходить свадьба наряд который затмевать невеста невежливый очень нравиться платье оно свадьба писать менее некоторый юзер выступить защита гостья такой произойти мой свадьба задеть отлично выглядеть обеспокоить кто-то получить внимание прийтись приглашать исключительно некрасивый друг выглядеть прекрасно хотеть мой гость выглядеть выразиться юзер ранее июль невеста прогнать число_возраст сестра свадьба большой грудь слово число_возраст девушка должный занять место подружка невеста торжество сестра выгнать свадьба откровенный декольте виновница торжество аргументировать внешний вид подросток отвлекать жених гость '},\n",
              " {'id': 125936,\n",
              "  'label': 3,\n",
              "  'text': 'назвать новый катастрофический последствие изменение климат учёный эксетерский университет великобритания прислать вывод глобальный потепление градус цельсий привести катастрофический высвобождение число миллиард тонна углекислый газ почва новый последствие изменение климат называться статья опубликовать журнал nature communications почва весь мир содержать число раз углерод атмосфера высокий температура ускорять разложение сокращать время который углерод проводить почва выпустить случай потепление градус цельсий объём четыре раз превышать общий объём выброс китай вдвое выброс сша последний число год оценка включать потеря углерод вечный мерзлота эффект возникать результат положительный обратный связь последствие какой-либо процесс усиливать процесс сей пора прогностический модель изменение климат учитывать влияние почвенный углерод вносить неопределённость предсказание решение проблема учёный скомбинировать модель климат углеродный цикл новый данные наблюдение позволить определить чувствительность почва различный место планета парижский соглашение число_год_2015 год предусматривать человечество должный допустить рост средний температура планета число градус глобальный потепление градус вызвать непредсказуемый изменение система атмосферный циркуляция происходить интенсивный таяние ледник привести очередь повышение уровень море '},\n",
              " {'id': 139280,\n",
              "  'label': 3,\n",
              "  'text': 'назвать способ предотвратить перегрев ноутбук предотвратить перегрев ноутбук нужно следить вентиляционный отверстие также перегружать процессор шесть совет уход гаджет дать журнал business insider вентиляционный отверстие компьютер ничто закрывать иначе туда поступать нужный количество воздух ноутбук ставить твёрдый плоский поверхность кроме использовать специальный охлаждать подставка использовать ресурсоёмкий программа который быть заставлять процессор компонент работать быстрый перегреваться также рекомендоваться изменить настройка производительность ноутбук снизить нагрузка компонент следовать обращать внимание загрязнённость отверстие ноутбук накопиться пыль следовать очистить дать девайс остыть некоторый время выключить ранее руководитель hi-tech mail.ru дмитрий рябинин раскрыть способ продлить срок жизнь ноутбук слово нужно следить состояние аккумулятор гаджет приложение который работать фоновый режим '}]"
            ]
          },
          "metadata": {
            "tags": []
          },
          "execution_count": 7
        }
      ]
    },
    {
      "cell_type": "code",
      "metadata": {
        "colab": {
          "base_uri": "https://localhost:8080/",
          "height": 84,
          "referenced_widgets": [
            "36732768007c476e972bee3c5ffe3d29",
            "4f0234e08d454a36878e13692417031f",
            "179f9122511f45909a46ba3fe0e5151d",
            "c0279ec0c9a54026a3fa55b9045c9f2e",
            "0e8fafe91f064bf2a33bec99774eb55b",
            "ebfcaf24140542c1b2ae8b77b0c81a04",
            "5ea3e8084d9046ac9893afb5def610b2",
            "a9aa2170216745a8a255b354b97719a3"
          ]
        },
        "id": "F6hVzRB5j96Z",
        "outputId": "0a54d41e-33b7-42a4-eca1-99568808b757"
      },
      "source": [
        "max_sent_len = 0\n",
        "for text_i in tqdm([d['text'] for d in data_text]):\n",
        "  now_len = len(text_i.split())\n",
        "  max_sent_len = max(max_sent_len, now_len)\n",
        "max_sent_len"
      ],
      "execution_count": null,
      "outputs": [
        {
          "output_type": "display_data",
          "data": {
            "application/vnd.jupyter.widget-view+json": {
              "model_id": "36732768007c476e972bee3c5ffe3d29",
              "version_minor": 0,
              "version_major": 2
            },
            "text/plain": [
              "HBox(children=(FloatProgress(value=0.0, max=69955.0), HTML(value='')))"
            ]
          },
          "metadata": {
            "tags": []
          }
        },
        {
          "output_type": "stream",
          "text": [
            "\n"
          ],
          "name": "stdout"
        },
        {
          "output_type": "execute_result",
          "data": {
            "text/plain": [
              "3705"
            ]
          },
          "metadata": {
            "tags": []
          },
          "execution_count": 45
        }
      ]
    },
    {
      "cell_type": "code",
      "metadata": {
        "id": "ZP_JiuW4qs6b"
      },
      "source": [
        ""
      ],
      "execution_count": null,
      "outputs": []
    },
    {
      "cell_type": "code",
      "metadata": {
        "colab": {
          "base_uri": "https://localhost:8080/"
        },
        "id": "8lWVku0fgIJI",
        "outputId": "192ad92a-b807-4412-955d-706cd4fcda0d"
      },
      "source": [
        "lens = [len(text_i.split()) for text_i in [d['text'] for d in data_text]]\n",
        "lens.sort()\n",
        "lens = np.array(lens)\n",
        "len(lens[lens>5000])/len(lens)"
      ],
      "execution_count": null,
      "outputs": [
        {
          "output_type": "execute_result",
          "data": {
            "text/plain": [
              "0.0"
            ]
          },
          "metadata": {
            "tags": []
          },
          "execution_count": 13
        }
      ]
    },
    {
      "cell_type": "code",
      "metadata": {
        "colab": {
          "base_uri": "https://localhost:8080/",
          "height": 265
        },
        "id": "KrixYKTlgVqN",
        "outputId": "6d9762d5-3c40-47b2-f5cd-99c2f875eb95"
      },
      "source": [
        "plt.plot(lens)\n",
        "plt.show()"
      ],
      "execution_count": null,
      "outputs": [
        {
          "output_type": "display_data",
          "data": {
            "image/png": "[encoded data removed]",
            "text/plain": [
              "<Figure size 432x288 with 1 Axes>"
            ]
          },
          "metadata": {
            "tags": [],
            "needs_background": "light"
          }
        }
      ]
    },
    {
      "cell_type": "code",
      "metadata": {
        "colab": {
          "base_uri": "https://localhost:8080/"
        },
        "id": "J_yyjQkUgsct",
        "outputId": "9b8d51a7-3926-45e7-a6c5-c258c8ffc303"
      },
      "source": [
        "len(lens[lens>512])/len(lens)"
      ],
      "execution_count": null,
      "outputs": [
        {
          "output_type": "execute_result",
          "data": {
            "text/plain": [
              "0.013337145307697806"
            ]
          },
          "metadata": {
            "tags": []
          },
          "execution_count": 24
        }
      ]
    },
    {
      "cell_type": "markdown",
      "metadata": {
        "id": "ptscUkgH4yvX"
      },
      "source": [
        "# w2v классификация модели"
      ]
    },
    {
      "cell_type": "code",
      "metadata": {
        "id": "Ife8e78b_Wma"
      },
      "source": [
        "X_vectors = pickle.load(open(md+\"models/w2v_tfidf_vector_data.pickle\", \"rb\"))\n",
        "# X_vectors_train = pickle.load(open(md+\"models/w2v_tfidf_train_data_down.pickle\", \"rb\"))\n",
        "# X_vectors_test = pickle.load(open(md+\"models/w2v_tfidf_test_data.pickle\", \"rb\"))"
      ],
      "execution_count": null,
      "outputs": []
    },
    {
      "cell_type": "code",
      "metadata": {
        "colab": {
          "base_uri": "https://localhost:8080/"
        },
        "id": "_QDj1rCF_Wph",
        "outputId": "126c7a05-8ef9-4426-87ff-265f97660333"
      },
      "source": [
        "X_train = [X_vectors[i] for i in data_train_idx]\n",
        "X_test = [X_vectors[i] for i in data_test_idx]\n",
        "del X_vectors\n",
        "len(X_train), len(X_test)"
      ],
      "execution_count": null,
      "outputs": [
        {
          "output_type": "execute_result",
          "data": {
            "text/plain": [
              "(27132, 6783)"
            ]
          },
          "metadata": {
            "tags": []
          },
          "execution_count": 35
        }
      ]
    },
    {
      "cell_type": "code",
      "metadata": {
        "id": "rSo1RmZqGuVa",
        "colab": {
          "base_uri": "https://localhost:8080/"
        },
        "outputId": "cc09e594-ce09-4d0a-ac1a-11db7bf56c46"
      },
      "source": [
        "len(data_train_idx) == len(X_train)"
      ],
      "execution_count": null,
      "outputs": [
        {
          "output_type": "execute_result",
          "data": {
            "text/plain": [
              "True"
            ]
          },
          "metadata": {
            "tags": []
          },
          "execution_count": 95
        }
      ]
    },
    {
      "cell_type": "code",
      "metadata": {
        "id": "n51lw73BHF7r"
      },
      "source": [
        ""
      ],
      "execution_count": null,
      "outputs": []
    },
    {
      "cell_type": "code",
      "metadata": {
        "id": "wWXPZq454yvX"
      },
      "source": [
        "w2v = gensim.models.Word2Vec.load(md+\"models/w2v_lemm_300.model\")"
      ],
      "execution_count": null,
      "outputs": []
    },
    {
      "cell_type": "code",
      "metadata": {
        "id": "9wfQhZuPP3CE"
      },
      "source": [
        "tfidf = pickle.load(open(md+\"models/tfidf_lemm.pickle\", \"rb\"))\n",
        "tfidf_words = tfidf.get_feature_names()\n",
        "tfidf_dict = dict(zip(tfidf_words, tfidf.idf_))"
      ],
      "execution_count": null,
      "outputs": []
    },
    {
      "cell_type": "code",
      "metadata": {
        "id": "nrRjkuKd4yvY"
      },
      "source": [
        "# def get_w2v_similar_words(pos = \"\", neg = \"\"):\n",
        "#     # pos = [rs.stem(i) for i in pos.split()]\n",
        "#     # neg = [rs.stem(i) for i in neg.split()]\n",
        "#     return w2v.wv.most_similar(positive=pos, negative = neg)\n",
        "\n",
        "# get_w2v_similar_words('спорт', '')"
      ],
      "execution_count": null,
      "outputs": []
    },
    {
      "cell_type": "code",
      "metadata": {
        "colab": {
          "base_uri": "https://localhost:8080/",
          "height": 67,
          "referenced_widgets": [
            "76183d732a5c4690bbb183e8dcc4ce39",
            "f92b96b81c2e499bb362bffc3b9eac9e",
            "b2df6bcad79d423a94c9c5454eaac0d0",
            "fdb8c0d65d294e1897ff0698007b6456",
            "d7e72a403e954059a1bc51875d89faf5",
            "2e5a1c02c19b40ac809d052167131c35",
            "4a477af054ee4c8c82cac98f4313150a",
            "42af2609beb34fe59c06d2ba62e6f503"
          ]
        },
        "id": "lpsoeqrr9Caf",
        "outputId": "eaa35ab2-20b6-47a1-f112-f30092c36774"
      },
      "source": [
        "def word_embedding_w2v_with_tfidf(text, model):\n",
        "  # векторизация слов в тексте с tfidf\n",
        "  word_embedd = []\n",
        "  for text_i in tqdm(text):\n",
        "    we = np.zeros(model.wv.vector_size)\n",
        "    count = 0\n",
        "    for word in text_i.split():\n",
        "      try:\n",
        "      # if word in model.wv.vocab and word in tfidf_words:\n",
        "        tfidf_koeff = tfidf_dict[word]\n",
        "        we += model.wv[word] * tfidf_koeff\n",
        "        # we = [we_i + wv * tfidf_koeff for we_i, wv in zip(we, model.wv[word])]\n",
        "        count+=1\n",
        "      except:\n",
        "        pass\n",
        "    if count!=0:\n",
        "      we = we / count\n",
        "    word_embedd.extend([we])\n",
        "  return word_embedd\n",
        "\n",
        "x_test_data = word_embedding_w2v_with_tfidf(X_train_text[:100], w2v)"
      ],
      "execution_count": null,
      "outputs": [
        {
          "output_type": "display_data",
          "data": {
            "application/vnd.jupyter.widget-view+json": {
              "model_id": "76183d732a5c4690bbb183e8dcc4ce39",
              "version_major": 2,
              "version_minor": 0
            },
            "text/plain": [
              "HBox(children=(FloatProgress(value=0.0), HTML(value='')))"
            ]
          },
          "metadata": {
            "tags": []
          }
        },
        {
          "output_type": "stream",
          "text": [
            "\n"
          ],
          "name": "stdout"
        }
      ]
    },
    {
      "cell_type": "code",
      "metadata": {
        "colab": {
          "base_uri": "https://localhost:8080/"
        },
        "id": "ug7KPjHQ-NaS",
        "outputId": "1ff5fe1c-ab52-4c6c-d0fb-32910e0d018b"
      },
      "source": [
        "len(x_test_data[0])"
      ],
      "execution_count": null,
      "outputs": [
        {
          "output_type": "execute_result",
          "data": {
            "text/plain": [
              "300"
            ]
          },
          "metadata": {
            "tags": []
          },
          "execution_count": 33
        }
      ]
    },
    {
      "cell_type": "code",
      "metadata": {
        "id": "GyviL2BX_kOu"
      },
      "source": [
        "x_test_data"
      ],
      "execution_count": null,
      "outputs": []
    },
    {
      "cell_type": "code",
      "metadata": {
        "colab": {
          "base_uri": "https://localhost:8080/",
          "height": 116,
          "referenced_widgets": [
            "93f57a0b1bab464c848b980ef6acadbb",
            "a5ba64be3d9144a695420cb54238e957",
            "42ea0c85e1ac4ec99e62c6357356daec",
            "1d0d2a465c214fef8a874b6fab579a52",
            "9da9c2fb525144338eb3126bf078701c",
            "bfb79de31a044a6fa360c776c5851473",
            "53d192ba0e8d4cb1945a72c33590ed21",
            "01444cb336cc44b394d074c00a3388da",
            "19b55f908afd4ac2bd12aacab65e6ca6",
            "41c66c2edb054374b8dc17b85090902e",
            "fa78ef3e19754169a88c777529ec67b3",
            "77d06b6f8eeb41e9a091ae7b912e2788",
            "6dbf8f27e64e449c946d6aebac3f0f56",
            "f5155e83fed944889b26453c6b84fcdf",
            "c61fac757118452397bfbe625804ed9c",
            "f49135fd8a2d4ecca8ed9518aee19bd9"
          ]
        },
        "id": "bBVTQdQOnF1q",
        "outputId": "c34333c9-102e-4c76-c28b-ac1f509ff835"
      },
      "source": [
        "X_train = word_embedding_w2v_with_tfidf(X_train_text, w2v)\n",
        "X_test = word_embedding_w2v_with_tfidf(X_test_text, w2v)\n",
        "len(X_train), len(X_test)"
      ],
      "execution_count": null,
      "outputs": [
        {
          "output_type": "display_data",
          "data": {
            "application/vnd.jupyter.widget-view+json": {
              "model_id": "93f57a0b1bab464c848b980ef6acadbb",
              "version_major": 2,
              "version_minor": 0
            },
            "text/plain": [
              "HBox(children=(FloatProgress(value=0.0, max=36564.0), HTML(value='')))"
            ]
          },
          "metadata": {
            "tags": []
          }
        },
        {
          "output_type": "stream",
          "text": [
            "\n"
          ],
          "name": "stdout"
        },
        {
          "output_type": "display_data",
          "data": {
            "application/vnd.jupyter.widget-view+json": {
              "model_id": "19b55f908afd4ac2bd12aacab65e6ca6",
              "version_major": 2,
              "version_minor": 0
            },
            "text/plain": [
              "HBox(children=(FloatProgress(value=0.0, max=13994.0), HTML(value='')))"
            ]
          },
          "metadata": {
            "tags": []
          }
        },
        {
          "output_type": "stream",
          "text": [
            "\n"
          ],
          "name": "stdout"
        }
      ]
    },
    {
      "cell_type": "code",
      "metadata": {
        "colab": {
          "base_uri": "https://localhost:8080/"
        },
        "id": "GiO_nnB8kpT9",
        "outputId": "99e465ca-9e9b-4fc0-fa90-8aadd42006ab"
      },
      "source": [
        "len(X_train), len(X_test)"
      ],
      "execution_count": null,
      "outputs": [
        {
          "output_type": "execute_result",
          "data": {
            "text/plain": [
              "36564"
            ]
          },
          "metadata": {
            "tags": []
          },
          "execution_count": 36
        }
      ]
    },
    {
      "cell_type": "code",
      "metadata": {
        "id": "cOreb3RAFQz2"
      },
      "source": [
        "X_train[0]"
      ],
      "execution_count": null,
      "outputs": []
    },
    {
      "cell_type": "code",
      "metadata": {
        "id": "SCQch04B4yvZ"
      },
      "source": [
        "# del X_train\n",
        "# del X_test"
      ],
      "execution_count": null,
      "outputs": []
    },
    {
      "cell_type": "code",
      "metadata": {
        "id": "BKDyMg2gtTXJ"
      },
      "source": [
        "pickle.dump(X_train, open(md+\"models/w2v_tfidf_train_data_down.pickle\", \"wb\"))\n",
        "pickle.dump(X_test, open(md+\"models/w2v_tfidf_test_data.pickle\", \"wb\"))"
      ],
      "execution_count": null,
      "outputs": []
    },
    {
      "cell_type": "code",
      "metadata": {
        "id": "0V5QMtLXE99C"
      },
      "source": [
        "X_train = pickle.load(open(md+\"models/w2v_tfidf_train_data_down.pickle\", \"rb\"))\n",
        "X_test = pickle.load(open(md+\"models/w2v_tfidf_test_data.pickle\", \"rb\"))"
      ],
      "execution_count": null,
      "outputs": []
    },
    {
      "cell_type": "code",
      "metadata": {
        "id": "O7QuR4qpSXIk"
      },
      "source": [
        "X_test[0]"
      ],
      "execution_count": null,
      "outputs": []
    },
    {
      "cell_type": "markdown",
      "metadata": {
        "id": "TyLt8mDj4yvZ"
      },
      "source": [
        "# d2v классификация модели"
      ]
    },
    {
      "cell_type": "code",
      "metadata": {
        "id": "zu1gFR8o4yvZ"
      },
      "source": [
        "d2v = gensim.models.Doc2Vec.load(md+\"models/d2v_300.model\")"
      ],
      "execution_count": null,
      "outputs": []
    },
    {
      "cell_type": "code",
      "metadata": {
        "colab": {
          "base_uri": "https://localhost:8080/",
          "height": 116,
          "referenced_widgets": [
            "6d1f0efd42d94c5584d4b85609396eaf",
            "614540a176cc45ebaca15633d61ac384",
            "00998bf1ada64125bb9db3c068513cc7",
            "c1674a9ef5834b269ce9bfd5e24ba913",
            "cb06dc855b894119b250464309b5e034",
            "ef2dd054f24a45188509cc381c1d9515",
            "533788ad9a8b4157a32c2da357ff4d13",
            "7f18e0a9186c4aa9afe681d6e1bb6868",
            "65f995d118e046b0a63908da5a9fd2d1",
            "eb67da9a1330434682dd562b619415dc",
            "4cadb23bde454adeb3c00c63f21f77a0",
            "52c9b931e86044afaf1b40c7174f9c0f",
            "c89dc205058d4f6796b8e76b85e42df4",
            "3a69a0460f084b7f8c34ed3f3f09b2de",
            "dd4c229e1dac4fdd877489f94b56399e",
            "f3b3f35a064a42878aa717cd9734f86a"
          ]
        },
        "id": "hRC8kDwHcmQz",
        "outputId": "32350bdb-44a7-42bf-9bb7-04d7fd7d3d41"
      },
      "source": [
        "X_train = [d2v.infer_vector(text) for text in tqdm(X_train_text)]\n",
        "X_test = [d2v.infer_vector(text) for text in tqdm(X_test_text)]"
      ],
      "execution_count": null,
      "outputs": [
        {
          "output_type": "display_data",
          "data": {
            "application/vnd.jupyter.widget-view+json": {
              "model_id": "6d1f0efd42d94c5584d4b85609396eaf",
              "version_minor": 0,
              "version_major": 2
            },
            "text/plain": [
              "HBox(children=(FloatProgress(value=0.0, max=27132.0), HTML(value='')))"
            ]
          },
          "metadata": {
            "tags": []
          }
        },
        {
          "output_type": "stream",
          "text": [
            "\n"
          ],
          "name": "stdout"
        },
        {
          "output_type": "display_data",
          "data": {
            "application/vnd.jupyter.widget-view+json": {
              "model_id": "65f995d118e046b0a63908da5a9fd2d1",
              "version_minor": 0,
              "version_major": 2
            },
            "text/plain": [
              "HBox(children=(FloatProgress(value=0.0, max=6783.0), HTML(value='')))"
            ]
          },
          "metadata": {
            "tags": []
          }
        },
        {
          "output_type": "stream",
          "text": [
            "\n"
          ],
          "name": "stdout"
        }
      ]
    },
    {
      "cell_type": "code",
      "metadata": {
        "id": "sGnlaUgSapA4"
      },
      "source": [
        ""
      ],
      "execution_count": null,
      "outputs": []
    },
    {
      "cell_type": "markdown",
      "metadata": {
        "id": "xejg8DkcMeea"
      },
      "source": [
        "# ft классификация модели"
      ]
    },
    {
      "cell_type": "code",
      "metadata": {
        "id": "UloWl9VDMhjX"
      },
      "source": [
        "ft = gensim.models.FastText.load(md+\"models/ft_lemm_300.model\")"
      ],
      "execution_count": null,
      "outputs": []
    },
    {
      "cell_type": "code",
      "metadata": {
        "colab": {
          "base_uri": "https://localhost:8080/",
          "height": 116,
          "referenced_widgets": [
            "f9664c732221444b87c2785554103486",
            "1f93cb65be1b4c82a4c1966f9c5079c9",
            "79b88faf393e439cacfad11ff2bd5f58",
            "dfe2cc8d752745a4a07c49702d051bcb",
            "94ea84d5e7d64806a62c4420b46439bd",
            "fac40d03dead4f0a9c0dfbe54c8a9cfb",
            "e5183e07acb243d1976785e1d8165b90",
            "41f59dc32d854f14acc042eab6bb34fd",
            "6ee32fd51604433cbcfbbe487e5cd9d1",
            "401bd72c281f4fcfb3e60a026e44c50c",
            "b86cf444710b4b57b1639299c750e9fc",
            "79e6ef4f4ebc43308f145ff57949763b",
            "38aa7eefd30846db944ffc0d1d283054",
            "c834c46c26334ccf9e58762328518e56",
            "05ab4c0108354c0aac9c826c8ed95570",
            "a55af05fc17b45cba216a529510a1feb"
          ]
        },
        "id": "UrWd3QYwoeK8",
        "outputId": "f7a6b7a8-971e-4bb6-e2a5-9589a01f7e9f"
      },
      "source": [
        "X_train = [ft.wv[text] for text in tqdm(X_train_text)]\n",
        "X_test = [ft.wv[text] for text in tqdm(X_test_text)]"
      ],
      "execution_count": null,
      "outputs": [
        {
          "output_type": "display_data",
          "data": {
            "application/vnd.jupyter.widget-view+json": {
              "model_id": "f9664c732221444b87c2785554103486",
              "version_minor": 0,
              "version_major": 2
            },
            "text/plain": [
              "HBox(children=(FloatProgress(value=0.0, max=27132.0), HTML(value='')))"
            ]
          },
          "metadata": {
            "tags": []
          }
        },
        {
          "output_type": "stream",
          "text": [
            "\n"
          ],
          "name": "stdout"
        },
        {
          "output_type": "display_data",
          "data": {
            "application/vnd.jupyter.widget-view+json": {
              "model_id": "6ee32fd51604433cbcfbbe487e5cd9d1",
              "version_minor": 0,
              "version_major": 2
            },
            "text/plain": [
              "HBox(children=(FloatProgress(value=0.0, max=6783.0), HTML(value='')))"
            ]
          },
          "metadata": {
            "tags": []
          }
        },
        {
          "output_type": "stream",
          "text": [
            "\n"
          ],
          "name": "stdout"
        }
      ]
    },
    {
      "cell_type": "code",
      "metadata": {
        "colab": {
          "base_uri": "https://localhost:8080/"
        },
        "id": "FhEwHMssoNM0",
        "outputId": "1237282a-dbc8-4d3a-f9e5-64418d98c701"
      },
      "source": [
        "ft.wv['стул на окне']"
      ],
      "execution_count": null,
      "outputs": [
        {
          "output_type": "execute_result",
          "data": {
            "text/plain": [
              "array([-0.13938819,  0.13782135,  0.00818403, -0.056635  ,  0.14813697,\n",
              "        0.20309918,  0.07544893, -0.03914022,  0.1029293 , -0.02570491,\n",
              "       -0.15037747,  0.01061253,  0.42531228, -0.38926828, -0.1170243 ,\n",
              "       -0.23653622, -0.29696915, -0.06454967,  0.14811797, -0.0894557 ,\n",
              "       -0.01638108, -0.16436319,  0.00830548,  0.11698557,  0.11642069,\n",
              "        0.1526308 ,  0.26587525,  0.1155118 ,  0.02721938, -0.05723517,\n",
              "       -0.11691627, -0.28376487, -0.135189  ,  0.02886016,  0.00586162,\n",
              "       -0.18568073, -0.15489799, -0.41902968,  0.20609982, -0.06677084,\n",
              "       -0.05600274, -0.52296686,  0.06533867,  0.00815786, -0.0745108 ,\n",
              "       -0.15224636,  0.05094982, -0.1275503 , -0.01461357,  0.08126971,\n",
              "        0.14845829,  0.04142716,  0.05028716, -0.13945504,  0.28211328,\n",
              "        0.0476862 ,  0.15682152,  0.14704819, -0.08211517,  0.02179574,\n",
              "        0.19461097,  0.25559148, -0.07075904, -0.00532726, -0.26908037,\n",
              "        0.06544256, -0.10655179,  0.07917219, -0.2080824 , -0.30734485,\n",
              "        0.23858297, -0.02648955,  0.07892126,  0.16810098, -0.28397533,\n",
              "       -0.03782406,  0.03244082, -0.27607033,  0.04930359,  0.06260677,\n",
              "       -0.15474896, -0.18677758,  0.319484  ,  0.06393045,  0.21820123,\n",
              "        0.07441024,  0.17750175,  0.04734873,  0.16664453, -0.02701313,\n",
              "       -0.14276677,  0.06831533,  0.29565665,  0.04195814,  0.01542048,\n",
              "        0.12564169,  0.10547327,  0.2086094 ,  0.13069348,  0.01989414,\n",
              "       -0.12012709,  0.11793867, -0.17782843,  0.20510548,  0.05085007,\n",
              "       -0.05848356,  0.1306496 ,  0.13131112, -0.09521463,  0.09426065,\n",
              "        0.4037191 ,  0.06870069,  0.1835917 , -0.17407048,  0.16655558,\n",
              "       -0.00828159,  0.24741682, -0.25988778, -0.24998775, -0.04079167,\n",
              "       -0.2087649 , -0.14297612, -0.18108033, -0.1419347 ,  0.03737642,\n",
              "        0.01808495,  0.11165419, -0.10208126, -0.02746226, -0.08889157,\n",
              "       -0.44143662,  0.14330727,  0.16881756, -0.1058069 ,  0.16092087,\n",
              "       -0.2930922 , -0.08984789,  0.09509028, -0.2540021 ,  0.18429674,\n",
              "        0.06087714,  0.05925843, -0.08863231, -0.01588581, -0.02020063,\n",
              "       -0.14434381, -0.32434162,  0.08932479, -0.2044707 , -0.03922889,\n",
              "       -0.10239555, -0.02763072,  0.3903622 , -0.32725963, -0.43331924,\n",
              "        0.28858742,  0.06856233,  0.18231921, -0.41058144,  0.19835901,\n",
              "       -0.15925863,  0.49336457, -0.066302  , -0.13810177, -0.29933187,\n",
              "        0.0128345 ,  0.09960955, -0.06892075,  0.1161309 ,  0.28842124,\n",
              "        0.2870648 , -0.16243342,  0.04432556,  0.23577374,  0.21178502,\n",
              "        0.10968001, -0.19521308,  0.15427227, -0.30714047, -0.15089904,\n",
              "       -0.06087918,  0.31729132, -0.05704755, -0.16144186,  0.2757212 ,\n",
              "        0.09491214,  0.25839278, -0.04638925,  0.5010769 , -0.01896985,\n",
              "        0.17547166, -0.05319275,  0.28450632,  0.15839966, -0.100425  ,\n",
              "        0.10893098,  0.05353699,  0.28551182, -0.19272129,  0.1064545 ,\n",
              "       -0.14650679,  0.05312573,  0.17427081,  0.06576421, -0.27088627,\n",
              "        0.02808253,  0.18120015, -0.01931415,  0.05014148,  0.06013082,\n",
              "        0.22575943, -0.09886415, -0.01128636,  0.43657947, -0.32021818,\n",
              "        0.32061997,  0.13578932, -0.14924327, -0.24108581, -0.14643219,\n",
              "       -0.02977659, -0.08746796, -0.13524806,  0.06860223,  0.09971806,\n",
              "       -0.13123433,  0.04637619, -0.17556907, -0.05993336, -0.11544827,\n",
              "        0.09367182, -0.07668139, -0.01514891, -0.15315574,  0.1213298 ,\n",
              "       -0.2153248 , -0.20498537, -0.16025345, -0.15764183,  0.15735182,\n",
              "       -0.2299414 , -0.04662365,  0.11074505,  0.05808051,  0.03429469,\n",
              "        0.0077462 , -0.05838629,  0.16213344, -0.24588467, -0.22194587,\n",
              "        0.10552526, -0.10743433, -0.15874526, -0.12443405,  0.08839331,\n",
              "        0.21858846,  0.02802937,  0.03853922, -0.226879  ,  0.01682851,\n",
              "       -0.01220169, -0.0531012 ,  0.08056345,  0.07796493,  0.21543834,\n",
              "       -0.05578953,  0.04812307, -0.32012624, -0.23602736,  0.01033317,\n",
              "       -0.17293826, -0.22047229, -0.04670038,  0.2023562 ,  0.02621391,\n",
              "        0.04680513, -0.18765104,  0.0278862 ,  0.03486739,  0.1765467 ,\n",
              "       -0.25149688,  0.32628393, -0.06447841,  0.17058493, -0.01771314,\n",
              "        0.20748895,  0.09852331,  0.14738637,  0.03161627,  0.01750199,\n",
              "       -0.21522628,  0.2748416 , -0.28389764, -0.13929908, -0.1113921 ,\n",
              "        0.02830395,  0.06604844,  0.05122545, -0.14656243, -0.28008592],\n",
              "      dtype=float32)"
            ]
          },
          "metadata": {
            "tags": []
          },
          "execution_count": 145
        }
      ]
    },
    {
      "cell_type": "markdown",
      "metadata": {
        "id": "xW9JwF38hWzy"
      },
      "source": [
        "# tfidf классификация модели"
      ]
    },
    {
      "cell_type": "code",
      "metadata": {
        "id": "AwKeDeLfhcGD"
      },
      "source": [
        "tfidf_path = 'tfidf_lemm'\n",
        "tfidf_path = 'tfidf_lemm_100k'\n",
        "tfidf_path = 'tfidf_lemm_500k'\n",
        "tfidf = pickle.load(open(md+\"models/\"+tfidf_path+\".pickle\", \"rb\"))"
      ],
      "execution_count": null,
      "outputs": []
    },
    {
      "cell_type": "code",
      "metadata": {
        "colab": {
          "base_uri": "https://localhost:8080/"
        },
        "id": "JFDa1wrkhcJn",
        "outputId": "02c2187b-a5fd-428e-f41c-fc47fadd6faa"
      },
      "source": [
        "X_train = tfidf.transform(X_train_text)\n",
        "X_test = tfidf.transform(X_test_text)\n",
        "X_test.shape"
      ],
      "execution_count": null,
      "outputs": [
        {
          "output_type": "execute_result",
          "data": {
            "text/plain": [
              "(6783, 500000)"
            ]
          },
          "metadata": {
            "tags": []
          },
          "execution_count": 57
        }
      ]
    },
    {
      "cell_type": "code",
      "metadata": {
        "id": "kVFcYZYrFM-7"
      },
      "source": [
        ""
      ],
      "execution_count": null,
      "outputs": []
    },
    {
      "cell_type": "markdown",
      "metadata": {
        "id": "Jkh6Sl3_u2Hp"
      },
      "source": [
        "# glove классификация модели"
      ]
    },
    {
      "cell_type": "code",
      "metadata": {
        "id": "Xzo2Tg5stN6c"
      },
      "source": [
        "X_vectors = pickle.load(open(md+\"models/glove_tfidf_vector_data.pickle\", \"rb\"))\n",
        "# X_vectors_train = pickle.load(open(md+\"models/w2v_tfidf_train_data_down.pickle\", \"rb\"))\n",
        "# X_vectors_test = pickle.load(open(md+\"models/w2v_tfidf_test_data.pickle\", \"rb\"))"
      ],
      "execution_count": null,
      "outputs": []
    },
    {
      "cell_type": "code",
      "metadata": {
        "colab": {
          "base_uri": "https://localhost:8080/"
        },
        "id": "fkCDE41vtN6c",
        "outputId": "64fe500c-2955-4cf3-ebfa-5c8feff19473"
      },
      "source": [
        "X_train = [X_vectors[i] for i in data_train_idx]\n",
        "X_test = [X_vectors[i] for i in data_test_idx]\n",
        "del X_vectors\n",
        "len(X_train), len(X_test)"
      ],
      "execution_count": null,
      "outputs": [
        {
          "output_type": "execute_result",
          "data": {
            "text/plain": [
              "(27132, 6783)"
            ]
          },
          "metadata": {
            "tags": []
          },
          "execution_count": 64
        }
      ]
    },
    {
      "cell_type": "code",
      "metadata": {
        "colab": {
          "base_uri": "https://localhost:8080/"
        },
        "id": "Eb3b51yutN6d",
        "outputId": "692f5b6c-cd92-4f15-eedd-9a0533ddcf08"
      },
      "source": [
        "len(data_train_idx) == len(X_train)"
      ],
      "execution_count": null,
      "outputs": [
        {
          "output_type": "execute_result",
          "data": {
            "text/plain": [
              "True"
            ]
          },
          "metadata": {
            "tags": []
          },
          "execution_count": 180
        }
      ]
    },
    {
      "cell_type": "code",
      "metadata": {
        "id": "GDjxxAXKtNnL"
      },
      "source": [
        ""
      ],
      "execution_count": null,
      "outputs": []
    },
    {
      "cell_type": "code",
      "metadata": {
        "id": "iCRrnDrltVQc"
      },
      "source": [
        ""
      ],
      "execution_count": null,
      "outputs": []
    },
    {
      "cell_type": "code",
      "metadata": {
        "colab": {
          "base_uri": "https://localhost:8080/"
        },
        "id": "xN7QvS3lvFAj",
        "outputId": "9900bdea-e78c-4391-b70c-ca8bc41d7964"
      },
      "source": [
        "!pip install navec slovnet"
      ],
      "execution_count": null,
      "outputs": [
        {
          "output_type": "stream",
          "text": [
            "Collecting navec\n",
            "  Downloading https://files.pythonhosted.org/packages/bc/c1/771ec5565f0ce24874d7fd325b429f9caa80517a40d2e4ce5705120591f3/navec-0.10.0-py3-none-any.whl\n",
            "Collecting slovnet\n",
            "\u001b[?25l  Downloading https://files.pythonhosted.org/packages/a9/3b/f1ef495be8990004959dd0510c95f688d1b07529f6a862bc56a405770b26/slovnet-0.5.0-py3-none-any.whl (49kB)\n",
            "\u001b[K     |████████████████████████████████| 51kB 3.5MB/s \n",
            "\u001b[?25hRequirement already satisfied: numpy in /usr/local/lib/python3.7/dist-packages (from navec) (1.19.5)\n",
            "Collecting razdel\n",
            "  Downloading https://files.pythonhosted.org/packages/15/2c/664223a3924aa6e70479f7d37220b3a658765b9cfe760b4af7ffdc50d38f/razdel-0.5.0-py3-none-any.whl\n",
            "Installing collected packages: navec, razdel, slovnet\n",
            "Successfully installed navec-0.10.0 razdel-0.5.0 slovnet-0.5.0\n"
          ],
          "name": "stdout"
        }
      ]
    },
    {
      "cell_type": "code",
      "metadata": {
        "id": "D39CBlKIeOrh"
      },
      "source": [
        "import torch\n",
        "from navec import Navec\n",
        "from slovnet.model.emb import NavecEmbedding"
      ],
      "execution_count": null,
      "outputs": []
    },
    {
      "cell_type": "code",
      "metadata": {
        "id": "W65PEUiAfVsF"
      },
      "source": [
        "path = 'models/navec_hudlit_v1_12B_500K_300d_100q.tar'  # 51MB\n",
        "navec = Navec.load(md + path)  # ~1 sec, ~100MB RAM"
      ],
      "execution_count": null,
      "outputs": []
    },
    {
      "cell_type": "code",
      "metadata": {
        "id": "v4ANUUkWvdvq"
      },
      "source": [
        "tfidf = pickle.load(open(md+\"models/tfidf_lemm.pickle\", \"rb\"))\n",
        "tfidf_words = tfidf.get_feature_names()\n",
        "tfidf_dict = dict(zip(tfidf_words, tfidf.idf_))"
      ],
      "execution_count": null,
      "outputs": []
    },
    {
      "cell_type": "code",
      "metadata": {
        "id": "5GD3ibHIcX4r"
      },
      "source": [
        "# words = ['стол', 'стул', 'паровоз']\n",
        "# ids = [navec.vocab[_] for _ in words]\n",
        "# input = torch.tensor(ids)\n",
        "\n",
        "# emb = NavecEmbedding(navec)\n",
        "# emb(input)  # 3 x 300"
      ],
      "execution_count": null,
      "outputs": []
    },
    {
      "cell_type": "code",
      "metadata": {
        "colab": {
          "base_uri": "https://localhost:8080/",
          "height": 122,
          "referenced_widgets": [
            "1582128e8c6d4ea29a91ecd27cad37f6",
            "4bf273e1681a4524bf619ddccaa897fe",
            "c1c9a6993fdb4120957d54df080f3016",
            "c7fcbd0c2e9b4d989e0faedfced95398",
            "79bed6d805f84f63ab3fb3ad8f9ea89f",
            "70b4bd77e9cd4d5389f64df4a5d10085",
            "97e66f957d304cfa85621019d5e750c8",
            "84f0feb7017e46e4a8d1ffb578657626"
          ]
        },
        "id": "YEQE8nZrvj2N",
        "outputId": "cd1fe84f-44b8-43ca-c305-b4bc4a52180b"
      },
      "source": [
        "def word_embedding_glove_with_tfidf(text):\n",
        "  # векторизация слов в тексте с tfidf\n",
        "  word_embedd = []\n",
        "  nav_emb = NavecEmbedding(navec)\n",
        "  for text_i in tqdm(text):\n",
        "    we = np.zeros(len(nav_emb(torch.tensor(0))))\n",
        "    count = 0\n",
        "    for word in text_i.split():\n",
        "      try:\n",
        "        tfidf_koeff = tfidf_dict[word]\n",
        "        word_tensor_vec = nav_emb(torch.tensor(navec.vocab[word]))\n",
        "        we += np.array(word_tensor_vec) * tfidf_koeff\n",
        "        count+=1\n",
        "      except:\n",
        "        pass\n",
        "    if count!=0:\n",
        "      we = we / count\n",
        "    word_embedd.extend([we])\n",
        "  return word_embedd\n",
        "\n",
        "x_test_data = word_embedding_glove_with_tfidf(X_train_text[:100])"
      ],
      "execution_count": null,
      "outputs": [
        {
          "output_type": "stream",
          "text": [
            "/usr/local/lib/python3.7/dist-packages/slovnet/model/emb.py:46: UserWarning: The given NumPy array is not writeable, and PyTorch does not support non-writeable tensors. This means you can write to the underlying (supposedly non-writeable) NumPy array using the tensor. You may want to copy the array to protect its data or make it writeable before converting it to a tensor. This type of warning will be suppressed for the rest of this program. (Triggered internally at  /pytorch/torch/csrc/utils/tensor_numpy.cpp:143.)\n",
            "  torch.from_numpy(navec.pq.indexes),\n"
          ],
          "name": "stderr"
        },
        {
          "output_type": "display_data",
          "data": {
            "application/vnd.jupyter.widget-view+json": {
              "model_id": "1582128e8c6d4ea29a91ecd27cad37f6",
              "version_minor": 0,
              "version_major": 2
            },
            "text/plain": [
              "HBox(children=(FloatProgress(value=0.0), HTML(value='')))"
            ]
          },
          "metadata": {
            "tags": []
          }
        },
        {
          "output_type": "stream",
          "text": [
            "\n"
          ],
          "name": "stdout"
        }
      ]
    },
    {
      "cell_type": "code",
      "metadata": {
        "colab": {
          "base_uri": "https://localhost:8080/"
        },
        "id": "m1MJlRzhvj2O",
        "outputId": "aa0733ec-0996-4ad7-bb5b-6c4f3469c0b3"
      },
      "source": [
        "len(x_test_data[0])"
      ],
      "execution_count": null,
      "outputs": [
        {
          "output_type": "execute_result",
          "data": {
            "text/plain": [
              "300"
            ]
          },
          "metadata": {
            "tags": []
          },
          "execution_count": 32
        }
      ]
    },
    {
      "cell_type": "code",
      "metadata": {
        "id": "4ffOwNh-vj2O"
      },
      "source": [
        "x_test_data"
      ],
      "execution_count": null,
      "outputs": []
    },
    {
      "cell_type": "code",
      "metadata": {
        "colab": {
          "base_uri": "https://localhost:8080/",
          "height": 116,
          "referenced_widgets": [
            "528a637ccd294a81aaa7752a947e94b6",
            "819f7f4648e64465beb6d0f146d91e23",
            "d4ddd2857a8b44b6a389d34bfc856fce",
            "f603b2f4fc9542f299c5693105f1f3e8",
            "29ac2ad1b3004c538efc797c359852db",
            "2f9b0ef2616844069f4c93af6f8748a8",
            "bca6aceda42e49e9a54a861db22fec12",
            "3999998d33094210a98142fe8b4675a9",
            "ff12efd6fc194df5ac0a9dc6a70328d1",
            "0f10ca0df6db4939a1855919a567e6de",
            "ab59eedffb764c5bb3b89b5ca958fb73",
            "0d347fcb8fe342f49e657dad66e9de58",
            "92c5f083f7684c7ea111f274a4e420a5",
            "3a866183993940fca61c65dbaee3b8f8",
            "327538312ed949568f34b27678458f46",
            "7eed550ee88a44018aa6e52003c77427"
          ]
        },
        "id": "NeUnBJoEvj2O",
        "outputId": "3f502a56-43ff-4c36-91fa-74485c33cf87"
      },
      "source": [
        "X_train = word_embedding_glove_with_tfidf(X_train_text)\n",
        "X_test = word_embedding_glove_with_tfidf(X_test_text)"
      ],
      "execution_count": null,
      "outputs": [
        {
          "output_type": "display_data",
          "data": {
            "application/vnd.jupyter.widget-view+json": {
              "model_id": "528a637ccd294a81aaa7752a947e94b6",
              "version_minor": 0,
              "version_major": 2
            },
            "text/plain": [
              "HBox(children=(FloatProgress(value=0.0, max=27132.0), HTML(value='')))"
            ]
          },
          "metadata": {
            "tags": []
          }
        },
        {
          "output_type": "stream",
          "text": [
            "\n"
          ],
          "name": "stdout"
        },
        {
          "output_type": "display_data",
          "data": {
            "application/vnd.jupyter.widget-view+json": {
              "model_id": "ff12efd6fc194df5ac0a9dc6a70328d1",
              "version_minor": 0,
              "version_major": 2
            },
            "text/plain": [
              "HBox(children=(FloatProgress(value=0.0, max=6783.0), HTML(value='')))"
            ]
          },
          "metadata": {
            "tags": []
          }
        },
        {
          "output_type": "stream",
          "text": [
            "\n"
          ],
          "name": "stdout"
        }
      ]
    },
    {
      "cell_type": "code",
      "metadata": {
        "colab": {
          "base_uri": "https://localhost:8080/"
        },
        "id": "0RGkLy2rvj2P",
        "outputId": "99e465ca-9e9b-4fc0-fa90-8aadd42006ab"
      },
      "source": [
        "len(X_train)"
      ],
      "execution_count": null,
      "outputs": [
        {
          "output_type": "execute_result",
          "data": {
            "text/plain": [
              "36564"
            ]
          },
          "metadata": {
            "tags": []
          },
          "execution_count": 36
        }
      ]
    },
    {
      "cell_type": "code",
      "metadata": {
        "id": "CJkrDm9fvj2P"
      },
      "source": [
        "X_train[0]"
      ],
      "execution_count": null,
      "outputs": []
    },
    {
      "cell_type": "code",
      "metadata": {
        "id": "1veCuat6u74m"
      },
      "source": [
        ""
      ],
      "execution_count": null,
      "outputs": []
    },
    {
      "cell_type": "code",
      "metadata": {
        "id": "N0_U6yLbvfii"
      },
      "source": [
        "pickle.dump(X_train, open(md+\"models/glove_tfidf_train_data_down.pickle\", \"wb\"))\n",
        "pickle.dump(X_test, open(md+\"models/glove_tfidf_test_data.pickle\", \"wb\"))"
      ],
      "execution_count": null,
      "outputs": []
    },
    {
      "cell_type": "code",
      "metadata": {
        "id": "51S7exrPvfkr"
      },
      "source": [
        ""
      ],
      "execution_count": null,
      "outputs": []
    },
    {
      "cell_type": "code",
      "metadata": {
        "id": "jAiOteeyvfoT"
      },
      "source": [
        ""
      ],
      "execution_count": null,
      "outputs": []
    },
    {
      "cell_type": "markdown",
      "metadata": {
        "id": "ScRYAMCCL1Oc"
      },
      "source": [
        "# Sent Bert кдассификация"
      ]
    },
    {
      "cell_type": "code",
      "metadata": {
        "id": "xNXw-bSRL9r7"
      },
      "source": [
        "X_vectors = pickle.load(open(md+\"models/bert_vector_data.pickle\", \"rb\"))"
      ],
      "execution_count": null,
      "outputs": []
    },
    {
      "cell_type": "code",
      "metadata": {
        "colab": {
          "base_uri": "https://localhost:8080/"
        },
        "id": "QV7-46idL9r7",
        "outputId": "3c3dbdea-9672-4423-f4e4-22043fba126a"
      },
      "source": [
        "X_train = [X_vectors[i] for i in data_train_idx]\n",
        "X_test = [X_vectors[i] for i in data_test_idx]\n",
        "del X_vectors\n",
        "len(X_train), len(X_test)"
      ],
      "execution_count": null,
      "outputs": [
        {
          "output_type": "execute_result",
          "data": {
            "text/plain": [
              "(27132, 6783)"
            ]
          },
          "metadata": {
            "tags": []
          },
          "execution_count": 15
        }
      ]
    },
    {
      "cell_type": "code",
      "metadata": {
        "id": "8knipQ1OLz8S"
      },
      "source": [
        ""
      ],
      "execution_count": null,
      "outputs": []
    },
    {
      "cell_type": "code",
      "metadata": {
        "id": "Ioxxe4BRL0Ku"
      },
      "source": [
        ""
      ],
      "execution_count": null,
      "outputs": []
    },
    {
      "cell_type": "markdown",
      "metadata": {
        "id": "ezZKDJXUBDhR"
      },
      "source": [
        "# USE классификация"
      ]
    },
    {
      "cell_type": "code",
      "metadata": {
        "id": "HzIxilVLBCjZ"
      },
      "source": [
        "X_vectors = pickle.load(open(md+\"models/use_vector_data.pickle\", \"rb\"))"
      ],
      "execution_count": null,
      "outputs": []
    },
    {
      "cell_type": "code",
      "metadata": {
        "colab": {
          "base_uri": "https://localhost:8080/"
        },
        "id": "nB7LXwj4BCxd",
        "outputId": "b6b72773-cb05-4755-d255-d1f8171f2709"
      },
      "source": [
        "X_train = [X_vectors[i] for i in data_train_idx]\n",
        "X_test = [X_vectors[i] for i in data_test_idx]\n",
        "del X_vectors\n",
        "len(X_train), len(X_test)"
      ],
      "execution_count": null,
      "outputs": [
        {
          "output_type": "execute_result",
          "data": {
            "text/plain": [
              "(27132, 6783)"
            ]
          },
          "metadata": {
            "tags": []
          },
          "execution_count": 71
        }
      ]
    },
    {
      "cell_type": "code",
      "metadata": {
        "id": "T6jY86zqBC0C"
      },
      "source": [
        ""
      ],
      "execution_count": null,
      "outputs": []
    },
    {
      "cell_type": "markdown",
      "metadata": {
        "id": "W6g3KSlyoZkO"
      },
      "source": [
        "# LogisticRegression & LinearSVC"
      ]
    },
    {
      "cell_type": "code",
      "metadata": {
        "id": "Foy8jOafol9C"
      },
      "source": [
        "from sklearn.linear_model import LogisticRegression\n",
        "from sklearn.svm import LinearSVC, SVC\n",
        "from sklearn.model_selection import cross_val_score as cvs\n",
        "from sklearn import metrics"
      ],
      "execution_count": null,
      "outputs": []
    },
    {
      "cell_type": "code",
      "metadata": {
        "id": "M1xUpK8Wol9C",
        "colab": {
          "base_uri": "https://localhost:8080/"
        },
        "outputId": "70b9bab3-1fac-4c00-def3-0c73c90cb6ea"
      },
      "source": [
        "clf = LinearSVC(C = 0.6, random_state = 42)\n",
        "%time clf.fit(X_train, y_train) # [:1000]\n",
        "print(clf.score(X_test, y_test))\n",
        "print(clf.score(X_train, y_train))"
      ],
      "execution_count": null,
      "outputs": [
        {
          "output_type": "stream",
          "text": [
            "CPU times: user 4.85 s, sys: 45.1 ms, total: 4.9 s\n",
            "Wall time: 4.88 s\n",
            "0.8752764263600177\n",
            "0.8875497567448032\n"
          ],
          "name": "stdout"
        }
      ]
    },
    {
      "cell_type": "code",
      "metadata": {
        "id": "Ej22rGlGXH1p",
        "colab": {
          "base_uri": "https://localhost:8080/"
        },
        "outputId": "b4929328-1138-47a7-dcd4-bf069d61cfb3"
      },
      "source": [
        "predicted_lr = clf.predict(X_test)\n",
        "print(metrics.classification_report(y_test, predicted_lr, target_names = main_tags_list, digits = 6))"
      ],
      "execution_count": null,
      "outputs": [
        {
          "output_type": "stream",
          "text": [
            "               precision    recall  f1-score   support\n",
            "\n",
            "      economy   0.827381  0.860681  0.843703       969\n",
            "entertainment   0.824876  0.855521  0.839919       969\n",
            "   traditions   0.816703  0.777090  0.796404       969\n",
            "      science   0.845545  0.881321  0.863062       969\n",
            "      society   0.803445  0.818369  0.810838       969\n",
            "       sports   0.946930  0.939112  0.943005       969\n",
            "   technology   0.771910  0.708978  0.739107       969\n",
            "\n",
            "     accuracy                       0.834439      6783\n",
            "    macro avg   0.833827  0.834439  0.833720      6783\n",
            " weighted avg   0.833827  0.834439  0.833720      6783\n",
            "\n"
          ],
          "name": "stdout"
        }
      ]
    },
    {
      "cell_type": "code",
      "metadata": {
        "id": "pMMPigs9aBPc"
      },
      "source": [
        ""
      ],
      "execution_count": null,
      "outputs": []
    },
    {
      "cell_type": "code",
      "metadata": {
        "colab": {
          "base_uri": "https://localhost:8080/"
        },
        "id": "Znipilhpol9D",
        "outputId": "39ab4ef3-90fd-419f-da84-9e6f96e1fd94"
      },
      "source": [
        "clf = LogisticRegression(n_jobs=-1, random_state=42)#,class_weight='balanced'\n",
        "%time clf.fit(X_train, y_train)\n",
        "print(clf.score(X_test, y_test))\n",
        "print(clf.score(X_train, y_train))"
      ],
      "execution_count": null,
      "outputs": [
        {
          "output_type": "stream",
          "text": [
            "CPU times: user 186 ms, sys: 85.2 ms, total: 272 ms\n",
            "Wall time: 13.9 s\n",
            "0.8674627745835176\n",
            "0.8778564057201829\n"
          ],
          "name": "stdout"
        }
      ]
    },
    {
      "cell_type": "code",
      "metadata": {
        "colab": {
          "base_uri": "https://localhost:8080/"
        },
        "id": "q9UIszkYaqyc",
        "outputId": "1636ad71-3d25-4a69-d58b-9c9f20df70d0"
      },
      "source": [
        "predicted_lr = clf.predict(X_test)\n",
        "# predicted_lr_pr = clf.predict_proba(X_test_idf)\n",
        "# maxes = np.max(predicted_lr_pr, axis=1)\n",
        "# predicted_lr = np.where(maxes>0.45, predicted_lr, np.ones(len(predicted_lr))*10)\n",
        "print(metrics.classification_report(y_test, predicted_lr, target_names = main_tags_list, digits = 6))"
      ],
      "execution_count": null,
      "outputs": [
        {
          "output_type": "stream",
          "text": [
            "               precision    recall  f1-score   support\n",
            "\n",
            "      economy   0.769833  0.811146  0.789950       969\n",
            "entertainment   0.773227  0.798762  0.785787       969\n",
            "   traditions   0.742077  0.700722  0.720807       969\n",
            "      science   0.830052  0.826625  0.828335       969\n",
            "      society   0.741483  0.763674  0.752415       969\n",
            "       sports   0.931109  0.892673  0.911486       969\n",
            "   technology   0.664570  0.654283  0.659386       969\n",
            "\n",
            "     accuracy                       0.778269      6783\n",
            "    macro avg   0.778907  0.778269  0.778309      6783\n",
            " weighted avg   0.778907  0.778269  0.778309      6783\n",
            "\n"
          ],
          "name": "stdout"
        }
      ]
    },
    {
      "cell_type": "code",
      "metadata": {
        "id": "oigBkYvrarWH"
      },
      "source": [
        ""
      ],
      "execution_count": null,
      "outputs": []
    },
    {
      "cell_type": "code",
      "metadata": {
        "colab": {
          "base_uri": "https://localhost:8080/"
        },
        "id": "col05nLfol9D",
        "outputId": "0bdff526-0009-4e64-8fbd-9bb704b82b99"
      },
      "source": [
        "%time cvs_res = cvs(clf, X_train, y_train, cv = 5,n_jobs=8)\n",
        "print(cvs_res.mean())\n",
        "print(cvs_res)"
      ],
      "execution_count": null,
      "outputs": [
        {
          "output_type": "stream",
          "text": [
            "CPU times: user 19.6 s, sys: 1.21 s, total: 20.8 s\n",
            "Wall time: 43.6 s\n",
            "0.8452848723280175\n",
            "[0.84329277 0.84042117 0.84301928 0.85833447 0.84135667]\n"
          ],
          "name": "stdout"
        }
      ]
    },
    {
      "cell_type": "code",
      "metadata": {
        "colab": {
          "base_uri": "https://localhost:8080/",
          "height": 278
        },
        "id": "gvruZbrjol9E",
        "outputId": "37723339-ffb9-4b69-ab2f-2ece1a6a5593"
      },
      "source": [
        "print(str(clf)[:20])\n",
        "a = np.array(main_tags_list)\n",
        "b = metrics.confusion_matrix(y_test,clf.predict(X_test))\n",
        "pd.DataFrame(data=b,index = a,columns=a)"
      ],
      "execution_count": null,
      "outputs": [
        {
          "output_type": "stream",
          "text": [
            "LinearSVC(C=0.6, cla\n"
          ],
          "name": "stdout"
        },
        {
          "output_type": "execute_result",
          "data": {
            "text/html": [
              "<div>\n",
              "<style scoped>\n",
              "    .dataframe tbody tr th:only-of-type {\n",
              "        vertical-align: middle;\n",
              "    }\n",
              "\n",
              "    .dataframe tbody tr th {\n",
              "        vertical-align: top;\n",
              "    }\n",
              "\n",
              "    .dataframe thead th {\n",
              "        text-align: right;\n",
              "    }\n",
              "</style>\n",
              "<table border=\"1\" class=\"dataframe\">\n",
              "  <thead>\n",
              "    <tr style=\"text-align: right;\">\n",
              "      <th></th>\n",
              "      <th>economy</th>\n",
              "      <th>entertainment</th>\n",
              "      <th>traditions</th>\n",
              "      <th>science</th>\n",
              "      <th>society</th>\n",
              "      <th>sports</th>\n",
              "      <th>technology</th>\n",
              "    </tr>\n",
              "  </thead>\n",
              "  <tbody>\n",
              "    <tr>\n",
              "      <th>economy</th>\n",
              "      <td>878</td>\n",
              "      <td>3</td>\n",
              "      <td>30</td>\n",
              "      <td>10</td>\n",
              "      <td>33</td>\n",
              "      <td>3</td>\n",
              "      <td>12</td>\n",
              "    </tr>\n",
              "    <tr>\n",
              "      <th>entertainment</th>\n",
              "      <td>3</td>\n",
              "      <td>859</td>\n",
              "      <td>30</td>\n",
              "      <td>6</td>\n",
              "      <td>21</td>\n",
              "      <td>3</td>\n",
              "      <td>47</td>\n",
              "    </tr>\n",
              "    <tr>\n",
              "      <th>traditions</th>\n",
              "      <td>22</td>\n",
              "      <td>20</td>\n",
              "      <td>848</td>\n",
              "      <td>25</td>\n",
              "      <td>25</td>\n",
              "      <td>1</td>\n",
              "      <td>28</td>\n",
              "    </tr>\n",
              "    <tr>\n",
              "      <th>science</th>\n",
              "      <td>12</td>\n",
              "      <td>2</td>\n",
              "      <td>9</td>\n",
              "      <td>901</td>\n",
              "      <td>17</td>\n",
              "      <td>0</td>\n",
              "      <td>28</td>\n",
              "    </tr>\n",
              "    <tr>\n",
              "      <th>society</th>\n",
              "      <td>38</td>\n",
              "      <td>25</td>\n",
              "      <td>20</td>\n",
              "      <td>27</td>\n",
              "      <td>823</td>\n",
              "      <td>4</td>\n",
              "      <td>32</td>\n",
              "    </tr>\n",
              "    <tr>\n",
              "      <th>sports</th>\n",
              "      <td>0</td>\n",
              "      <td>6</td>\n",
              "      <td>0</td>\n",
              "      <td>0</td>\n",
              "      <td>5</td>\n",
              "      <td>954</td>\n",
              "      <td>4</td>\n",
              "    </tr>\n",
              "    <tr>\n",
              "      <th>technology</th>\n",
              "      <td>26</td>\n",
              "      <td>65</td>\n",
              "      <td>27</td>\n",
              "      <td>53</td>\n",
              "      <td>42</td>\n",
              "      <td>7</td>\n",
              "      <td>749</td>\n",
              "    </tr>\n",
              "  </tbody>\n",
              "</table>\n",
              "</div>"
            ],
            "text/plain": [
              "               economy  entertainment  traditions  ...  society  sports  technology\n",
              "economy            878              3          30  ...       33       3          12\n",
              "entertainment        3            859          30  ...       21       3          47\n",
              "traditions          22             20         848  ...       25       1          28\n",
              "science             12              2           9  ...       17       0          28\n",
              "society             38             25          20  ...      823       4          32\n",
              "sports               0              6           0  ...        5     954           4\n",
              "technology          26             65          27  ...       42       7         749\n",
              "\n",
              "[7 rows x 7 columns]"
            ]
          },
          "metadata": {
            "tags": []
          },
          "execution_count": 24
        }
      ]
    },
    {
      "cell_type": "markdown",
      "metadata": {
        "id": "Y2vsoMiNt3G4"
      },
      "source": [
        "# Single-layer perceptron"
      ]
    },
    {
      "cell_type": "markdown",
      "metadata": {
        "id": "wUGigAxI6Fi8"
      },
      "source": [
        "https://realpython.com/python-keras-text-classification/"
      ]
    },
    {
      "cell_type": "code",
      "metadata": {
        "id": "AnFOdts14eGe"
      },
      "source": [
        "import matplotlib.pyplot as plt\n",
        "plt.style.use('ggplot')\n",
        "\n",
        "def plot_history(history):\n",
        "    acc = history.history['accuracy']\n",
        "    val_acc = history.history['val_accuracy']\n",
        "    loss = history.history['loss']\n",
        "    val_loss = history.history['val_loss']\n",
        "    x = range(1, len(acc) + 1)\n",
        "\n",
        "    plt.figure(figsize=(12, 5))\n",
        "    plt.subplot(1, 2, 1)\n",
        "    plt.plot(x, acc, 'b', label='Training acc')\n",
        "    plt.plot(x, val_acc, 'r', label='Validation acc')\n",
        "    plt.title('Training and validation accuracy')\n",
        "    plt.legend()\n",
        "    plt.subplot(1, 2, 2)\n",
        "    plt.plot(x, loss, 'b', label='Training loss')\n",
        "    plt.plot(x, val_loss, 'r', label='Validation loss')\n",
        "    plt.title('Training and validation loss')\n",
        "    plt.legend()"
      ],
      "execution_count": null,
      "outputs": []
    },
    {
      "cell_type": "code",
      "metadata": {
        "colab": {
          "base_uri": "https://localhost:8080/"
        },
        "id": "MkbVdnsnNXZm",
        "outputId": "69b9065b-ebd3-4b97-cb54-84c42cc79fb5"
      },
      "source": [
        "from keras.utils import np_utils\n",
        "from sklearn.metrics import roc_auc_score\n",
        "from sklearn.preprocessing import LabelEncoder\n",
        "\n",
        "encoder = LabelEncoder()\n",
        "encoder.fit(y_train)\n",
        "encoded_Y = encoder.transform(y_train)\n",
        "y_tr = np_utils.to_categorical(encoded_Y)\n",
        "encoded_Y_ts = encoder.fit_transform(y_test)\n",
        "y_ts = np_utils.to_categorical(encoded_Y_ts)\n",
        "print(y_tr.shape)\n",
        "y_tr[-1], y_ts[-1]"
      ],
      "execution_count": null,
      "outputs": [
        {
          "output_type": "stream",
          "text": [
            "(27132, 7)\n"
          ],
          "name": "stdout"
        },
        {
          "output_type": "execute_result",
          "data": {
            "text/plain": [
              "(array([0., 0., 0., 1., 0., 0., 0.], dtype=float32),\n",
              " array([1., 0., 0., 0., 0., 0., 0.], dtype=float32))"
            ]
          },
          "metadata": {
            "tags": []
          },
          "execution_count": 22
        }
      ]
    },
    {
      "cell_type": "code",
      "metadata": {
        "id": "FmATfPakw1VL"
      },
      "source": [
        "# for ...\n",
        "x_tr = X_train\n",
        "x_ts = X_test\n",
        "input_dim = len(x_tr[0])"
      ],
      "execution_count": null,
      "outputs": []
    },
    {
      "cell_type": "code",
      "metadata": {
        "id": "Pgy9BoacENF6"
      },
      "source": [
        "# for w2v+tfidf; glove+tfidf; d2v; ft; \n",
        "x_tr = np.array(X_train).astype('float16')\n",
        "x_ts = np.array(X_test).astype('float16')\n",
        "input_dim = len(x_tr[0])"
      ],
      "execution_count": null,
      "outputs": []
    },
    {
      "cell_type": "code",
      "metadata": {
        "id": "0mIyV7MqwdF-"
      },
      "source": [
        "# for thidf\n",
        "x_tr = X_train.astype('float16')\n",
        "x_ts = X_test.astype('float16')\n",
        "input_dim = x_tr.shape[1]"
      ],
      "execution_count": null,
      "outputs": []
    },
    {
      "cell_type": "code",
      "metadata": {
        "id": "CFHgAvodS5rf"
      },
      "source": [
        "x_tr[0]"
      ],
      "execution_count": null,
      "outputs": []
    },
    {
      "cell_type": "code",
      "metadata": {
        "id": "FflktYB12Yio"
      },
      "source": [
        "x_tr = X_train_idf.toarray()\n",
        "x_ts = X_test_idf.toarray()"
      ],
      "execution_count": null,
      "outputs": []
    },
    {
      "cell_type": "code",
      "metadata": {
        "colab": {
          "base_uri": "https://localhost:8080/"
        },
        "id": "c8vABd0Z_djV",
        "outputId": "473185e1-f497-4001-8f98-2ccb8565c995"
      },
      "source": [
        "x_tr.shape"
      ],
      "execution_count": null,
      "outputs": [
        {
          "output_type": "execute_result",
          "data": {
            "text/plain": [
              "(36564, 300)"
            ]
          },
          "metadata": {
            "tags": []
          },
          "execution_count": 69
        }
      ]
    },
    {
      "cell_type": "code",
      "metadata": {
        "colab": {
          "base_uri": "https://localhost:8080/"
        },
        "id": "5YQpA2GrCnwr",
        "outputId": "e7bec294-2bb5-41e3-f0f6-db70c906b8d7"
      },
      "source": [
        "len(x_tr[0])"
      ],
      "execution_count": null,
      "outputs": [
        {
          "output_type": "execute_result",
          "data": {
            "text/plain": [
              "300"
            ]
          },
          "metadata": {
            "tags": []
          },
          "execution_count": 24
        }
      ]
    },
    {
      "cell_type": "code",
      "metadata": {
        "id": "J6knIUSYt-M8"
      },
      "source": [
        "from keras.models import Sequential\n",
        "from keras import layers\n",
        "\n",
        "# input_dim = x_tr.shape[1]  # for thidf\n",
        "# input_dim = len(x_tr[0])  # Number of features\n",
        "# input_dim = 36564\n",
        "\n",
        "# model = Sequential()\n",
        "# model.add(layers.Embedding(input_dim=10000, \n",
        "#                            output_dim=32, \n",
        "#                            input_length=32))\n",
        "# model.add(layers.LSTM(32, dropout=0.2, recurrent_dropout=0.2))\n",
        "\n",
        "model = Sequential()\n",
        "model.add(layers.Dense(32, input_dim=input_dim, activation='relu'))\n",
        "model.add(layers.Dropout(0.2))\n",
        "model.add(layers.Dense(len(main_tags_list), activation='softmax'))\n",
        "\n",
        "model.compile(loss='categorical_crossentropy', \n",
        "              optimizer='adam', \n",
        "              metrics=['accuracy'])\n",
        "\n",
        "# categorical_crossentropy\n",
        "# binary_crossentropy\n",
        "# model.summary()"
      ],
      "execution_count": null,
      "outputs": []
    },
    {
      "cell_type": "code",
      "metadata": {
        "id": "70QauMAXo9lx"
      },
      "source": [
        "# input_dim=300"
      ],
      "execution_count": null,
      "outputs": []
    },
    {
      "cell_type": "code",
      "metadata": {
        "id": "vMSPS3_hoxph"
      },
      "source": [
        "from keras.models import Sequential\n",
        "from keras import layers\n",
        "\n",
        "model = Sequential()\n",
        "model.add(layers.Dense(32, input_dim=input_dim, activation='relu'))\n",
        "model.add(layers.Dropout(0.2))\n",
        "model.add(layers.Dense(len(main_tags_list), activation='softmax'))\n",
        "\n",
        "model.compile(loss='categorical_crossentropy', \n",
        "              optimizer='adam', \n",
        "              metrics=['accuracy'])\n",
        "\n",
        "# model.summary()"
      ],
      "execution_count": null,
      "outputs": []
    },
    {
      "cell_type": "code",
      "metadata": {
        "id": "RYRBbrl1zM6A"
      },
      "source": [
        "# from keras.backend import clear_session\n",
        "# clear_session()"
      ],
      "execution_count": null,
      "outputs": []
    },
    {
      "cell_type": "code",
      "metadata": {
        "id": "RHUsXJHqRE2h"
      },
      "source": [
        "# history = model.fit(x_tr, y_tr, epochs=2)"
      ],
      "execution_count": null,
      "outputs": []
    },
    {
      "cell_type": "code",
      "metadata": {
        "colab": {
          "base_uri": "https://localhost:8080/"
        },
        "id": "FMtEtGmYu2Xb",
        "outputId": "656b8a67-53c7-4ea5-ddcc-372080464fb7"
      },
      "source": [
        "%time history = model.fit(x_tr, y_tr, epochs=15,validation_data=(x_ts,y_ts))\n",
        "                          # epochs=15,\n",
        "                          # verbose=1,\n",
        "                          # batch_size=10,\n",
        "                          # validation_split = 0.2\n",
        "                          # validation_data=(x_ts,y_ts)\n",
        "                          # )\n",
        "# validation_data=(X_test_idf, y_test)\n",
        "\n",
        "                    # validation_data=(x_ts,y_ts)"
      ],
      "execution_count": null,
      "outputs": [
        {
          "output_type": "stream",
          "text": [
            "Epoch 1/15\n",
            "848/848 [==============================] - 3s 3ms/step - loss: 1.2778 - accuracy: 0.6166 - val_loss: 0.5210 - val_accuracy: 0.8367\n",
            "Epoch 2/15\n",
            "848/848 [==============================] - 2s 2ms/step - loss: 0.5498 - accuracy: 0.8224 - val_loss: 0.4484 - val_accuracy: 0.8530\n",
            "Epoch 3/15\n",
            "848/848 [==============================] - 2s 2ms/step - loss: 0.4779 - accuracy: 0.8452 - val_loss: 0.4202 - val_accuracy: 0.8589\n",
            "Epoch 4/15\n",
            "848/848 [==============================] - 2s 2ms/step - loss: 0.4423 - accuracy: 0.8521 - val_loss: 0.4081 - val_accuracy: 0.8650\n",
            "Epoch 5/15\n",
            "848/848 [==============================] - 2s 2ms/step - loss: 0.4197 - accuracy: 0.8600 - val_loss: 0.3937 - val_accuracy: 0.8683\n",
            "Epoch 6/15\n",
            "848/848 [==============================] - 2s 2ms/step - loss: 0.4028 - accuracy: 0.8639 - val_loss: 0.3873 - val_accuracy: 0.8688\n",
            "Epoch 7/15\n",
            "848/848 [==============================] - 2s 2ms/step - loss: 0.3921 - accuracy: 0.8711 - val_loss: 0.3827 - val_accuracy: 0.8719\n",
            "Epoch 8/15\n",
            "848/848 [==============================] - 2s 2ms/step - loss: 0.3737 - accuracy: 0.8720 - val_loss: 0.3765 - val_accuracy: 0.8744\n",
            "Epoch 9/15\n",
            "848/848 [==============================] - 2s 2ms/step - loss: 0.3688 - accuracy: 0.8739 - val_loss: 0.3725 - val_accuracy: 0.8739\n",
            "Epoch 10/15\n",
            "848/848 [==============================] - 2s 2ms/step - loss: 0.3590 - accuracy: 0.8791 - val_loss: 0.3691 - val_accuracy: 0.8734\n",
            "Epoch 11/15\n",
            "848/848 [==============================] - 2s 2ms/step - loss: 0.3510 - accuracy: 0.8824 - val_loss: 0.3672 - val_accuracy: 0.8751\n",
            "Epoch 12/15\n",
            "848/848 [==============================] - 2s 2ms/step - loss: 0.3364 - accuracy: 0.8871 - val_loss: 0.3645 - val_accuracy: 0.8762\n",
            "Epoch 13/15\n",
            "848/848 [==============================] - 2s 2ms/step - loss: 0.3363 - accuracy: 0.8849 - val_loss: 0.3594 - val_accuracy: 0.8784\n",
            "Epoch 14/15\n",
            "848/848 [==============================] - 2s 3ms/step - loss: 0.3252 - accuracy: 0.8879 - val_loss: 0.3598 - val_accuracy: 0.8778\n",
            "Epoch 15/15\n",
            "848/848 [==============================] - 2s 2ms/step - loss: 0.3229 - accuracy: 0.8897 - val_loss: 0.3605 - val_accuracy: 0.8773\n",
            "CPU times: user 34.8 s, sys: 4.75 s, total: 39.6 s\n",
            "Wall time: 31.4 s\n"
          ],
          "name": "stdout"
        }
      ]
    },
    {
      "cell_type": "code",
      "metadata": {
        "colab": {
          "base_uri": "https://localhost:8080/"
        },
        "id": "g7Oo9t8W4d8w",
        "outputId": "5656b71f-b47f-4a28-ca41-1b4e6317813e"
      },
      "source": [
        "loss, accuracy = model.evaluate(x_ts, y_ts, verbose=False)\n",
        "print(\"Testing Accuracy:  {:.6f}\".format(accuracy))\n",
        "loss, accuracy = model.evaluate(x_tr, y_tr, verbose=False)\n",
        "print(\"Training Accuracy: {:.6f}\".format(accuracy))"
      ],
      "execution_count": null,
      "outputs": [
        {
          "output_type": "stream",
          "text": [
            "Testing Accuracy:  0.793012\n",
            "Training Accuracy: 0.798467\n"
          ],
          "name": "stdout"
        }
      ]
    },
    {
      "cell_type": "code",
      "metadata": {
        "id": "wHGyVde-zNCw",
        "colab": {
          "base_uri": "https://localhost:8080/"
        },
        "outputId": "e31639ee-8589-40b6-eda0-5c1b0835be36"
      },
      "source": [
        "from sklearn import metrics\n",
        "\n",
        "y_pred = model.predict(x_ts)\n",
        "predicted_lr = np.argmax(y_pred, axis = 1)\n",
        "\n",
        "print(metrics.classification_report(y_test, predicted_lr, target_names = main_tags_list, digits = 6))"
      ],
      "execution_count": null,
      "outputs": [
        {
          "output_type": "stream",
          "text": [
            "               precision    recall  f1-score   support\n",
            "\n",
            "      economy   0.774006  0.823529  0.798000       969\n",
            "entertainment   0.764652  0.861713  0.810286       969\n",
            "   traditions   0.842681  0.635707  0.724706       969\n",
            "      science   0.791474  0.881321  0.833984       969\n",
            "      society   0.716592  0.824561  0.766795       969\n",
            "       sports   0.932782  0.930857  0.931818       969\n",
            "   technology   0.748698  0.593395  0.662061       969\n",
            "\n",
            "     accuracy                       0.793012      6783\n",
            "    macro avg   0.795841  0.793012  0.789664      6783\n",
            " weighted avg   0.795841  0.793012  0.789664      6783\n",
            "\n"
          ],
          "name": "stdout"
        }
      ]
    },
    {
      "cell_type": "code",
      "metadata": {
        "colab": {
          "base_uri": "https://localhost:8080/",
          "height": 337
        },
        "id": "_i84l6Vz4ePW",
        "outputId": "5a51b521-bb3a-49cf-b32f-26187189b40a"
      },
      "source": [
        "plot_history(history)"
      ],
      "execution_count": null,
      "outputs": [
        {
          "output_type": "display_data",
          "data": {
            "image/png": "[encoded data removed]",
            "text/plain": [
              "<Figure size 864x360 with 2 Axes>"
            ]
          },
          "metadata": {
            "tags": []
          }
        }
      ]
    },
    {
      "cell_type": "code",
      "metadata": {
        "id": "LPX-JO5umeCc"
      },
      "source": [
        ""
      ],
      "execution_count": null,
      "outputs": []
    },
    {
      "cell_type": "markdown",
      "metadata": {
        "id": "0nUXjoWv_ihh"
      },
      "source": [
        "# Подготовка данных Bert"
      ]
    },
    {
      "cell_type": "code",
      "metadata": {
        "colab": {
          "base_uri": "https://localhost:8080/",
          "height": 84,
          "referenced_widgets": [
            "14a4ae79eda34190aa085ed3ff50da1f",
            "2f7e5be00a0a466e95e4fdb39e6fc92e",
            "fcb043e9f37144acbccda47b61e0aa93",
            "3533fdc55b554e2aa6dc746fa3eca224",
            "5228753d9e6a4242afc5de2330f79702",
            "edabb6d6efba4ea18d8053c2cfd52917",
            "61c2f9563bc34ecea3abd1e8364ba2c1",
            "b2b0121b0fd4405295cdeb2b13cc018e"
          ]
        },
        "id": "-tK-RRZYXQRs",
        "outputId": "be517384-0c6d-4006-ec54-db6dd2c7be92"
      },
      "source": [
        "import gc\n",
        "df = pd.read_pickle(md+'data/news_main_prepr_2020')\n",
        "data_lists = []\n",
        "\n",
        "# for i,t,l in tqdm(zip(df.index, df['lemm_text'], df['label'])):\n",
        "#   data_lists.append({'id' : , 'text' : t, 'label' : l})\n",
        "for i,t,l in tqdm(zip(df.index, df['lemm_text'], df['label'])):\n",
        "  data_lists.append({'id' : i, 'text' : t, 'label' : l})\n",
        "\n",
        "# print(getsizeof(df))\n",
        "del df\n",
        "gc.collect()"
      ],
      "execution_count": null,
      "outputs": [
        {
          "output_type": "display_data",
          "data": {
            "application/vnd.jupyter.widget-view+json": {
              "model_id": "14a4ae79eda34190aa085ed3ff50da1f",
              "version_major": 2,
              "version_minor": 0
            },
            "text/plain": [
              "HBox(children=(FloatProgress(value=1.0, bar_style='info', max=1.0), HTML(value='')))"
            ]
          },
          "metadata": {
            "tags": []
          }
        },
        {
          "output_type": "stream",
          "text": [
            "\n"
          ],
          "name": "stdout"
        },
        {
          "output_type": "execute_result",
          "data": {
            "text/plain": [
              "11"
            ]
          },
          "metadata": {
            "tags": []
          },
          "execution_count": 4
        }
      ]
    },
    {
      "cell_type": "code",
      "metadata": {
        "colab": {
          "base_uri": "https://localhost:8080/"
        },
        "id": "G7oVX4Z7boUr",
        "outputId": "f139059c-819c-44ac-a30c-fc0978267088"
      },
      "source": [
        "data_train, data_train_idx, data_test, data_test_idx = data_tr_ts_shaffle(data_lists, 0.2) \n",
        "\n",
        "more_less = False # True -> Up; False -> Down\n",
        "data_train, data_train_idx = balancing_classes_data(data_train, more_less, 1)\n",
        "data_test, data_test_idx = balancing_classes_data(data_test, more_less, 1)\n",
        "print(len(data_train), len(data_test))\n",
        "\n",
        "# X_train_text = [d['text'] for d in data_train]\n",
        "# X_test_text = [d['text'] for d in data_test]\n",
        "\n",
        "# y_train = [d['label'] for d in data_train]\n",
        "# y_test = [d['label'] for d in data_test]\n",
        "# data_train[:5]\n",
        "# len(data_train)"
      ],
      "execution_count": null,
      "outputs": [
        {
          "output_type": "stream",
          "text": [
            "3876.0\n",
            "969.0\n",
            "27132 6783\n"
          ],
          "name": "stdout"
        }
      ]
    },
    {
      "cell_type": "code",
      "metadata": {
        "id": "1ZbP6uHLXR_k"
      },
      "source": [
        "def sent_labeling(data):\n",
        "  res = []\n",
        "  for d in tqdm(data):\n",
        "    for t_i in d['text']:\n",
        "      text = ''\n",
        "      for tl_i in t_i:\n",
        "        text+=' '+tl_i\n",
        "      res.append({'label': d['label'], 'text': text})\n",
        "  return res"
      ],
      "execution_count": null,
      "outputs": []
    },
    {
      "cell_type": "code",
      "metadata": {
        "colab": {
          "base_uri": "https://localhost:8080/",
          "height": 134,
          "referenced_widgets": [
            "dec086ddc1514d87ad0fd784786aaa65",
            "aea7ff2bcc18422f9f0c499f3d1a8cf3",
            "ce0fd42a7bd34557b9e23c7014db6a73",
            "3ca8591d53f647d582ff5fab6234ffce",
            "2eb31e6b2bca41c5b57c7e3349f8f764",
            "25d11b1a2dd04d02a4b0b9e6ed8bb5bc",
            "2f03602320994cf7b20808580eefdeb6",
            "198f20f5bc2c456db81a44ba6419f16a",
            "5694c9611e264f129b8646ffab97dafe",
            "d95262e7e30e4f46bf939dc30b279a42",
            "98dfe849cfe641f4b62c9d73b1b2d4f3",
            "ef7a112eabfd42d9b80db9aba3a357ea",
            "8b232e273cb243939feef215b1bb5575",
            "850f259017e442578f77159b4b50cc12",
            "6a414d44fba5465184ddc711f1a0627c",
            "3e2a81517be248f89459b821b7e0fe73"
          ]
        },
        "id": "y3FFEBrfcM_f",
        "outputId": "02d3b908-8488-4782-e7dc-c1e52d7682d1"
      },
      "source": [
        "data_train = sent_labeling(data_train)\n",
        "data_test = sent_labeling(data_test)\n",
        "len(data_train), len(data_test)"
      ],
      "execution_count": null,
      "outputs": [
        {
          "output_type": "display_data",
          "data": {
            "application/vnd.jupyter.widget-view+json": {
              "model_id": "dec086ddc1514d87ad0fd784786aaa65",
              "version_major": 2,
              "version_minor": 0
            },
            "text/plain": [
              "HBox(children=(FloatProgress(value=0.0, max=27132.0), HTML(value='')))"
            ]
          },
          "metadata": {
            "tags": []
          }
        },
        {
          "output_type": "stream",
          "text": [
            "\n"
          ],
          "name": "stdout"
        },
        {
          "output_type": "display_data",
          "data": {
            "application/vnd.jupyter.widget-view+json": {
              "model_id": "5694c9611e264f129b8646ffab97dafe",
              "version_major": 2,
              "version_minor": 0
            },
            "text/plain": [
              "HBox(children=(FloatProgress(value=0.0, max=6783.0), HTML(value='')))"
            ]
          },
          "metadata": {
            "tags": []
          }
        },
        {
          "output_type": "stream",
          "text": [
            "\n"
          ],
          "name": "stdout"
        },
        {
          "output_type": "execute_result",
          "data": {
            "text/plain": [
              "(379940, 96167)"
            ]
          },
          "metadata": {
            "tags": []
          },
          "execution_count": 10
        }
      ]
    },
    {
      "cell_type": "code",
      "metadata": {
        "id": "xcXYStgqdzqM"
      },
      "source": [
        "X_train_text = [d['text'] for d in data_train]\n",
        "X_test_text = [d['text'] for d in data_test]\n",
        "\n",
        "y_train = [d['label'] for d in data_train]\n",
        "y_test = [d['label'] for d in data_test]"
      ],
      "execution_count": null,
      "outputs": []
    },
    {
      "cell_type": "code",
      "metadata": {
        "colab": {
          "base_uri": "https://localhost:8080/"
        },
        "id": "dteyYmR9exSk",
        "outputId": "b8b4738f-1581-446b-c739-6b7588f7b9b6"
      },
      "source": [
        "del data_train\n",
        "del data_test\n",
        "del data_lists\n",
        "del data_train_idx\n",
        "del data_test_idx\n",
        "gc.collect()"
      ],
      "execution_count": null,
      "outputs": [
        {
          "output_type": "execute_result",
          "data": {
            "text/plain": [
              "544220"
            ]
          },
          "metadata": {
            "tags": []
          },
          "execution_count": 12
        }
      ]
    },
    {
      "cell_type": "code",
      "metadata": {
        "colab": {
          "base_uri": "https://localhost:8080/"
        },
        "id": "xQG00ILyXh_o",
        "outputId": "41b2e51a-5c7f-4b36-87e2-c2cd739e0758"
      },
      "source": [
        "gc.collect()"
      ],
      "execution_count": null,
      "outputs": [
        {
          "output_type": "execute_result",
          "data": {
            "text/plain": [
              "239"
            ]
          },
          "metadata": {
            "tags": []
          },
          "execution_count": 14
        }
      ]
    },
    {
      "cell_type": "code",
      "metadata": {
        "colab": {
          "base_uri": "https://localhost:8080/",
          "height": 84,
          "referenced_widgets": [
            "735766b49e7a4d99bf4ac00d66e35971",
            "d05a8bcb273f4003a25bbb85beed83b6",
            "64e4a1a5abc64de0a791e84b257a340e",
            "577fab83490f4ac8a906d6622972331e",
            "6ea625af0a094e1397d0cdde60f35a94",
            "344f1668cf0d46b980305e43d0032a4e",
            "bc78c505a66e4f38a8648c1746686c56",
            "979f6440dab04ef198c6cecc33d26b30"
          ]
        },
        "id": "up7oDA5eFrMd",
        "outputId": "c4c2614f-ceef-445b-f0cd-e7e0a2a995cb"
      },
      "source": [
        "# max_sent_len = 0\n",
        "# for text_i in tqdm(X_train_text):\n",
        "#   now_len = len(text_i.split())\n",
        "#   max_sent_len = max(max_sent_len, now_len)\n",
        "# max_sent_len"
      ],
      "execution_count": null,
      "outputs": [
        {
          "output_type": "display_data",
          "data": {
            "application/vnd.jupyter.widget-view+json": {
              "model_id": "735766b49e7a4d99bf4ac00d66e35971",
              "version_major": 2,
              "version_minor": 0
            },
            "text/plain": [
              "HBox(children=(FloatProgress(value=0.0, max=379940.0), HTML(value='')))"
            ]
          },
          "metadata": {
            "tags": []
          }
        },
        {
          "output_type": "stream",
          "text": [
            "\n"
          ],
          "name": "stdout"
        },
        {
          "output_type": "execute_result",
          "data": {
            "text/plain": [
              "135"
            ]
          },
          "metadata": {
            "tags": []
          },
          "execution_count": 24
        }
      ]
    },
    {
      "cell_type": "markdown",
      "metadata": {
        "id": "nE2DbWgNBuhs"
      },
      "source": [
        "# Bert tests"
      ]
    },
    {
      "cell_type": "markdown",
      "metadata": {
        "id": "xtfXuCA41j9L"
      },
      "source": [
        "https://swatimeena989.medium.com/bert-text-classification-using-keras-903671e0207d\n",
        "\n",
        "https://atheros.ai/blog/text-classification-with-transformers-in-tensorflow-2\n",
        "\n",
        "https://colab.research.google.com/drive/1934Mm2cwSSfT5bvi78-AExAl-hSfxCbq\n",
        "\n",
        "https://stackoverflow.com/questions/61000500/tensorflow-keras-bert-multiclass-text-classification-accuracy\n",
        "\n",
        "https://towardsdatascience.com/multi-label-multi-class-text-classification-with-bert-transformer-and-keras-c6355eccb63a\n",
        "\n"
      ]
    },
    {
      "cell_type": "code",
      "metadata": {
        "colab": {
          "base_uri": "https://localhost:8080/",
          "height": 705,
          "referenced_widgets": [
            "a3479c2cd15148f7829c653333a6613b",
            "4131ccb501b84629a329f082e31b82d7",
            "9627e690c2bd4f1db403fd74239043b1",
            "cfcc0804c67140f990cffb623edbd659",
            "08f7dc1000ee4001b03a368d78970883",
            "403eadcbb1f44809905de50dfc7c00a0",
            "68c5ed2a0eee4d8487f0dcfc3b262302",
            "9e2a3165115d4fef923c67f77f33612e",
            "937438e7335a47a4992fdbe89c3cbe61",
            "7203a062093045ae89a6a96a89315e55",
            "1e547471634c4a35a078b5117da580f2",
            "79fdb25f34504bc3acdd0b0bedf86fef",
            "6d2a89e25be04caa8deee82e109e2e43",
            "4b245de0fa6f406aae37986ddeee8e04",
            "ed065a06ae2f426cbfb58179f11f565f",
            "2ff8f50932b3415994f9e915701833bf"
          ]
        },
        "id": "DjvdtIYrB_N8",
        "outputId": "ae51c447-decd-4c26-e385-71248a15d7e9"
      },
      "source": [
        "# without tokenazer\n",
        "\n",
        "!pip install transformers\n",
        "\n",
        "from transformers import TFBertForSequenceClassification\n",
        "import tensorflow as tf\n",
        "\n",
        "num_classes = len(main_tags_list)\n",
        "bert_model = TFBertForSequenceClassification.from_pretrained('bert-base-multilingual-uncased',num_labels=num_classes)\n",
        "# bert_model = TFBertForSequenceClassification.from_pretrained('bert-base-uncased',num_labels=num_classes)"
      ],
      "execution_count": null,
      "outputs": [
        {
          "output_type": "stream",
          "text": [
            "Collecting transformers\n",
            "\u001b[?25l  Downloading https://files.pythonhosted.org/packages/d8/b2/57495b5309f09fa501866e225c84532d1fd89536ea62406b2181933fb418/transformers-4.5.1-py3-none-any.whl (2.1MB)\n",
            "\u001b[K     |████████████████████████████████| 2.1MB 8.7MB/s \n",
            "\u001b[?25hRequirement already satisfied: filelock in /usr/local/lib/python3.7/dist-packages (from transformers) (3.0.12)\n",
            "Requirement already satisfied: packaging in /usr/local/lib/python3.7/dist-packages (from transformers) (20.9)\n",
            "Requirement already satisfied: numpy>=1.17 in /usr/local/lib/python3.7/dist-packages (from transformers) (1.19.5)\n",
            "Collecting sacremoses\n",
            "\u001b[?25l  Downloading https://files.pythonhosted.org/packages/75/ee/67241dc87f266093c533a2d4d3d69438e57d7a90abb216fa076e7d475d4a/sacremoses-0.0.45-py3-none-any.whl (895kB)\n",
            "\u001b[K     |████████████████████████████████| 901kB 46.4MB/s \n",
            "\u001b[?25hRequirement already satisfied: regex!=2019.12.17 in /usr/local/lib/python3.7/dist-packages (from transformers) (2019.12.20)\n",
            "Requirement already satisfied: requests in /usr/local/lib/python3.7/dist-packages (from transformers) (2.23.0)\n",
            "Collecting tokenizers<0.11,>=0.10.1\n",
            "\u001b[?25l  Downloading https://files.pythonhosted.org/packages/ae/04/5b870f26a858552025a62f1649c20d29d2672c02ff3c3fb4c688ca46467a/tokenizers-0.10.2-cp37-cp37m-manylinux2010_x86_64.whl (3.3MB)\n",
            "\u001b[K     |████████████████████████████████| 3.3MB 47.6MB/s \n",
            "\u001b[?25hRequirement already satisfied: importlib-metadata; python_version < \"3.8\" in /usr/local/lib/python3.7/dist-packages (from transformers) (3.10.1)\n",
            "Requirement already satisfied: tqdm>=4.27 in /usr/local/lib/python3.7/dist-packages (from transformers) (4.41.1)\n",
            "Requirement already satisfied: pyparsing>=2.0.2 in /usr/local/lib/python3.7/dist-packages (from packaging->transformers) (2.4.7)\n",
            "Requirement already satisfied: click in /usr/local/lib/python3.7/dist-packages (from sacremoses->transformers) (7.1.2)\n",
            "Requirement already satisfied: joblib in /usr/local/lib/python3.7/dist-packages (from sacremoses->transformers) (1.0.1)\n",
            "Requirement already satisfied: six in /usr/local/lib/python3.7/dist-packages (from sacremoses->transformers) (1.15.0)\n",
            "Requirement already satisfied: urllib3!=1.25.0,!=1.25.1,<1.26,>=1.21.1 in /usr/local/lib/python3.7/dist-packages (from requests->transformers) (1.24.3)\n",
            "Requirement already satisfied: idna<3,>=2.5 in /usr/local/lib/python3.7/dist-packages (from requests->transformers) (2.10)\n",
            "Requirement already satisfied: chardet<4,>=3.0.2 in /usr/local/lib/python3.7/dist-packages (from requests->transformers) (3.0.4)\n",
            "Requirement already satisfied: certifi>=2017.4.17 in /usr/local/lib/python3.7/dist-packages (from requests->transformers) (2020.12.5)\n",
            "Requirement already satisfied: zipp>=0.5 in /usr/local/lib/python3.7/dist-packages (from importlib-metadata; python_version < \"3.8\"->transformers) (3.4.1)\n",
            "Requirement already satisfied: typing-extensions>=3.6.4; python_version < \"3.8\" in /usr/local/lib/python3.7/dist-packages (from importlib-metadata; python_version < \"3.8\"->transformers) (3.7.4.3)\n",
            "Installing collected packages: sacremoses, tokenizers, transformers\n",
            "Successfully installed sacremoses-0.0.45 tokenizers-0.10.2 transformers-4.5.1\n"
          ],
          "name": "stdout"
        },
        {
          "output_type": "display_data",
          "data": {
            "application/vnd.jupyter.widget-view+json": {
              "model_id": "a3479c2cd15148f7829c653333a6613b",
              "version_minor": 0,
              "version_major": 2
            },
            "text/plain": [
              "HBox(children=(FloatProgress(value=0.0, description='Downloading', max=625.0, style=ProgressStyle(description_…"
            ]
          },
          "metadata": {
            "tags": []
          }
        },
        {
          "output_type": "stream",
          "text": [
            "\n"
          ],
          "name": "stdout"
        },
        {
          "output_type": "display_data",
          "data": {
            "application/vnd.jupyter.widget-view+json": {
              "model_id": "937438e7335a47a4992fdbe89c3cbe61",
              "version_minor": 0,
              "version_major": 2
            },
            "text/plain": [
              "HBox(children=(FloatProgress(value=0.0, description='Downloading', max=999358484.0, style=ProgressStyle(descri…"
            ]
          },
          "metadata": {
            "tags": []
          }
        },
        {
          "output_type": "stream",
          "text": [
            "\n"
          ],
          "name": "stdout"
        },
        {
          "output_type": "stream",
          "text": [
            "All model checkpoint layers were used when initializing TFBertForSequenceClassification.\n",
            "\n",
            "Some layers of TFBertForSequenceClassification were not initialized from the model checkpoint at bert-base-multilingual-uncased and are newly initialized: ['classifier']\n",
            "You should probably TRAIN this model on a down-stream task to be able to use it for predictions and inference.\n"
          ],
          "name": "stderr"
        }
      ]
    },
    {
      "cell_type": "code",
      "metadata": {
        "id": "4wxkcsyLPAat",
        "colab": {
          "base_uri": "https://localhost:8080/",
          "height": 612,
          "referenced_widgets": [
            "ae6d059db80f43628256a991f4ef99a4",
            "0cd4afb08afd4591882e6c87c71bfc28",
            "c36b07d096ff4fc192620a0fa5ee20e8",
            "d08288edabc244d88042c863bdb99689",
            "e5cf98c2fa554658b7f17fde62faba0d",
            "0992577854ad4cd68543ba57767bb0a8",
            "dddd99f463324c369ba1de57a3c59e3e",
            "c725fd3518a24cba863d7eb31f6187ae",
            "9e76d64e573742c594dfd0a479b30a97",
            "fb0bc4095f14464aa774986216db00d5",
            "f9ff8183b39242d9b10c12b5af707bd8",
            "0a87d5475da4492f9d2a6d7b3d29fd55",
            "8a7983d1457f4e2ab4e620da2581baa4",
            "95e522164ed144ae96a4356a5575ac37",
            "4b708ed49a9044418dee176670dc3756",
            "2c528cceaa7b49bb828783c88ce9cc5a",
            "682c5723d67f48f6949167744db0de0a",
            "2fb4a89a077f4f90a865f5935596e865",
            "839644bd99e14c09bd144bddfa20778e",
            "5498a7a4bb4345e38ea8180d2b46dedb",
            "53464b397ce443e69ca4da279e69ae3d",
            "c119ea521f06480ebb1031f9fbb7c942",
            "435c49898eb846f4b8714bde528e9833",
            "c4e3cdbc9c5644de9625b9ee6eaa0eab"
          ]
        },
        "outputId": "deb0cca2-58ac-4382-e49f-9687e4cf8edb"
      },
      "source": [
        "# with tokenazer\n",
        "\n",
        "!pip install transformers\n",
        "\n",
        "from transformers import *\n",
        "from transformers import BertTokenizer, TFBertForSequenceClassification, BertConfig\n",
        "import tensorflow as tf\n",
        "\n",
        "num_classes = len(main_tags_list)\n",
        "bert_tokenizer = BertTokenizer.from_pretrained(\"bert-base-multilingual-uncased\", do_lower_case = True)\n",
        "bert_model = TFBertForSequenceClassification.from_pretrained('bert-base-multilingual-uncased',num_labels=num_classes)"
      ],
      "execution_count": null,
      "outputs": [
        {
          "output_type": "stream",
          "text": [
            "Requirement already satisfied: transformers in /usr/local/lib/python3.7/dist-packages (4.5.1)\n",
            "Requirement already satisfied: regex!=2019.12.17 in /usr/local/lib/python3.7/dist-packages (from transformers) (2019.12.20)\n",
            "Requirement already satisfied: filelock in /usr/local/lib/python3.7/dist-packages (from transformers) (3.0.12)\n",
            "Requirement already satisfied: numpy>=1.17 in /usr/local/lib/python3.7/dist-packages (from transformers) (1.19.5)\n",
            "Requirement already satisfied: requests in /usr/local/lib/python3.7/dist-packages (from transformers) (2.23.0)\n",
            "Requirement already satisfied: sacremoses in /usr/local/lib/python3.7/dist-packages (from transformers) (0.0.45)\n",
            "Requirement already satisfied: tqdm>=4.27 in /usr/local/lib/python3.7/dist-packages (from transformers) (4.41.1)\n",
            "Requirement already satisfied: importlib-metadata; python_version < \"3.8\" in /usr/local/lib/python3.7/dist-packages (from transformers) (3.10.1)\n",
            "Requirement already satisfied: tokenizers<0.11,>=0.10.1 in /usr/local/lib/python3.7/dist-packages (from transformers) (0.10.2)\n",
            "Requirement already satisfied: packaging in /usr/local/lib/python3.7/dist-packages (from transformers) (20.9)\n",
            "Requirement already satisfied: urllib3!=1.25.0,!=1.25.1,<1.26,>=1.21.1 in /usr/local/lib/python3.7/dist-packages (from requests->transformers) (1.24.3)\n",
            "Requirement already satisfied: certifi>=2017.4.17 in /usr/local/lib/python3.7/dist-packages (from requests->transformers) (2020.12.5)\n",
            "Requirement already satisfied: idna<3,>=2.5 in /usr/local/lib/python3.7/dist-packages (from requests->transformers) (2.10)\n",
            "Requirement already satisfied: chardet<4,>=3.0.2 in /usr/local/lib/python3.7/dist-packages (from requests->transformers) (3.0.4)\n",
            "Requirement already satisfied: joblib in /usr/local/lib/python3.7/dist-packages (from sacremoses->transformers) (1.0.1)\n",
            "Requirement already satisfied: six in /usr/local/lib/python3.7/dist-packages (from sacremoses->transformers) (1.15.0)\n",
            "Requirement already satisfied: click in /usr/local/lib/python3.7/dist-packages (from sacremoses->transformers) (7.1.2)\n",
            "Requirement already satisfied: zipp>=0.5 in /usr/local/lib/python3.7/dist-packages (from importlib-metadata; python_version < \"3.8\"->transformers) (3.4.1)\n",
            "Requirement already satisfied: typing-extensions>=3.6.4; python_version < \"3.8\" in /usr/local/lib/python3.7/dist-packages (from importlib-metadata; python_version < \"3.8\"->transformers) (3.7.4.3)\n",
            "Requirement already satisfied: pyparsing>=2.0.2 in /usr/local/lib/python3.7/dist-packages (from packaging->transformers) (2.4.7)\n"
          ],
          "name": "stdout"
        },
        {
          "output_type": "display_data",
          "data": {
            "application/vnd.jupyter.widget-view+json": {
              "model_id": "ae6d059db80f43628256a991f4ef99a4",
              "version_minor": 0,
              "version_major": 2
            },
            "text/plain": [
              "HBox(children=(FloatProgress(value=0.0, description='Downloading', max=871891.0, style=ProgressStyle(descripti…"
            ]
          },
          "metadata": {
            "tags": []
          }
        },
        {
          "output_type": "stream",
          "text": [
            "\n"
          ],
          "name": "stdout"
        },
        {
          "output_type": "display_data",
          "data": {
            "application/vnd.jupyter.widget-view+json": {
              "model_id": "9e76d64e573742c594dfd0a479b30a97",
              "version_minor": 0,
              "version_major": 2
            },
            "text/plain": [
              "HBox(children=(FloatProgress(value=0.0, description='Downloading', max=28.0, style=ProgressStyle(description_w…"
            ]
          },
          "metadata": {
            "tags": []
          }
        },
        {
          "output_type": "stream",
          "text": [
            "\n"
          ],
          "name": "stdout"
        },
        {
          "output_type": "display_data",
          "data": {
            "application/vnd.jupyter.widget-view+json": {
              "model_id": "682c5723d67f48f6949167744db0de0a",
              "version_minor": 0,
              "version_major": 2
            },
            "text/plain": [
              "HBox(children=(FloatProgress(value=0.0, description='Downloading', max=1715180.0, style=ProgressStyle(descript…"
            ]
          },
          "metadata": {
            "tags": []
          }
        },
        {
          "output_type": "stream",
          "text": [
            "\n"
          ],
          "name": "stdout"
        },
        {
          "output_type": "stream",
          "text": [
            "All model checkpoint layers were used when initializing TFBertForSequenceClassification.\n",
            "\n",
            "Some layers of TFBertForSequenceClassification were not initialized from the model checkpoint at bert-base-multilingual-uncased and are newly initialized: ['classifier']\n",
            "You should probably TRAIN this model on a down-stream task to be able to use it for predictions and inference.\n"
          ],
          "name": "stderr"
        }
      ]
    },
    {
      "cell_type": "code",
      "metadata": {
        "colab": {
          "base_uri": "https://localhost:8080/"
        },
        "id": "VxXUP-_-Z8ri",
        "outputId": "724bedcb-52e9-4d39-971f-8912ef182b07"
      },
      "source": [
        "import tensorflow as tf\n",
        "\n",
        "# Get the GPU device name.\n",
        "device_name = tf.test.gpu_device_name()\n",
        "\n",
        "# The device name should look like the following:\n",
        "if device_name == '/device:GPU:0':\n",
        "    print('Found GPU at: {}'.format(device_name))\n",
        "else:\n",
        "    raise SystemError('GPU device not found')\n",
        "\n",
        "# Found GPU at: /device:GPU:0"
      ],
      "execution_count": null,
      "outputs": [
        {
          "output_type": "stream",
          "text": [
            "Found GPU at: /device:GPU:0\n"
          ],
          "name": "stdout"
        }
      ]
    },
    {
      "cell_type": "markdown",
      "metadata": {
        "id": "5VOzu_Ct5KVz"
      },
      "source": [
        "## tokenizer"
      ]
    },
    {
      "cell_type": "code",
      "metadata": {
        "id": "VZypYqMvtIMW"
      },
      "source": [
        "# !pip install transformers\n",
        "\n",
        "# import transformers as ppb\n",
        "\n",
        "\n",
        "# model_class, tokenizer_class, pretrained_weights = (ppb.DistilBertModel, ppb.DistilBertTokenizer, 'distilbert-base-uncased')\n",
        "# tokenizer = tokenizer_class.from_pretrained(pretrained_weights)\n",
        "# model_bert = model_class.from_pretrained(pretrained_weights)\n",
        "\n",
        "\n",
        "# from transformers import DistilBertTokenizer, TFDistilBertForSequenceClassification\n"
      ],
      "execution_count": null,
      "outputs": []
    },
    {
      "cell_type": "code",
      "metadata": {
        "id": "c8Of3BZbFZPq"
      },
      "source": [
        "# from transformers import DistilBertTokenizer, TFDistilBertForSequenceClassification\n",
        "\n",
        "# num_classes = len(main_tags_list)\n",
        "# bert_tokenizer = DistilBertTokenizer.from_pretrained('distilbert-base-multilingual-cased')\n",
        "# bert_model = TFDistilBertForSequenceClassification.from_pretrained('distilbert-base-multilingual-cased',num_labels=num_classes)"
      ],
      "execution_count": null,
      "outputs": []
    },
    {
      "cell_type": "code",
      "metadata": {
        "id": "B61v0iyftuw-"
      },
      "source": [
        ""
      ],
      "execution_count": null,
      "outputs": []
    },
    {
      "cell_type": "code",
      "metadata": {
        "id": "DJWERpGaFkiT"
      },
      "source": [
        "max_len = 0\n",
        "X_train_text"
      ],
      "execution_count": null,
      "outputs": []
    },
    {
      "cell_type": "code",
      "metadata": {
        "colab": {
          "base_uri": "https://localhost:8080/"
        },
        "id": "wAUSFXRtG4Gh",
        "outputId": "27544dbb-96dc-4c93-da20-0eb6854b97a6"
      },
      "source": [
        "sent= 'how to train the model, lets look at how a trained model calculates its prediction.'\n",
        "# sent= 'how to train '\n",
        "sent = X_train_text[0]\n",
        "tokens=bert_tokenizer.tokenize(sent)\n",
        "print(tokens)"
      ],
      "execution_count": null,
      "outputs": [
        {
          "output_type": "stream",
          "text": [
            "['о', '##прос', 'пока', '##за', '##ть', 'вы', '##сокий', 'до', '##вер', '##ие', 'мир', 'р', '##ф', 'со', '##здат', '##ель', 'ва', '##к', '##цина', 'число']\n"
          ],
          "name": "stdout"
        }
      ]
    },
    {
      "cell_type": "code",
      "metadata": {
        "colab": {
          "base_uri": "https://localhost:8080/"
        },
        "id": "22DWuorBQSUH",
        "outputId": "6bfcfff7-03d1-42a9-fade-1ebf36ee388d"
      },
      "source": [
        "tokenized_sequence= bert_tokenizer.encode_plus(sent, \\\n",
        "                                               add_special_tokens = True, \\\n",
        "                                               max_length =10, \\\n",
        "                                               pad_to_max_length = True,\n",
        "return_attention_mask = True)"
      ],
      "execution_count": null,
      "outputs": [
        {
          "output_type": "stream",
          "text": [
            "Truncation was not explicitly activated but `max_length` is provided a specific value, please use `truncation=True` to explicitly truncate examples to max length. Defaulting to 'longest_first' truncation strategy. If you encode pairs of sequences (GLUE-style) with the tokenizer you can select this strategy more precisely by providing a specific strategy to `truncation`.\n",
            "/usr/local/lib/python3.7/dist-packages/transformers/tokenization_utils_base.py:2074: FutureWarning: The `pad_to_max_length` argument is deprecated and will be removed in a future version, use `padding=True` or `padding='longest'` to pad to the longest sequence in the batch, or use `padding='max_length'` to pad to a max length. In this case, you can give a specific length with `max_length` (e.g. `max_length=45`) or leave max_length to None to pad to the maximal input size of the model (e.g. 512 for Bert).\n",
            "  FutureWarning,\n"
          ],
          "name": "stderr"
        }
      ]
    },
    {
      "cell_type": "code",
      "metadata": {
        "colab": {
          "base_uri": "https://localhost:8080/"
        },
        "id": "PBmPoisJQSXQ",
        "outputId": "d95fae69-6826-4cad-ee09-17ac7868793e"
      },
      "source": [
        "tokenized_sequence"
      ],
      "execution_count": null,
      "outputs": [
        {
          "output_type": "execute_result",
          "data": {
            "text/plain": [
              "{'input_ids': [101, 555, 99842, 45899, 13594, 11258, 96195, 71912, 10344, 102], 'token_type_ids': [0, 0, 0, 0, 0, 0, 0, 0, 0, 0], 'attention_mask': [1, 1, 1, 1, 1, 1, 1, 1, 1, 1]}"
            ]
          },
          "metadata": {
            "tags": []
          },
          "execution_count": 19
        }
      ]
    },
    {
      "cell_type": "code",
      "metadata": {
        "colab": {
          "base_uri": "https://localhost:8080/",
          "height": 35
        },
        "id": "9rKXcRdVQ53m",
        "outputId": "dcda0376-0a72-44f4-949d-38d4a00c4ec6"
      },
      "source": [
        "\n",
        "bert_tokenizer.decode(tokenized_sequence['input_ids'])"
      ],
      "execution_count": null,
      "outputs": [
        {
          "output_type": "execute_result",
          "data": {
            "application/vnd.google.colaboratory.intrinsic+json": {
              "type": "string"
            },
            "text/plain": [
              "'[CLS] опрос показать высокий до [SEP]'"
            ]
          },
          "metadata": {
            "tags": []
          },
          "execution_count": 20
        }
      ]
    },
    {
      "cell_type": "code",
      "metadata": {
        "id": "DPYAP9xVVPAT"
      },
      "source": [
        ""
      ],
      "execution_count": null,
      "outputs": []
    },
    {
      "cell_type": "code",
      "metadata": {
        "colab": {
          "base_uri": "https://localhost:8080/"
        },
        "id": "oUSeek9fcQ5d",
        "outputId": "150d5393-d5f7-4c29-e557-a6bc6052c0e8"
      },
      "source": [
        "max_sent_len"
      ],
      "execution_count": null,
      "outputs": [
        {
          "output_type": "execute_result",
          "data": {
            "text/plain": [
              "3705"
            ]
          },
          "metadata": {
            "tags": []
          },
          "execution_count": 15
        }
      ]
    },
    {
      "cell_type": "code",
      "metadata": {
        "id": "JDH0tZHwSmiU"
      },
      "source": [
        ""
      ],
      "execution_count": null,
      "outputs": []
    },
    {
      "cell_type": "code",
      "metadata": {
        "id": "B22AVfsiUaW5"
      },
      "source": [
        "def prepare_text_for_bert(data_text, max_len = 512):\n",
        "  max_len = min(max_len, 512)\n",
        "  input_ids=[]\n",
        "  attention_masks=[]\n",
        "  for dt in tqdm(data_text):\n",
        "      # sent = ''\n",
        "      # for d in dt.split()[:max_len]:\n",
        "      #     sent+=' '+d\n",
        "      sent = dt\n",
        "      bert_inp=bert_tokenizer.encode_plus(sent, \\\n",
        "                                          add_special_tokens = True,\\\n",
        "                                          max_length =max_len,\\\n",
        "                                          # padding = True,\\\n",
        "                                          pad_to_max_length = True,\n",
        "                                          return_attention_mask = True)\n",
        "      input_ids.append(bert_inp['input_ids'])\n",
        "      attention_masks.append(bert_inp['attention_mask'])\n",
        "\n",
        "  input_ids=np.asarray(input_ids)\n",
        "  attention_masks=np.asarray(attention_masks)\n",
        "  return input_ids, attention_masks\n",
        "\n",
        "# qwe = prepare_text_for_bert(X_train_text[:5])\n",
        "# len(qwe[0][0])\n",
        "max_len = 512"
      ],
      "execution_count": null,
      "outputs": []
    },
    {
      "cell_type": "code",
      "metadata": {
        "colab": {
          "base_uri": "https://localhost:8080/",
          "height": 158,
          "referenced_widgets": [
            "583f18546d6b48b89c9f1399f0310d11",
            "01b12eaae610419393dd972b952da785",
            "b3ab2e1bf8884d41bcaa52fe45d44a69",
            "b6b7766aace04563a19150ba85b734ff",
            "f813fb1c65b544a48ff1a3b0b1c5f7e5",
            "cd49675a56884f11ad50df3b26253207",
            "285655ed2e5d47328e1b59c1f522f761",
            "1b10037e6b7142578cd111a7e365c5b7"
          ]
        },
        "id": "X7MrEIYFU8os",
        "outputId": "df2c9fa6-60d3-4a51-f09b-6aba0e97d1db"
      },
      "source": [
        "test_ids, test_mask = prepare_text_for_bert(X_test_text, max_len)\n",
        "del X_test_text\n",
        "len(test_ids[0]), len(test_mask[0]), len(test_mask)"
      ],
      "execution_count": null,
      "outputs": [
        {
          "output_type": "display_data",
          "data": {
            "application/vnd.jupyter.widget-view+json": {
              "model_id": "583f18546d6b48b89c9f1399f0310d11",
              "version_minor": 0,
              "version_major": 2
            },
            "text/plain": [
              "HBox(children=(FloatProgress(value=0.0, max=6783.0), HTML(value='')))"
            ]
          },
          "metadata": {
            "tags": []
          }
        },
        {
          "output_type": "stream",
          "text": [
            "Truncation was not explicitly activated but `max_length` is provided a specific value, please use `truncation=True` to explicitly truncate examples to max length. Defaulting to 'longest_first' truncation strategy. If you encode pairs of sequences (GLUE-style) with the tokenizer you can select this strategy more precisely by providing a specific strategy to `truncation`.\n",
            "/usr/local/lib/python3.7/dist-packages/transformers/tokenization_utils_base.py:2079: FutureWarning: The `pad_to_max_length` argument is deprecated and will be removed in a future version, use `padding=True` or `padding='longest'` to pad to the longest sequence in the batch, or use `padding='max_length'` to pad to a max length. In this case, you can give a specific length with `max_length` (e.g. `max_length=45`) or leave max_length to None to pad to the maximal input size of the model (e.g. 512 for Bert).\n",
            "  FutureWarning,\n"
          ],
          "name": "stderr"
        },
        {
          "output_type": "stream",
          "text": [
            "\n"
          ],
          "name": "stdout"
        },
        {
          "output_type": "execute_result",
          "data": {
            "text/plain": [
              "(512, 512, 6783)"
            ]
          },
          "metadata": {
            "tags": []
          },
          "execution_count": 11
        }
      ]
    },
    {
      "cell_type": "code",
      "metadata": {
        "colab": {
          "base_uri": "https://localhost:8080/",
          "height": 140,
          "referenced_widgets": [
            "5f914dc2b5fb4f9b94a48396b903bb2d",
            "7068b6c73c0d4bf1bcd43c96d84f416d",
            "eaea1d63797148b783451522e0ae8e48",
            "0dbf5d4efc1841b1aef8165209fc104f",
            "38690ca1157a462dba84ecc3bdc56c5d",
            "f78352ae13c94431a8a83119fffc0227",
            "a06ede82fd44405f9cd2aded375f06bb",
            "adf0b9486bbf4d81a584961976d58a4a"
          ]
        },
        "id": "5i-OWGCpUv0s",
        "outputId": "16ed1520-a4c0-4869-811a-05bbc647cc62"
      },
      "source": [
        "train_ids, train_mask = prepare_text_for_bert(X_train_text,max_len)\n",
        "del X_train_text\n",
        "len(train_ids[0]), len(train_mask[0]), len(train_mask)"
      ],
      "execution_count": null,
      "outputs": [
        {
          "output_type": "display_data",
          "data": {
            "application/vnd.jupyter.widget-view+json": {
              "model_id": "5f914dc2b5fb4f9b94a48396b903bb2d",
              "version_minor": 0,
              "version_major": 2
            },
            "text/plain": [
              "HBox(children=(FloatProgress(value=0.0, max=27132.0), HTML(value='')))"
            ]
          },
          "metadata": {
            "tags": []
          }
        },
        {
          "output_type": "stream",
          "text": [
            "/usr/local/lib/python3.7/dist-packages/transformers/tokenization_utils_base.py:2079: FutureWarning: The `pad_to_max_length` argument is deprecated and will be removed in a future version, use `padding=True` or `padding='longest'` to pad to the longest sequence in the batch, or use `padding='max_length'` to pad to a max length. In this case, you can give a specific length with `max_length` (e.g. `max_length=45`) or leave max_length to None to pad to the maximal input size of the model (e.g. 512 for Bert).\n",
            "  FutureWarning,\n"
          ],
          "name": "stderr"
        },
        {
          "output_type": "stream",
          "text": [
            "\n"
          ],
          "name": "stdout"
        },
        {
          "output_type": "execute_result",
          "data": {
            "text/plain": [
              "(512, 512, 27132)"
            ]
          },
          "metadata": {
            "tags": []
          },
          "execution_count": 12
        }
      ]
    },
    {
      "cell_type": "code",
      "metadata": {
        "colab": {
          "base_uri": "https://localhost:8080/",
          "height": 84,
          "referenced_widgets": [
            "6e7667c6ba86427a9ccbb2c7f4d5e089",
            "762f940b7cfe4318a9fa6f486951a07a",
            "7441e057d3534ff3a138aded2739e46e",
            "305bffac1acb4b3e8abed4fd413e7c3f",
            "cae79a634a914a34920bc9845cb54997",
            "a3f2fc48489a45fe99d63a277f1a27c6",
            "bb3d7dd541544c4d90e4dacd657e2588",
            "cf0ea693b8da4cf9b886e5732f2becff"
          ]
        },
        "id": "jkU_pzAyHjK-",
        "outputId": "571b0ba8-1d04-4a54-9064-173ab1104cb8"
      },
      "source": [
        "max_len = 0\n",
        "for text_i in tqdm(test_mask):\n",
        "# for text_i in tqdm(train_mask):\n",
        "  now_len = np.sum(text_i)\n",
        "  max_len = max(max_len, now_len)\n",
        "max_len"
      ],
      "execution_count": null,
      "outputs": [
        {
          "output_type": "display_data",
          "data": {
            "application/vnd.jupyter.widget-view+json": {
              "model_id": "6e7667c6ba86427a9ccbb2c7f4d5e089",
              "version_minor": 0,
              "version_major": 2
            },
            "text/plain": [
              "HBox(children=(FloatProgress(value=0.0, max=6783.0), HTML(value='')))"
            ]
          },
          "metadata": {
            "tags": []
          }
        },
        {
          "output_type": "stream",
          "text": [
            "\n"
          ],
          "name": "stdout"
        },
        {
          "output_type": "execute_result",
          "data": {
            "text/plain": [
              "512"
            ]
          },
          "metadata": {
            "tags": []
          },
          "execution_count": 37
        }
      ]
    },
    {
      "cell_type": "code",
      "metadata": {
        "colab": {
          "base_uri": "https://localhost:8080/",
          "height": 84,
          "referenced_widgets": [
            "dd2ba9db1aa544e9b84e37359557b827",
            "521412328eb9403fa1eae29b9af877dc",
            "995c8c1460ab46bb9c3847adf101fb5d",
            "454a4fcd18f74a67bba0ec7b67c01b1b",
            "017278fe1f084a79b2fe1c27b50546f0",
            "c85e267f618d4ee081c4fb1a2c2392ed",
            "bd2d63b1aa8640a28d6cbc6ac120771a",
            "e0a27f955f714f5eb4cb4472adc774d5"
          ]
        },
        "id": "yYcaD5NKIGKV",
        "outputId": "edecf392-53a3-4b86-88a1-3006289aacbe"
      },
      "source": [
        "max_len = 0\n",
        "# for text_i in tqdm(test_mask):\n",
        "for text_i in tqdm(train_mask):\n",
        "  now_len = np.sum(text_i)\n",
        "  max_len = max(max_len, now_len)\n",
        "max_len"
      ],
      "execution_count": null,
      "outputs": [
        {
          "output_type": "display_data",
          "data": {
            "application/vnd.jupyter.widget-view+json": {
              "model_id": "dd2ba9db1aa544e9b84e37359557b827",
              "version_minor": 0,
              "version_major": 2
            },
            "text/plain": [
              "HBox(children=(FloatProgress(value=0.0, max=27132.0), HTML(value='')))"
            ]
          },
          "metadata": {
            "tags": []
          }
        },
        {
          "output_type": "stream",
          "text": [
            "\n"
          ],
          "name": "stdout"
        },
        {
          "output_type": "execute_result",
          "data": {
            "text/plain": [
              "512"
            ]
          },
          "metadata": {
            "tags": []
          },
          "execution_count": 38
        }
      ]
    },
    {
      "cell_type": "code",
      "metadata": {
        "id": "0IMgMONfWsgK"
      },
      "source": [
        "# del X_test_text\n",
        "# del X_train_text"
      ],
      "execution_count": null,
      "outputs": []
    },
    {
      "cell_type": "code",
      "metadata": {
        "colab": {
          "base_uri": "https://localhost:8080/"
        },
        "id": "teCMCZUbfS4Y",
        "outputId": "9b3d260d-01c2-4271-8c27-8bcc3d3987bc"
      },
      "source": [
        "gc.collect()"
      ],
      "execution_count": null,
      "outputs": [
        {
          "output_type": "execute_result",
          "data": {
            "text/plain": [
              "0"
            ]
          },
          "metadata": {
            "tags": []
          },
          "execution_count": 20
        }
      ]
    },
    {
      "cell_type": "code",
      "metadata": {
        "id": "W9YZnVGgmaFI"
      },
      "source": [
        "#_without_prepr\n",
        "pickle.dump(test_ids, open(md+\"data/bert_tokens/test_ids_down_1_joint_512_without_prepr.pickle\", \"wb\"))\n",
        "pickle.dump(test_mask, open(md+\"data/bert_tokens/test_mask_down_1_joint_512_without_prepr.pickle\", \"wb\"))\n",
        "pickle.dump(train_ids, open(md+\"data/bert_tokens/train_ids_down_1_joint_512_without_prepr.pickle\", \"wb\"))\n",
        "pickle.dump(train_mask, open(md+\"data/bert_tokens/train_mask_down_1_joint_512_without_prepr.pickle\", \"wb\"))"
      ],
      "execution_count": null,
      "outputs": []
    },
    {
      "cell_type": "code",
      "metadata": {
        "id": "vKtY7DSjmaFI"
      },
      "source": [
        "pickle.dump(y_test, open(md+\"data/bert_tokens/y_test_down_1_joint_512_without_prepr.pickle\", \"wb\"))\n",
        "pickle.dump(y_train, open(md+\"data/bert_tokens/y_train_down_1_joint_512_without_prepr.pickle\", \"wb\"))"
      ],
      "execution_count": null,
      "outputs": []
    },
    {
      "cell_type": "code",
      "metadata": {
        "id": "qYTsBQMmmZjG"
      },
      "source": [
        ""
      ],
      "execution_count": null,
      "outputs": []
    },
    {
      "cell_type": "code",
      "metadata": {
        "id": "Rp5v5fIkmZpn"
      },
      "source": [
        ""
      ],
      "execution_count": null,
      "outputs": []
    },
    {
      "cell_type": "code",
      "metadata": {
        "id": "GJD38LuudGgh"
      },
      "source": [
        "pickle.dump(test_ids, open(md+\"data/bert_tokens/test_ids_down_1_joint_512.pickle\", \"wb\"))\n",
        "pickle.dump(test_mask, open(md+\"data/bert_tokens/test_mask_down_1_joint_512.pickle\", \"wb\"))\n",
        "pickle.dump(train_ids, open(md+\"data/bert_tokens/train_ids_down_1_joint_512.pickle\", \"wb\"))\n",
        "pickle.dump(train_mask, open(md+\"data/bert_tokens/train_mask_down_1_joint_512.pickle\", \"wb\"))"
      ],
      "execution_count": null,
      "outputs": []
    },
    {
      "cell_type": "code",
      "metadata": {
        "id": "-0hPEk9yjRPp"
      },
      "source": [
        "pickle.dump(y_test, open(md+\"data/bert_tokens/y_test_down_1_joint_512.pickle\", \"wb\"))\n",
        "pickle.dump(y_train, open(md+\"data/bert_tokens/y_train_down_1_joint_512.pickle\", \"wb\"))"
      ],
      "execution_count": null,
      "outputs": []
    },
    {
      "cell_type": "markdown",
      "metadata": {
        "id": "OQ59oFJ1mKhv"
      },
      "source": [
        "## train_prepare"
      ]
    },
    {
      "cell_type": "code",
      "metadata": {
        "id": "mUlo66yP7hlV"
      },
      "source": [
        "def map_example_to_dict(input_ids, attention_masks, token_type_ids, label):\n",
        "  return {\n",
        "      \"input_ids\": input_ids,\n",
        "      \"token_type_ids\": token_type_ids,\n",
        "      \"attention_mask\": attention_masks,\n",
        "  }, label"
      ],
      "execution_count": null,
      "outputs": []
    },
    {
      "cell_type": "code",
      "metadata": {
        "id": "bmeGgg187hoT"
      },
      "source": [
        "def tensor_encoder(input_ids_list, attention_mask_list, label_list, top_len = -1):\n",
        "  token_type_ids_list = [[0]*len(input_ids_list[0])]*len(input_ids_list)\n",
        "  # print(token_type_ids_list)\n",
        "  # if len(label_list[0])==1:\n",
        "  #   label_list = [[l] for l in label_list]\n",
        "  # print(label_list)\n",
        "  if top_len==-1:\n",
        "    return tf.data.Dataset.from_tensor_slices((input_ids_list, attention_mask_list, token_type_ids_list, label_list)).map(map_example_to_dict)\n",
        "  else:\n",
        "    return tf.data.Dataset.from_tensor_slices((input_ids_list[:top_len], attention_mask_list[:top_len], token_type_ids_list[:top_len], label_list[:top_len])).map(map_example_to_dict)\n"
      ],
      "execution_count": null,
      "outputs": []
    },
    {
      "cell_type": "code",
      "metadata": {
        "id": "MkgpMpbrdGkP"
      },
      "source": [
        "test_ids = pickle.load(open(md+\"data/bert_tokens/test_ids_down_1_joint_512.pickle\", \"rb\"))\n",
        "test_mask = pickle.load(open(md+\"data/bert_tokens/test_mask_down_1_joint_512.pickle\", \"rb\"))\n",
        "train_ids = pickle.load(open(md+\"data/bert_tokens/train_ids_down_1_joint_512.pickle\", \"rb\"))\n",
        "train_mask = pickle.load(open(md+\"data/bert_tokens/train_mask_down_1_joint_512.pickle\", \"rb\"))"
      ],
      "execution_count": null,
      "outputs": []
    },
    {
      "cell_type": "code",
      "metadata": {
        "id": "chCIG5dcjRXw"
      },
      "source": [
        "y_test = pickle.load(open(md+\"data/bert_tokens/y_test_down_1_joint_128.pickle\", \"rb\"))\n",
        "y_train = pickle.load(open(md+\"data/bert_tokens/y_train_down_1_joint_128.pickle\", \"rb\"))"
      ],
      "execution_count": null,
      "outputs": []
    },
    {
      "cell_type": "code",
      "metadata": {
        "id": "lA5TLDmrmk3J"
      },
      "source": [
        ""
      ],
      "execution_count": null,
      "outputs": []
    },
    {
      "cell_type": "code",
      "metadata": {
        "id": "b270jl82mlfF"
      },
      "source": [
        "#_without_prepr\n",
        "test_ids = pickle.load(open(md+\"data/bert_tokens/test_ids_down_1_joint_512_without_prepr.pickle\", \"rb\"))\n",
        "test_mask = pickle.load(open(md+\"data/bert_tokens/test_mask_down_1_joint_512_without_prepr.pickle\", \"rb\"))\n",
        "train_ids = pickle.load(open(md+\"data/bert_tokens/train_ids_down_1_joint_512_without_prepr.pickle\", \"rb\"))\n",
        "train_mask = pickle.load(open(md+\"data/bert_tokens/train_mask_down_1_joint_512_without_prepr.pickle\", \"rb\"))"
      ],
      "execution_count": null,
      "outputs": []
    },
    {
      "cell_type": "code",
      "metadata": {
        "id": "lj02nF84mlfG"
      },
      "source": [
        "y_test = pickle.load(open(md+\"data/bert_tokens/y_test_down_1_joint_512_without_prepr.pickle\", \"rb\"))\n",
        "y_train = pickle.load(open(md+\"data/bert_tokens/y_train_down_1_joint_512_without_prepr.pickle\", \"rb\"))"
      ],
      "execution_count": null,
      "outputs": []
    },
    {
      "cell_type": "code",
      "metadata": {
        "id": "XIbvTB1CmlG8"
      },
      "source": [
        ""
      ],
      "execution_count": null,
      "outputs": []
    },
    {
      "cell_type": "code",
      "metadata": {
        "colab": {
          "base_uri": "https://localhost:8080/"
        },
        "id": "9mlilV8JI5BG",
        "outputId": "cd17e0f5-b835-4816-ec2f-6deef7413abe"
      },
      "source": [
        "len(y_train)"
      ],
      "execution_count": null,
      "outputs": [
        {
          "output_type": "execute_result",
          "data": {
            "text/plain": [
              "27132"
            ]
          },
          "metadata": {
            "tags": []
          },
          "execution_count": 10
        }
      ]
    },
    {
      "cell_type": "code",
      "metadata": {
        "id": "xJSpN6248cIe"
      },
      "source": [
        "# use for SparseCategoricalCrossentropy\n",
        "\n",
        "y_test = [[l] for l in y_test]\n",
        "y_train = [[l] for l in y_train]"
      ],
      "execution_count": null,
      "outputs": []
    },
    {
      "cell_type": "code",
      "metadata": {
        "colab": {
          "base_uri": "https://localhost:8080/"
        },
        "id": "PtVB-TvVqWZQ",
        "outputId": "814799d4-4009-4145-f220-cd5a317d4897"
      },
      "source": [
        "# use for CategoricalCrossentropy\n",
        "\n",
        "from keras.utils import np_utils\n",
        "from sklearn.metrics import roc_auc_score\n",
        "from sklearn.preprocessing import LabelEncoder\n",
        "\n",
        "encoder = LabelEncoder()\n",
        "encoder.fit(y_train)\n",
        "encoded_Y = encoder.transform(y_train)\n",
        "y_tr = np_utils.to_categorical(encoded_Y)\n",
        "encoded_Y_ts = encoder.fit_transform(y_test)\n",
        "y_ts = np_utils.to_categorical(encoded_Y_ts)\n",
        "y_tr.shape"
      ],
      "execution_count": null,
      "outputs": [
        {
          "output_type": "execute_result",
          "data": {
            "text/plain": [
              "(27132, 7)"
            ]
          },
          "metadata": {
            "tags": []
          },
          "execution_count": 9
        }
      ]
    },
    {
      "cell_type": "code",
      "metadata": {
        "id": "HVbSOBB1GYAR"
      },
      "source": [
        "y_test = y_ts\n",
        "y_train = y_tr"
      ],
      "execution_count": null,
      "outputs": []
    },
    {
      "cell_type": "code",
      "metadata": {
        "colab": {
          "base_uri": "https://localhost:8080/"
        },
        "id": "AmS_zZZO875f",
        "outputId": "9ae26b64-aa57-4b84-fcdc-d082597cbebd"
      },
      "source": [
        "y_train[0], y_tr[0]"
      ],
      "execution_count": null,
      "outputs": [
        {
          "output_type": "execute_result",
          "data": {
            "text/plain": [
              "(array([0., 1., 0., 0., 0., 0., 0.], dtype=float32),\n",
              " array([0., 1., 0., 0., 0., 0., 0.], dtype=float32))"
            ]
          },
          "metadata": {
            "tags": []
          },
          "execution_count": 11
        }
      ]
    },
    {
      "cell_type": "code",
      "metadata": {
        "colab": {
          "base_uri": "https://localhost:8080/"
        },
        "id": "8ydhzgz4qW8i",
        "outputId": "c36893ac-6c24-4189-be8f-3f8e24eed2d2"
      },
      "source": [
        "train_idx = np.where(np.array(y_train) <2)[0]\n",
        "test_idx = np.where(np.array(y_test) <2)[0]\n",
        "\n",
        "train_idx"
      ],
      "execution_count": null,
      "outputs": [
        {
          "output_type": "execute_result",
          "data": {
            "text/plain": [
              "array([    0,     7,     9, ..., 27116, 27120, 27128])"
            ]
          },
          "metadata": {
            "tags": []
          },
          "execution_count": 55
        }
      ]
    },
    {
      "cell_type": "code",
      "metadata": {
        "id": "TCdcT2RPBNqb"
      },
      "source": [
        "test_ids = test_ids\n",
        "test_mask = test_mask\n",
        "train_ids = train_ids\n",
        "train_mask = train_mask\n",
        "\n",
        "y_train = \n",
        "y_test = y_test"
      ],
      "execution_count": null,
      "outputs": []
    },
    {
      "cell_type": "code",
      "metadata": {
        "id": "SiA5Vsl6AvKl"
      },
      "source": [
        "train_mask[train_idx]"
      ],
      "execution_count": null,
      "outputs": []
    },
    {
      "cell_type": "code",
      "metadata": {
        "id": "NqgPLOK7AvNv"
      },
      "source": [
        ""
      ],
      "execution_count": null,
      "outputs": []
    },
    {
      "cell_type": "code",
      "metadata": {
        "id": "UpLRy0k90oWw"
      },
      "source": [
        "batch_size = 32"
      ],
      "execution_count": null,
      "outputs": []
    },
    {
      "cell_type": "code",
      "metadata": {
        "id": "dN0a8RJZ80mW"
      },
      "source": [
        "batch_size = 8\n",
        "top_test = 3\n",
        "ds_test_encoded = tensor_encoder(test_ids, test_mask, y_tr, top_test).batch(batch_size)"
      ],
      "execution_count": null,
      "outputs": []
    },
    {
      "cell_type": "code",
      "metadata": {
        "colab": {
          "base_uri": "https://localhost:8080/"
        },
        "id": "NiC073jIrepB",
        "outputId": "7d82d271-b6e6-4bc5-f38e-4aecdad060e9"
      },
      "source": [
        "%time ds_train_encoded = tensor_encoder(train_ids, train_mask, y_train).batch(batch_size)\n"
      ],
      "execution_count": null,
      "outputs": [
        {
          "output_type": "stream",
          "text": [
            "CPU times: user 7.6 s, sys: 15.7 ms, total: 7.62 s\n",
            "Wall time: 7.62 s\n"
          ],
          "name": "stdout"
        }
      ]
    },
    {
      "cell_type": "code",
      "metadata": {
        "id": "0qIs-mYE-ZzI"
      },
      "source": [
        "# pickle.dump(ds_test_encoded, open(md+\"data/ds_test_encoded_down_1.pickle\", \"wb\"))\n",
        "# pickle.dump(ds_train_encoded, open(md+\"data/ds_train_encoded_down_1.pickle\", \"wb\"))"
      ],
      "execution_count": null,
      "outputs": []
    },
    {
      "cell_type": "code",
      "metadata": {
        "id": "IZm8QKjc-iXF"
      },
      "source": [
        "# ds_test_encoded = pickle.load(open(md+\"data/ds_test_encoded_down_1.pickle\", \"rb\"))\n",
        "# ds_train_encoded = pickle.load(open(md+\"data/ds_train_encoded_down_1.pickle\", \"rb\"))"
      ],
      "execution_count": null,
      "outputs": []
    },
    {
      "cell_type": "markdown",
      "metadata": {
        "id": "cb8mb5RDLERk"
      },
      "source": [
        "## train\n"
      ]
    },
    {
      "cell_type": "code",
      "metadata": {
        "id": "uCJBhMDgC3gd"
      },
      "source": [
        "# SparseCategoricalCrossentropy\n",
        "model = bert_model\n",
        "\n",
        "loss = tf.keras.losses.SparseCategoricalCrossentropy(from_logits=True) \n",
        "# metric = tf.keras.metrics.SparseCategoricalCrossentropy('accuracy')# categorical_crossentropy accuracy\n",
        "metric = tf.keras.metrics.SparseCategoricalAccuracy('accuracy')\n",
        "optimizer = tf.keras.optimizers.Adam(learning_rate=2e-5,epsilon=1e-08)\n",
        "\n",
        "model.compile(loss=loss,optimizer=optimizer,metrics=[metric])"
      ],
      "execution_count": null,
      "outputs": []
    },
    {
      "cell_type": "code",
      "metadata": {
        "id": "JV5tv6yjo8Lm"
      },
      "source": [
        "# CategoricalCrossentropy\n",
        "model = bert_model\n",
        "\n",
        "loss = tf.keras.losses.CategoricalCrossentropy(from_logits=True) \n",
        "# metric = tf.keras.metrics.SparseCategoricalCrossentropy('accuracy')# categorical_crossentropy accuracy\n",
        "metric = tf.keras.metrics.CategoricalAccuracy('accuracy')\n",
        "optimizer = tf.keras.optimizers.Adam(learning_rate=2e-5,epsilon=1e-08)\n",
        "\n",
        "model.compile(loss=loss,optimizer=optimizer,metrics=[metric])"
      ],
      "execution_count": null,
      "outputs": []
    },
    {
      "cell_type": "code",
      "metadata": {
        "id": "Li4Z9G3aFcth"
      },
      "source": [
        "# bert_model.compile(loss='sparse_categorical_crossentropy', \n",
        "#               optimizer='adam', \n",
        "#               metrics=['accuracy'])"
      ],
      "execution_count": null,
      "outputs": []
    },
    {
      "cell_type": "code",
      "metadata": {
        "id": "ULPUVKwqC3ge"
      },
      "source": [
        "from keras.backend import clear_session\n",
        "clear_session()"
      ],
      "execution_count": null,
      "outputs": []
    },
    {
      "cell_type": "code",
      "metadata": {
        "colab": {
          "base_uri": "https://localhost:8080/"
        },
        "id": "_4MVHygh3Ynb",
        "outputId": "051c8efe-7ef4-4260-e07b-f729fb7b6248"
      },
      "source": [
        "len(y_test)"
      ],
      "execution_count": null,
      "outputs": [
        {
          "output_type": "execute_result",
          "data": {
            "text/plain": [
              "6783"
            ]
          },
          "metadata": {
            "tags": []
          },
          "execution_count": 45
        }
      ]
    },
    {
      "cell_type": "code",
      "metadata": {
        "id": "UTrEgwZuIWdA",
        "colab": {
          "base_uri": "https://localhost:8080/"
        },
        "outputId": "6ecf3cf9-1cbe-4e84-d891-4b517d1ef62b"
      },
      "source": [
        "batch_size = 8\n",
        "top_numder = -1\n",
        "top_test = top_numder\n",
        "top_train = top_numder\n",
        "ds_test_encoded = tensor_encoder(test_ids, test_mask, y_test, top_test).batch(batch_size)\n",
        "ds_train_encoded = tensor_encoder(train_ids, train_mask, y_train, top_train).batch(batch_size)\n",
        "\n",
        "history=model.fit(\n",
        "    ds_train_encoded,\n",
        "    epochs=5,\n",
        "    validation_data=ds_test_encoded)"
      ],
      "execution_count": null,
      "outputs": [
        {
          "output_type": "stream",
          "text": [
            "Epoch 1/5\n",
            "3392/3392 [==============================] - 3671s 1s/step - loss: 0.3727 - accuracy: 0.8834 - val_loss: 0.2569 - val_accuracy: 0.9163\n",
            "Epoch 2/5\n",
            "3392/3392 [==============================] - 3672s 1s/step - loss: 0.1981 - accuracy: 0.9365 - val_loss: 0.2951 - val_accuracy: 0.9170\n",
            "Epoch 3/5\n",
            "3392/3392 [==============================] - 3672s 1s/step - loss: 0.1364 - accuracy: 0.9564 - val_loss: 0.3137 - val_accuracy: 0.9204\n",
            "Epoch 4/5\n",
            "3392/3392 [==============================] - 3669s 1s/step - loss: 0.0989 - accuracy: 0.9693 - val_loss: 0.2936 - val_accuracy: 0.9254\n",
            "Epoch 5/5\n",
            "3392/3392 [==============================] - 3671s 1s/step - loss: 0.0803 - accuracy: 0.9751 - val_loss: 0.3114 - val_accuracy: 0.9264\n"
          ],
          "name": "stdout"
        }
      ]
    },
    {
      "cell_type": "code",
      "metadata": {
        "colab": {
          "base_uri": "https://localhost:8080/"
        },
        "id": "AqApEOPTwWwI",
        "outputId": "301603bf-d1ad-436b-fe5f-3121f4b54cd3"
      },
      "source": [
        "from sklearn import metrics\n",
        "\n",
        "y_pred = model.predict(ds_test_encoded)\n",
        "predicted_lr = np.argmax(y_pred[0], axis = 1)\n",
        "\n",
        "print(metrics.classification_report(y_test, predicted_lr, target_names = main_tags_list, digits = 6))"
      ],
      "execution_count": null,
      "outputs": [
        {
          "output_type": "stream",
          "text": [
            "               precision    recall  f1-score   support\n",
            "\n",
            "      economy   0.966396  0.860681  0.910480       969\n",
            "entertainment   0.966704  0.898865  0.931551       969\n",
            "   traditions   0.853480  0.961816  0.904415       969\n",
            "      science   0.904215  0.974200  0.937904       969\n",
            "      society   0.937500  0.882353  0.909091       969\n",
            "       sports   0.972700  0.992776  0.982635       969\n",
            "   technology   0.902240  0.914345  0.908252       969\n",
            "\n",
            "     accuracy                       0.926434      6783\n",
            "    macro avg   0.929033  0.926434  0.926333      6783\n",
            " weighted avg   0.929033  0.926434  0.926333      6783\n",
            "\n"
          ],
          "name": "stdout"
        }
      ]
    },
    {
      "cell_type": "code",
      "metadata": {
        "colab": {
          "base_uri": "https://localhost:8080/"
        },
        "id": "RKhhtoG1whGM",
        "outputId": "5bea88fc-a9ad-4b4e-c665-29f3a2497522"
      },
      "source": [
        "model.save(md+\"models/bert_classifier\")"
      ],
      "execution_count": null,
      "outputs": [
        {
          "output_type": "stream",
          "text": [
            "WARNING:tensorflow:The parameters `output_attentions`, `output_hidden_states` and `use_cache` cannot be updated when calling a model.They have to be set to True/False in the config object (i.e.: `config=XConfig.from_pretrained('name', output_attentions=True)`).\n"
          ],
          "name": "stdout"
        },
        {
          "output_type": "stream",
          "text": [
            "WARNING:tensorflow:The parameters `output_attentions`, `output_hidden_states` and `use_cache` cannot be updated when calling a model.They have to be set to True/False in the config object (i.e.: `config=XConfig.from_pretrained('name', output_attentions=True)`).\n"
          ],
          "name": "stderr"
        },
        {
          "output_type": "stream",
          "text": [
            "WARNING:tensorflow:The parameter `return_dict` cannot be set in graph mode and will always be set to `True`.\n"
          ],
          "name": "stdout"
        },
        {
          "output_type": "stream",
          "text": [
            "WARNING:tensorflow:The parameter `return_dict` cannot be set in graph mode and will always be set to `True`.\n"
          ],
          "name": "stderr"
        },
        {
          "output_type": "stream",
          "text": [
            "WARNING:tensorflow:The parameters `output_attentions`, `output_hidden_states` and `use_cache` cannot be updated when calling a model.They have to be set to True/False in the config object (i.e.: `config=XConfig.from_pretrained('name', output_attentions=True)`).\n"
          ],
          "name": "stdout"
        },
        {
          "output_type": "stream",
          "text": [
            "WARNING:tensorflow:The parameters `output_attentions`, `output_hidden_states` and `use_cache` cannot be updated when calling a model.They have to be set to True/False in the config object (i.e.: `config=XConfig.from_pretrained('name', output_attentions=True)`).\n"
          ],
          "name": "stderr"
        },
        {
          "output_type": "stream",
          "text": [
            "WARNING:tensorflow:The parameter `return_dict` cannot be set in graph mode and will always be set to `True`.\n"
          ],
          "name": "stdout"
        },
        {
          "output_type": "stream",
          "text": [
            "WARNING:tensorflow:The parameter `return_dict` cannot be set in graph mode and will always be set to `True`.\n"
          ],
          "name": "stderr"
        },
        {
          "output_type": "stream",
          "text": [
            "WARNING:tensorflow:The parameters `output_attentions`, `output_hidden_states` and `use_cache` cannot be updated when calling a model.They have to be set to True/False in the config object (i.e.: `config=XConfig.from_pretrained('name', output_attentions=True)`).\n"
          ],
          "name": "stdout"
        },
        {
          "output_type": "stream",
          "text": [
            "WARNING:tensorflow:The parameters `output_attentions`, `output_hidden_states` and `use_cache` cannot be updated when calling a model.They have to be set to True/False in the config object (i.e.: `config=XConfig.from_pretrained('name', output_attentions=True)`).\n"
          ],
          "name": "stderr"
        },
        {
          "output_type": "stream",
          "text": [
            "WARNING:tensorflow:The parameter `return_dict` cannot be set in graph mode and will always be set to `True`.\n"
          ],
          "name": "stdout"
        },
        {
          "output_type": "stream",
          "text": [
            "WARNING:tensorflow:The parameter `return_dict` cannot be set in graph mode and will always be set to `True`.\n"
          ],
          "name": "stderr"
        },
        {
          "output_type": "stream",
          "text": [
            "WARNING:tensorflow:The parameters `output_attentions`, `output_hidden_states` and `use_cache` cannot be updated when calling a model.They have to be set to True/False in the config object (i.e.: `config=XConfig.from_pretrained('name', output_attentions=True)`).\n"
          ],
          "name": "stdout"
        },
        {
          "output_type": "stream",
          "text": [
            "WARNING:tensorflow:The parameters `output_attentions`, `output_hidden_states` and `use_cache` cannot be updated when calling a model.They have to be set to True/False in the config object (i.e.: `config=XConfig.from_pretrained('name', output_attentions=True)`).\n"
          ],
          "name": "stderr"
        },
        {
          "output_type": "stream",
          "text": [
            "WARNING:tensorflow:The parameter `return_dict` cannot be set in graph mode and will always be set to `True`.\n"
          ],
          "name": "stdout"
        },
        {
          "output_type": "stream",
          "text": [
            "WARNING:tensorflow:The parameter `return_dict` cannot be set in graph mode and will always be set to `True`.\n"
          ],
          "name": "stderr"
        },
        {
          "output_type": "stream",
          "text": [
            "WARNING:tensorflow:The parameters `output_attentions`, `output_hidden_states` and `use_cache` cannot be updated when calling a model.They have to be set to True/False in the config object (i.e.: `config=XConfig.from_pretrained('name', output_attentions=True)`).\n"
          ],
          "name": "stdout"
        },
        {
          "output_type": "stream",
          "text": [
            "WARNING:tensorflow:The parameters `output_attentions`, `output_hidden_states` and `use_cache` cannot be updated when calling a model.They have to be set to True/False in the config object (i.e.: `config=XConfig.from_pretrained('name', output_attentions=True)`).\n"
          ],
          "name": "stderr"
        },
        {
          "output_type": "stream",
          "text": [
            "WARNING:tensorflow:The parameter `return_dict` cannot be set in graph mode and will always be set to `True`.\n"
          ],
          "name": "stdout"
        },
        {
          "output_type": "stream",
          "text": [
            "WARNING:tensorflow:The parameter `return_dict` cannot be set in graph mode and will always be set to `True`.\n"
          ],
          "name": "stderr"
        },
        {
          "output_type": "stream",
          "text": [
            "WARNING:tensorflow:The parameters `output_attentions`, `output_hidden_states` and `use_cache` cannot be updated when calling a model.They have to be set to True/False in the config object (i.e.: `config=XConfig.from_pretrained('name', output_attentions=True)`).\n"
          ],
          "name": "stdout"
        },
        {
          "output_type": "stream",
          "text": [
            "WARNING:tensorflow:The parameters `output_attentions`, `output_hidden_states` and `use_cache` cannot be updated when calling a model.They have to be set to True/False in the config object (i.e.: `config=XConfig.from_pretrained('name', output_attentions=True)`).\n"
          ],
          "name": "stderr"
        },
        {
          "output_type": "stream",
          "text": [
            "WARNING:tensorflow:The parameter `return_dict` cannot be set in graph mode and will always be set to `True`.\n"
          ],
          "name": "stdout"
        },
        {
          "output_type": "stream",
          "text": [
            "WARNING:tensorflow:The parameter `return_dict` cannot be set in graph mode and will always be set to `True`.\n"
          ],
          "name": "stderr"
        },
        {
          "output_type": "stream",
          "text": [
            "WARNING:tensorflow:The parameters `output_attentions`, `output_hidden_states` and `use_cache` cannot be updated when calling a model.They have to be set to True/False in the config object (i.e.: `config=XConfig.from_pretrained('name', output_attentions=True)`).\n"
          ],
          "name": "stdout"
        },
        {
          "output_type": "stream",
          "text": [
            "WARNING:tensorflow:The parameters `output_attentions`, `output_hidden_states` and `use_cache` cannot be updated when calling a model.They have to be set to True/False in the config object (i.e.: `config=XConfig.from_pretrained('name', output_attentions=True)`).\n"
          ],
          "name": "stderr"
        },
        {
          "output_type": "stream",
          "text": [
            "WARNING:tensorflow:The parameter `return_dict` cannot be set in graph mode and will always be set to `True`.\n"
          ],
          "name": "stdout"
        },
        {
          "output_type": "stream",
          "text": [
            "WARNING:tensorflow:The parameter `return_dict` cannot be set in graph mode and will always be set to `True`.\n",
            "WARNING:absl:Found untraced functions such as embeddings_layer_call_fn, embeddings_layer_call_and_return_conditional_losses, encoder_layer_call_fn, encoder_layer_call_and_return_conditional_losses, pooler_layer_call_fn while saving (showing 5 of 1055). These functions will not be directly callable after loading.\n",
            "WARNING:absl:Found untraced functions such as embeddings_layer_call_fn, embeddings_layer_call_and_return_conditional_losses, encoder_layer_call_fn, encoder_layer_call_and_return_conditional_losses, pooler_layer_call_fn while saving (showing 5 of 1055). These functions will not be directly callable after loading.\n"
          ],
          "name": "stderr"
        },
        {
          "output_type": "stream",
          "text": [
            "INFO:tensorflow:Assets written to: /content/drive/My Drive/Colab Notebooks/Diplom/models/bert_classifier/assets\n"
          ],
          "name": "stdout"
        },
        {
          "output_type": "stream",
          "text": [
            "INFO:tensorflow:Assets written to: /content/drive/My Drive/Colab Notebooks/Diplom/models/bert_classifier/assets\n"
          ],
          "name": "stderr"
        }
      ]
    },
    {
      "cell_type": "code",
      "metadata": {
        "id": "qDJtl9M6xhZ3"
      },
      "source": [
        "import keras\n",
        "model_ = keras.models.load_model('qwe')"
      ],
      "execution_count": null,
      "outputs": []
    },
    {
      "cell_type": "code",
      "metadata": {
        "colab": {
          "base_uri": "https://localhost:8080/"
        },
        "id": "DXuPkbM3xhc8",
        "outputId": "3f81b420-3d3f-4a8a-e59c-0d0c3933b8f5"
      },
      "source": [
        "y_pred = model.predict(ds_test_encoded)\n",
        "predicted_lr = np.argmax(y_pred[0], axis = 1)\n",
        "\n",
        "print(metrics.classification_report(y_test[:100], predicted_lr, target_names = main_tags_list, digits = 6))"
      ],
      "execution_count": null,
      "outputs": [
        {
          "output_type": "stream",
          "text": [
            "               precision    recall  f1-score   support\n",
            "\n",
            "      economy   1.000000  0.166667  0.285714        12\n",
            "entertainment   0.777778  0.913043  0.840000        23\n",
            "   traditions   0.347826  0.800000  0.484848        10\n",
            "      science   1.000000  0.529412  0.692308        17\n",
            "      society   0.162162  0.750000  0.266667         8\n",
            "       sports   0.000000  0.000000  0.000000        18\n",
            "   technology   0.500000  0.083333  0.142857        12\n",
            "\n",
            "     accuracy                       0.470000       100\n",
            "    macro avg   0.541109  0.463208  0.387485       100\n",
            " weighted avg   0.576644  0.470000  0.432139       100\n",
            "\n"
          ],
          "name": "stdout"
        },
        {
          "output_type": "stream",
          "text": [
            "/usr/local/lib/python3.7/dist-packages/sklearn/metrics/_classification.py:1272: UndefinedMetricWarning: Precision and F-score are ill-defined and being set to 0.0 in labels with no predicted samples. Use `zero_division` parameter to control this behavior.\n",
            "  _warn_prf(average, modifier, msg_start, len(result))\n"
          ],
          "name": "stderr"
        }
      ]
    },
    {
      "cell_type": "code",
      "metadata": {
        "id": "isaWHGnrxhfr"
      },
      "source": [
        ""
      ],
      "execution_count": null,
      "outputs": []
    },
    {
      "cell_type": "code",
      "metadata": {
        "id": "1yy1NGr_xhiX"
      },
      "source": [
        ""
      ],
      "execution_count": null,
      "outputs": []
    },
    {
      "cell_type": "code",
      "metadata": {
        "colab": {
          "base_uri": "https://localhost:8080/"
        },
        "id": "lVZOI2KvZ_Qk",
        "outputId": "923d25be-4f08-40fc-c8ec-40b22a862d38"
      },
      "source": [
        "batch_size = 8\n",
        "top_test = 100\n",
        "ds_test_encoded = tensor_encoder(test_ids, test_mask, y_ts, top_test).batch(batch_size)\n",
        "\n",
        "bpred = bert_model.predict(ds_test_encoded)\n",
        "bpred[0][:5]"
      ],
      "execution_count": null,
      "outputs": [
        {
          "output_type": "stream",
          "text": [
            "WARNING:tensorflow:The parameters `output_attentions`, `output_hidden_states` and `use_cache` cannot be updated when calling a model.They have to be set to True/False in the config object (i.e.: `config=XConfig.from_pretrained('name', output_attentions=True)`).\n",
            "WARNING:tensorflow:The parameter `return_dict` cannot be set in graph mode and will always be set to `True`.\n"
          ],
          "name": "stdout"
        },
        {
          "output_type": "execute_result",
          "data": {
            "text/plain": [
              "array([[-0.52746415, -0.659407  , -0.4389819 , -0.24977057, -0.39628735,\n",
              "        -0.57701737, -0.31671584],\n",
              "       [-0.5274641 , -0.65940666, -0.43898124, -0.2497707 , -0.39628762,\n",
              "        -0.57701695, -0.3167155 ],\n",
              "       [-0.5274632 , -0.6594077 , -0.4389809 , -0.24977036, -0.39628837,\n",
              "        -0.5770176 , -0.3167158 ],\n",
              "       [-0.527464  , -0.6594072 , -0.43898132, -0.24977049, -0.3962878 ,\n",
              "        -0.57701766, -0.3167157 ],\n",
              "       [-0.5274635 , -0.6594073 , -0.43898112, -0.24977034, -0.39628792,\n",
              "        -0.57701725, -0.31671515]], dtype=float32)"
            ]
          },
          "metadata": {
            "tags": []
          },
          "execution_count": 25
        }
      ]
    },
    {
      "cell_type": "code",
      "metadata": {
        "colab": {
          "base_uri": "https://localhost:8080/"
        },
        "id": "mdKsIa5bcgZC",
        "outputId": "51554b1c-7da7-4d8a-b045-520189f679e5"
      },
      "source": [
        "bpred[0][:5]"
      ],
      "execution_count": null,
      "outputs": [
        {
          "output_type": "execute_result",
          "data": {
            "text/plain": [
              "array([[-4.473679 , -4.8274803, -4.893476 , -3.4695284, -2.0789573,\n",
              "        -2.2204409, -3.461053 ],\n",
              "       [-4.473679 , -4.827481 , -4.8934755, -3.4695282, -2.0789576,\n",
              "        -2.2204409, -3.4610531],\n",
              "       [-4.473679 , -4.827481 , -4.8934765, -3.4695284, -2.0789578,\n",
              "        -2.2204409, -3.4610534],\n",
              "       [-4.473679 , -4.827481 , -4.893476 , -3.469529 , -2.0789568,\n",
              "        -2.2204416, -3.4610536],\n",
              "       [-4.473679 , -4.8274813, -4.893476 , -3.469529 , -2.0789576,\n",
              "        -2.2204413, -3.4610534]], dtype=float32)"
            ]
          },
          "metadata": {
            "tags": []
          },
          "execution_count": 23
        }
      ]
    },
    {
      "cell_type": "code",
      "metadata": {
        "id": "mNiYiTuJbl00"
      },
      "source": [
        "test_ids, test_mask, y_test,"
      ],
      "execution_count": null,
      "outputs": []
    },
    {
      "cell_type": "code",
      "metadata": {
        "id": "UBKZ6ryMcRsP"
      },
      "source": [
        "train_ids, train_mask, y_train,"
      ],
      "execution_count": null,
      "outputs": []
    },
    {
      "cell_type": "code",
      "metadata": {
        "id": "qhhB74kD0i7s"
      },
      "source": [
        "ytr = np.array(y_train)\n",
        "yts = np.array(y_test)\n",
        "\n",
        "batch_size = 8\n",
        "top_test = 1000\n",
        "top_train = 1000\n",
        "history=bert_model.fit(\n",
        "    [train_ids[:top_train], train_mask[:top_train]],\n",
        "    ytr[:top_train],\n",
        "    batch_size=batch_size,\n",
        "    epochs=2,\n",
        "    validation_data=([test_ids[:top_test],test_mask[:top_test]],yts[:top_test]))"
      ],
      "execution_count": null,
      "outputs": []
    },
    {
      "cell_type": "code",
      "metadata": {
        "colab": {
          "base_uri": "https://localhost:8080/"
        },
        "id": "MYFkmH_BAA2P",
        "outputId": "b83db991-b500-4e9f-ff44-901f798045bd"
      },
      "source": [
        "top_test = 10\n",
        "top_train = 10\n",
        "ds_test_encoded = tensor_encoder(test_ids, test_mask, y_test, top_test)\n",
        "ds_train_encoded = tensor_encoder(train_ids, train_mask, y_train, top_train)\n",
        "\n",
        "history=bert_model.fit([test_ids, test_mask],np.array(y_test) , epochs=4)\n"
      ],
      "execution_count": null,
      "outputs": [
        {
          "output_type": "stream",
          "text": [
            "Epoch 1/4\n",
            "WARNING:tensorflow:The parameters `output_attentions`, `output_hidden_states` and `use_cache` cannot be updated when calling a model.They have to be set to True/False in the config object (i.e.: `config=XConfig.from_pretrained('name', output_attentions=True)`).\n",
            "WARNING:tensorflow:The parameter `return_dict` cannot be set in graph mode and will always be set to `True`.\n"
          ],
          "name": "stdout"
        }
      ]
    },
    {
      "cell_type": "code",
      "metadata": {
        "id": "jtnnw0ibTVex"
      },
      "source": [
        "# import tensorflow as tf\n",
        "# import tensorflow_hub as hub\n",
        "\n",
        "# import keras\n",
        "\n",
        "# # from keras.models import Model\n",
        "# # import keras.backend as K\n",
        "\n",
        "# # from keras.callbacks import ModelCheckpoint\n",
        "# # import itertools\n",
        "# # from keras.models import load_model"
      ],
      "execution_count": null,
      "outputs": []
    },
    {
      "cell_type": "code",
      "metadata": {
        "id": "WhLzEWUwTAHJ"
      },
      "source": [
        "# log_dir=md+ 'models/tb_bert'\n",
        "# model_save_path=md+'models/bert_model.h5'\n",
        "\n",
        "# callbacks = [tf.keras.callbacks.ModelCheckpoint(filepath=model_save_path,\\\n",
        "#                                                 save_weights_only=True,\\\n",
        "#                                                 monitor='val_loss',\\\n",
        "#                                                 mode='min',\\\n",
        "#                                                 save_best_only=True),\\\n",
        "#              keras.callbacks.TensorBoard(log_dir=log_dir)]"
      ],
      "execution_count": null,
      "outputs": []
    },
    {
      "cell_type": "code",
      "metadata": {
        "colab": {
          "base_uri": "https://localhost:8080/"
        },
        "id": "JvTLlDJPqH3S",
        "outputId": "8686cf9e-89d3-45af-930f-01c007f9a39f"
      },
      "source": [
        "print('\\nBert Model',bert_model.summary())"
      ],
      "execution_count": null,
      "outputs": [
        {
          "output_type": "stream",
          "text": [
            "Model: \"tf_bert_for_sequence_classification\"\n",
            "_________________________________________________________________\n",
            "Layer (type)                 Output Shape              Param #   \n",
            "=================================================================\n",
            "bert (TFBertMainLayer)       multiple                  177853440 \n",
            "_________________________________________________________________\n",
            "dropout_37 (Dropout)         multiple                  0         \n",
            "_________________________________________________________________\n",
            "classifier (Dense)           multiple                  5383      \n",
            "=================================================================\n",
            "Total params: 177,858,823\n",
            "Trainable params: 177,858,823\n",
            "Non-trainable params: 0\n",
            "_________________________________________________________________\n",
            "\n",
            "Bert Model None\n"
          ],
          "name": "stdout"
        }
      ]
    },
    {
      "cell_type": "code",
      "metadata": {
        "id": "WrFHtgGDRhK3"
      },
      "source": [
        "loss = tf.keras.losses.SparseCategoricalCrossentropy(from_logits=True)\n",
        "metric = tf.keras.metrics.SparseCategoricalAccuracy('accuracy')\n",
        "optimizer = tf.keras.optimizers.Adam(learning_rate=2e-5,epsilon=1e-08)"
      ],
      "execution_count": null,
      "outputs": []
    },
    {
      "cell_type": "code",
      "metadata": {
        "id": "GVq_eSvBSXOK"
      },
      "source": [
        "bert_model.compile(loss=loss,optimizer=optimizer,metrics=[metric])"
      ],
      "execution_count": null,
      "outputs": []
    },
    {
      "cell_type": "code",
      "metadata": {
        "id": "ya9v0Zt2XI1K"
      },
      "source": [
        "ytr = np.array(y_train)\n",
        "yts = np.array(y_test)"
      ],
      "execution_count": null,
      "outputs": []
    },
    {
      "cell_type": "code",
      "metadata": {
        "colab": {
          "base_uri": "https://localhost:8080/"
        },
        "id": "MpOL87v3XOVr",
        "outputId": "9e3493f2-58c0-4b13-edd0-e8ff0c1e0104"
      },
      "source": [
        "yts"
      ],
      "execution_count": null,
      "outputs": [
        {
          "output_type": "execute_result",
          "data": {
            "text/plain": [
              "array([3, 3, 3, ..., 0, 0, 0])"
            ]
          },
          "metadata": {
            "tags": []
          },
          "execution_count": 15
        }
      ]
    },
    {
      "cell_type": "code",
      "metadata": {
        "colab": {
          "base_uri": "https://localhost:8080/"
        },
        "id": "R7R8D5CjVOV8",
        "outputId": "89203bea-dc70-4a35-aa18-804e4155e129"
      },
      "source": [
        "type(train_mask)"
      ],
      "execution_count": null,
      "outputs": [
        {
          "output_type": "execute_result",
          "data": {
            "text/plain": [
              "numpy.ndarray"
            ]
          },
          "metadata": {
            "tags": []
          },
          "execution_count": 61
        }
      ]
    },
    {
      "cell_type": "code",
      "metadata": {
        "id": "a53bvecnSY2C"
      },
      "source": [
        "train_ids_1 = np.array(train_ids)\n",
        "train_mask_1= np.array(train_mask)\n",
        "test_ids_1= np.array(test_ids)\n",
        "test_mask_1= np.array(test_mask)"
      ],
      "execution_count": null,
      "outputs": []
    },
    {
      "cell_type": "code",
      "metadata": {
        "id": "oiHvqDvFaASv"
      },
      "source": [
        "from keras.backend import clear_session\n",
        "clear_session()"
      ],
      "execution_count": null,
      "outputs": []
    },
    {
      "cell_type": "code",
      "metadata": {
        "colab": {
          "base_uri": "https://localhost:8080/"
        },
        "id": "nc2xUDLQz52A",
        "outputId": "46653536-87e3-423f-ef0f-29c1131f1210"
      },
      "source": [
        "history=bert_model.fit([train_ids, train_mask],\\\n",
        "                       ytr,\\\n",
        "                       batch_size=16,\\\n",
        "                       epochs=4,\\\n",
        "                       validation_data=([test_ids,test_mask],yts))"
      ],
      "execution_count": null,
      "outputs": [
        {
          "output_type": "stream",
          "text": [
            "Epoch 1/4\n"
          ],
          "name": "stdout"
        }
      ]
    },
    {
      "cell_type": "code",
      "metadata": {
        "id": "-dB-1IQRSXQe"
      },
      "source": [
        "history=bert_model.fit([train_ids, train_mask],\\\n",
        "                       ytr,\\\n",
        "                       batch_size=8,\\\n",
        "                       epochs=4,\\\n",
        "                       validation_data=([test_ids,test_mask],yts),\\\n",
        "                       callbacks=callbacks)"
      ],
      "execution_count": null,
      "outputs": []
    },
    {
      "cell_type": "code",
      "metadata": {
        "colab": {
          "base_uri": "https://localhost:8080/"
        },
        "id": "Hxr_EKEanPkp",
        "outputId": "a351a76e-ac2d-447b-9dba-6442daa82241"
      },
      "source": [
        "top_test = 10\n",
        "top_train = 100\n",
        "history=bert_model.fit([train_ids[:top_train], train_mask[:top_train]],\\\n",
        "                       ytr[:top_train],\\\n",
        "                       batch_size=32,\\\n",
        "                       epochs=4,\\\n",
        "                       validation_data=([test_ids[:top_test],test_mask[:top_test]],yts[:top_test]),\\\n",
        "                       callbacks=callbacks)"
      ],
      "execution_count": null,
      "outputs": [
        {
          "output_type": "stream",
          "text": [
            "Epoch 1/4\n"
          ],
          "name": "stdout"
        }
      ]
    },
    {
      "cell_type": "code",
      "metadata": {
        "id": "bvHGw3FQAA56"
      },
      "source": [
        ""
      ],
      "execution_count": null,
      "outputs": []
    },
    {
      "cell_type": "code",
      "metadata": {
        "id": "0-obmdOazhGK"
      },
      "source": [
        ""
      ],
      "execution_count": null,
      "outputs": []
    },
    {
      "cell_type": "code",
      "metadata": {
        "id": "qKPUPB0bSXSY"
      },
      "source": [
        "train_ids[0]"
      ],
      "execution_count": null,
      "outputs": []
    },
    {
      "cell_type": "code",
      "metadata": {
        "id": "DRZJxQrLRhNP"
      },
      "source": [
        "pickle.dump(bert_model, open(md+\"models/bert_model_doc_to_512.pickle\", \"wb\"))"
      ],
      "execution_count": null,
      "outputs": []
    },
    {
      "cell_type": "code",
      "metadata": {
        "id": "53WIcusfqKaW"
      },
      "source": [
        ""
      ],
      "execution_count": null,
      "outputs": []
    },
    {
      "cell_type": "code",
      "metadata": {
        "colab": {
          "base_uri": "https://localhost:8080/"
        },
        "id": "0v4bKFw4qKiv",
        "outputId": "721ce4f5-9532-4a99-f75a-255543664afd"
      },
      "source": [
        "loss, accuracy = model.evaluate(x_ts, y_ts, verbose=False)\n",
        "print(\"Testing Accuracy:  {:.4f}\".format(accuracy))\n",
        "loss, accuracy = model.evaluate(x_tr, y_tr, verbose=False)\n",
        "print(\"Training Accuracy: {:.4f}\".format(accuracy))"
      ],
      "execution_count": null,
      "outputs": [
        {
          "output_type": "stream",
          "text": [
            "Testing Accuracy:  0.8912\n",
            "Training Accuracy: 0.9123\n"
          ],
          "name": "stdout"
        }
      ]
    },
    {
      "cell_type": "code",
      "metadata": {
        "colab": {
          "base_uri": "https://localhost:8080/",
          "height": 337
        },
        "id": "r1jBAi6HqKiw",
        "outputId": "90dd9a93-aba7-4ec7-8f2d-b5f786698e9d"
      },
      "source": [
        "plot_history(history)"
      ],
      "execution_count": null,
      "outputs": [
        {
          "output_type": "display_data",
          "data": {
            "image/png": "[encoded data removed]",
            "text/plain": [
              "<Figure size 864x360 with 2 Axes>"
            ]
          },
          "metadata": {
            "tags": []
          }
        }
      ]
    },
    {
      "cell_type": "code",
      "metadata": {
        "id": "5SjWeLJPRhP2"
      },
      "source": [
        ""
      ],
      "execution_count": null,
      "outputs": []
    },
    {
      "cell_type": "markdown",
      "metadata": {
        "id": "LIwDY9_7T1xE"
      },
      "source": [
        "# GPT\n"
      ]
    },
    {
      "cell_type": "markdown",
      "metadata": {
        "id": "aiZXSqf2g4Er"
      },
      "source": [
        "https://gmihaila.github.io/tutorial_notebooks/gpt2_finetune_classification/\n",
        "\n",
        "https://colab.research.google.com/github/gmihaila/ml_things/blob/master/notebooks/pytorch/gpt2_finetune_classification.ipynb#scrollTo=6Svsqk7roQJ2\n",
        "\n",
        "https://huggingface.co/transformers/model_doc/gpt2.html#gpt2forsequenceclassification\n",
        "\n",
        "https://colab.research.google.com/drive/1cMjCtLVOElZUcdVCzTmQybdNOT1aXqNK?usp=sharing\n",
        "\n",
        "https://huggingface.co/models?search=sberba\n",
        "\n",
        "\n"
      ]
    },
    {
      "cell_type": "code",
      "metadata": {
        "id": "NBx7s5TyT2QN",
        "colab": {
          "base_uri": "https://localhost:8080/"
        },
        "outputId": "89aeef4e-a94b-407b-cee2-51f59daf633b"
      },
      "source": [
        "!pip install transformers"
      ],
      "execution_count": null,
      "outputs": [
        {
          "output_type": "stream",
          "text": [
            "Collecting transformers\n",
            "\u001b[?25l  Downloading https://files.pythonhosted.org/packages/b0/9e/5b80becd952d5f7250eaf8fc64b957077b12ccfe73e9c03d37146ab29712/transformers-4.6.0-py3-none-any.whl (2.3MB)\n",
            "\r\u001b[K     |▏                               | 10kB 22.1MB/s eta 0:00:01\r\u001b[K     |▎                               | 20kB 29.5MB/s eta 0:00:01\r\u001b[K     |▍                               | 30kB 21.4MB/s eta 0:00:01\r\u001b[K     |▋                               | 40kB 17.1MB/s eta 0:00:01\r\u001b[K     |▊                               | 51kB 14.4MB/s eta 0:00:01\r\u001b[K     |▉                               | 61kB 16.3MB/s eta 0:00:01\r\u001b[K     |█                               | 71kB 15.6MB/s eta 0:00:01\r\u001b[K     |█▏                              | 81kB 15.2MB/s eta 0:00:01\r\u001b[K     |█▎                              | 92kB 14.4MB/s eta 0:00:01\r\u001b[K     |█▍                              | 102kB 13.9MB/s eta 0:00:01\r\u001b[K     |█▌                              | 112kB 13.9MB/s eta 0:00:01\r\u001b[K     |█▊                              | 122kB 13.9MB/s eta 0:00:01\r\u001b[K     |█▉                              | 133kB 13.9MB/s eta 0:00:01\r\u001b[K     |██                              | 143kB 13.9MB/s eta 0:00:01\r\u001b[K     |██                              | 153kB 13.9MB/s eta 0:00:01\r\u001b[K     |██▎                             | 163kB 13.9MB/s eta 0:00:01\r\u001b[K     |██▍                             | 174kB 13.9MB/s eta 0:00:01\r\u001b[K     |██▌                             | 184kB 13.9MB/s eta 0:00:01\r\u001b[K     |██▋                             | 194kB 13.9MB/s eta 0:00:01\r\u001b[K     |██▉                             | 204kB 13.9MB/s eta 0:00:01\r\u001b[K     |███                             | 215kB 13.9MB/s eta 0:00:01\r\u001b[K     |███                             | 225kB 13.9MB/s eta 0:00:01\r\u001b[K     |███▎                            | 235kB 13.9MB/s eta 0:00:01\r\u001b[K     |███▍                            | 245kB 13.9MB/s eta 0:00:01\r\u001b[K     |███▌                            | 256kB 13.9MB/s eta 0:00:01\r\u001b[K     |███▋                            | 266kB 13.9MB/s eta 0:00:01\r\u001b[K     |███▉                            | 276kB 13.9MB/s eta 0:00:01\r\u001b[K     |████                            | 286kB 13.9MB/s eta 0:00:01\r\u001b[K     |████                            | 296kB 13.9MB/s eta 0:00:01\r\u001b[K     |████▏                           | 307kB 13.9MB/s eta 0:00:01\r\u001b[K     |████▍                           | 317kB 13.9MB/s eta 0:00:01\r\u001b[K     |████▌                           | 327kB 13.9MB/s eta 0:00:01\r\u001b[K     |████▋                           | 337kB 13.9MB/s eta 0:00:01\r\u001b[K     |████▊                           | 348kB 13.9MB/s eta 0:00:01\r\u001b[K     |█████                           | 358kB 13.9MB/s eta 0:00:01\r\u001b[K     |█████                           | 368kB 13.9MB/s eta 0:00:01\r\u001b[K     |█████▏                          | 378kB 13.9MB/s eta 0:00:01\r\u001b[K     |█████▎                          | 389kB 13.9MB/s eta 0:00:01\r\u001b[K     |█████▌                          | 399kB 13.9MB/s eta 0:00:01\r\u001b[K     |█████▋                          | 409kB 13.9MB/s eta 0:00:01\r\u001b[K     |█████▊                          | 419kB 13.9MB/s eta 0:00:01\r\u001b[K     |██████                          | 430kB 13.9MB/s eta 0:00:01\r\u001b[K     |██████                          | 440kB 13.9MB/s eta 0:00:01\r\u001b[K     |██████▏                         | 450kB 13.9MB/s eta 0:00:01\r\u001b[K     |██████▎                         | 460kB 13.9MB/s eta 0:00:01\r\u001b[K     |██████▌                         | 471kB 13.9MB/s eta 0:00:01\r\u001b[K     |██████▋                         | 481kB 13.9MB/s eta 0:00:01\r\u001b[K     |██████▊                         | 491kB 13.9MB/s eta 0:00:01\r\u001b[K     |██████▉                         | 501kB 13.9MB/s eta 0:00:01\r\u001b[K     |███████                         | 512kB 13.9MB/s eta 0:00:01\r\u001b[K     |███████▏                        | 522kB 13.9MB/s eta 0:00:01\r\u001b[K     |███████▎                        | 532kB 13.9MB/s eta 0:00:01\r\u001b[K     |███████▍                        | 542kB 13.9MB/s eta 0:00:01\r\u001b[K     |███████▋                        | 552kB 13.9MB/s eta 0:00:01\r\u001b[K     |███████▊                        | 563kB 13.9MB/s eta 0:00:01\r\u001b[K     |███████▉                        | 573kB 13.9MB/s eta 0:00:01\r\u001b[K     |████████                        | 583kB 13.9MB/s eta 0:00:01\r\u001b[K     |████████▏                       | 593kB 13.9MB/s eta 0:00:01\r\u001b[K     |████████▎                       | 604kB 13.9MB/s eta 0:00:01\r\u001b[K     |████████▍                       | 614kB 13.9MB/s eta 0:00:01\r\u001b[K     |████████▋                       | 624kB 13.9MB/s eta 0:00:01\r\u001b[K     |████████▊                       | 634kB 13.9MB/s eta 0:00:01\r\u001b[K     |████████▉                       | 645kB 13.9MB/s eta 0:00:01\r\u001b[K     |█████████                       | 655kB 13.9MB/s eta 0:00:01\r\u001b[K     |█████████▏                      | 665kB 13.9MB/s eta 0:00:01\r\u001b[K     |█████████▎                      | 675kB 13.9MB/s eta 0:00:01\r\u001b[K     |█████████▍                      | 686kB 13.9MB/s eta 0:00:01\r\u001b[K     |█████████▌                      | 696kB 13.9MB/s eta 0:00:01\r\u001b[K     |█████████▊                      | 706kB 13.9MB/s eta 0:00:01\r\u001b[K     |█████████▉                      | 716kB 13.9MB/s eta 0:00:01\r\u001b[K     |██████████                      | 727kB 13.9MB/s eta 0:00:01\r\u001b[K     |██████████                      | 737kB 13.9MB/s eta 0:00:01\r\u001b[K     |██████████▎                     | 747kB 13.9MB/s eta 0:00:01\r\u001b[K     |██████████▍                     | 757kB 13.9MB/s eta 0:00:01\r\u001b[K     |██████████▌                     | 768kB 13.9MB/s eta 0:00:01\r\u001b[K     |██████████▋                     | 778kB 13.9MB/s eta 0:00:01\r\u001b[K     |██████████▉                     | 788kB 13.9MB/s eta 0:00:01\r\u001b[K     |███████████                     | 798kB 13.9MB/s eta 0:00:01\r\u001b[K     |███████████                     | 808kB 13.9MB/s eta 0:00:01\r\u001b[K     |███████████▎                    | 819kB 13.9MB/s eta 0:00:01\r\u001b[K     |███████████▍                    | 829kB 13.9MB/s eta 0:00:01\r\u001b[K     |███████████▌                    | 839kB 13.9MB/s eta 0:00:01\r\u001b[K     |███████████▋                    | 849kB 13.9MB/s eta 0:00:01\r\u001b[K     |███████████▉                    | 860kB 13.9MB/s eta 0:00:01\r\u001b[K     |████████████                    | 870kB 13.9MB/s eta 0:00:01\r\u001b[K     |████████████                    | 880kB 13.9MB/s eta 0:00:01\r\u001b[K     |████████████▏                   | 890kB 13.9MB/s eta 0:00:01\r\u001b[K     |████████████▍                   | 901kB 13.9MB/s eta 0:00:01\r\u001b[K     |████████████▌                   | 911kB 13.9MB/s eta 0:00:01\r\u001b[K     |████████████▋                   | 921kB 13.9MB/s eta 0:00:01\r\u001b[K     |████████████▊                   | 931kB 13.9MB/s eta 0:00:01\r\u001b[K     |█████████████                   | 942kB 13.9MB/s eta 0:00:01\r\u001b[K     |█████████████                   | 952kB 13.9MB/s eta 0:00:01\r\u001b[K     |█████████████▏                  | 962kB 13.9MB/s eta 0:00:01\r\u001b[K     |█████████████▎                  | 972kB 13.9MB/s eta 0:00:01\r\u001b[K     |█████████████▌                  | 983kB 13.9MB/s eta 0:00:01\r\u001b[K     |█████████████▋                  | 993kB 13.9MB/s eta 0:00:01\r\u001b[K     |█████████████▊                  | 1.0MB 13.9MB/s eta 0:00:01\r\u001b[K     |██████████████                  | 1.0MB 13.9MB/s eta 0:00:01\r\u001b[K     |██████████████                  | 1.0MB 13.9MB/s eta 0:00:01\r\u001b[K     |██████████████▏                 | 1.0MB 13.9MB/s eta 0:00:01\r\u001b[K     |██████████████▎                 | 1.0MB 13.9MB/s eta 0:00:01\r\u001b[K     |██████████████▌                 | 1.1MB 13.9MB/s eta 0:00:01\r\u001b[K     |██████████████▋                 | 1.1MB 13.9MB/s eta 0:00:01\r\u001b[K     |██████████████▊                 | 1.1MB 13.9MB/s eta 0:00:01\r\u001b[K     |██████████████▉                 | 1.1MB 13.9MB/s eta 0:00:01\r\u001b[K     |███████████████                 | 1.1MB 13.9MB/s eta 0:00:01\r\u001b[K     |███████████████▏                | 1.1MB 13.9MB/s eta 0:00:01\r\u001b[K     |███████████████▎                | 1.1MB 13.9MB/s eta 0:00:01\r\u001b[K     |███████████████▍                | 1.1MB 13.9MB/s eta 0:00:01\r\u001b[K     |███████████████▋                | 1.1MB 13.9MB/s eta 0:00:01\r\u001b[K     |███████████████▊                | 1.1MB 13.9MB/s eta 0:00:01\r\u001b[K     |███████████████▉                | 1.2MB 13.9MB/s eta 0:00:01\r\u001b[K     |████████████████                | 1.2MB 13.9MB/s eta 0:00:01\r\u001b[K     |████████████████▏               | 1.2MB 13.9MB/s eta 0:00:01\r\u001b[K     |████████████████▎               | 1.2MB 13.9MB/s eta 0:00:01\r\u001b[K     |████████████████▍               | 1.2MB 13.9MB/s eta 0:00:01\r\u001b[K     |████████████████▋               | 1.2MB 13.9MB/s eta 0:00:01\r\u001b[K     |████████████████▊               | 1.2MB 13.9MB/s eta 0:00:01\r\u001b[K     |████████████████▉               | 1.2MB 13.9MB/s eta 0:00:01\r\u001b[K     |█████████████████               | 1.2MB 13.9MB/s eta 0:00:01\r\u001b[K     |█████████████████▏              | 1.2MB 13.9MB/s eta 0:00:01\r\u001b[K     |█████████████████▎              | 1.3MB 13.9MB/s eta 0:00:01\r\u001b[K     |█████████████████▍              | 1.3MB 13.9MB/s eta 0:00:01\r\u001b[K     |█████████████████▌              | 1.3MB 13.9MB/s eta 0:00:01\r\u001b[K     |█████████████████▊              | 1.3MB 13.9MB/s eta 0:00:01\r\u001b[K     |█████████████████▉              | 1.3MB 13.9MB/s eta 0:00:01\r\u001b[K     |██████████████████              | 1.3MB 13.9MB/s eta 0:00:01\r\u001b[K     |██████████████████              | 1.3MB 13.9MB/s eta 0:00:01\r\u001b[K     |██████████████████▎             | 1.3MB 13.9MB/s eta 0:00:01\r\u001b[K     |██████████████████▍             | 1.3MB 13.9MB/s eta 0:00:01\r\u001b[K     |██████████████████▌             | 1.4MB 13.9MB/s eta 0:00:01\r\u001b[K     |██████████████████▋             | 1.4MB 13.9MB/s eta 0:00:01\r\u001b[K     |██████████████████▉             | 1.4MB 13.9MB/s eta 0:00:01\r\u001b[K     |███████████████████             | 1.4MB 13.9MB/s eta 0:00:01\r\u001b[K     |███████████████████             | 1.4MB 13.9MB/s eta 0:00:01\r\u001b[K     |███████████████████▎            | 1.4MB 13.9MB/s eta 0:00:01\r\u001b[K     |███████████████████▍            | 1.4MB 13.9MB/s eta 0:00:01\r\u001b[K     |███████████████████▌            | 1.4MB 13.9MB/s eta 0:00:01\r\u001b[K     |███████████████████▋            | 1.4MB 13.9MB/s eta 0:00:01\r\u001b[K     |███████████████████▉            | 1.4MB 13.9MB/s eta 0:00:01\r\u001b[K     |████████████████████            | 1.5MB 13.9MB/s eta 0:00:01\r\u001b[K     |████████████████████            | 1.5MB 13.9MB/s eta 0:00:01\r\u001b[K     |████████████████████▏           | 1.5MB 13.9MB/s eta 0:00:01\r\u001b[K     |████████████████████▍           | 1.5MB 13.9MB/s eta 0:00:01\r\u001b[K     |████████████████████▌           | 1.5MB 13.9MB/s eta 0:00:01\r\u001b[K     |████████████████████▋           | 1.5MB 13.9MB/s eta 0:00:01\r\u001b[K     |████████████████████▊           | 1.5MB 13.9MB/s eta 0:00:01\r\u001b[K     |█████████████████████           | 1.5MB 13.9MB/s eta 0:00:01\r\u001b[K     |█████████████████████           | 1.5MB 13.9MB/s eta 0:00:01\r\u001b[K     |█████████████████████▏          | 1.5MB 13.9MB/s eta 0:00:01\r\u001b[K     |█████████████████████▎          | 1.6MB 13.9MB/s eta 0:00:01\r\u001b[K     |█████████████████████▌          | 1.6MB 13.9MB/s eta 0:00:01\r\u001b[K     |█████████████████████▋          | 1.6MB 13.9MB/s eta 0:00:01\r\u001b[K     |█████████████████████▊          | 1.6MB 13.9MB/s eta 0:00:01\r\u001b[K     |█████████████████████▉          | 1.6MB 13.9MB/s eta 0:00:01\r\u001b[K     |██████████████████████          | 1.6MB 13.9MB/s eta 0:00:01\r\u001b[K     |██████████████████████▏         | 1.6MB 13.9MB/s eta 0:00:01\r\u001b[K     |██████████████████████▎         | 1.6MB 13.9MB/s eta 0:00:01\r\u001b[K     |██████████████████████▌         | 1.6MB 13.9MB/s eta 0:00:01\r\u001b[K     |██████████████████████▋         | 1.6MB 13.9MB/s eta 0:00:01\r\u001b[K     |██████████████████████▊         | 1.7MB 13.9MB/s eta 0:00:01\r\u001b[K     |██████████████████████▉         | 1.7MB 13.9MB/s eta 0:00:01\r\u001b[K     |███████████████████████         | 1.7MB 13.9MB/s eta 0:00:01\r\u001b[K     |███████████████████████▏        | 1.7MB 13.9MB/s eta 0:00:01\r\u001b[K     |███████████████████████▎        | 1.7MB 13.9MB/s eta 0:00:01\r\u001b[K     |███████████████████████▍        | 1.7MB 13.9MB/s eta 0:00:01\r\u001b[K     |███████████████████████▋        | 1.7MB 13.9MB/s eta 0:00:01\r\u001b[K     |███████████████████████▊        | 1.7MB 13.9MB/s eta 0:00:01\r\u001b[K     |███████████████████████▉        | 1.7MB 13.9MB/s eta 0:00:01\r\u001b[K     |████████████████████████        | 1.8MB 13.9MB/s eta 0:00:01\r\u001b[K     |████████████████████████▏       | 1.8MB 13.9MB/s eta 0:00:01\r\u001b[K     |████████████████████████▎       | 1.8MB 13.9MB/s eta 0:00:01\r\u001b[K     |████████████████████████▍       | 1.8MB 13.9MB/s eta 0:00:01\r\u001b[K     |████████████████████████▌       | 1.8MB 13.9MB/s eta 0:00:01\r\u001b[K     |████████████████████████▊       | 1.8MB 13.9MB/s eta 0:00:01\r\u001b[K     |████████████████████████▉       | 1.8MB 13.9MB/s eta 0:00:01\r\u001b[K     |█████████████████████████       | 1.8MB 13.9MB/s eta 0:00:01\r\u001b[K     |█████████████████████████▏      | 1.8MB 13.9MB/s eta 0:00:01\r\u001b[K     |█████████████████████████▎      | 1.8MB 13.9MB/s eta 0:00:01\r\u001b[K     |█████████████████████████▍      | 1.9MB 13.9MB/s eta 0:00:01\r\u001b[K     |█████████████████████████▌      | 1.9MB 13.9MB/s eta 0:00:01\r\u001b[K     |█████████████████████████▊      | 1.9MB 13.9MB/s eta 0:00:01\r\u001b[K     |█████████████████████████▉      | 1.9MB 13.9MB/s eta 0:00:01\r\u001b[K     |██████████████████████████      | 1.9MB 13.9MB/s eta 0:00:01\r\u001b[K     |██████████████████████████      | 1.9MB 13.9MB/s eta 0:00:01\r\u001b[K     |██████████████████████████▎     | 1.9MB 13.9MB/s eta 0:00:01\r\u001b[K     |██████████████████████████▍     | 1.9MB 13.9MB/s eta 0:00:01\r\u001b[K     |██████████████████████████▌     | 1.9MB 13.9MB/s eta 0:00:01\r\u001b[K     |██████████████████████████▋     | 1.9MB 13.9MB/s eta 0:00:01\r\u001b[K     |██████████████████████████▉     | 2.0MB 13.9MB/s eta 0:00:01\r\u001b[K     |███████████████████████████     | 2.0MB 13.9MB/s eta 0:00:01\r\u001b[K     |███████████████████████████     | 2.0MB 13.9MB/s eta 0:00:01\r\u001b[K     |███████████████████████████▏    | 2.0MB 13.9MB/s eta 0:00:01\r\u001b[K     |███████████████████████████▍    | 2.0MB 13.9MB/s eta 0:00:01\r\u001b[K     |███████████████████████████▌    | 2.0MB 13.9MB/s eta 0:00:01\r\u001b[K     |███████████████████████████▋    | 2.0MB 13.9MB/s eta 0:00:01\r\u001b[K     |███████████████████████████▉    | 2.0MB 13.9MB/s eta 0:00:01\r\u001b[K     |████████████████████████████    | 2.0MB 13.9MB/s eta 0:00:01\r\u001b[K     |████████████████████████████    | 2.0MB 13.9MB/s eta 0:00:01\r\u001b[K     |████████████████████████████▏   | 2.1MB 13.9MB/s eta 0:00:01\r\u001b[K     |████████████████████████████▍   | 2.1MB 13.9MB/s eta 0:00:01\r\u001b[K     |████████████████████████████▌   | 2.1MB 13.9MB/s eta 0:00:01\r\u001b[K     |████████████████████████████▋   | 2.1MB 13.9MB/s eta 0:00:01\r\u001b[K     |████████████████████████████▊   | 2.1MB 13.9MB/s eta 0:00:01\r\u001b[K     |█████████████████████████████   | 2.1MB 13.9MB/s eta 0:00:01\r\u001b[K     |█████████████████████████████   | 2.1MB 13.9MB/s eta 0:00:01\r\u001b[K     |█████████████████████████████▏  | 2.1MB 13.9MB/s eta 0:00:01\r\u001b[K     |█████████████████████████████▎  | 2.1MB 13.9MB/s eta 0:00:01\r\u001b[K     |█████████████████████████████▌  | 2.2MB 13.9MB/s eta 0:00:01\r\u001b[K     |█████████████████████████████▋  | 2.2MB 13.9MB/s eta 0:00:01\r\u001b[K     |█████████████████████████████▊  | 2.2MB 13.9MB/s eta 0:00:01\r\u001b[K     |█████████████████████████████▉  | 2.2MB 13.9MB/s eta 0:00:01\r\u001b[K     |██████████████████████████████  | 2.2MB 13.9MB/s eta 0:00:01\r\u001b[K     |██████████████████████████████▏ | 2.2MB 13.9MB/s eta 0:00:01\r\u001b[K     |██████████████████████████████▎ | 2.2MB 13.9MB/s eta 0:00:01\r\u001b[K     |██████████████████████████████▌ | 2.2MB 13.9MB/s eta 0:00:01\r\u001b[K     |██████████████████████████████▋ | 2.2MB 13.9MB/s eta 0:00:01\r\u001b[K     |██████████████████████████████▊ | 2.2MB 13.9MB/s eta 0:00:01\r\u001b[K     |██████████████████████████████▉ | 2.3MB 13.9MB/s eta 0:00:01\r\u001b[K     |███████████████████████████████ | 2.3MB 13.9MB/s eta 0:00:01\r\u001b[K     |███████████████████████████████▏| 2.3MB 13.9MB/s eta 0:00:01\r\u001b[K     |███████████████████████████████▎| 2.3MB 13.9MB/s eta 0:00:01\r\u001b[K     |███████████████████████████████▍| 2.3MB 13.9MB/s eta 0:00:01\r\u001b[K     |███████████████████████████████▋| 2.3MB 13.9MB/s eta 0:00:01\r\u001b[K     |███████████████████████████████▊| 2.3MB 13.9MB/s eta 0:00:01\r\u001b[K     |███████████████████████████████▉| 2.3MB 13.9MB/s eta 0:00:01\r\u001b[K     |████████████████████████████████| 2.3MB 13.9MB/s eta 0:00:01\r\u001b[K     |████████████████████████████████| 2.3MB 13.9MB/s \n",
            "\u001b[?25hRequirement already satisfied: importlib-metadata; python_version < \"3.8\" in /usr/local/lib/python3.7/dist-packages (from transformers) (4.0.1)\n",
            "Collecting huggingface-hub==0.0.8\n",
            "  Downloading https://files.pythonhosted.org/packages/a1/88/7b1e45720ecf59c6c6737ff332f41c955963090a18e72acbcbeac6b25e86/huggingface_hub-0.0.8-py3-none-any.whl\n",
            "Requirement already satisfied: packaging in /usr/local/lib/python3.7/dist-packages (from transformers) (20.9)\n",
            "Requirement already satisfied: requests in /usr/local/lib/python3.7/dist-packages (from transformers) (2.23.0)\n",
            "Requirement already satisfied: numpy>=1.17 in /usr/local/lib/python3.7/dist-packages (from transformers) (1.19.5)\n",
            "Requirement already satisfied: filelock in /usr/local/lib/python3.7/dist-packages (from transformers) (3.0.12)\n",
            "Collecting tokenizers<0.11,>=0.10.1\n",
            "\u001b[?25l  Downloading https://files.pythonhosted.org/packages/ae/04/5b870f26a858552025a62f1649c20d29d2672c02ff3c3fb4c688ca46467a/tokenizers-0.10.2-cp37-cp37m-manylinux2010_x86_64.whl (3.3MB)\n",
            "\u001b[K     |████████████████████████████████| 3.3MB 51.0MB/s \n",
            "\u001b[?25hRequirement already satisfied: tqdm>=4.27 in /usr/local/lib/python3.7/dist-packages (from transformers) (4.41.1)\n",
            "Collecting sacremoses\n",
            "\u001b[?25l  Downloading https://files.pythonhosted.org/packages/75/ee/67241dc87f266093c533a2d4d3d69438e57d7a90abb216fa076e7d475d4a/sacremoses-0.0.45-py3-none-any.whl (895kB)\n",
            "\u001b[K     |████████████████████████████████| 901kB 40.9MB/s \n",
            "\u001b[?25hRequirement already satisfied: regex!=2019.12.17 in /usr/local/lib/python3.7/dist-packages (from transformers) (2019.12.20)\n",
            "Requirement already satisfied: zipp>=0.5 in /usr/local/lib/python3.7/dist-packages (from importlib-metadata; python_version < \"3.8\"->transformers) (3.4.1)\n",
            "Requirement already satisfied: typing-extensions>=3.6.4; python_version < \"3.8\" in /usr/local/lib/python3.7/dist-packages (from importlib-metadata; python_version < \"3.8\"->transformers) (3.7.4.3)\n",
            "Requirement already satisfied: pyparsing>=2.0.2 in /usr/local/lib/python3.7/dist-packages (from packaging->transformers) (2.4.7)\n",
            "Requirement already satisfied: chardet<4,>=3.0.2 in /usr/local/lib/python3.7/dist-packages (from requests->transformers) (3.0.4)\n",
            "Requirement already satisfied: certifi>=2017.4.17 in /usr/local/lib/python3.7/dist-packages (from requests->transformers) (2020.12.5)\n",
            "Requirement already satisfied: urllib3!=1.25.0,!=1.25.1,<1.26,>=1.21.1 in /usr/local/lib/python3.7/dist-packages (from requests->transformers) (1.24.3)\n",
            "Requirement already satisfied: idna<3,>=2.5 in /usr/local/lib/python3.7/dist-packages (from requests->transformers) (2.10)\n",
            "Requirement already satisfied: click in /usr/local/lib/python3.7/dist-packages (from sacremoses->transformers) (8.0.0)\n",
            "Requirement already satisfied: six in /usr/local/lib/python3.7/dist-packages (from sacremoses->transformers) (1.15.0)\n",
            "Requirement already satisfied: joblib in /usr/local/lib/python3.7/dist-packages (from sacremoses->transformers) (1.0.1)\n",
            "Installing collected packages: huggingface-hub, tokenizers, sacremoses, transformers\n",
            "Successfully installed huggingface-hub-0.0.8 sacremoses-0.0.45 tokenizers-0.10.2 transformers-4.6.0\n"
          ],
          "name": "stdout"
        }
      ]
    },
    {
      "cell_type": "code",
      "metadata": {
        "id": "HGdE5jjflKAc"
      },
      "source": [
        "from transformers import (\n",
        "    GPT2Config,\n",
        "    GPT2Tokenizer, \n",
        "    TFGPT2ForSequenceClassification, \n",
        "    GPT2ForSequenceClassification)"
      ],
      "execution_count": null,
      "outputs": []
    },
    {
      "cell_type": "code",
      "metadata": {
        "id": "MJhPMFmZuUfe",
        "colab": {
          "base_uri": "https://localhost:8080/",
          "height": 325,
          "referenced_widgets": [
            "58258acb2254493590b44deb662f516a",
            "dca2e54632dc44bc84acc5d937c6305a",
            "35b47dbea3f94b4c85a403feb381e70e",
            "6eaaaa70de9d4ecbab6b9556a79cb468",
            "74766b22888a4a0985b0a2dfdca83d4d",
            "6b5f9b63762e47659839cdbdf6f8fe3c",
            "4b7cfeeb08dd4cd48eb4a7dae826b200",
            "d89beb4399cf40f0ad58c67ea38fb038",
            "1a5618fe9b324e6d8e595baae92e12ef",
            "5e2db0facf4848bfb96baed370dab2cb",
            "3c0973748b054574b22e1c9ab8b4eb7c",
            "3ee78c805d76440fb53361205c6590ec",
            "1a06af7f3815462581d99b972611a3ac",
            "d49989f729fc47cdbc04abf0b9e73b24",
            "ec6a5003297445889b41c914ed1bd9a5",
            "32e6b609761d4a929305f893782531e9",
            "61dffac98b544c95b125c98047ffc451",
            "fd042fcd991346b598db25f9a1864a0b",
            "da0399d08f834c4cb4b11907cb9b1040",
            "d92245d3fc5c49f8afa0466c77fc600a",
            "e744495adea34c16ae758f8c756d2d4b",
            "e11f8f5cbeb049f5bfc52c14f46ac2d4",
            "908c8c3647104e5abdedf9f1b18b1d47",
            "1dcee69e70f24964a91899894cf4a73a",
            "37607772868a4ce78dcb4d57aa0524af",
            "2ff62eadebbf4a5fa0db70b3a156b8ae",
            "1f8f86a418094219ab6d1d61f4a060f7",
            "e9dc19e67de642bf917f2507b81403bc",
            "7b83e741acbc49e7b9b2fced6ab4578b",
            "52de75ca97fd4acfbbde799dbc3e68fa",
            "6c936f529572424bbc42a3f9be1b4f24",
            "25d655b537934784adc9d0160b62a652"
          ]
        },
        "outputId": "7d61accd-6a5d-46b8-c269-5b50d28a04a6"
      },
      "source": [
        "model_path = 'sberbank-ai/rugpt3medium_based_on_gpt2'\n",
        "\n",
        "model_config = GPT2Config.from_pretrained(pretrained_model_name_or_path=model_path, num_labels=7)\n",
        "tokenizer = GPT2Tokenizer.from_pretrained(model_path)\n",
        "gpt_model = GPT2ForSequenceClassification.from_pretrained(model_path, config=model_config)\n",
        "model = gpt_model"
      ],
      "execution_count": null,
      "outputs": [
        {
          "output_type": "display_data",
          "data": {
            "application/vnd.jupyter.widget-view+json": {
              "model_id": "58258acb2254493590b44deb662f516a",
              "version_minor": 0,
              "version_major": 2
            },
            "text/plain": [
              "HBox(children=(FloatProgress(value=0.0, description='Downloading', max=674.0, style=ProgressStyle(description_…"
            ]
          },
          "metadata": {
            "tags": []
          }
        },
        {
          "output_type": "stream",
          "text": [
            "\n"
          ],
          "name": "stdout"
        },
        {
          "output_type": "display_data",
          "data": {
            "application/vnd.jupyter.widget-view+json": {
              "model_id": "1a5618fe9b324e6d8e595baae92e12ef",
              "version_minor": 0,
              "version_major": 2
            },
            "text/plain": [
              "HBox(children=(FloatProgress(value=0.0, description='Downloading', max=1612610.0, style=ProgressStyle(descript…"
            ]
          },
          "metadata": {
            "tags": []
          }
        },
        {
          "output_type": "stream",
          "text": [
            "\n"
          ],
          "name": "stdout"
        },
        {
          "output_type": "display_data",
          "data": {
            "application/vnd.jupyter.widget-view+json": {
              "model_id": "61dffac98b544c95b125c98047ffc451",
              "version_minor": 0,
              "version_major": 2
            },
            "text/plain": [
              "HBox(children=(FloatProgress(value=0.0, description='Downloading', max=1270963.0, style=ProgressStyle(descript…"
            ]
          },
          "metadata": {
            "tags": []
          }
        },
        {
          "output_type": "stream",
          "text": [
            "\n"
          ],
          "name": "stdout"
        },
        {
          "output_type": "display_data",
          "data": {
            "application/vnd.jupyter.widget-view+json": {
              "model_id": "37607772868a4ce78dcb4d57aa0524af",
              "version_minor": 0,
              "version_major": 2
            },
            "text/plain": [
              "HBox(children=(FloatProgress(value=0.0, description='Downloading', max=1730074771.0, style=ProgressStyle(descr…"
            ]
          },
          "metadata": {
            "tags": []
          }
        },
        {
          "output_type": "stream",
          "text": [
            "\n"
          ],
          "name": "stdout"
        },
        {
          "output_type": "stream",
          "text": [
            "Some weights of the model checkpoint at sberbank-ai/rugpt3medium_based_on_gpt2 were not used when initializing GPT2ForSequenceClassification: ['lm_head.weight']\n",
            "- This IS expected if you are initializing GPT2ForSequenceClassification from the checkpoint of a model trained on another task or with another architecture (e.g. initializing a BertForSequenceClassification model from a BertForPreTraining model).\n",
            "- This IS NOT expected if you are initializing GPT2ForSequenceClassification from the checkpoint of a model that you expect to be exactly identical (initializing a BertForSequenceClassification model from a BertForSequenceClassification model).\n",
            "Some weights of GPT2ForSequenceClassification were not initialized from the model checkpoint at sberbank-ai/rugpt3medium_based_on_gpt2 and are newly initialized: ['score.weight']\n",
            "You should probably TRAIN this model on a down-stream task to be able to use it for predictions and inference.\n"
          ],
          "name": "stderr"
        }
      ]
    },
    {
      "cell_type": "code",
      "metadata": {
        "id": "jcND2BpxjG9w",
        "colab": {
          "base_uri": "https://localhost:8080/"
        },
        "outputId": "d7136570-c851-424a-ce63-55a847c9b0aa"
      },
      "source": [
        "model.num_labels"
      ],
      "execution_count": null,
      "outputs": [
        {
          "output_type": "execute_result",
          "data": {
            "text/plain": [
              "7"
            ]
          },
          "metadata": {
            "tags": []
          },
          "execution_count": 7
        }
      ]
    },
    {
      "cell_type": "code",
      "metadata": {
        "id": "rFtwgQW9HM1u"
      },
      "source": [
        ""
      ],
      "execution_count": null,
      "outputs": []
    },
    {
      "cell_type": "code",
      "metadata": {
        "id": "F8Kddr90Ioni"
      },
      "source": [
        ""
      ],
      "execution_count": null,
      "outputs": []
    },
    {
      "cell_type": "code",
      "metadata": {
        "id": "YyxNd69sIorB"
      },
      "source": [
        ""
      ],
      "execution_count": null,
      "outputs": []
    },
    {
      "cell_type": "code",
      "metadata": {
        "id": "66S8YhcilL8q"
      },
      "source": [
        "# # dialogrpt\n",
        "# # DialogRPT-updown\n",
        "# model_name = 'DialogRPT-updown'\n",
        "# tokenizer = GPT2Tokenizer.from_pretrained('microsoft/'+ model_name)\n"
      ],
      "execution_count": null,
      "outputs": []
    },
    {
      "cell_type": "code",
      "metadata": {
        "id": "Fj5K5x3LbOK0"
      },
      "source": [
        "# # TFGPT2ForSequenceClassification\n",
        "# # GPT2ForSequenceClassification\n",
        "# model = GPT2ForSequenceClassification.from_pretrained('microsoft/'+ model_name)"
      ],
      "execution_count": null,
      "outputs": []
    },
    {
      "cell_type": "code",
      "metadata": {
        "id": "62z0hjXEcHIJ"
      },
      "source": [
        "# tokenizer = GPT2Tokenizer.from_pretrained(\"gpt2\")\n",
        "# model = GPT2ForSequenceClassification.from_pretrained(\"gpt2\", num_labels=3)"
      ],
      "execution_count": null,
      "outputs": []
    },
    {
      "cell_type": "code",
      "metadata": {
        "id": "yd4K1Agzu4Sx"
      },
      "source": [
        ""
      ],
      "execution_count": null,
      "outputs": []
    },
    {
      "cell_type": "code",
      "metadata": {
        "id": "av9wPwtYq9fl",
        "colab": {
          "base_uri": "https://localhost:8080/"
        },
        "outputId": "a2e4069f-36ab-4883-8767-522bfb7a8b45"
      },
      "source": [
        "tokenizer.tokenize('hello')"
      ],
      "execution_count": null,
      "outputs": [
        {
          "output_type": "execute_result",
          "data": {
            "text/plain": [
              "['he', 'll', 'o']"
            ]
          },
          "metadata": {
            "tags": []
          },
          "execution_count": 38
        }
      ]
    },
    {
      "cell_type": "code",
      "metadata": {
        "id": "wawCg_9BunJk",
        "colab": {
          "base_uri": "https://localhost:8080/"
        },
        "outputId": "a001141e-970b-43a2-d894-fba6ee1c6645"
      },
      "source": [
        "tokenizer('привет мир')"
      ],
      "execution_count": null,
      "outputs": [
        {
          "output_type": "execute_result",
          "data": {
            "text/plain": [
              "{'input_ids': [960, 577, 2309], 'attention_mask': [1, 1, 1]}"
            ]
          },
          "metadata": {
            "tags": []
          },
          "execution_count": 46
        }
      ]
    },
    {
      "cell_type": "code",
      "metadata": {
        "id": "5I55A2_oSzIF"
      },
      "source": [
        "sent = 'привет мир'\n",
        "sent = 'Модель документа, основанная на анализе гиперссылок. Алгоритм PageRank(стандартная и модифицированная версии алгоритма)'\n",
        "tokenizer.tokenize(sent)"
      ],
      "execution_count": null,
      "outputs": []
    },
    {
      "cell_type": "code",
      "metadata": {
        "colab": {
          "base_uri": "https://localhost:8080/"
        },
        "id": "X5tgNgKNVz-b",
        "outputId": "3134d355-ea42-4d19-ac75-2f20f976fa05"
      },
      "source": [
        "tokenizer(\"Hello, my dog is cute\", return_tensors=\"pt\")"
      ],
      "execution_count": null,
      "outputs": [
        {
          "output_type": "execute_result",
          "data": {
            "text/plain": [
              "{'input_ids': tensor([[   44, 42911,    16, 18841,   737,  2335,  1132,   591,  8196]]), 'attention_mask': tensor([[1, 1, 1, 1, 1, 1, 1, 1, 1]])}"
            ]
          },
          "metadata": {
            "tags": []
          },
          "execution_count": 8
        }
      ]
    },
    {
      "cell_type": "code",
      "metadata": {
        "id": "2y8qieAAV0Bi"
      },
      "source": [
        ""
      ],
      "execution_count": null,
      "outputs": []
    },
    {
      "cell_type": "code",
      "metadata": {
        "colab": {
          "base_uri": "https://localhost:8080/"
        },
        "id": "xrULSImVV0Du",
        "outputId": "b45a9428-468e-4008-dd10-0a6ce6b26e5b"
      },
      "source": [
        "import torch\n",
        "torch.tensor([1]).unsqueeze(0)"
      ],
      "execution_count": null,
      "outputs": [
        {
          "output_type": "execute_result",
          "data": {
            "text/plain": [
              "tensor([[1]])"
            ]
          },
          "metadata": {
            "tags": []
          },
          "execution_count": 10
        }
      ]
    },
    {
      "cell_type": "code",
      "metadata": {
        "colab": {
          "base_uri": "https://localhost:8080/"
        },
        "id": "-y-G1P2-WPl8",
        "outputId": "30452fb7-e0ab-43d8-8713-fcd8aa1940b6"
      },
      "source": [
        "inputs = tokenizer(\"Hello, my dog is cute\", return_tensors=\"pt\")\n",
        "labels = torch.tensor([1]).unsqueeze(0)  # Batch size 1\n",
        "outputs = model(**inputs, labels=labels)\n",
        "loss = outputs.loss\n",
        "logits = outputs.logits\n",
        "logits"
      ],
      "execution_count": null,
      "outputs": [
        {
          "output_type": "execute_result",
          "data": {
            "text/plain": [
              "tensor([[ 0.3278, -0.0235,  0.0786,  0.1613, -0.2044,  0.3672,  0.3805]],\n",
              "       grad_fn=<IndexBackward>)"
            ]
          },
          "metadata": {
            "tags": []
          },
          "execution_count": 45
        }
      ]
    },
    {
      "cell_type": "code",
      "metadata": {
        "colab": {
          "base_uri": "https://localhost:8080/"
        },
        "id": "YTpik7XrZu4i",
        "outputId": "d0f23c0c-6996-4280-cf2e-864e2ba6aeba"
      },
      "source": [
        "inputs = []\n",
        "n=5\n",
        "for i in range(n):\n",
        "  inputs.append(tokenizer(str(i), return_tensors=\"pt\"))\n",
        "inputs"
      ],
      "execution_count": null,
      "outputs": [
        {
          "output_type": "execute_result",
          "data": {
            "text/plain": [
              "[{'input_ids': tensor([[20]]), 'attention_mask': tensor([[1]])},\n",
              " {'input_ids': tensor([[21]]), 'attention_mask': tensor([[1]])},\n",
              " {'input_ids': tensor([[22]]), 'attention_mask': tensor([[1]])},\n",
              " {'input_ids': tensor([[23]]), 'attention_mask': tensor([[1]])},\n",
              " {'input_ids': tensor([[24]]), 'attention_mask': tensor([[1]])}]"
            ]
          },
          "metadata": {
            "tags": []
          },
          "execution_count": 50
        }
      ]
    },
    {
      "cell_type": "code",
      "metadata": {
        "colab": {
          "base_uri": "https://localhost:8080/"
        },
        "id": "3EyrFH1pamUl",
        "outputId": "de8639d0-c25d-417f-d19d-2eb81fb92190"
      },
      "source": [
        "labels = torch.tensor(list(range(n))).unsqueeze(0)  # Batch size 1\n",
        "labels"
      ],
      "execution_count": null,
      "outputs": [
        {
          "output_type": "execute_result",
          "data": {
            "text/plain": [
              "tensor([[0, 1, 2, 3, 4]])"
            ]
          },
          "metadata": {
            "tags": []
          },
          "execution_count": 54
        }
      ]
    },
    {
      "cell_type": "code",
      "metadata": {
        "id": "-uHp-eSGamXc"
      },
      "source": [
        "outputs = model(**inputs, labels=labels)\n"
      ],
      "execution_count": null,
      "outputs": []
    },
    {
      "cell_type": "code",
      "metadata": {
        "colab": {
          "base_uri": "https://localhost:8080/"
        },
        "id": "EaYcyBFuaI9S",
        "outputId": "acb6dca6-53ad-41a0-b2aa-076ba6d0bd89"
      },
      "source": [
        "tokenizer(str(i), return_tensors=\"pt\")"
      ],
      "execution_count": null,
      "outputs": [
        {
          "output_type": "execute_result",
          "data": {
            "text/plain": [
              "{'input_ids': tensor([[24]]), 'attention_mask': tensor([[1]])}"
            ]
          },
          "metadata": {
            "tags": []
          },
          "execution_count": 49
        }
      ]
    },
    {
      "cell_type": "code",
      "metadata": {
        "id": "uWaUQ_QCXKHT"
      },
      "source": [
        "model"
      ],
      "execution_count": null,
      "outputs": []
    },
    {
      "cell_type": "code",
      "metadata": {
        "colab": {
          "base_uri": "https://localhost:8080/"
        },
        "id": "DqKD5eSEW9rd",
        "outputId": "336c7a9d-b7b2-40e5-f576-cd91b397bdf6"
      },
      "source": [
        "logits"
      ],
      "execution_count": null,
      "outputs": [
        {
          "output_type": "execute_result",
          "data": {
            "text/plain": [
              "tensor([[ 0.2761,  1.5317, -0.6086,  0.2029,  0.1287,  0.2042, -0.1912]],\n",
              "       grad_fn=<IndexBackward>)"
            ]
          },
          "metadata": {
            "tags": []
          },
          "execution_count": 35
        }
      ]
    },
    {
      "cell_type": "code",
      "metadata": {
        "id": "KZEX2VWSWUH5"
      },
      "source": [
        "outputs"
      ],
      "execution_count": null,
      "outputs": []
    },
    {
      "cell_type": "code",
      "metadata": {
        "id": "hPCDtiozT2V4"
      },
      "source": [
        "inputs = tokenizer(\"Hello, my dog is cute\", return_tensors=\"tf\")\n",
        "inputs[\"labels\"] = tf.reshape(tf.constant(1), (-1, 1)) # Batch size 1\n",
        "\n",
        "outputs = model(**inputs)\n",
        "loss = outputs.loss\n",
        "logits = outputs.logits"
      ],
      "execution_count": null,
      "outputs": []
    },
    {
      "cell_type": "code",
      "metadata": {
        "id": "pmxMl0OUT2Yg",
        "colab": {
          "base_uri": "https://localhost:8080/"
        },
        "outputId": "3a5cfac0-17c5-44ce-d6ea-2430c83d767b"
      },
      "source": [
        "inputs"
      ],
      "execution_count": null,
      "outputs": [
        {
          "output_type": "execute_result",
          "data": {
            "text/plain": [
              "{'input_ids': <tf.Tensor: shape=(1, 9), dtype=int32, numpy=\n",
              "array([[   44, 42911,    16, 18841,   737,  2335,  1132,   591,  8196]],\n",
              "      dtype=int32)>, 'attention_mask': <tf.Tensor: shape=(1, 9), dtype=int32, numpy=array([[1, 1, 1, 1, 1, 1, 1, 1, 1]], dtype=int32)>, 'labels': <tf.Tensor: shape=(1, 1), dtype=int32, numpy=array([[1]], dtype=int32)>}"
            ]
          },
          "metadata": {
            "tags": []
          },
          "execution_count": 40
        }
      ]
    },
    {
      "cell_type": "code",
      "metadata": {
        "id": "iVR1u-r6T2bP"
      },
      "source": [
        ""
      ],
      "execution_count": null,
      "outputs": []
    },
    {
      "cell_type": "code",
      "metadata": {
        "id": "0K86NqpDcJAU"
      },
      "source": [
        "# # SparseCategoricalCrossentropy\n",
        "# model = gpt_model\n",
        "\n",
        "# loss = tf.keras.losses.SparseCategoricalCrossentropy(from_logits=True) \n",
        "# # metric = tf.keras.metrics.SparseCategoricalCrossentropy('accuracy')# categorical_crossentropy accuracy\n",
        "# metric = tf.keras.metrics.SparseCategoricalAccuracy('accuracy')\n",
        "# optimizer = tf.keras.optimizers.Adam(learning_rate=2e-5,epsilon=1e-08)\n",
        "\n",
        "# model.compile(loss=loss,optimizer=optimizer,metrics=[metric])"
      ],
      "execution_count": null,
      "outputs": []
    },
    {
      "cell_type": "code",
      "metadata": {
        "id": "ewqHJXd3cJFC"
      },
      "source": [
        ""
      ],
      "execution_count": null,
      "outputs": []
    },
    {
      "cell_type": "code",
      "metadata": {
        "id": "qp9DHCBLcJHe"
      },
      "source": [
        ""
      ],
      "execution_count": null,
      "outputs": []
    },
    {
      "cell_type": "markdown",
      "metadata": {
        "id": "i8EV2q3Cca4H"
      },
      "source": [
        "## classes creator"
      ]
    },
    {
      "cell_type": "code",
      "metadata": {
        "id": "_ooKAx97ZEMs"
      },
      "source": [
        "# # Install transformers library.\n",
        "# !pip install -q git+https://github.com/huggingface/transformers.git\n",
        "# # Install helper functions.\n",
        "# !pip install -q git+https://github.com/gmihaila/ml_things.git"
      ],
      "execution_count": null,
      "outputs": []
    },
    {
      "cell_type": "code",
      "metadata": {
        "colab": {
          "base_uri": "https://localhost:8080/"
        },
        "id": "nk3gfcJrekZz",
        "outputId": "5fe3ed79-d5cd-4049-cee8-1d247d2ebf2c"
      },
      "source": [
        "!pip install -q git+https://github.com/gmihaila/ml_things.git"
      ],
      "execution_count": null,
      "outputs": [
        {
          "output_type": "stream",
          "text": [
            "  Building wheel for ml-things (setup.py) ... \u001b[?25l\u001b[?25hdone\n"
          ],
          "name": "stdout"
        }
      ]
    },
    {
      "cell_type": "code",
      "metadata": {
        "id": "_ZIlTy7IhPzM"
      },
      "source": [
        "import io\n",
        "import os\n",
        "os.environ['CUDA_LAUNCH_BLOCKING'] = \"1\""
      ],
      "execution_count": null,
      "outputs": []
    },
    {
      "cell_type": "code",
      "metadata": {
        "id": "hdH_Zop7Yvz7"
      },
      "source": [
        "\n",
        "import torch\n",
        "from tqdm.notebook import tqdm\n",
        "from torch.utils.data import Dataset, DataLoader\n",
        "from ml_things import plot_dict, plot_confusion_matrix, fix_text\n",
        "from sklearn.metrics import classification_report, accuracy_score\n",
        "from transformers import (set_seed,\n",
        "                          TrainingArguments,\n",
        "                          Trainer,\n",
        "                          GPT2Config,\n",
        "                          GPT2Tokenizer,\n",
        "                          AdamW, \n",
        "                          get_linear_schedule_with_warmup,\n",
        "                          GPT2ForSequenceClassification)\n"
      ],
      "execution_count": null,
      "outputs": []
    },
    {
      "cell_type": "code",
      "metadata": {
        "id": "Uq-SlqdCYv2X",
        "colab": {
          "base_uri": "https://localhost:8080/"
        },
        "outputId": "735faf2e-b599-4481-b212-6f5fdc0840d4"
      },
      "source": [
        "set_seed(123)\n",
        "epochs = 4\n",
        "batch_size = 8\n",
        "max_length = 128\n",
        "device = torch.device('cuda' if torch.cuda.is_available() else 'cpu')\n",
        "model_name_or_path = 'gpt2'\n",
        "labels_ids = dict(zip(list(main_tags_dict.keys()), list(main_tags_dict.keys())))\n",
        "# labels_ids = {'neg': 0, 'pos': 1}\n",
        "n_labels = len(labels_ids)\n",
        "n_labels = len(main_tags_list)\n",
        "n_labels"
      ],
      "execution_count": null,
      "outputs": [
        {
          "output_type": "execute_result",
          "data": {
            "text/plain": [
              "7"
            ]
          },
          "metadata": {
            "tags": []
          },
          "execution_count": 12
        }
      ]
    },
    {
      "cell_type": "code",
      "metadata": {
        "colab": {
          "base_uri": "https://localhost:8080/"
        },
        "id": "BCda7SfCctar",
        "outputId": "807c54ac-eea4-4ac0-be01-b71b3d44ddb6"
      },
      "source": [
        "tokenizer.padding_side = \"left\"\n",
        "# tokenizer.pad_token = tokenizer.eos_token\n",
        "tokenizer.add_special_tokens({'pad_token': '[PAD]'})\n",
        "\n",
        "\n",
        "model.resize_token_embeddings(len(tokenizer))\n",
        "model.config.pad_token_id = model.config.eos_token_id\n",
        "model.to(device)\n",
        "print('Model loaded to `%s`'%device)"
      ],
      "execution_count": null,
      "outputs": [
        {
          "output_type": "stream",
          "text": [
            "Model loaded to `cuda`\n"
          ],
          "name": "stdout"
        }
      ]
    },
    {
      "cell_type": "code",
      "metadata": {
        "id": "DFZmQAuDT2jJ"
      },
      "source": [
        "class MovieReviewsDataset(Dataset):\n",
        "  \n",
        "\n",
        "  def __init__(self, data_text, data_label, use_tokenizer):\n",
        "\n",
        "    self.texts = data_text\n",
        "    self.labels = data_label\n",
        "    self.n_examples = len(self.labels)\n",
        "    return\n",
        "\n",
        "  def __len__(self):\n",
        "    return self.n_examples\n",
        "\n",
        "  def __getitem__(self, item):\n",
        "    return {'text':self.texts[item],\n",
        "            'label':self.labels[item]}\n",
        "\n",
        "\n",
        "\n",
        "class Gpt2ClassificationCollator(object):\n",
        "    \n",
        "\n",
        "    def __init__(self, use_tokenizer, labels_encoder, max_sequence_len=None):\n",
        "\n",
        "        # Tokenizer to be used inside the class.\n",
        "        self.use_tokenizer = use_tokenizer\n",
        "        # Check max sequence length.\n",
        "        self.max_sequence_len = use_tokenizer.model_max_length if max_sequence_len is None else max_sequence_len\n",
        "        # Label encoder used inside the class.\n",
        "        self.labels_encoder = labels_encoder\n",
        "\n",
        "        return\n",
        "\n",
        "    def __call__(self, sequences):\n",
        "\n",
        "        # Get all texts from sequences list.\n",
        "        texts = [sequence['text'] for sequence in sequences]\n",
        "        # Get all labels from sequences list.\n",
        "\n",
        "        labels = [sequence['label'] for sequence in sequences]\n",
        "        # Encode all labels using label encoder.\n",
        "\n",
        "        labels = [self.labels_encoder[label] for label in labels]\n",
        "\n",
        "        # Call tokenizer on all texts to convert into tensors of numbers with \n",
        "        # appropriate padding.\n",
        "        inputs = self.use_tokenizer(text=texts, return_tensors=\"pt\", padding=True, truncation=True,  max_length=self.max_sequence_len)\n",
        "        # Update the inputs with the associated encoded labels as tensor.\n",
        "        inputs.update({'labels':torch.tensor(labels)})\n",
        "\n",
        "        return inputs\n",
        "\n",
        "\n",
        "def train(dataloader, optimizer_, scheduler_, device_):\n",
        "  \n",
        "\n",
        "  # Use global variable for model.\n",
        "  global model\n",
        "\n",
        "  # Tracking variables.\n",
        "  predictions_labels = []\n",
        "  true_labels = []\n",
        "  # Total loss for this epoch.\n",
        "  total_loss = 0\n",
        "\n",
        "  # Put the model into training mode.\n",
        "  model.train()\n",
        "\n",
        "  # For each batch of training data...\n",
        "  for batch in tqdm(dataloader, total=len(dataloader)):\n",
        "\n",
        "    # Add original labels - use later for evaluation.\n",
        "    true_labels += batch['labels'].numpy().flatten().tolist()\n",
        "    \n",
        "    # move batch to device\n",
        "    batch = {k:v.type(torch.long).to(device_) for k,v in batch.items()}\n",
        "    \n",
        "    # Always clear any previously calculated gradients before performing a\n",
        "    # backward pass.\n",
        "    model.zero_grad()\n",
        "\n",
        "    # Perform a forward pass (evaluate the model on this training batch).\n",
        "    # This will return the loss (rather than the model output) because we\n",
        "    # have provided the `labels`.\n",
        "    # The documentation for this a bert model function is here: \n",
        "    # https://huggingface.co/transformers/v2.2.0/model_doc/bert.html#transformers.BertForSequenceClassification\n",
        "    outputs = model(**batch)\n",
        "\n",
        "    # The call to `model` always returns a tuple, so we need to pull the \n",
        "    # loss value out of the tuple along with the logits. We will use logits\n",
        "    # later to calculate training accuracy.\n",
        "    loss, logits = outputs[:2]\n",
        "\n",
        "    # Accumulate the training loss over all of the batches so that we can\n",
        "    # calculate the average loss at the end. `loss` is a Tensor containing a\n",
        "    # single value; the `.item()` function just returns the Python value \n",
        "    # from the tensor.\n",
        "    total_loss += loss.item()\n",
        "\n",
        "    # Perform a backward pass to calculate the gradients.\n",
        "    loss.backward()\n",
        "\n",
        "    # Clip the norm of the gradients to 1.0.\n",
        "    # This is to help prevent the \"exploding gradients\" problem.\n",
        "    torch.nn.utils.clip_grad_norm_(model.parameters(), 1.0)\n",
        "\n",
        "    # Update parameters and take a step using the computed gradient.\n",
        "    # The optimizer dictates the \"update rule\"--how the parameters are\n",
        "    # modified based on their gradients, the learning rate, etc.\n",
        "    optimizer.step()\n",
        "\n",
        "    # Update the learning rate.\n",
        "    scheduler.step()\n",
        "\n",
        "    # Move logits and labels to CPU\n",
        "    logits = logits.detach().cpu().numpy()\n",
        "\n",
        "    # Convert these logits to list of predicted labels values.\n",
        "    predictions_labels += logits.argmax(axis=-1).flatten().tolist()\n",
        "\n",
        "  # Calculate the average loss over the training data.\n",
        "  avg_epoch_loss = total_loss / len(dataloader)\n",
        "  \n",
        "  # Return all true labels and prediction for future evaluations.\n",
        "  return true_labels, predictions_labels, avg_epoch_loss\n",
        "\n",
        "\n",
        "\n",
        "def validation(dataloader, device_):\n",
        "  \n",
        "\n",
        "  # Use global variable for model.\n",
        "  global model\n",
        "\n",
        "  # Tracking variables\n",
        "  predictions_labels = []\n",
        "  true_labels = []\n",
        "  #total loss for this epoch.\n",
        "  total_loss = 0\n",
        "\n",
        "  # Put the model in evaluation mode--the dropout layers behave differently\n",
        "  # during evaluation.\n",
        "  model.eval()\n",
        "\n",
        "  # Evaluate data for one epoch\n",
        "  for batch in tqdm(dataloader, total=len(dataloader)):\n",
        "\n",
        "    # add original labels\n",
        "    true_labels += batch['labels'].numpy().flatten().tolist()\n",
        "\n",
        "    # move batch to device\n",
        "    batch = {k:v.type(torch.long).to(device_) for k,v in batch.items()}\n",
        "\n",
        "    # Telling the model not to compute or store gradients, saving memory and\n",
        "    # speeding up validation\n",
        "    with torch.no_grad():        \n",
        "\n",
        "        # Forward pass, calculate logit predictions.\n",
        "        # This will return the logits rather than the loss because we have\n",
        "        # not provided labels.\n",
        "        # token_type_ids is the same as the \"segment ids\", which \n",
        "        # differentiates sentence 1 and 2 in 2-sentence tasks.\n",
        "        # The documentation for this `model` function is here: \n",
        "        # https://huggingface.co/transformers/v2.2.0/model_doc/bert.html#transformers.BertForSequenceClassification\n",
        "        outputs = model(**batch)\n",
        "\n",
        "        # The call to `model` always returns a tuple, so we need to pull the \n",
        "        # loss value out of the tuple along with the logits. We will use logits\n",
        "        # later to to calculate training accuracy.\n",
        "        loss, logits = outputs[:2]\n",
        "        \n",
        "        # Move logits and labels to CPU\n",
        "        logits = logits.detach().cpu().numpy()\n",
        "\n",
        "        # Accumulate the training loss over all of the batches so that we can\n",
        "        # calculate the average loss at the end. `loss` is a Tensor containing a\n",
        "        # single value; the `.item()` function just returns the Python value \n",
        "        # from the tensor.\n",
        "        total_loss += loss.item()\n",
        "        \n",
        "        # get predicitons to list\n",
        "        predict_content = logits.argmax(axis=-1).flatten().tolist()\n",
        "\n",
        "        # update list\n",
        "        predictions_labels += predict_content\n",
        "\n",
        "  # Calculate the average loss over the training data.\n",
        "  avg_epoch_loss = total_loss / len(dataloader)\n",
        "\n",
        "  # Return all true labels and prediciton for future evaluations.\n",
        "  return true_labels, predictions_labels, avg_epoch_loss"
      ],
      "execution_count": null,
      "outputs": []
    },
    {
      "cell_type": "code",
      "metadata": {
        "id": "sOnnD8qVdAKh"
      },
      "source": [
        "gpt2_classificaiton_collator = Gpt2ClassificationCollator(use_tokenizer=tokenizer, \n",
        "                                                          labels_encoder=labels_ids, \n",
        "                                                          max_sequence_len=max_length)\n",
        "\n",
        "# X_train_text = [d['text'] for d in data_train]\n",
        "# X_test_text = [d['text'] for d in data_test]\n",
        "\n",
        "# y_train = [d['label'] for d in data_train]\n",
        "# y_test\n",
        "\n",
        "# [:100]\n",
        "train_dataset = MovieReviewsDataset(\n",
        "    data_text=X_train_text,\n",
        "    data_label=y_train, \n",
        "    use_tokenizer=tokenizer)\n",
        "\n",
        "train_dataloader = DataLoader(train_dataset, batch_size=batch_size, shuffle=True, collate_fn=gpt2_classificaiton_collator)"
      ],
      "execution_count": null,
      "outputs": []
    },
    {
      "cell_type": "code",
      "metadata": {
        "id": "CFl_vZB1NCzd"
      },
      "source": [
        "valid_dataset =  MovieReviewsDataset(\n",
        "    data_text=X_test_text,\n",
        "    data_label=y_test, \n",
        "    use_tokenizer=tokenizer)\n",
        "\n",
        "valid_dataloader = DataLoader(valid_dataset, batch_size=batch_size, shuffle=False, collate_fn=gpt2_classificaiton_collator)"
      ],
      "execution_count": null,
      "outputs": []
    },
    {
      "cell_type": "code",
      "metadata": {
        "id": "6UVxmVX_eGX0"
      },
      "source": [
        ""
      ],
      "execution_count": null,
      "outputs": []
    },
    {
      "cell_type": "code",
      "metadata": {
        "colab": {
          "base_uri": "https://localhost:8080/"
        },
        "id": "VitiGS7DSaf_",
        "outputId": "420bbdb8-b694-4d50-d1f1-721b084abaa3"
      },
      "source": [
        "# tokenizer.add_special_tokens({'pad_token': '[PAD]'})"
      ],
      "execution_count": null,
      "outputs": [
        {
          "output_type": "execute_result",
          "data": {
            "text/plain": [
              "1"
            ]
          },
          "metadata": {
            "tags": []
          },
          "execution_count": 24
        }
      ]
    },
    {
      "cell_type": "code",
      "metadata": {
        "id": "AMihVrzQShB4"
      },
      "source": [
        "# tokenizer.pad_token = tokenizer.eos_token"
      ],
      "execution_count": null,
      "outputs": []
    },
    {
      "cell_type": "code",
      "metadata": {
        "id": "29jWxww0StDn"
      },
      "source": [
        "# tokenizer.padding_side = \"left\"\n",
        "# tokenizer.pad_token = tokenizer.eos_token"
      ],
      "execution_count": null,
      "outputs": []
    },
    {
      "cell_type": "code",
      "metadata": {
        "colab": {
          "base_uri": "https://localhost:8080/"
        },
        "id": "eoa-Y18gTw6N",
        "outputId": "cf93fc8b-88e3-4ba1-fcd5-df005011727d"
      },
      "source": [
        "# len(train_dataloader)"
      ],
      "execution_count": null,
      "outputs": [
        {
          "output_type": "execute_result",
          "data": {
            "text/plain": [
              "125"
            ]
          },
          "metadata": {
            "tags": []
          },
          "execution_count": 21
        }
      ]
    },
    {
      "cell_type": "code",
      "metadata": {
        "id": "SFc1JgHZT4z-"
      },
      "source": [
        "# X_train_text[0]"
      ],
      "execution_count": null,
      "outputs": []
    },
    {
      "cell_type": "code",
      "metadata": {
        "id": "58j4Y8tLO4eY"
      },
      "source": [
        "# for batch in tqdm(train_dataloader, total=len(train_dataloader)):\n",
        "#   # print('1')\n",
        "#   pass"
      ],
      "execution_count": null,
      "outputs": []
    },
    {
      "cell_type": "code",
      "metadata": {
        "id": "4ja6BomYeHcB"
      },
      "source": [
        ""
      ],
      "execution_count": null,
      "outputs": []
    },
    {
      "cell_type": "code",
      "metadata": {
        "id": "NmePLlkJdANm"
      },
      "source": [
        "# # Create data collator to encode text and labels into numbers.\n",
        "# gpt2_classificaiton_collator = Gpt2ClassificationCollator(use_tokenizer=tokenizer, \n",
        "#                                                           labels_encoder=labels_ids, \n",
        "#                                                           max_sequence_len=max_length)\n",
        "\n",
        "\n",
        "# print('Dealing with Train...')\n",
        "# # Create pytorch dataset.\n",
        "# train_dataset = MovieReviewsDataset(path='/content/aclImdb/train', \n",
        "#                                use_tokenizer=tokenizer)\n",
        "# print('Created `train_dataset` with %d examples!'%len(train_dataset))\n",
        "\n",
        "# # Move pytorch dataset into dataloader.\n",
        "# train_dataloader = DataLoader(train_dataset, batch_size=batch_size, shuffle=True, collate_fn=gpt2_classificaiton_collator)\n",
        "# print('Created `train_dataloader` with %d batches!'%len(train_dataloader))\n",
        "\n",
        "# print()\n",
        "\n",
        "# print('Dealing with Validation...')\n",
        "# # Create pytorch dataset.\n",
        "# valid_dataset =  MovieReviewsDataset(path='/content/aclImdb/test', \n",
        "#                                use_tokenizer=tokenizer)\n",
        "# print('Created `valid_dataset` with %d examples!'%len(valid_dataset))\n",
        "\n",
        "# # Move pytorch dataset into dataloader.\n",
        "# valid_dataloader = DataLoader(valid_dataset, batch_size=batch_size, shuffle=False, collate_fn=gpt2_classificaiton_collator)\n",
        "# print('Created `eval_dataloader` with %d batches!'%len(valid_dataloader))"
      ],
      "execution_count": null,
      "outputs": []
    },
    {
      "cell_type": "code",
      "metadata": {
        "id": "kBpAiXvXfQ9r"
      },
      "source": [
        "# os.environ['CUDA_LAUNCH_BLOCKING'] = \"1\""
      ],
      "execution_count": null,
      "outputs": []
    },
    {
      "cell_type": "markdown",
      "metadata": {
        "id": "k7DuqwA-mtVY"
      },
      "source": [
        "## train"
      ]
    },
    {
      "cell_type": "code",
      "metadata": {
        "id": "4gIu1AN-NaR2"
      },
      "source": [
        "optimizer = AdamW(model.parameters(),\n",
        "                  lr = 2e-5, \n",
        "                  eps = 1e-8 \n",
        "                  )\n",
        "\n",
        "total_steps = len(train_dataloader) * epochs\n",
        "\n",
        "scheduler = get_linear_schedule_with_warmup(optimizer, \n",
        "                                            num_warmup_steps = 0,\n",
        "                                            num_training_steps = total_steps)\n",
        "\n",
        "all_loss = {'train_loss':[], 'val_loss':[]}\n",
        "all_acc = {'train_acc':[], 'val_acc':[]}\n"
      ],
      "execution_count": null,
      "outputs": []
    },
    {
      "cell_type": "code",
      "metadata": {
        "colab": {
          "base_uri": "https://localhost:8080/",
          "height": 838,
          "referenced_widgets": [
            "7c2393037d0641cf83323c7700491ffa",
            "3e7b042a86924025a9b7a64b7ceb6740",
            "f0e056fe2964468bb1423e9a2757fea0",
            "f351ed4287f7480c9a35e740fbd0b720",
            "de016fe275414155994fea36d858aaf1",
            "afe2f29d0ed84667a76bde1dfb8e01f3",
            "650a156a712f4643a1dd0cf509e90de4",
            "e3413d1d435a43b78c3370a3e6dba7ab",
            "9a8ce906a00d4f6db0112931d70b9a69",
            "0634a0eb3b094dbfa03ca84bcf04c7fc",
            "a09119f42acf4910a01bd633a55efe5c",
            "428a0c3008624cbda496ef27d67a39f9",
            "7a38ea4fe5584fc7b7ed0c6a0095bfda",
            "5c6c2c01ca734556bc53ad01a64ef973",
            "1e5223225d4d4fda8425fc3cb617935f",
            "cd698a123b57497da2652fc47e4efd1f",
            "cbc65dd7c3ef42418b0a1842a294c272",
            "b133d240ffb14d29805d7ba1e415c4d3",
            "544c13cc9a674b80a3f049fbb07aaf17",
            "6be954f525c24531a13856a6a7198722",
            "27b8309b88bd42bab181cd9d8dfc94b9",
            "40a159ab6d9e474db883b895f018eb8f",
            "46819199c9314f07a35f5e06698b131d",
            "e1f2691980f647f99411a65bc3971e97",
            "3323ed3a0e0e4224a398d2249ee23713",
            "bd56f0f9fe7c4d53bb375553f56c2689",
            "6081f127fc8e47098ed641b64f4eb645",
            "079ac6073444424f8dc9eb8dc8964731",
            "0b00f5005d94440faefa2a9e31d16bc5",
            "995d25a181d04d9382d71ef23323de35",
            "1696f487910b4243a22b2889bfd5641a",
            "0df54387855547868ad3b2c4b57002f2",
            "34eef362fb4447cc9dd14c9373336f94",
            "ba8e02ce97c54995a395c16eedc6ee67",
            "107c42b8543546c0bf578e01591701ab",
            "bbc8ba651f194d89a6652a062c93eb26",
            "4617d7adbe3b45618d8590b2e20b73e2",
            "d5fb7883d8264e24a533175b6534cd46",
            "de7356c959b74aa99cf6a4e0cbdf3297",
            "a42886068aca4861911bd2e5fab34fff",
            "54baa06e7ff6466e9d1342197e3ca264",
            "40d56d18cd764a0bb972208c7d8a0c73",
            "f47b2ecd78b6471786b0017ae1294f3b",
            "68b84e9e5abe476bb387a2343b9a3371",
            "c4b1f7249e2a4c028ff68e6e7488e3e3",
            "593b110f3a264b7f9b55f0666f91ad5a",
            "49ec8dd4564c4e9ab5d7b198d6090599",
            "6653e47e5b7c448299f3050115a821f0",
            "04ebfe99327f44519830b3622ba84bd7",
            "0d84e02eeb8044318b4189c7a56c0a63",
            "9e6638aaefc84e0eb8d008f4b0a4cf13",
            "77ae35fa8fb04b4d8374803901450c65",
            "1e1dff051793471ca8c8a0d8b1060399",
            "23d8e44e46934e0e80eb448ba83ed10c",
            "bca36b9baa604fa386e2918e478d51d4",
            "06170098c2df4a92a27089ba4d201424",
            "131064e9e89e489da1dcf7cfc4ae029e",
            "419e3014a51445e38efaefbb4010fcdb",
            "14c1a5f4c48d409cb09e8d0071c11e1c",
            "2b63e88e22764d3982f745d14d84ca08",
            "bf64d8ce8e834d32b9de12e3a9ffbb64",
            "6f74f3782c9741e98134b5e08f1e440d",
            "d33c919d9f5f42d4845072b5a5c015b8",
            "678ec26d6df4409e9a093370205b3d86",
            "a6e6f334638c4693a08583d3f0bf8bbc",
            "ca1bff1e72da42c4af58c3a322e8639a",
            "aaf5300787d947cfa6365a7ea436affb",
            "ea246a013ba2424e9869d2df75fb4a13",
            "651b1c46048943dcb5c886680f09d28c",
            "b7925ad3ec484d2da984ac15a9c1efd4",
            "a56f2cc56d654e709063bdb2b0d15b7c",
            "3067be65aac947f8a17da4b768d5a373"
          ]
        },
        "id": "Gu7DUkN-Nlqn",
        "outputId": "12b69f87-173c-49c9-e59e-481430642e0b"
      },
      "source": [
        "print('Epoch')\n",
        "for epoch in tqdm(range(epochs)):\n",
        "  print()\n",
        "  print('Training on batches...')\n",
        "  # Perform one full pass over the training set.\n",
        "  train_labels, train_predict, train_loss = train(train_dataloader, optimizer, scheduler, device)\n",
        "  train_acc = accuracy_score(train_labels, train_predict)\n",
        "\n",
        "  # Get prediction form model on validation data. \n",
        "  print('Validation on batches...')\n",
        "  valid_labels, valid_predict, val_loss = validation(valid_dataloader, device)\n",
        "  val_acc = accuracy_score(valid_labels, valid_predict)\n",
        "\n",
        "  # Print loss and accuracy values to see how training evolves.\n",
        "  print(\"  train_loss: %.5f - val_loss: %.5f - train_acc: %.5f - valid_acc: %.5f\"%(train_loss, val_loss, train_acc, val_acc))\n",
        "  print()\n",
        "\n",
        "  # Store the loss value for plotting the learning curve.\n",
        "  all_loss['train_loss'].append(train_loss)\n",
        "  all_loss['val_loss'].append(val_loss)\n",
        "  all_acc['train_acc'].append(train_acc)\n",
        "  all_acc['val_acc'].append(val_acc)"
      ],
      "execution_count": null,
      "outputs": [
        {
          "output_type": "stream",
          "text": [
            "Epoch\n"
          ],
          "name": "stdout"
        },
        {
          "output_type": "display_data",
          "data": {
            "application/vnd.jupyter.widget-view+json": {
              "model_id": "7c2393037d0641cf83323c7700491ffa",
              "version_minor": 0,
              "version_major": 2
            },
            "text/plain": [
              "HBox(children=(FloatProgress(value=0.0, max=4.0), HTML(value='')))"
            ]
          },
          "metadata": {
            "tags": []
          }
        },
        {
          "output_type": "stream",
          "text": [
            "\n",
            "Training on batches...\n"
          ],
          "name": "stdout"
        },
        {
          "output_type": "display_data",
          "data": {
            "application/vnd.jupyter.widget-view+json": {
              "model_id": "9a8ce906a00d4f6db0112931d70b9a69",
              "version_minor": 0,
              "version_major": 2
            },
            "text/plain": [
              "HBox(children=(FloatProgress(value=0.0, max=3392.0), HTML(value='')))"
            ]
          },
          "metadata": {
            "tags": []
          }
        },
        {
          "output_type": "stream",
          "text": [
            "\n",
            "Validation on batches...\n"
          ],
          "name": "stdout"
        },
        {
          "output_type": "display_data",
          "data": {
            "application/vnd.jupyter.widget-view+json": {
              "model_id": "cbc65dd7c3ef42418b0a1842a294c272",
              "version_minor": 0,
              "version_major": 2
            },
            "text/plain": [
              "HBox(children=(FloatProgress(value=0.0, max=848.0), HTML(value='')))"
            ]
          },
          "metadata": {
            "tags": []
          }
        },
        {
          "output_type": "stream",
          "text": [
            "\n",
            "  train_loss: 0.44364 - val_loss: 0.34772 - train_acc: 0.86474 - valid_acc: 0.90373\n",
            "\n",
            "\n",
            "Training on batches...\n"
          ],
          "name": "stdout"
        },
        {
          "output_type": "display_data",
          "data": {
            "application/vnd.jupyter.widget-view+json": {
              "model_id": "3323ed3a0e0e4224a398d2249ee23713",
              "version_minor": 0,
              "version_major": 2
            },
            "text/plain": [
              "HBox(children=(FloatProgress(value=0.0, max=3392.0), HTML(value='')))"
            ]
          },
          "metadata": {
            "tags": []
          }
        },
        {
          "output_type": "stream",
          "text": [
            "\n",
            "Validation on batches...\n"
          ],
          "name": "stdout"
        },
        {
          "output_type": "display_data",
          "data": {
            "application/vnd.jupyter.widget-view+json": {
              "model_id": "34eef362fb4447cc9dd14c9373336f94",
              "version_minor": 0,
              "version_major": 2
            },
            "text/plain": [
              "HBox(children=(FloatProgress(value=0.0, max=848.0), HTML(value='')))"
            ]
          },
          "metadata": {
            "tags": []
          }
        },
        {
          "output_type": "stream",
          "text": [
            "\n",
            "  train_loss: 0.23186 - val_loss: 0.34805 - train_acc: 0.93521 - valid_acc: 0.91670\n",
            "\n",
            "\n",
            "Training on batches...\n"
          ],
          "name": "stdout"
        },
        {
          "output_type": "display_data",
          "data": {
            "application/vnd.jupyter.widget-view+json": {
              "model_id": "54baa06e7ff6466e9d1342197e3ca264",
              "version_minor": 0,
              "version_major": 2
            },
            "text/plain": [
              "HBox(children=(FloatProgress(value=0.0, max=3392.0), HTML(value='')))"
            ]
          },
          "metadata": {
            "tags": []
          }
        },
        {
          "output_type": "stream",
          "text": [
            "\n",
            "Validation on batches...\n"
          ],
          "name": "stdout"
        },
        {
          "output_type": "display_data",
          "data": {
            "application/vnd.jupyter.widget-view+json": {
              "model_id": "04ebfe99327f44519830b3622ba84bd7",
              "version_minor": 0,
              "version_major": 2
            },
            "text/plain": [
              "HBox(children=(FloatProgress(value=0.0, max=848.0), HTML(value='')))"
            ]
          },
          "metadata": {
            "tags": []
          }
        },
        {
          "output_type": "stream",
          "text": [
            "\n",
            "  train_loss: 0.11993 - val_loss: 0.42524 - train_acc: 0.96974 - valid_acc: 0.91877\n",
            "\n",
            "\n",
            "Training on batches...\n"
          ],
          "name": "stdout"
        },
        {
          "output_type": "display_data",
          "data": {
            "application/vnd.jupyter.widget-view+json": {
              "model_id": "131064e9e89e489da1dcf7cfc4ae029e",
              "version_minor": 0,
              "version_major": 2
            },
            "text/plain": [
              "HBox(children=(FloatProgress(value=0.0, max=3392.0), HTML(value='')))"
            ]
          },
          "metadata": {
            "tags": []
          }
        },
        {
          "output_type": "stream",
          "text": [
            "\n",
            "Validation on batches...\n"
          ],
          "name": "stdout"
        },
        {
          "output_type": "display_data",
          "data": {
            "application/vnd.jupyter.widget-view+json": {
              "model_id": "a6e6f334638c4693a08583d3f0bf8bbc",
              "version_minor": 0,
              "version_major": 2
            },
            "text/plain": [
              "HBox(children=(FloatProgress(value=0.0, max=848.0), HTML(value='')))"
            ]
          },
          "metadata": {
            "tags": []
          }
        },
        {
          "output_type": "stream",
          "text": [
            "\n",
            "  train_loss: 0.04841 - val_loss: 0.49267 - train_acc: 0.98728 - valid_acc: 0.92378\n",
            "\n",
            "\n"
          ],
          "name": "stdout"
        }
      ]
    },
    {
      "cell_type": "code",
      "metadata": {
        "colab": {
          "base_uri": "https://localhost:8080/",
          "height": 315,
          "referenced_widgets": [
            "aff31a73f93a4278a95431d6acf85434",
            "ad4f89670b1343c78d48ec4651dbc08f",
            "78fb871e8462480d802ce72d7036c75a",
            "e2958da602394013ba10576e422fa8e3",
            "2655d9cd8a0c403f95cf0323b8c8394e",
            "afa36680799d4b86897b87ba3d26c408",
            "c177ea5c27f54c57852268a19b18a731",
            "10d1795d6b834c2bbd19fbfc3db8f101"
          ]
        },
        "id": "KYY86zF-pTUZ",
        "outputId": "24f7646e-749b-45fe-e7fd-346d9c4c858c"
      },
      "source": [
        "from sklearn import metrics\n",
        "\n",
        "valid_labels, valid_predict, val_loss = validation(valid_dataloader, device)\n",
        "predicted_lr = valid_predict\n",
        "\n",
        "print(metrics.classification_report(y_test, predicted_lr, target_names = main_tags_list, digits = 6))"
      ],
      "execution_count": null,
      "outputs": [
        {
          "output_type": "display_data",
          "data": {
            "application/vnd.jupyter.widget-view+json": {
              "model_id": "aff31a73f93a4278a95431d6acf85434",
              "version_minor": 0,
              "version_major": 2
            },
            "text/plain": [
              "HBox(children=(FloatProgress(value=0.0, max=848.0), HTML(value='')))"
            ]
          },
          "metadata": {
            "tags": []
          }
        },
        {
          "output_type": "stream",
          "text": [
            "\n",
            "               precision    recall  f1-score   support\n",
            "\n",
            "      economy   0.934021  0.934985  0.934502       969\n",
            "entertainment   0.925654  0.912281  0.918919       969\n",
            "   traditions   0.920207  0.916409  0.918304       969\n",
            "      science   0.926188  0.945304  0.935649       969\n",
            "      society   0.905920  0.884417  0.895039       969\n",
            "       sports   0.974593  0.989680  0.982079       969\n",
            "   technology   0.878850  0.883385  0.881112       969\n",
            "\n",
            "     accuracy                       0.923780      6783\n",
            "    macro avg   0.923633  0.923780  0.923658      6783\n",
            " weighted avg   0.923633  0.923780  0.923658      6783\n",
            "\n"
          ],
          "name": "stdout"
        }
      ]
    },
    {
      "cell_type": "code",
      "metadata": {
        "id": "8cSEMuo8pi-i"
      },
      "source": [
        ""
      ],
      "execution_count": null,
      "outputs": []
    },
    {
      "cell_type": "code",
      "metadata": {
        "colab": {
          "base_uri": "https://localhost:8080/",
          "height": 904
        },
        "id": "S4dBkVAONoCF",
        "outputId": "755fff09-c571-44c6-e556-d8537701ba9d"
      },
      "source": [
        "\n",
        "# Plot loss curves.\n",
        "plot_dict(all_loss, use_xlabel='Epochs', use_ylabel='Value', use_linestyles=['-', '--'])\n",
        "\n",
        "# Plot accuracy curves.\n",
        "plot_dict(all_acc, use_xlabel='Epochs', use_ylabel='Value', use_linestyles=['-', '--'])"
      ],
      "execution_count": null,
      "outputs": [
        {
          "output_type": "stream",
          "text": [
            "/usr/local/lib/python3.7/dist-packages/ml_things/plot_functions.py:410: DeprecationWarning: `magnify` needs to have value in [0,1]! `1.2` will be converted to `0.1` as default.\n",
            "  DeprecationWarning)\n"
          ],
          "name": "stderr"
        },
        {
          "output_type": "display_data",
          "data": {
            "image/png": "[encoded data removed]",
            "text/plain": [
              "<Figure size 1944x432 with 1 Axes>"
            ]
          },
          "metadata": {
            "tags": []
          }
        },
        {
          "output_type": "stream",
          "text": [
            "/usr/local/lib/python3.7/dist-packages/ml_things/plot_functions.py:410: DeprecationWarning: `magnify` needs to have value in [0,1]! `1.2` will be converted to `0.1` as default.\n",
            "  DeprecationWarning)\n"
          ],
          "name": "stderr"
        },
        {
          "output_type": "display_data",
          "data": {
            "image/png": "[encoded data removed]",
            "text/plain": [
              "<Figure size 1944x432 with 1 Axes>"
            ]
          },
          "metadata": {
            "tags": []
          }
        }
      ]
    },
    {
      "cell_type": "code",
      "metadata": {
        "id": "CTuMSdOkNVFJ"
      },
      "source": [
        ""
      ],
      "execution_count": null,
      "outputs": []
    },
    {
      "cell_type": "code",
      "metadata": {
        "id": "6lVHsJhMNVIC"
      },
      "source": [
        ""
      ],
      "execution_count": null,
      "outputs": []
    },
    {
      "cell_type": "code",
      "metadata": {
        "id": "fj-o6uxCNVLt"
      },
      "source": [
        ""
      ],
      "execution_count": null,
      "outputs": []
    },
    {
      "cell_type": "code",
      "metadata": {
        "id": "ugHg-RyiNVPf"
      },
      "source": [
        ""
      ],
      "execution_count": null,
      "outputs": []
    },
    {
      "cell_type": "markdown",
      "metadata": {
        "id": "LEaYw2iW11ZK"
      },
      "source": [
        "# bert pytorch\n"
      ]
    },
    {
      "cell_type": "markdown",
      "metadata": {
        "id": "G-alSiD0xCIu"
      },
      "source": [
        "https://github.com/Samsung-IT-Academy/stepik-dl-nlp/blob/master/task9_bert_sentiment_analysis.ipynb\n"
      ]
    },
    {
      "cell_type": "code",
      "metadata": {
        "id": "jfQO6Q7td-K7"
      },
      "source": [
        ""
      ],
      "execution_count": null,
      "outputs": []
    }
  ]
}