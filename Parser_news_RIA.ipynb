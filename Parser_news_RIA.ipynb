{
  "nbformat": 4,
  "nbformat_minor": 0,
  "metadata": {
    "kernelspec": {
      "display_name": "Python 3",
      "language": "python",
      "name": "python3"
    },
    "language_info": {
      "codemirror_mode": {
        "name": "ipython",
        "version": 3
      },
      "file_extension": ".py",
      "mimetype": "text/x-python",
      "name": "python",
      "nbconvert_exporter": "python",
      "pygments_lexer": "ipython3",
      "version": "3.8.1"
    },
    "colab": {
      "name": "Parser_news_RIA.ipynb",
      "provenance": [],
      "collapsed_sections": [],
      "toc_visible": true,
      "include_colab_link": true
    },
    "widgets": {
      "application/vnd.jupyter.widget-state+json": {
        "5257e438b61d4216a7e13c266d880b62": {
          "model_module": "@jupyter-widgets/controls",
          "model_name": "HBoxModel",
          "state": {
            "_view_name": "HBoxView",
            "_dom_classes": [],
            "_model_name": "HBoxModel",
            "_view_module": "@jupyter-widgets/controls",
            "_model_module_version": "1.5.0",
            "_view_count": null,
            "_view_module_version": "1.5.0",
            "box_style": "",
            "layout": "IPY_MODEL_28bdf533fd97477db9fe9bda8e1c4408",
            "_model_module": "@jupyter-widgets/controls",
            "children": [
              "IPY_MODEL_792136c465a84085aefd1d9fa4b23bbe",
              "IPY_MODEL_ed6b608bc83846289b92cd9a23db6186"
            ]
          }
        },
        "28bdf533fd97477db9fe9bda8e1c4408": {
          "model_module": "@jupyter-widgets/base",
          "model_name": "LayoutModel",
          "state": {
            "_view_name": "LayoutView",
            "grid_template_rows": null,
            "right": null,
            "justify_content": null,
            "_view_module": "@jupyter-widgets/base",
            "overflow": null,
            "_model_module_version": "1.2.0",
            "_view_count": null,
            "flex_flow": null,
            "width": null,
            "min_width": null,
            "border": null,
            "align_items": null,
            "bottom": null,
            "_model_module": "@jupyter-widgets/base",
            "top": null,
            "grid_column": null,
            "overflow_y": null,
            "overflow_x": null,
            "grid_auto_flow": null,
            "grid_area": null,
            "grid_template_columns": null,
            "flex": null,
            "_model_name": "LayoutModel",
            "justify_items": null,
            "grid_row": null,
            "max_height": null,
            "align_content": null,
            "visibility": null,
            "align_self": null,
            "height": null,
            "min_height": null,
            "padding": null,
            "grid_auto_rows": null,
            "grid_gap": null,
            "max_width": null,
            "order": null,
            "_view_module_version": "1.2.0",
            "grid_template_areas": null,
            "object_position": null,
            "object_fit": null,
            "grid_auto_columns": null,
            "margin": null,
            "display": null,
            "left": null
          }
        },
        "792136c465a84085aefd1d9fa4b23bbe": {
          "model_module": "@jupyter-widgets/controls",
          "model_name": "FloatProgressModel",
          "state": {
            "_view_name": "ProgressView",
            "style": "IPY_MODEL_4f85e77bb6c34c118ee4eda48d4e3ba5",
            "_dom_classes": [],
            "description": "100%",
            "_model_name": "FloatProgressModel",
            "bar_style": "success",
            "max": 50,
            "_view_module": "@jupyter-widgets/controls",
            "_model_module_version": "1.5.0",
            "value": 50,
            "_view_count": null,
            "_view_module_version": "1.5.0",
            "orientation": "horizontal",
            "min": 0,
            "description_tooltip": null,
            "_model_module": "@jupyter-widgets/controls",
            "layout": "IPY_MODEL_1faad901a6344d5ca1f7c7ba56fc6263"
          }
        },
        "ed6b608bc83846289b92cd9a23db6186": {
          "model_module": "@jupyter-widgets/controls",
          "model_name": "HTMLModel",
          "state": {
            "_view_name": "HTMLView",
            "style": "IPY_MODEL_c3fa8a30f1e34d05b7c9e54e0dbe9aa1",
            "_dom_classes": [],
            "description": "",
            "_model_name": "HTMLModel",
            "placeholder": "​",
            "_view_module": "@jupyter-widgets/controls",
            "_model_module_version": "1.5.0",
            "value": " 50/50 [04:28&lt;00:00,  5.37s/it]",
            "_view_count": null,
            "_view_module_version": "1.5.0",
            "description_tooltip": null,
            "_model_module": "@jupyter-widgets/controls",
            "layout": "IPY_MODEL_7253b92ef8754116af68a85a8ec539bf"
          }
        },
        "4f85e77bb6c34c118ee4eda48d4e3ba5": {
          "model_module": "@jupyter-widgets/controls",
          "model_name": "ProgressStyleModel",
          "state": {
            "_view_name": "StyleView",
            "_model_name": "ProgressStyleModel",
            "description_width": "initial",
            "_view_module": "@jupyter-widgets/base",
            "_model_module_version": "1.5.0",
            "_view_count": null,
            "_view_module_version": "1.2.0",
            "bar_color": null,
            "_model_module": "@jupyter-widgets/controls"
          }
        },
        "1faad901a6344d5ca1f7c7ba56fc6263": {
          "model_module": "@jupyter-widgets/base",
          "model_name": "LayoutModel",
          "state": {
            "_view_name": "LayoutView",
            "grid_template_rows": null,
            "right": null,
            "justify_content": null,
            "_view_module": "@jupyter-widgets/base",
            "overflow": null,
            "_model_module_version": "1.2.0",
            "_view_count": null,
            "flex_flow": null,
            "width": null,
            "min_width": null,
            "border": null,
            "align_items": null,
            "bottom": null,
            "_model_module": "@jupyter-widgets/base",
            "top": null,
            "grid_column": null,
            "overflow_y": null,
            "overflow_x": null,
            "grid_auto_flow": null,
            "grid_area": null,
            "grid_template_columns": null,
            "flex": null,
            "_model_name": "LayoutModel",
            "justify_items": null,
            "grid_row": null,
            "max_height": null,
            "align_content": null,
            "visibility": null,
            "align_self": null,
            "height": null,
            "min_height": null,
            "padding": null,
            "grid_auto_rows": null,
            "grid_gap": null,
            "max_width": null,
            "order": null,
            "_view_module_version": "1.2.0",
            "grid_template_areas": null,
            "object_position": null,
            "object_fit": null,
            "grid_auto_columns": null,
            "margin": null,
            "display": null,
            "left": null
          }
        },
        "c3fa8a30f1e34d05b7c9e54e0dbe9aa1": {
          "model_module": "@jupyter-widgets/controls",
          "model_name": "DescriptionStyleModel",
          "state": {
            "_view_name": "StyleView",
            "_model_name": "DescriptionStyleModel",
            "description_width": "",
            "_view_module": "@jupyter-widgets/base",
            "_model_module_version": "1.5.0",
            "_view_count": null,
            "_view_module_version": "1.2.0",
            "_model_module": "@jupyter-widgets/controls"
          }
        },
        "7253b92ef8754116af68a85a8ec539bf": {
          "model_module": "@jupyter-widgets/base",
          "model_name": "LayoutModel",
          "state": {
            "_view_name": "LayoutView",
            "grid_template_rows": null,
            "right": null,
            "justify_content": null,
            "_view_module": "@jupyter-widgets/base",
            "overflow": null,
            "_model_module_version": "1.2.0",
            "_view_count": null,
            "flex_flow": null,
            "width": null,
            "min_width": null,
            "border": null,
            "align_items": null,
            "bottom": null,
            "_model_module": "@jupyter-widgets/base",
            "top": null,
            "grid_column": null,
            "overflow_y": null,
            "overflow_x": null,
            "grid_auto_flow": null,
            "grid_area": null,
            "grid_template_columns": null,
            "flex": null,
            "_model_name": "LayoutModel",
            "justify_items": null,
            "grid_row": null,
            "max_height": null,
            "align_content": null,
            "visibility": null,
            "align_self": null,
            "height": null,
            "min_height": null,
            "padding": null,
            "grid_auto_rows": null,
            "grid_gap": null,
            "max_width": null,
            "order": null,
            "_view_module_version": "1.2.0",
            "grid_template_areas": null,
            "object_position": null,
            "object_fit": null,
            "grid_auto_columns": null,
            "margin": null,
            "display": null,
            "left": null
          }
        }
      }
    }
  },
  "cells": [
    {
      "cell_type": "markdown",
      "metadata": {
        "id": "view-in-github",
        "colab_type": "text"
      },
      "source": [
        "<a href=\"https://colab.research.google.com/github/andreytsimbalov/Diplom/blob/main/Parser_news_RIA.ipynb\" target=\"_parent\"><img src=\"https://colab.research.google.com/assets/colab-badge.svg\" alt=\"Open In Colab\"/></a>"
      ]
    },
    {
      "cell_type": "markdown",
      "metadata": {
        "id": "9rucQF6vOq1_"
      },
      "source": [
        "# Парсер с Риа новости https://ria.ru/search/"
      ]
    },
    {
      "cell_type": "code",
      "metadata": {
        "id": "kGUc0eFnOq2X"
      },
      "source": [
        "import requests\n",
        "import threading\n",
        "from bs4 import BeautifulSoup\n",
        "import numpy as np\n",
        "from tqdm.notebook import tqdm\n",
        "import pandas as pd\n",
        "import time\n",
        "import random\n",
        "\n",
        "%matplotlib inline\n",
        "import matplotlib.pyplot as plt"
      ],
      "execution_count": null,
      "outputs": []
    },
    {
      "cell_type": "markdown",
      "metadata": {
        "id": "ipha0oUNOq2a"
      },
      "source": [
        "url = 'https://newssearch.yandex.ru/yandsearch?rpt=nnews2&rel=rel&within=9'\n",
        "HEADER = {'user-agent': 'Mozilla/5.0 (Windows NT 10.0; Win64; x64) '\n",
        "                         'AppleWebKit/537.36 (KHTML, like Gecko) Chrome/84.0.4147.125 Safari/537.36', \n",
        "          'accept': '*/*'}\n",
        "r = requests.get(url, headers = HEADER)\n",
        "soup = BeautifulSoup(r.content.decode('utf-8','ignore'), 'html.parser')\n",
        "news = []\n",
        "for link in soup.find_all('li', class_ =  'search-item'):\n",
        "    news+=[link.text]\n",
        "news"
      ]
    },
    {
      "cell_type": "markdown",
      "metadata": {
        "id": "E1p_h2yVOq2c"
      },
      "source": [
        "for i in tqdm(range(100)):\n",
        "    r = requests.get(url, headers = HEADER)\n",
        "    soup = BeautifulSoup(r.content.decode('utf-8','ignore'), 'html.parser')\n",
        "    if len(soup.find_all('li', class_ =  'search-item')):\n",
        "        print(123)    \n",
        "soup"
      ]
    },
    {
      "cell_type": "code",
      "metadata": {
        "colab": {
          "base_uri": "https://localhost:8080/"
        },
        "id": "062ZJx--Oq2d",
        "outputId": "02c20e4b-5785-416f-ed89-6dcc724d7650"
      },
      "source": [
        "url = 'https://ria.ru/search/'\n",
        "# url = 'https://ria.ru/services/search/getmore/?query=&amp;offset=20&amp;interval=week'\n",
        "\n",
        "HEADERS = {'user-agent': 'Mozilla/5.0 (Windows NT 10.0; Win64; x64) '\n",
        "                         'AppleWebKit/537.36 (KHTML, like Gecko) Chrome/84.0.4147.125 Safari/537.36', \n",
        "          'accept': '*/*'}\n",
        "\n",
        "# /services/search/getmore/?query=&offset=20&interval=period&date_from=2020-12-18&date_to=2020-12-25\n",
        "\n",
        "PARAMS = {'interval': \"period\",\n",
        "          'date_from':'2020-08-31',\n",
        "          'date_to':'2020-08-31',\n",
        "          'offset': 0}\n",
        "          \n",
        "r = requests.get(url,params = PARAMS)\n",
        "soup = BeautifulSoup(r.text, 'html.parser')\n",
        "\n",
        "len_news = int(soup.find_all('div', class_ =  'rubric-count m-active')[0].text.split(' ')[0])\n",
        "len_news"
      ],
      "execution_count": null,
      "outputs": [
        {
          "output_type": "execute_result",
          "data": {
            "text/plain": [
              "811"
            ]
          },
          "metadata": {
            "tags": []
          },
          "execution_count": 2
        }
      ]
    },
    {
      "cell_type": "code",
      "metadata": {
        "colab": {
          "base_uri": "https://localhost:8080/",
          "height": 35
        },
        "id": "z2NxgxOiOq2j",
        "outputId": "ec0af2a3-1b06-495c-8c66-3ad29f6412ad"
      },
      "source": [
        "item = soup.find_all('div', class_ =  'list-item')[0]\n",
        "item.text"
      ],
      "execution_count": null,
      "outputs": [
        {
          "output_type": "execute_result",
          "data": {
            "application/vnd.google.colaboratory.intrinsic+json": {
              "type": "string"
            },
            "text/plain": [
              "'Экипаж МКС сузил зону поиска утечки воздуха 30 сентября 2020, 23:505738'"
            ]
          },
          "metadata": {
            "tags": []
          },
          "execution_count": 3
        }
      ]
    },
    {
      "cell_type": "code",
      "metadata": {
        "id": "dXM6VvpgOq2l"
      },
      "source": [
        "def take_ria_news(url_one):\n",
        "    r=requests.get(url_one).text\n",
        "    bs = BeautifulSoup(r, 'html.parser')\n",
        "\n",
        "    tags = [tag.text for tag in bs.find_all('a', class_ = 'article__tags-item')] \n",
        "\n",
        "    texts = bs.find_all('div', class_ = 'article__block')\n",
        "    main_text = ''\n",
        "    for _ in texts:\n",
        "        t = _.find('div',class_ =\"article__quote\")\n",
        "        if not t is None:\n",
        "            main_text += t.text+' '\n",
        "\n",
        "        t = _.find('div',class_ =\"article__text\")\n",
        "        if not t is None:\n",
        "            main_text += t.text+' '\n",
        "\n",
        "    return tags, main_text\n",
        "\n",
        "# take_ria_news(news_ria['link'])"
      ],
      "execution_count": null,
      "outputs": []
    },
    {
      "cell_type": "code",
      "metadata": {
        "id": "EWhKFmGZOq2n"
      },
      "source": [
        "def take_news(link): # просматривает новость на ria search\n",
        "\n",
        "    new_item = {}\n",
        "    new_item['date'] = link.find('div', class_=\"list-item__date\").text.split(', ')[0]\n",
        "    new_item['time'] = link.find('div', class_=\"list-item__date\").text.split(', ')[1]\n",
        "    new_item['views'] = int(link.find('div', class_='list-item__views-text').text)\n",
        "    \n",
        "    new_item['headline'] = link.find('span',class_=\"share\").get('data-title')\n",
        "    new_item['link']= link.find('a').get('href')\n",
        "    new_item['tags'] = []\n",
        "    new_item['text'] = ''\n",
        "\n",
        "\n",
        "#     flag = new_item['link'].find('https://ria.ru')!=-1 or new_item['link'].find('https://rsport.ria.ru')!=-1\n",
        "    flag = new_item['link'].find('ria.ru')!=-1\n",
        "    \n",
        "    if (flag):\n",
        "        try_to_get_tags_and_text = True\n",
        "        try_counter = 0\n",
        "\n",
        "        while try_to_get_tags_and_text: \n",
        "          try_counter+=1\n",
        "\n",
        "          # if try_counter%10==0:\n",
        "          #   print(f't&t pars processing - {try_counter} try')\n",
        "\n",
        "\n",
        "          if try_counter>20:\n",
        "            print(\"dont getted tags and text \"+ str(new_item['link']))\n",
        "            try_to_get_tags_and_text = False\n",
        "            continue\n",
        "\n",
        "          try:\n",
        "            new_item['tags'], new_item['text'] = take_ria_news(new_item['link']) #, new_item['text']\n",
        "          except:\n",
        "            print(\"smth is wrong with t&t\")\n",
        "          if new_item['text']=='':\n",
        "            time.sleep(random.uniform(0.01,0.1)+ try_counter//10)\n",
        "            time.sleep(0)\n",
        "          else:\n",
        "            try_to_get_tags_and_text = False\n",
        "            # if try_counter>1:\n",
        "            #   print(f'success t&t pars with {try_counter} try')\n",
        "              \n",
        "    else:\n",
        "      print(\"we have not news_text on link \"+str(link))\n",
        "    return new_item\n",
        "    \n",
        "# take_news(item)"
      ],
      "execution_count": null,
      "outputs": []
    },
    {
      "cell_type": "markdown",
      "metadata": {
        "id": "gk0h0hr-Oq2p"
      },
      "source": [
        "\n",
        "\n",
        "**Сбор новостей**"
      ]
    },
    {
      "cell_type": "code",
      "metadata": {
        "id": "X9bfzwI5VHr2"
      },
      "source": [
        "MIN_VIEWS_ON_NEWS = 10000 #отсев новостей с менее 10к просмотров"
      ],
      "execution_count": null,
      "outputs": []
    },
    {
      "cell_type": "code",
      "metadata": {
        "colab": {
          "base_uri": "https://localhost:8080/"
        },
        "id": "LDVBA1Ug78jx",
        "outputId": "2c6999ad-2b5d-4404-9ca7-9b7e59e21383"
      },
      "source": [
        ""
      ],
      "execution_count": null,
      "outputs": [
        {
          "output_type": "execute_result",
          "data": {
            "text/plain": [
              "({'date_from': '2020-08-1',\n",
              "  'date_to': '2020-08-30',\n",
              "  'interval': 'period',\n",
              "  'offset': 123},\n",
              " {'date_from': '2020-08-1',\n",
              "  'date_to': '2020-08-30',\n",
              "  'interval': 'period',\n",
              "  'offset': 0})"
            ]
          },
          "metadata": {
            "tags": []
          },
          "execution_count": 10
        }
      ]
    },
    {
      "cell_type": "code",
      "metadata": {
        "id": "eOUEhG92k8Ur"
      },
      "source": [
        "lock = threading.Lock()\n",
        "\n",
        "def take_1_news(news_item):\n",
        "\n",
        "  # print(f'ones started')\n",
        "  views_on_news = int(news_item.find('div', class_='list-item__views-text').text)\n",
        "\n",
        "  flag = news_item.find('a').get('href').find('radiosputnik.ria.ru')==-1 and \\\n",
        "      views_on_news>MIN_VIEWS_ON_NEWS \n",
        "\n",
        "  # flag=True # потом не забыть урбрать\n",
        "\n",
        "  if flag: \n",
        "      news_one = take_news(news_item)\n",
        "      global news\n",
        "      with lock:\n",
        "        news.extend([news_one])\n",
        "  #     print(f'ones finished_ {views_on_news}')\n",
        "  # else:\n",
        "  #     print(f'ones cant finished_ {views_on_news} _!')\n",
        "\n",
        "\n",
        "def take_20_news(i, par):\n",
        "  # try:\n",
        "  # print(f'{i} started')\n",
        "  one_news_of_time = time.time()\n",
        "\n",
        "  offset = i*20\n",
        "  params = par.copy()\n",
        "  params['offset'] = offset\n",
        "\n",
        "  # print(f'{i} {params}')\n",
        "\n",
        "  success_try_to_parsing = True\n",
        "  try_counter=0\n",
        "\n",
        "  while success_try_to_parsing:\n",
        "    try_counter+=1\n",
        "    r = requests.get(url,params = params)\n",
        "    soup = BeautifulSoup(r.text, 'html.parser')\n",
        "    # print(f'{i} {params}')\n",
        "\n",
        "    thrs = [threading.Thread(target=take_1_news, args= (news_item,)) \n",
        "            for news_item in soup.find_all('div', class_ =  'list-item')]\n",
        "    \n",
        "\n",
        "    # print(f'{i}-{len(thrs)}-{ln} ')\n",
        "    if len(thrs)<20:\n",
        "      if try_counter>30:\n",
        "        print(f'ERROR__ {i} {params}')\n",
        "        return\n",
        "\n",
        "      time.sleep(random.uniform(0.01, 0.1)+try_counter//20)\n",
        "      continue\n",
        "    else:\n",
        "      # print(f'SUCCESS__ {i} with {try_counter} try')\n",
        "      success_try_to_parsing = False\n",
        "\n",
        "    for th in thrs:\n",
        "      # time.sleep(2)\n",
        "      th.start()\n",
        "\n",
        "    \n",
        "    for th in thrs:\n",
        "      th.join()\n",
        "\n",
        "    # for news_item in soup.find_all('div', class_ =  'list-item'):\n",
        "    #     take_1_news(news_item)\n",
        "\n",
        "    \n",
        "    time_delay = time.time()-one_news_of_time\n",
        "\n",
        "    global max_time_delay\n",
        "    with lock:\n",
        "      max_time_delay = max(max_time_delay, time_delay)\n",
        "  \n",
        "  print(f'{i} finished {len(news)} ({i*20/len_news})')\n",
        "  # except:\n",
        "  #   print('error',i)"
      ],
      "execution_count": null,
      "outputs": []
    },
    {
      "cell_type": "code",
      "metadata": {
        "colab": {
          "base_uri": "https://localhost:8080/"
        },
        "id": "Dh27RErMrNMR",
        "outputId": "2b1bae98-152a-4cca-f3a6-963408ac66a2"
      },
      "source": [
        "news = []\n",
        "max_time_delay=0\n",
        "max_thread_number = 10\n",
        "threads_index = set([])\n",
        "\n",
        "\n",
        "arr_news_of_time = time.time()\n",
        "# for i in tqdm(range(len_news//20)):#len_news//20\n",
        "# for i in tqdm(range(0,10)):#len_news//20\n",
        "\n",
        "# thrs_main = [threading.Thread(target=take_20_news, args= (i,PARAMS,)) \n",
        "#               for i in range(0,50)]\n",
        "\n",
        "thrs_main = [threading.Thread(target=take_20_news, args= (i,PARAMS,)) \n",
        "              for i in range(len_news//20)]\n",
        "\n",
        "now_threads = set([])\n",
        "\n",
        "iterator = 0\n",
        "\n",
        "while iterator<len(thrs_main):\n",
        "  finished_threads=set([])\n",
        "  for th in now_threads:\n",
        "    if not th.isAlive():\n",
        "      finished_threads.add(th)\n",
        "  now_threads-=finished_threads\n",
        "  \n",
        "  while len(now_threads)<max_thread_number:\n",
        "    now_threads.add(thrs_main[iterator])\n",
        "    thrs_main[iterator].start()\n",
        "    iterator+=1\n",
        "    time.sleep(0.1)\n",
        "  \n",
        "  time.sleep(0)\n",
        "\n",
        "\n",
        "# for ths in thrs_main:\n",
        "#   time.sleep(0.1)\n",
        "#   ths.start()\n",
        "\n",
        "for ths in thrs_main:\n",
        "  ths.join()\n",
        "\n",
        "print(time.time()-arr_news_of_time)\n",
        "print(f'max_time_delay {max_time_delay}')\n",
        "len(news)"
      ],
      "execution_count": null,
      "outputs": [
        {
          "output_type": "stream",
          "text": [
            "3 finished 7 (0.07398273736128237)\n",
            "7 finished 17 (0.17262638717632553)\n",
            "8 finished 20 (0.19728729963008632)\n",
            "6 finished 22 (0.14796547472256474)\n",
            "9 finished 23 (0.2219482120838471)\n",
            "0 finished 28 (0.0)\n",
            "4 finished 30 (0.09864364981504316)\n",
            "13 finished 32 (0.3205918618988903)\n",
            "12 finished 35 (0.2959309494451295)\n",
            "14 finished 36 (0.34525277435265106)\n",
            "1 finished 38 (0.02466091245376079)\n",
            "2 finished 40 (0.04932182490752158)\n",
            "17 finished 43 (0.4192355117139334)\n",
            "16 finished 48 (0.39457459926017263)\n",
            "10 finished 49 (0.2466091245376079)\n",
            "21 finished 51 (0.5178791615289766)\n",
            "5 finished 53 (0.12330456226880394)\n",
            "15 finished 54 (0.36991368680641185)\n",
            "20 finished 55 (0.4932182490752158)\n",
            "22 finished 58 (0.5425400739827374)\n",
            "11 finished 59 (0.2712700369913687)\n",
            "19 finished 65 (0.468557336621455)\n",
            "27 finished 68 (0.6658446362515413)\n",
            "29 finished 69 (0.7151664611590629)\n",
            "23 finished 70 (0.5672009864364982)\n",
            "28 finished 71 (0.6905055487053021)\n",
            "24 finished 74 (0.591861898890259)\n",
            "26 finished 76 (0.6411837237977805)\n",
            "31 finished 78 (0.7644882860665845)\n",
            "25 finished 85 (0.6165228113440198)\n",
            "35 finished 86 (0.8631319358816276)\n",
            "32 finished 104 (0.7891491985203453)\n",
            "30 finished 107 (0.7398273736128237)\n",
            "ERROR__ 18 {'interval': 'period', 'date_from': '2020-08-31', 'date_to': '2020-08-31', 'offset': 360}\n",
            "37 finished 112 (0.9124537607891492)\n",
            "39 finished 113 (0.9617755856966708)\n",
            "38 finished 115 (0.93711467324291)\n",
            "34 finished 116 (0.8384710234278668)\n",
            "36 finished 118 (0.8877928483353884)\n",
            "dont getted tags and text https://ria.ru/20200831/gering-1576333369.html\n",
            "33 finished 119 (0.813810110974106)\n",
            "49.54550385475159\n",
            "max_time_delay 23.240238666534424\n"
          ],
          "name": "stdout"
        },
        {
          "output_type": "execute_result",
          "data": {
            "text/plain": [
              "119"
            ]
          },
          "metadata": {
            "tags": []
          },
          "execution_count": 7
        }
      ]
    },
    {
      "cell_type": "code",
      "metadata": {
        "colab": {
          "base_uri": "https://localhost:8080/",
          "height": 1000,
          "referenced_widgets": [
            "5257e438b61d4216a7e13c266d880b62",
            "28bdf533fd97477db9fe9bda8e1c4408",
            "792136c465a84085aefd1d9fa4b23bbe",
            "ed6b608bc83846289b92cd9a23db6186",
            "4f85e77bb6c34c118ee4eda48d4e3ba5",
            "1faad901a6344d5ca1f7c7ba56fc6263",
            "c3fa8a30f1e34d05b7c9e54e0dbe9aa1",
            "7253b92ef8754116af68a85a8ec539bf"
          ]
        },
        "id": "3W35xnyXOq2q",
        "outputId": "21ed0133-c93d-4431-b083-3392cdfdc4b2"
      },
      "source": [
        "news = []\n",
        "\n",
        "max_time_delay=0\n",
        "\n",
        "# for i in tqdm(range(len_news//20)):#len_news//20\n",
        "for i in tqdm(range(0,50)):#len_news//20\n",
        "    # try:\n",
        "    one_news_of_time = time.time()\n",
        "\n",
        "    offset = i*20\n",
        "    PARAMS['offset'] = offset\n",
        "    r = requests.get(url,params = PARAMS)\n",
        "    soup = BeautifulSoup(r.text, 'html.parser')\n",
        "\n",
        "    thrs = [threading.Thread(target=take_1_news, args= (news_item,)) \n",
        "            for news_item in soup.find_all('div', class_ =  'list-item')]\n",
        "    \n",
        "    print(len(thrs))\n",
        "    # print(f'init_thrs {time.time()-one_news_of_time}')\n",
        "\n",
        "    for th in thrs:\n",
        "      th.start()\n",
        "\n",
        "    # print(f'start_thrs {time.time()-one_news_of_time}')\n",
        "    \n",
        "    for th in thrs:\n",
        "      th.join()\n",
        "    # print(f'fin_thrs {time.time()-one_news_of_time}')\n",
        "\n",
        "    # for news_item in soup.find_all('div', class_ =  'list-item'):\n",
        "    #     take_1_news(news_item)\n",
        "\n",
        "    \n",
        "    time_delay = time.time()-one_news_of_time\n",
        "\n",
        "    print(f'{time_delay} {len(news)}')\n",
        "\n",
        "    max_time_delay = max(max_time_delay, time_delay)\n",
        "    # except:\n",
        "    #     print(f'eRRor {i}')\n",
        "\n",
        "\n",
        "print(f'max_time_delay {max_time_delay}')\n",
        "len(news)"
      ],
      "execution_count": null,
      "outputs": [
        {
          "output_type": "display_data",
          "data": {
            "application/vnd.jupyter.widget-view+json": {
              "model_id": "5257e438b61d4216a7e13c266d880b62",
              "version_minor": 0,
              "version_major": 2
            },
            "text/plain": [
              "HBox(children=(FloatProgress(value=0.0, max=50.0), HTML(value='')))"
            ]
          },
          "metadata": {
            "tags": []
          }
        },
        {
          "output_type": "stream",
          "text": [
            "20\n",
            "2.5469040870666504 3\n",
            "20\n",
            "3.1243913173675537 7\n",
            "20\n",
            "2.4239554405212402 11\n",
            "20\n",
            "2.1410157680511475 13\n",
            "20\n",
            "2.0580928325653076 14\n",
            "20\n",
            "4.113449335098267 18\n",
            "20\n",
            "2.8843438625335693 20\n",
            "20\n",
            "2.350877046585083 22\n",
            "20\n",
            "2.077316999435425 24\n",
            "20\n",
            "1.9520072937011719 25\n",
            "20\n",
            "dont getted tags and text https://ria.ru/20200930/kak-v-rossii-budet-vystroena-sistema-retsiklinga-1577991695.html\n",
            "33.67931866645813 29\n",
            "20\n",
            "2.181375741958618 31\n",
            "20\n",
            "2.868912696838379 33\n",
            "20\n",
            "3.3993425369262695 37\n",
            "20\n",
            "2.7602880001068115 40\n",
            "20\n",
            "2.547605514526367 44\n",
            "20\n",
            "3.2694365978240967 46\n",
            "20\n",
            "3.2842414379119873 47\n",
            "20\n",
            "2.110531806945801 49\n",
            "20\n",
            "2.7873666286468506 52\n",
            "20\n",
            "2.7124781608581543 54\n",
            "20\n",
            "2.421464443206787 55\n",
            "20\n",
            "3.2465851306915283 56\n",
            "20\n",
            "3.1883528232574463 59\n",
            "20\n",
            "1.9803121089935303 59\n",
            "20\n",
            "2.555732488632202 64\n",
            "1\n",
            "5.721160650253296 64\n"
          ],
          "name": "stdout"
        },
        {
          "output_type": "stream",
          "text": [
            "Exception in thread Thread-3891:\n",
            "Traceback (most recent call last):\n",
            "  File \"/usr/lib/python3.6/threading.py\", line 916, in _bootstrap_inner\n",
            "    self.run()\n",
            "  File \"/usr/lib/python3.6/threading.py\", line 864, in run\n",
            "    self._target(*self._args, **self._kwargs)\n",
            "  File \"<ipython-input-26-87e2e81fad2c>\", line 6, in take_1_news\n",
            "    views_on_news = int(news_item.find('div', class_='list-item__views-text').text)\n",
            "AttributeError: 'NoneType' object has no attribute 'text'\n",
            "\n"
          ],
          "name": "stderr"
        },
        {
          "output_type": "stream",
          "text": [
            "20\n",
            "3.0137953758239746 68\n",
            "20\n",
            "2.9239726066589355 71\n",
            "20\n",
            "2.8506553173065186 72\n",
            "20\n",
            "dont getted tags and text https://realty.ria.ru/20200930/srv-1577753451.html\n",
            "36.73002219200134 76\n",
            "20\n",
            "4.807019472122192 78\n",
            "20\n",
            "2.9339051246643066 83\n",
            "20\n",
            "2.544027090072632 84\n",
            "20\n",
            "2.8476319313049316 86\n",
            "20\n",
            "2.0926225185394287 88\n",
            "20\n",
            "2.5908396244049072 91\n",
            "20\n",
            "3.081753969192505 94\n",
            "20\n",
            "2.25645112991333 96\n",
            "20\n",
            "2.6133320331573486 98\n",
            "20\n",
            "3.198267698287964 100\n",
            "20\n",
            "4.724199295043945 108\n",
            "1\n",
            "5.848837852478027 108\n"
          ],
          "name": "stdout"
        },
        {
          "output_type": "stream",
          "text": [
            "Exception in thread Thread-4192:\n",
            "Traceback (most recent call last):\n",
            "  File \"/usr/lib/python3.6/threading.py\", line 916, in _bootstrap_inner\n",
            "    self.run()\n",
            "  File \"/usr/lib/python3.6/threading.py\", line 864, in run\n",
            "    self._target(*self._args, **self._kwargs)\n",
            "  File \"<ipython-input-26-87e2e81fad2c>\", line 6, in take_1_news\n",
            "    views_on_news = int(news_item.find('div', class_='list-item__views-text').text)\n",
            "AttributeError: 'NoneType' object has no attribute 'text'\n",
            "\n"
          ],
          "name": "stderr"
        },
        {
          "output_type": "stream",
          "text": [
            "20\n",
            "4.880273342132568 115\n",
            "20\n",
            "4.774727821350098 121\n",
            "20\n",
            "3.4834983348846436 124\n",
            "20\n",
            "2.4209678173065186 127\n",
            "20\n",
            "5.35072135925293 129\n",
            "20\n",
            "3.022469997406006 132\n",
            "20\n",
            "2.6056864261627197 133\n",
            "\n",
            "max_time_delay 36.73002219200134\n"
          ],
          "name": "stdout"
        },
        {
          "output_type": "execute_result",
          "data": {
            "text/plain": [
              "133"
            ]
          },
          "metadata": {
            "tags": []
          },
          "execution_count": 29
        }
      ]
    },
    {
      "cell_type": "code",
      "metadata": {
        "id": "mXpAQFcUOq2v",
        "colab": {
          "base_uri": "https://localhost:8080/"
        },
        "outputId": "21ecc237-ee8d-4244-b15d-acec9be10fdd"
      },
      "source": [
        "[n['text']  for n in news][:10]"
      ],
      "execution_count": null,
      "outputs": [
        {
          "output_type": "execute_result",
          "data": {
            "text/plain": [
              "['ЕКАТЕРИНБУРГ, 31 янв - РИА Новости. Состояние китайской студентки, больной коронавирусом в Тюменской области, удовлетворительное, заболевание протекает в легкой форме, сообщает управление Роспотребнадзора по региону. В пятницу вице-премьер РФ Татьяна Голикова заявила, что в РФ выявлены два первых случая коронавируса, в Забайкальском крае и Тюменской области, оба заболевших - граждане Китая. Губернатор Тюменской области Александр Моор сообщил, что в регионе лабораторно подтвержден случай коронавируса у китайской студентки. \"Больная с первого дня пребывания в Тюмени находится в боксированном отделении инфекционного стационара, лица из близкого контакта также госпитализированы. Все остальные возможные контактные лица находятся под медицинским наблюдением. Заболевание протекают в легкой клинической форме, на 31 января 2020 года состояние удовлетворительное, жалоб нет\", - говорится в сообщении. Организован полный комплекс противоэпидемических мер, направленный на недопущение распространения инфекции. Губернатор утвердил региональный план организационных санитарно-противоэпидемических мероприятий по предупреждению завоза и распространения новой коронавирусной инфекции в Тюменской области. Создан оперативный штаб по недопущению завоза и распространения инфекции под председательством вице-губернатора. Ситуация находится под строгим контролем управления, уточняет ведомство. Власти Китая 31 декабря сообщили Всемирной организации здравоохранения о вспышке неизвестной пневмонии в городе Ухане, расположенном в центральной части страны. Специалисты установили возбудителя болезни – это коронавирус 2019-nCoV. Жертвами нового коронавируса в Китае стали уже 213 человек, заражены около 9,7 тысячи. ',\n",
              " 'СИМФЕРОПОЛЬ, 31 янв - РИА Новости. Глава комитета крымского парламента по вопросам народной дипломатии и межнациональным отношениям Юрий Гемпель заявил, что президент Украины Владимир Зеленский, рассчитывая привлечь США к вопросу так называемого возвращения Крыма, покушается на территориальную целостность России. Ранее Зеленский во время совместного брифинга с госсекретарем США Майком Помпео выразил надежду, что США будут более активно привлечены к процессам урегулирования на востоке Украины и \"деоккупации Крыма\" благодаря назначению по этим вопросам отдельного должностного лица из госдепа. \"Вызывает недоумение поведение стран и их лидеров, которые не признают российский статус Крым. Заявление президента Украины можно рассматривать как покушение на территориальную цельность России. Подобная позиция будет вести к дальнейшему обострению и конфронтации\", - сказал РИА Новости Гемпель. По его словам, украинским властям пора оставить претензии на Крым, который никогда ни по праву, ни по духу им не принадлежал и был чуждой территорией, случайно оказавшейся в составе Украины. Крым стал российским регионом после проведенного там в марте 2014 года референдума, на котором подавляющее большинство избирателей Республики Крым и Севастополя высказались за вхождение в состав России. Крымские власти провели референдум после госпереворота на Украине в феврале 2014 года. Украина по-прежнему считает Крым своей, но временно оккупированной территорией. Руководство России неоднократно заявляло, что жители Крыма демократическим путем, в полном соответствии с международным правом и Уставом ООН проголосовали за воссоединение с Россией. По словам президента РФ, вопрос Крыма \"закрыт окончательно\". ',\n",
              " 'МОСКВА, 31 янв — РИА Новости. Российские политики назвали требования Варшавы о выплате репараций абсурдными. Ранее замминистра иностранных дел Польши Павел Яблонский в интервью Radio Zet заявил о \"безоговорочном\" праве страны на российские выплаты за ущерб, нанесенный во время Второй мировой войны.  Официальный представитель МИД Мария Захарова, комментируя высказывания Яблонского, призвала польского дипломата \"перестать шаромыжничать\". \"Надеюсь, польские СМИ смогут правильно передать значение этого глагола, а также расскажут своему дипломату об этимологии слова\", — написала она в фейсбуке. Депутат Дмитрий Новиков увидел в требованиях Варшавы политическую подоплеку. \"Характер абсурда в заявлениях польских политиков очень быстро нарастает, и становится очевидным еще и еще раз, что все споры, которые на первый взгляд носят сугубо исторический характер, являются дискуссией о прошлом, на самом деле имеют прямой выход на сегодняшний день или даже на завтрашний день\", — сказал парламентарий. Также политик счел подобные заявления циничными. \"Если мы посмотрим, какое количество советских солдат погибло при освобождении Польши от фашистских захватчиков, станет ясно, <…> кто на самом деле и от кого выплат имеет права требовать, но не делает этого, исходя из уважения к элементарным фактам прошлого и памяти героев\", — заключил он. Аналогичного мнения придерживается депутат Дмитрий Белик, назвавший требование Яблонского невежеством. \"Осознанное нежелание признавать очевидные исторические факты — сегодня это тренд политиков антироссийского фронта. История становится заложником нечистоплотных политиков, этой тенденции необходимо противостоять на всех уровнях\", — заявил он в комментарии RT. Парламентарий подчеркнул, что власти Польши продолжают врать о Второй мировой войне, несмотря на тот факт, что именно СССР разбил гитлеровскую Германию. На прошлой неделе лидер правящей партии Польши \"Право и справедливость\" (PiS) Ярослав Качиньский также заявил, что Россия, как и Германия, обязана заплатить ей компенсацию за ущерб во Второй мировой войне. В ответ посол России в Польше Сергей Андреев напомнил, что Варшава находится в неоплатном долгу перед Москвой. ',\n",
              " 'ВАШИНГТОН, 31 янв — РИА Новости. Неизвестные на внедорожнике попытались прорваться в резиденцию президента Дональда Трампа во Флориде, сообщил телеканал CNN со ссылкой на полицию. Автомобиль прорвался через оба контрольно-пропускных пункта и направлялся к главному входу. Охране пришлось открыть огонь. После этого нарушители попытались скрыться, однако их удалось задержать. По словам представителя полиции города Вест Палм Бич, никто не пострадал. Он отметил, что в машине находились две женщины. Как сообщил телеканал, Трамп планировал прибыть в резиденцию сегодня вечером. ',\n",
              " 'МОСКВА, 31 янв - РИА Новости. Землетрясение магнитудой 5,3 произошло в Японии, сообщает Геологическая служба США (USGS). Землетрясение было зафиксировано в 17.07 по времени UTC (20.07 мск). Эпицентр располагался в шести километрах к западу от города Усику. Очаг залегал на глубине 69,7 километра. Информация о возможных жертвах и разрушениях не поступала, угроза цунами не объявлялась. ',\n",
              " 'МОСКВА, 31 янв - РИА Новости. Вакцина от коронавируса появится в течение нескольких месяцев после выявления штамма, считает член комитета Госдумы по охране здоровья Александр Петров. \"Бывает десятилетия (уходят на создание вакцины – ред.). В принципе, вакцин от вирусов РНК-группы у нас достаточно, я думаю, что небольшая модификация вакцины позволит ее создать в самые короткие сроки – несколько месяцев\", - сказал Петров РИА Новости. Петров подчеркнул, что вывести вакцину за несколько дней невозможно, так как необходимо проводить доклинические исследования. Что касается выделения штамма, Петров отметил, что в среднем штамм выделяется до 14 дней, уточнив при этом, что сам не является вирусологом, но долгое время занимался противовирусными лекарствами, что дает ему основания говорить на данную тему. \"Если работают (над выделением штамма – ред.), то точно не в Москве\", - сообщил Петров. По его словам, есть вирусологический центр, который отвечает за эти вопросы. Депутат высказал предположение, что заболевшие находятся в инфекционных отделениях специализированных клиник, отделения оборудованы отдельными боксами. \"Они рассчитаны на чрезвычайные ситуации, поэтому тут опасаться нечего\", - заверил Петров. Ранее в России выявили два случая заражения коронавирусом, сообщила вице-премьер Татьяна Голикова. Оба заболевших — граждане Китая, первый — в Забайкальском крае, второй — в Тюменской области. Их состояние стабильное, без клинических проявлений и температуры, уточнила глава Роспотребнадзора Анна Попова. Всемирная организация здравоохранения признала вспышку нового коронавируса чрезвычайной ситуацией международного значения. Жертвами коронавируса в Китае стали уже 213 человек, заражены около 9,7 тысячи человек. Еще около 100 человек заболели вне Китая. Два первых случая коронавируса выявлены в РФ, в Забайкальском крае и Тюменской области, оба граждане Китая. РФ ранее ограничила пассажирские ж/д перевозки с Китаем и сохранила грузовые. ',\n",
              " 'МОСКВА, 31 янв - РИА Недвижимость. При демонтаже крыши спортивно-концертного комплекса (СКК) \"Петербургский\" в Петербурге произошло обрушение 80% стен и кровли, погиб один рабочий. Спасатели обнаружили под завалами погибшего 1990 года  рождения. По данным МЧС, площадь обрушения составила около 25-28 тысяч квадратных метров. Идея строительства на месте СКК появилась еще в 30-е годы прошлого века. Изначально здесь планировалось возвести сталинскую высотку, но проект был отложен из-за начала Великой Отечественной войны, а затем и вовсе позабыт после смерти Сталина. В начале 60-х годов появилась идея построить в городе крупный спортивный комплекс, так как потребность в нем в Ленинграде была очень высока. К этому времени все крытые манежи в городе находились в неудовлетворительном состоянии. Строительство началось в 1970-м году на нынешнем проспекте Юрия Гагарина (ранее Нарымский проспект). Спортивный комплекс планировалось построить к Олимпиаде-80 в Москве. Авторство проекта принадлежало команде архитекторов во главе с Барановым и Чайко. Спорткомплекс был открыт в мае 1980 года. В 1981 году перед входом в здание были установлены скульптуры авторства Рыбалко, Горлиевского и Баграмяна. Здание общей площадью 50 тысяч квадратных метров представляет собой постройку в стиле неоконструктивизма. Вместимость зала во время проведения концертов – 25 тысяч зрителей. Объект получил имя Владимира Ленина. По тем временам он был крупнейшим спортивным сооружением Ленинграда. В нем проводились соревнования самого высокого уровня, а также концертно-развлекательные мероприятия. Так, в год там проходило более 100 спортивных мероприятий и более 200 концертов. В 1995 году спортивно-концертный комплекс был переименован в СКК \"Петербургский, в котором в 90-е годы стало проводиться меньше спортивных мероприятий, но уже гораздо больше концертных. В фойе же на втором уровне начали на постоянной основе проходить ярмарки. К концу 2000-х годов в комплексе уже практически не проводились спортивные соревнования, исключение составлял теннисный открытый чемпионат Санкт-Петербурга и Кубок Содружества.  Объект стал убыточным, кроме того, он нуждался в масштабной реконструкции из-за сильного износа конструкций. В 2000-х и 2010-х годах у комплекса появились серьезные конкуренты: были построены Ледовый дворец и \"Сибур Арена\". В 2014 году спорткомплекс был включен в план приватизации, но в дальнейшем передан из федеральной собственности в региональную. С 2017 года начались разговоры о капитальной реконструкции спортивно-концертного комплекса, либо о сносе здания и строительстве на его месте нового объекта. Последним крупным мероприятием, прошедшим в нем, стал состоявшийся в 2018 году концерт американской певицы Дженифер Лопес.  Некоторое время была идея передать комплекс в долгосрочную аренду хоккейному клубу СКА для того, чтобы тот перестроил его в ледовую арену с вместимостью более 200 тысяч человек. В мае 2018 года в рамках Петербургского международного экономического форума власти Санкт-Петербурга и председатель совета директоров, президент СКА Геннадий Тимченко подписали соглашение о реконструкции СКК. В ноябре того же года депутат законодательного собрания Петербурга Борис Вишневский обратился к властям Петербурга с просьбой не допустить сноса комплекса под видом его реконструкции. Месяцем позже на заседании градостроительного совета при правительстве Петербурга, где обсуждался уточненный эскизный проект спорткомплекса, более половины голосов было отдано за возможность реконструкции СКК при изменении его внешнего облика. В итоге в январе 2020 года правительство города заключило концессионное соглашение с ООО \"СКА-Арена\" на реконструкцию и эксплуатации многофункционального спортивно-концертного комплекса с ледовой ареной \"Петербургский\". Согласно базе \"Картотека.ру\", ООО \"СКА Арена\" принадлежит на 100% АО \"Спортивные технологии и инвестиции\", владельцем которого в свою очередь является Игорь Забиран. Обновить площадку должны были к маю 2023 года, для чемпионата мира по хоккею. Проект предполагает строительство ледовой арены вместимостью не менее 20 тысяч зрителей и тематического спортивного парка на прилегающей территории. ',\n",
              " 'ВОЛГОГРАД, 31 янв – РИА Новости. Три человека, вернувшиеся из Китая, госпитализированы в Калмыкии с признаками ОРВИ, у них взяты анализы на коронавирусную инфекцию, сообщает в пятницу министерство здравоохранения республики. По информации ведомства, из Китая в Калмыкию вернулись 12 туристов, все они находятся под медицинским наблюдением. \"Трое из них - двое мужчин и женщина - в настоящее время госпитализированы с клиническими проявлениями ОРВИ. Согласно четко отработанному алгоритму изоляции больных с подозрением на коронавирусную инфекцию, они были помещены в инфекционный стационар\", - сообщается на сайте минздрава. Отмечается, что анализы троих жителей региона направлены в лабораторию в Ставропольский край. Власти Китая 31 декабря проинформировали Всемирную организацию здравоохранения (ВОЗ) о вспышке неизвестной пневмонии в городе Ухане, расположенном в центральной части страны. Специалисты установили возбудителя болезни - это коронавирус 2019-nCoV. Жертвами нового коронавируса в Китае стали уже 213 человек, заражены около 9,7 тысячи. Еще около 100 человек почти в 20 странах заболели вне Китая. ВОЗ признала вспышку чрезвычайной ситуацией международного значения. Два первых случая коронавируса выявлены в РФ, в Забайкальском крае и Тюменской области, оба заболевших - граждане Китая. ',\n",
              " 'МОСКВА, 31 янв - РИА Новости. Экс-вратарь \"Зенита\" Вячеслав Малафеев больше не работает в спортивном департаменте петербургского клуба, сообщает \"Спорт-Экспресс\". Футболист в ноябре 2017 года был назначен на пост заместителя спортивного директора \"Зенита\" по общим вопросам. Малафеев курировал работу второй команды \"Зенита\" и\\xa0молодежной команды, отвечал за продление контрактов с\\xa0футболистами, поиск новых игроков. Вместе с бывшим вратарем департамент покинул его помощник Александр Макаров. ',\n",
              " 'МОСКВА, 31 янв - РИА Новости. Роспотребнадзор из-за распространения нового коронавируса рекомендует россиянам для профилактики надевать маски и избегать посещения многолюдных мест, сообщила пресс-служба ведомства. \"Надевайте маску или используйте другие подручные средства защиты, чтобы уменьшить риск заболевания\",- говорится в сообщении. Все время носить одну и ту же маску нельзя, после использования ее следует сразу же выбросить, уточнили в пресс-службе. Маска должна тщательно закрепляться, плотно закрывать рот и нос, не оставляя зазоров, влажную маску следует менять на сухую, подчеркнули в Роспотребнадзоре. При кашле, чихании следует прикрывать рот и нос одноразовыми салфетками, которые сразу после использования нужно выбрасывать, уточнили в пресс-службе. \"Избегая излишние поездки и посещения многолюдных мест, можно уменьшить риск заболевания\",- подчеркнули в ведомстве. Всемирная организация здравоохранения признала вспышку нового коронавируса чрезвычайной ситуацией международного значения. Жертвами коронавируса в Китае стали уже 213 человек, заражены около 9,7 тысячи человек. Еще около 100 человек заболели вне Китая, почти в 20 странах. Два первых случая коронавируса выявлены в России, в Забайкальском крае и Тюменской области, оба заболевших - граждане Китая. ']"
            ]
          },
          "metadata": {
            "tags": []
          },
          "execution_count": 85
        }
      ]
    },
    {
      "cell_type": "code",
      "metadata": {
        "colab": {
          "base_uri": "https://localhost:8080/"
        },
        "id": "i05h6XvsAOTz",
        "outputId": "066dc65a-50fc-4360-9e6a-ec810ed557d2"
      },
      "source": [
        "news[0]"
      ],
      "execution_count": null,
      "outputs": [
        {
          "output_type": "execute_result",
          "data": {
            "text/plain": [
              "{'date': '30 августа 2020',\n",
              " 'headline': 'Правление Джукановича закончилось, заявил один из лидеров оппозиции',\n",
              " 'link': 'https://ria.ru/20200830/dzhukanovich-1576502262.html',\n",
              " 'tags': [],\n",
              " 'text': '',\n",
              " 'time': '23:00',\n",
              " 'views': 4870}"
            ]
          },
          "metadata": {
            "tags": []
          },
          "execution_count": 251
        }
      ]
    },
    {
      "cell_type": "code",
      "metadata": {
        "id": "3I4wH0xpOq2t"
      },
      "source": [
        ""
      ],
      "execution_count": null,
      "outputs": []
    },
    {
      "cell_type": "code",
      "metadata": {
        "colab": {
          "base_uri": "https://localhost:8080/"
        },
        "id": "7ekflJkh_D1T",
        "outputId": "9ee9411c-5b95-40f2-f96e-abeb79e6059a"
      },
      "source": [
        "news[0]"
      ],
      "execution_count": null,
      "outputs": [
        {
          "output_type": "execute_result",
          "data": {
            "text/plain": [
              "{'date': '30 августа 2020',\n",
              " 'headline': 'В Москве избили блогера Егора Жукова',\n",
              " 'link': 'https://ria.ru/20200830/zhukov-1576502042.html',\n",
              " 'tags': [],\n",
              " 'text': '',\n",
              " 'time': '22:44',\n",
              " 'views': 62306}"
            ]
          },
          "metadata": {
            "tags": []
          },
          "execution_count": 225
        }
      ]
    },
    {
      "cell_type": "markdown",
      "metadata": {
        "id": "4xrfcM4pOq2x"
      },
      "source": [
        "**Тесты**"
      ]
    },
    {
      "cell_type": "code",
      "metadata": {
        "id": "1lj4lzNuOq2x",
        "outputId": "7898b987-932d-4949-91b2-beefe0134016"
      },
      "source": [
        "def take_sport_news(url_one):\n",
        "    bs = BeautifulSoup(requests.get(url_one).text, 'html.parser')\n",
        "    tags = [tag.text for tag in bs.find_all('a', class_ = 'article__tags-item')] \n",
        "    \n",
        "    texts = bs.find_all('div', class_ = 'article__block')\n",
        "    main_text = ''\n",
        "    for _ in texts:\n",
        "        t = _.find('div',class_ =\"article__quote\")\n",
        "        if not t is None:\n",
        "            main_text += t.text\n",
        "\n",
        "        t = _.find('div',class_ =\"article__text\")\n",
        "        if not t is None:\n",
        "            main_text += t.text\n",
        "\n",
        "    return tags, main_text\n",
        "\n",
        "take_ria_news(news_sport['link'])"
      ],
      "execution_count": null,
      "outputs": [
        {
          "output_type": "execute_result",
          "data": {
            "text/plain": [
              "(['Локомотив (Москва)', 'Юрий Семин', 'Футбол'],\n",
              " 'МОСКВА, 31 дек - РИА Новости. Бывший главный тренер московского \"Локомотива\" Юрий Семин выразил надежду, что для болельщиков футбольного клуба сложное время осталось в уходящем году.В декабре генеральный директор \"Локомотива\" Василий Кикнадзе и глава совета директоров столичного клуба Анатолий Мещеряков покинули свои посты. Их заменили Владимир Леонченко и Александр Плутник соответственно.\"Конечно, особые пожелания болельщикам \"Локомотива\". Очень надеюсь, что для вас сложное время осталось в 2020 году. Дай бог вам много побед и положительных эмоций\", - написал Семин на своей странице в Instagram.В мае совет директоров \"Локомотива\" решил не продлевать контракт с Семиным, который возглавлял команду с 2016 года. Новым главным тренером железнодорожников стал сербский специалист Марко Николич. \"Локомотив\" после 19 туров занимает восьмое место в чемпионате России, на 13 очков отставая от лидирующего санкт-петербургского \"Зенита\".')"
            ]
          },
          "metadata": {
            "tags": []
          },
          "execution_count": 51
        }
      ]
    },
    {
      "cell_type": "code",
      "metadata": {
        "id": "3r3po8dsOq2z"
      },
      "source": [
        "url_one = news_sport['link']\n",
        "bs = BeautifulSoup(requests.get(url_one).text, 'html.parser')"
      ],
      "execution_count": null,
      "outputs": []
    },
    {
      "cell_type": "code",
      "metadata": {
        "id": "ziokQ9LjOq20",
        "outputId": "4fa9fc46-5f37-4a10-c4fe-d76f7d09c7b1"
      },
      "source": [
        "news_sport['link'].find('https://rsport.ria.ru')"
      ],
      "execution_count": null,
      "outputs": [
        {
          "output_type": "execute_result",
          "data": {
            "text/plain": [
              "0"
            ]
          },
          "metadata": {
            "tags": []
          },
          "execution_count": 46
        }
      ]
    },
    {
      "cell_type": "code",
      "metadata": {
        "id": "sRQVHWcEOq21",
        "outputId": "19ea19a7-9d66-460c-fcba-c119d8cc4e56"
      },
      "source": [
        "news_sport"
      ],
      "execution_count": null,
      "outputs": [
        {
          "output_type": "execute_result",
          "data": {
            "text/plain": [
              "{'date': '31 декабря 2020',\n",
              " 'time': '21:41',\n",
              " 'views': 409,\n",
              " 'headline': 'Семин надеется, что сложное время для фанатов \"Локо\" осталось в 2020 году',\n",
              " 'link': 'https://rsport.ria.ru/20201231/semin-1591737868.html',\n",
              " 'tags': [],\n",
              " 'text': ''}"
            ]
          },
          "metadata": {
            "tags": []
          },
          "execution_count": 43
        }
      ]
    },
    {
      "cell_type": "code",
      "metadata": {
        "id": "NlM2OmgxOq22",
        "outputId": "3b6ceee1-5df2-435b-dcb0-e83535f4a157"
      },
      "source": [
        "tags = [tag.text for tag in bs.find_all('a', class_ = 'article__tags-item')] \n",
        "len(tags)"
      ],
      "execution_count": null,
      "outputs": [
        {
          "output_type": "execute_result",
          "data": {
            "text/plain": [
              "3"
            ]
          },
          "metadata": {
            "tags": []
          },
          "execution_count": 47
        }
      ]
    },
    {
      "cell_type": "code",
      "metadata": {
        "id": "RFhevkO3Oq24",
        "outputId": "50d9dfe4-eeb5-48d8-80bb-cfcb68519311"
      },
      "source": [
        "tags"
      ],
      "execution_count": null,
      "outputs": [
        {
          "output_type": "execute_result",
          "data": {
            "text/plain": [
              "['Локомотив (Москва)', 'Юрий Семин', 'Футбол']"
            ]
          },
          "metadata": {
            "tags": []
          },
          "execution_count": 48
        }
      ]
    },
    {
      "cell_type": "code",
      "metadata": {
        "id": "Y-svlxxmOq25",
        "outputId": "0897b04f-b0ad-4c6e-cc1d-4b575cbe405f"
      },
      "source": [
        "texts = bs.find_all('div', class_ = 'article__block')\n",
        "len(texts)"
      ],
      "execution_count": null,
      "outputs": [
        {
          "output_type": "execute_result",
          "data": {
            "text/plain": [
              "6"
            ]
          },
          "metadata": {
            "tags": []
          },
          "execution_count": 49
        }
      ]
    },
    {
      "cell_type": "code",
      "metadata": {
        "id": "TRy7J3eHOq26",
        "outputId": "d2445aa8-b28b-428b-8802-770f7d03cb5a"
      },
      "source": [
        "main_text = ''\n",
        "for _ in texts:\n",
        "    t = _.find('div',class_ =\"article__quote\")\n",
        "    if not t is None:\n",
        "        main_text += t.text\n",
        "        \n",
        "    t = _.find('div',class_ =\"article__text\")\n",
        "    if not t is None:\n",
        "        main_text += t.text\n",
        "        \n",
        "main_text"
      ],
      "execution_count": null,
      "outputs": [
        {
          "output_type": "execute_result",
          "data": {
            "text/plain": [
              "'БАКУ, 31 дек – РИА Новости. Президент Азербайджана Ильхам Алиев заявил в новогоднем обращении, что ЮНЕСКО ложно обвиняет Баку в связи ситуацией с армянскими памятниками в Нагорном Карабахе.Гендиректор ЮНЕСКО по вопросам культуры Эрнесто Оттоне заявил 21 декабря, что организация ожидает ответа от Азербайджана по поводу возможности отправления экспертной миссии организации в Карабах. Он отметил, что к властям Азербайджана неоднократно обращались по этому вопросу, но безуспешно.\"Мы довели до мировой общественности правду о войне, о разрушенных городах, селах, в то время как у нас не было возможности ездить в эти села, города. Ни одна международная организация не посещала их, ЮНЕСКО, которая сегодня пытается предъявлять нам претензии в том, что мы якобы не сможем защитить здесь армянские религиозные памятники. Хотя это ложь. В Азербайджане охраняются памятники всех религий\", - сказал Алиев.\"Хоть раз она побывала на этих землях? Хоть раз побывала в Шушинской мечети? Побывала в разрушенной мечети в Зангилане? Была в Агдамской мечети? Армяне держали там свиней, коров. А сейчас нам предъявляют претензии\", - добавил президент Азербайджана.В конце сентября в Нагорном Карабахе возобновились боевые действия, которые стали продолжением многолетнего конфликта и привели к жертвам среди мирного населения. Стороны предприняли несколько попыток заключить перемирие, но успешным оказалось трехстороннее соглашение, достигнутое в ночь на 10 ноября. При посредничестве Москвы Азербайджан и Армения договорились полностью прекратить огонь и обменяться пленными и телами погибших. Баку также были переданы Кельбаджарский, Лачинский и Агдамский районы. Кроме того, в регионе разместились российские миротворцы.В Азербайджане назвали соглашение капитуляцией Армении. Алиев подчеркивал, что документ максимально выгоден его стране. Премьер Армении Никол Пашинян признался, что решение о мире далось ему тяжело, однако позволило сохранить то, что Карабах бы потерял. После этого в Ереване начались протесты с требованием отставки главы правительства.'"
            ]
          },
          "metadata": {
            "tags": []
          },
          "execution_count": 101
        }
      ]
    },
    {
      "cell_type": "code",
      "metadata": {
        "id": "KvqsrE1pOq27",
        "outputId": "3c07f11f-0b88-47d8-955d-314962820b28"
      },
      "source": [
        "texts[0]"
      ],
      "execution_count": null,
      "outputs": [
        {
          "output_type": "execute_result",
          "data": {
            "text/plain": [
              "<div class=\"article__block\" data-type=\"text\"><div class=\"article__text\"><strong>БАКУ, 31 дек – РИА Новости.</strong> Президент Азербайджана <a data-auto=\"true\" href=\"http://ria.ru/person_Ilkham_Aliev/\" target=\"_blank\">Ильхам Алиев</a> заявил в новогоднем обращении, что <a data-auto=\"true\" href=\"http://ria.ru/organization_JUNESKO/\" target=\"_blank\">ЮНЕСКО</a> ложно обвиняет Баку в связи ситуацией с армянскими памятниками в Нагорном Карабахе.</div></div>"
            ]
          },
          "metadata": {
            "tags": []
          },
          "execution_count": 100
        }
      ]
    },
    {
      "cell_type": "code",
      "metadata": {
        "id": "A-am5DUUOq28",
        "outputId": "ef9f3038-d707-44cf-deaf-79448b1548db"
      },
      "source": [
        "a = texts[3].find('div',class_ =\"article__quote\")\n",
        "a.text"
      ],
      "execution_count": null,
      "outputs": [
        {
          "output_type": "execute_result",
          "data": {
            "text/plain": [
              "'\"Мы довели до мировой общественности правду о войне, о разрушенных городах, селах, в то время как у нас не было возможности ездить в эти села, города. Ни одна международная организация не посещала их, ЮНЕСКО, которая сегодня пытается предъявлять нам претензии в том, что мы якобы не сможем защитить здесь армянские религиозные памятники. Хотя это ложь. В Азербайджане охраняются памятники всех религий\", - сказал Алиев.'"
            ]
          },
          "metadata": {
            "tags": []
          },
          "execution_count": 97
        }
      ]
    },
    {
      "cell_type": "code",
      "metadata": {
        "id": "PT2GMor4Oq29"
      },
      "source": [
        ""
      ],
      "execution_count": null,
      "outputs": []
    },
    {
      "cell_type": "code",
      "metadata": {
        "id": "_YIFuOvoOq2-"
      },
      "source": [
        ""
      ],
      "execution_count": null,
      "outputs": []
    },
    {
      "cell_type": "code",
      "metadata": {
        "id": "u77pPKoaOq2_"
      },
      "source": [
        ""
      ],
      "execution_count": null,
      "outputs": []
    },
    {
      "cell_type": "code",
      "metadata": {
        "id": "Ya4BPsXVOq2_"
      },
      "source": [
        ""
      ],
      "execution_count": null,
      "outputs": []
    },
    {
      "cell_type": "code",
      "metadata": {
        "id": "GPMoLamWOq3A"
      },
      "source": [
        ""
      ],
      "execution_count": null,
      "outputs": []
    },
    {
      "cell_type": "code",
      "metadata": {
        "id": "dXG0nH2sOq3A"
      },
      "source": [
        ""
      ],
      "execution_count": null,
      "outputs": []
    },
    {
      "cell_type": "code",
      "metadata": {
        "id": "wJBhjp73Oq3B"
      },
      "source": [
        "item.find('span').get('data-title')"
      ],
      "execution_count": null,
      "outputs": []
    },
    {
      "cell_type": "code",
      "metadata": {
        "id": "nbjeDpyAOq3H",
        "outputId": "ccc8e134-f967-4b37-e64a-000275a95181"
      },
      "source": [
        "item.find('span',class_=\"share\").get('data-title')"
      ],
      "execution_count": null,
      "outputs": [
        {
          "output_type": "execute_result",
          "data": {
            "text/plain": [
              "'Упала на плечо Тутберидзе: Щербакова лидирует после короткой программы '"
            ]
          },
          "metadata": {
            "tags": []
          },
          "execution_count": 13
        }
      ]
    },
    {
      "cell_type": "code",
      "metadata": {
        "id": "PnPPXhasOq3I",
        "outputId": "d5fc375c-1483-41b6-df67-45779b18fe6c"
      },
      "source": [
        "item.find('div', class_=\"list-item__date\").text"
      ],
      "execution_count": null,
      "outputs": [
        {
          "output_type": "execute_result",
          "data": {
            "text/plain": [
              "'25 декабря, 23:50'"
            ]
          },
          "metadata": {
            "tags": []
          },
          "execution_count": 21
        }
      ]
    },
    {
      "cell_type": "code",
      "metadata": {
        "id": "LOCuWp_aOq3K",
        "outputId": "2609ee69-2265-40ac-a818-c8c89e8b18cd"
      },
      "source": [
        "item.find('div', class_='list-item__views-text').text"
      ],
      "execution_count": null,
      "outputs": [
        {
          "output_type": "execute_result",
          "data": {
            "text/plain": [
              "'15988'"
            ]
          },
          "metadata": {
            "tags": []
          },
          "execution_count": 25
        }
      ]
    },
    {
      "cell_type": "markdown",
      "metadata": {
        "id": "9vEE8HJrOq3L"
      },
      "source": [
        "**конец тестам**"
      ]
    },
    {
      "cell_type": "markdown",
      "metadata": {
        "id": "GlTuWlJOOq3L"
      },
      "source": [
        "# Графики просмотров - views"
      ]
    },
    {
      "cell_type": "code",
      "metadata": {
        "colab": {
          "base_uri": "https://localhost:8080/"
        },
        "id": "EvSAlN_jOq3M",
        "outputId": "62d6680c-242d-4289-c806-e24e0c583367"
      },
      "source": [
        "views = np.array([])\n",
        "for n in news:\n",
        "    views = np.append(views,n['views'])\n",
        "views = views.astype(int)\n",
        "views[:10]"
      ],
      "execution_count": null,
      "outputs": [
        {
          "output_type": "execute_result",
          "data": {
            "text/plain": [
              "array([ 16245,  15929,  55210,  16355, 285768,  43822,  16526,  13995,\n",
              "        10003,  43116])"
            ]
          },
          "metadata": {
            "tags": []
          },
          "execution_count": 37
        }
      ]
    },
    {
      "cell_type": "code",
      "metadata": {
        "colab": {
          "base_uri": "https://localhost:8080/"
        },
        "id": "X8A2aiKFOq3O",
        "outputId": "d24e34ea-45f1-4ff1-a3d3-4614d6e99197"
      },
      "source": [
        "views.sort()\n",
        "views[-100:]"
      ],
      "execution_count": null,
      "outputs": [
        {
          "output_type": "execute_result",
          "data": {
            "text/plain": [
              "array([ 395547,  404601,  405084,  406745,  413018,  413501,  414089,\n",
              "        414728,  419381,  419744,  420034,  420399,  422445,  431220,\n",
              "        431420,  431737,  435331,  437170,  445700,  449650,  449968,\n",
              "        450315,  454142,  459350,  462405,  463800,  471581,  472916,\n",
              "        473567,  476710,  484385,  488490,  492820,  496354,  498120,\n",
              "        500107,  507206,  508269,  509731,  526336,  526392,  528996,\n",
              "        530300,  537679,  540233,  542611,  543071,  544825,  555778,\n",
              "        562478,  577044,  579691,  581330,  583840,  599521,  606509,\n",
              "        610880,  615389,  628000,  644936,  657877,  658076,  658372,\n",
              "        658395,  675735,  687723,  695289,  706485,  717585,  732812,\n",
              "        736559,  752911,  754050,  791119,  796262,  801801,  816570,\n",
              "        827783,  852171,  863976,  894137,  898218,  904152,  918090,\n",
              "        940725,  942387,  947538,  951578,  971487,  975277, 1014105,\n",
              "       1109572, 1137120, 1180373, 1269338, 1534793, 1561369, 1698516,\n",
              "       1718847, 1773868])"
            ]
          },
          "metadata": {
            "tags": []
          },
          "execution_count": 38
        }
      ]
    },
    {
      "cell_type": "code",
      "metadata": {
        "colab": {
          "base_uri": "https://localhost:8080/"
        },
        "id": "jJjP2asGOq3P",
        "outputId": "06aade29-257d-483c-8d47-eadbbf858727"
      },
      "source": [
        "len(views[views>1100000])"
      ],
      "execution_count": null,
      "outputs": [
        {
          "output_type": "execute_result",
          "data": {
            "text/plain": [
              "9"
            ]
          },
          "metadata": {
            "tags": []
          },
          "execution_count": 39
        }
      ]
    },
    {
      "cell_type": "code",
      "metadata": {
        "colab": {
          "base_uri": "https://localhost:8080/",
          "height": 275
        },
        "id": "BK6gBICbOq3Q",
        "outputId": "f014fbf3-9e75-4e5a-be56-ae6be408e3f7"
      },
      "source": [
        "plt.plot(views)\n",
        "plt.show()"
      ],
      "execution_count": null,
      "outputs": [
        {
          "output_type": "display_data",
          "data": {
            "image/png": "[encoded data removed]",
            "text/plain": [
              "<Figure size 432x288 with 1 Axes>"
            ]
          },
          "metadata": {
            "tags": [],
            "needs_background": "light"
          }
        }
      ]
    },
    {
      "cell_type": "code",
      "metadata": {
        "colab": {
          "base_uri": "https://localhost:8080/"
        },
        "id": "CCdeJNcmOq3R",
        "outputId": "82c90e47-6572-4a97-961e-277c6a458ec7"
      },
      "source": [
        "num_views_hist = 100\n",
        "views_hist = np.histogram(views, bins = np.linspace(views.min(),views.max(), num_views_hist))\n",
        "views_hist = views_hist[0].astype(np.int64)\n",
        "views_hist"
      ],
      "execution_count": null,
      "outputs": [
        {
          "output_type": "execute_result",
          "data": {
            "text/plain": [
              "array([1805,  625,  355,  240,  168,  134,   93,   90,   59,   40,   40,\n",
              "         38,   34,   30,   18,   21,   14,   17,   14,    5,   13,    8,\n",
              "          6,    6,    3,    7,    6,    4,    4,    5,    2,    7,    7,\n",
              "          5,    3,    8,    3,    5,    6,    4,    2,    3,    4,    4,\n",
              "          1,    1,    1,    4,    2,    1,    2,    0,    1,    2,    3,\n",
              "          0,    0,    1,    1,    2,    0,    2,    1,    0,    0,    0,\n",
              "          0,    0,    0,    0,    1,    0,    0,    0,    0,    0,    1,\n",
              "          0,    0,    0,    0,    0,    0,    0,    0,    0,    1,    0,\n",
              "          0,    0,    0,    0,    0,    0,    0,    0,    0,    0,    2])"
            ]
          },
          "metadata": {
            "tags": []
          },
          "execution_count": 34
        }
      ]
    },
    {
      "cell_type": "code",
      "metadata": {
        "colab": {
          "base_uri": "https://localhost:8080/",
          "height": 277
        },
        "id": "ddCmmVWZOq3U",
        "outputId": "8da0326a-fb10-4e50-c982-95db05d32de2"
      },
      "source": [
        "plt.hist(views, bins = num_views_hist)#np.linspace(0,len(views), 7)\n",
        "plt.show()"
      ],
      "execution_count": null,
      "outputs": [
        {
          "output_type": "display_data",
          "data": {
            "image/png": "[encoded data removed]",
            "text/plain": [
              "<Figure size 432x288 with 1 Axes>"
            ]
          },
          "metadata": {
            "tags": [],
            "needs_background": "light"
          }
        }
      ]
    },
    {
      "cell_type": "markdown",
      "metadata": {
        "id": "Z2vTvShuOq3W"
      },
      "source": [
        "# Создание датасета"
      ]
    },
    {
      "cell_type": "code",
      "metadata": {
        "colab": {
          "base_uri": "https://localhost:8080/"
        },
        "id": "EuK_EUFH80ZI",
        "outputId": "4f1ce43b-1af6-4fc4-f740-268f9e028163"
      },
      "source": [
        "from google.colab import drive\n",
        "drive.mount('/content/drive')\n",
        "\n",
        "md = '/content/drive/My Drive/Colab Notebooks/Diplom/'"
      ],
      "execution_count": null,
      "outputs": [
        {
          "output_type": "stream",
          "text": [
            "Mounted at /content/drive\n"
          ],
          "name": "stdout"
        }
      ]
    },
    {
      "cell_type": "code",
      "metadata": {
        "id": "T_JyOt9xOq3Z"
      },
      "source": [
        "# counter = 0\n",
        "# for i in news:\n",
        "#     if i['link'].find('sport.ria.ru')!=-1:\n",
        "#         counter+=1\n",
        "# counter"
      ],
      "execution_count": null,
      "outputs": []
    },
    {
      "cell_type": "code",
      "metadata": {
        "colab": {
          "base_uri": "https://localhost:8080/",
          "height": 364
        },
        "id": "3El7lrCAOq3b",
        "outputId": "0f08cfa4-a830-46f5-962d-8d1c400113b9"
      },
      "source": [
        "data = pd.DataFrame(news)\n",
        "data.head()"
      ],
      "execution_count": null,
      "outputs": [
        {
          "output_type": "execute_result",
          "data": {
            "text/html": [
              "<div>\n",
              "<style scoped>\n",
              "    .dataframe tbody tr th:only-of-type {\n",
              "        vertical-align: middle;\n",
              "    }\n",
              "\n",
              "    .dataframe tbody tr th {\n",
              "        vertical-align: top;\n",
              "    }\n",
              "\n",
              "    .dataframe thead th {\n",
              "        text-align: right;\n",
              "    }\n",
              "</style>\n",
              "<table border=\"1\" class=\"dataframe\">\n",
              "  <thead>\n",
              "    <tr style=\"text-align: right;\">\n",
              "      <th></th>\n",
              "      <th>date</th>\n",
              "      <th>time</th>\n",
              "      <th>views</th>\n",
              "      <th>headline</th>\n",
              "      <th>link</th>\n",
              "      <th>tags</th>\n",
              "      <th>text</th>\n",
              "    </tr>\n",
              "  </thead>\n",
              "  <tbody>\n",
              "    <tr>\n",
              "      <th>0</th>\n",
              "      <td>31 августа 2020</td>\n",
              "      <td>23:14</td>\n",
              "      <td>14849</td>\n",
              "      <td>Удары по пригороду Дамаска нанесли ВВС Израиля...</td>\n",
              "      <td>https://ria.ru/20200831/siriya-1576553484.html</td>\n",
              "      <td>[Война в Сирии, Война в Сирии, ВВС Израиля, Да...</td>\n",
              "      <td>БЕЙРУТ, 31 авг - РИА Новости. Сирийское госуда...</td>\n",
              "    </tr>\n",
              "    <tr>\n",
              "      <th>1</th>\n",
              "      <td>31 августа 2020</td>\n",
              "      <td>23:19</td>\n",
              "      <td>17760</td>\n",
              "      <td>Huawei предсказали смерть на рынке смартфонов</td>\n",
              "      <td>https://ria.ru/20200831/huawei-1576553572.html</td>\n",
              "      <td>[Xiaomi Inc, Huawei Technologies, Apple, Китай...</td>\n",
              "      <td>МОСКВА, 31 авг — РИА Новости. Корпорация Huawe...</td>\n",
              "    </tr>\n",
              "    <tr>\n",
              "      <th>2</th>\n",
              "      <td>31 августа 2020</td>\n",
              "      <td>23:12</td>\n",
              "      <td>33024</td>\n",
              "      <td>Потерпевшие хотят наказать \"опознавших\" Ефремо...</td>\n",
              "      <td>https://ria.ru/20200831/svideteli-1576553446.html</td>\n",
              "      <td>[Эльман Пашаев, ДТП с участием Михаила Ефремов...</td>\n",
              "      <td>МОСКВА, 31 авг — РИА Новости. Адвокаты потерпе...</td>\n",
              "    </tr>\n",
              "    <tr>\n",
              "      <th>3</th>\n",
              "      <td>31 августа 2020</td>\n",
              "      <td>21:06</td>\n",
              "      <td>21322</td>\n",
              "      <td>Попова оценила возможность второй волны корона...</td>\n",
              "      <td>https://ria.ru/20200831/covid-19-1576551388.html</td>\n",
              "      <td>[Распространение коронавируса, Коронавирус в Р...</td>\n",
              "      <td>МОСКВА, 31 авг – РИА Новости. Глава Роспотребн...</td>\n",
              "    </tr>\n",
              "    <tr>\n",
              "      <th>4</th>\n",
              "      <td>31 августа 2020</td>\n",
              "      <td>19:55</td>\n",
              "      <td>10974</td>\n",
              "      <td>ВОЗ поддержала открытие международных границ</td>\n",
              "      <td>https://ria.ru/20200831/voz-1576549179.html</td>\n",
              "      <td>[Распространение коронавируса, Коронавирус в Р...</td>\n",
              "      <td>ЖЕНЕВА, 31 авг – РИА Новости, Елизавета Исаков...</td>\n",
              "    </tr>\n",
              "  </tbody>\n",
              "</table>\n",
              "</div>"
            ],
            "text/plain": [
              "              date  ...                                               text\n",
              "0  31 августа 2020  ...  БЕЙРУТ, 31 авг - РИА Новости. Сирийское госуда...\n",
              "1  31 августа 2020  ...  МОСКВА, 31 авг — РИА Новости. Корпорация Huawe...\n",
              "2  31 августа 2020  ...  МОСКВА, 31 авг — РИА Новости. Адвокаты потерпе...\n",
              "3  31 августа 2020  ...  МОСКВА, 31 авг – РИА Новости. Глава Роспотребн...\n",
              "4  31 августа 2020  ...  ЖЕНЕВА, 31 авг – РИА Новости, Елизавета Исаков...\n",
              "\n",
              "[5 rows x 7 columns]"
            ]
          },
          "metadata": {
            "tags": []
          },
          "execution_count": 9
        }
      ]
    },
    {
      "cell_type": "code",
      "metadata": {
        "colab": {
          "base_uri": "https://localhost:8080/"
        },
        "id": "R2t4CeGMOq3c",
        "outputId": "b69c0ce7-127c-4d00-910f-f0aa106bea13"
      },
      "source": [
        "len(data)"
      ],
      "execution_count": null,
      "outputs": [
        {
          "output_type": "execute_result",
          "data": {
            "text/plain": [
              "119"
            ]
          },
          "metadata": {
            "tags": []
          },
          "execution_count": 10
        }
      ]
    },
    {
      "cell_type": "code",
      "metadata": {
        "colab": {
          "base_uri": "https://localhost:8080/",
          "height": 740
        },
        "id": "DE92jveorDhe",
        "outputId": "147c8b7b-f88f-428e-8b0f-a1d09233d9f1"
      },
      "source": [
        " data_1 = pd.read_pickle(md+'data/news_08_2020')\n",
        " data_1"
      ],
      "execution_count": null,
      "outputs": [
        {
          "output_type": "execute_result",
          "data": {
            "text/html": [
              "<div>\n",
              "<style scoped>\n",
              "    .dataframe tbody tr th:only-of-type {\n",
              "        vertical-align: middle;\n",
              "    }\n",
              "\n",
              "    .dataframe tbody tr th {\n",
              "        vertical-align: top;\n",
              "    }\n",
              "\n",
              "    .dataframe thead th {\n",
              "        text-align: right;\n",
              "    }\n",
              "</style>\n",
              "<table border=\"1\" class=\"dataframe\">\n",
              "  <thead>\n",
              "    <tr style=\"text-align: right;\">\n",
              "      <th></th>\n",
              "      <th>date</th>\n",
              "      <th>time</th>\n",
              "      <th>views</th>\n",
              "      <th>headline</th>\n",
              "      <th>link</th>\n",
              "      <th>tags</th>\n",
              "      <th>text</th>\n",
              "    </tr>\n",
              "  </thead>\n",
              "  <tbody>\n",
              "    <tr>\n",
              "      <th>0</th>\n",
              "      <td>30 августа 2020</td>\n",
              "      <td>22:50</td>\n",
              "      <td>123030</td>\n",
              "      <td>Пьяный Депардье заявил французским полицейским...</td>\n",
              "      <td>https://ria.ru/20200830/deparde-1576502173.html</td>\n",
              "      <td>[Жерар Депардье, Владимир Путин, Париж, В мире]</td>\n",
              "      <td>МОСКВА, 30 авг — РИА Новости. Полиция Парижа о...</td>\n",
              "    </tr>\n",
              "    <tr>\n",
              "      <th>1</th>\n",
              "      <td>30 августа 2020</td>\n",
              "      <td>22:46</td>\n",
              "      <td>10922</td>\n",
              "      <td>Оппозиция объявила о \"падении режима\" по итога...</td>\n",
              "      <td>https://ria.ru/20200830/krivokapich-1576502143...</td>\n",
              "      <td>[Парламентские выборы в Черногории, Черногория...</td>\n",
              "      <td>ПОДГОРИЦА, 30 авг — РИА Новости. Правление в Ч...</td>\n",
              "    </tr>\n",
              "    <tr>\n",
              "      <th>2</th>\n",
              "      <td>30 августа 2020</td>\n",
              "      <td>22:44</td>\n",
              "      <td>62302</td>\n",
              "      <td>В Москве избили блогера Егора Жукова</td>\n",
              "      <td>https://ria.ru/20200830/zhukov-1576502042.html</td>\n",
              "      <td>[Дело Егора Жукова, Егор Жуков, Федеральная сл...</td>\n",
              "      <td>МОСКВА, 30 авг - РИА Новости. Осужденный за пр...</td>\n",
              "    </tr>\n",
              "    <tr>\n",
              "      <th>3</th>\n",
              "      <td>30 августа 2020</td>\n",
              "      <td>22:31</td>\n",
              "      <td>691515</td>\n",
              "      <td>Уснувшей женщине заползла в рот огромная змея</td>\n",
              "      <td>https://ria.ru/20200830/zmeya-1576501797.html</td>\n",
              "      <td>[Республика Дагестан, Общество - Видео, Происш...</td>\n",
              "      <td>МОСКВА, 30 авг — РИА Новости. В рот к уснувшей...</td>\n",
              "    </tr>\n",
              "    <tr>\n",
              "      <th>4</th>\n",
              "      <td>30 августа 2020</td>\n",
              "      <td>22:24</td>\n",
              "      <td>12404</td>\n",
              "      <td>Экзитпол: на выборах в парламент Черногории ли...</td>\n",
              "      <td>https://ria.ru/20200830/ekzitpol-1576501653.html</td>\n",
              "      <td>[Парламентские выборы в Черногории, Черногория...</td>\n",
              "      <td>ПОДГОРИЦА, 30 авг – РИА Новости. На выборах в ...</td>\n",
              "    </tr>\n",
              "    <tr>\n",
              "      <th>...</th>\n",
              "      <td>...</td>\n",
              "      <td>...</td>\n",
              "      <td>...</td>\n",
              "      <td>...</td>\n",
              "      <td>...</td>\n",
              "      <td>...</td>\n",
              "      <td>...</td>\n",
              "    </tr>\n",
              "    <tr>\n",
              "      <th>3356</th>\n",
              "      <td>1 августа 2020</td>\n",
              "      <td>03:31</td>\n",
              "      <td>10405</td>\n",
              "      <td>Эксперт рассказал, сколько будет стоить новый ...</td>\n",
              "      <td>https://ria.ru/20200801/1575245349.html</td>\n",
              "      <td>[Денис Кусков, Apple iPhone, Технологии, Эконо...</td>\n",
              "      <td>МОСКВА, 1 авг — РИА Новости. В Сети появляется...</td>\n",
              "    </tr>\n",
              "    <tr>\n",
              "      <th>3357</th>\n",
              "      <td>1 августа 2020</td>\n",
              "      <td>02:57</td>\n",
              "      <td>103751</td>\n",
              "      <td>Друг рэпера Энди Картрайта рассказал о странно...</td>\n",
              "      <td>https://ria.ru/20200801/1575245558.html</td>\n",
              "      <td>[Марина Кохал, Гибель украинского рэпера в Пет...</td>\n",
              "      <td>МОСКВА, 1 авг — РИА Новости. Друг погибшего в ...</td>\n",
              "    </tr>\n",
              "    <tr>\n",
              "      <th>3358</th>\n",
              "      <td>1 августа 2020</td>\n",
              "      <td>02:34</td>\n",
              "      <td>99748</td>\n",
              "      <td>Синоптик предупредил москвичей о надвигающейся...</td>\n",
              "      <td>https://ria.ru/20200801/1575245402.html</td>\n",
              "      <td>[Анатолий Цыганков, Россия, Погода, Федеральна...</td>\n",
              "      <td>МОСКВА, 1 авг — РИА Новости. На Москву надвига...</td>\n",
              "    </tr>\n",
              "    <tr>\n",
              "      <th>3359</th>\n",
              "      <td>1 августа 2020</td>\n",
              "      <td>02:03</td>\n",
              "      <td>53196</td>\n",
              "      <td>\"Это недопустимо\": Малышева рассказала, кому н...</td>\n",
              "      <td>https://ria.ru/20200801/1575245190.html</td>\n",
              "      <td>[Распространение коронавируса, Медицинские мас...</td>\n",
              "      <td>МОСКВА, 1 авг — РИА Новости. Детям нельзя носи...</td>\n",
              "    </tr>\n",
              "    <tr>\n",
              "      <th>3360</th>\n",
              "      <td>1 августа 2020</td>\n",
              "      <td>01:42</td>\n",
              "      <td>95539</td>\n",
              "      <td>Соловьев резко ответил на обвинения Польши в г...</td>\n",
              "      <td>https://ria.ru/20200801/1575244994.html</td>\n",
              "      <td>[Евросоюз, Россия, Леонид Слуцкий, Владимир Со...</td>\n",
              "      <td>МОСКВА, 1 авг — РИА Новости. Телеведущий и жур...</td>\n",
              "    </tr>\n",
              "  </tbody>\n",
              "</table>\n",
              "<p>3361 rows × 7 columns</p>\n",
              "</div>"
            ],
            "text/plain": [
              "                 date  ...                                               text\n",
              "0     30 августа 2020  ...  МОСКВА, 30 авг — РИА Новости. Полиция Парижа о...\n",
              "1     30 августа 2020  ...  ПОДГОРИЦА, 30 авг — РИА Новости. Правление в Ч...\n",
              "2     30 августа 2020  ...  МОСКВА, 30 авг - РИА Новости. Осужденный за пр...\n",
              "3     30 августа 2020  ...  МОСКВА, 30 авг — РИА Новости. В рот к уснувшей...\n",
              "4     30 августа 2020  ...  ПОДГОРИЦА, 30 авг – РИА Новости. На выборах в ...\n",
              "...               ...  ...                                                ...\n",
              "3356   1 августа 2020  ...  МОСКВА, 1 авг — РИА Новости. В Сети появляется...\n",
              "3357   1 августа 2020  ...  МОСКВА, 1 авг — РИА Новости. Друг погибшего в ...\n",
              "3358   1 августа 2020  ...  МОСКВА, 1 авг — РИА Новости. На Москву надвига...\n",
              "3359   1 августа 2020  ...  МОСКВА, 1 авг — РИА Новости. Детям нельзя носи...\n",
              "3360   1 августа 2020  ...  МОСКВА, 1 авг — РИА Новости. Телеведущий и жур...\n",
              "\n",
              "[3361 rows x 7 columns]"
            ]
          },
          "metadata": {
            "tags": []
          },
          "execution_count": 11
        }
      ]
    },
    {
      "cell_type": "code",
      "metadata": {
        "id": "LqZjWsEIrRAN"
      },
      "source": [
        "data.index = np.arange(len(data))"
      ],
      "execution_count": null,
      "outputs": []
    },
    {
      "cell_type": "code",
      "metadata": {
        "id": "Ip_9MBHhOq3e"
      },
      "source": [
        "# data.to_csv(md+\"data/news_10_2020.csv\", index = False)\n",
        "data.to_pickle(md+\"data/news_08_2020\")"
      ],
      "execution_count": null,
      "outputs": []
    },
    {
      "cell_type": "code",
      "metadata": {
        "id": "_iNUYtsI8-nY"
      },
      "source": [
        ""
      ],
      "execution_count": null,
      "outputs": []
    },
    {
      "cell_type": "code",
      "metadata": {
        "colab": {
          "base_uri": "https://localhost:8080/",
          "height": 364
        },
        "id": "y6zvinkuOq3e",
        "outputId": "57ce173f-d8c4-4e5a-e659-fda664a50d53"
      },
      "source": [
        "# data = pd.read_csv(\"last_week.csv\")\n",
        "data = pd.read_pickle(md+\"data/january_month\")\n",
        "data.head()"
      ],
      "execution_count": null,
      "outputs": [
        {
          "output_type": "execute_result",
          "data": {
            "text/html": [
              "<div>\n",
              "<style scoped>\n",
              "    .dataframe tbody tr th:only-of-type {\n",
              "        vertical-align: middle;\n",
              "    }\n",
              "\n",
              "    .dataframe tbody tr th {\n",
              "        vertical-align: top;\n",
              "    }\n",
              "\n",
              "    .dataframe thead th {\n",
              "        text-align: right;\n",
              "    }\n",
              "</style>\n",
              "<table border=\"1\" class=\"dataframe\">\n",
              "  <thead>\n",
              "    <tr style=\"text-align: right;\">\n",
              "      <th></th>\n",
              "      <th>date</th>\n",
              "      <th>time</th>\n",
              "      <th>views</th>\n",
              "      <th>headline</th>\n",
              "      <th>link</th>\n",
              "      <th>tags</th>\n",
              "      <th>text</th>\n",
              "    </tr>\n",
              "  </thead>\n",
              "  <tbody>\n",
              "    <tr>\n",
              "      <th>0</th>\n",
              "      <td>31 декабря 2020</td>\n",
              "      <td>23:55</td>\n",
              "      <td>13334</td>\n",
              "      <td>Алиев ответил на обвинения ЮНЕСКО из-за армянс...</td>\n",
              "      <td>https://ria.ru/20201231/pamyatniki-1591740604....</td>\n",
              "      <td>[Ситуация в Нагорном Карабахе, Никол Пашинян, ...</td>\n",
              "      <td>БАКУ, 31 дек – РИА Новости. Президент Азербайд...</td>\n",
              "    </tr>\n",
              "    <tr>\n",
              "      <th>1</th>\n",
              "      <td>31 декабря 2020</td>\n",
              "      <td>23:19</td>\n",
              "      <td>40433</td>\n",
              "      <td>ВОЗ внесла вакцину Pfizer в список для экстрен...</td>\n",
              "      <td>https://ria.ru/20201231/vaktsina-1591739960.html</td>\n",
              "      <td>[Распространение коронавируса, Панамериканская...</td>\n",
              "      <td>МОСКВА, 31 дек - РИА Новости. Всемирная органи...</td>\n",
              "    </tr>\n",
              "    <tr>\n",
              "      <th>2</th>\n",
              "      <td>31 декабря 2020</td>\n",
              "      <td>21:42</td>\n",
              "      <td>42263</td>\n",
              "      <td>В Сургуте Дед Мороз разбился в ДТП</td>\n",
              "      <td>https://ria.ru/20201231/dtp-1591738065.html</td>\n",
              "      <td>[Россия, Снегурочка, Дед Мороз, Сургут, ДТП, П...</td>\n",
              "      <td>МОСКВА, 31 дек — РИА Новости. Мужчина в костюм...</td>\n",
              "    </tr>\n",
              "    <tr>\n",
              "      <th>3</th>\n",
              "      <td>31 декабря 2020</td>\n",
              "      <td>21:16</td>\n",
              "      <td>29885</td>\n",
              "      <td>В Москве задержали или отменили около 105 рейсов</td>\n",
              "      <td>https://ria.ru/20201231/reys-1591737184.html</td>\n",
              "      <td>[Домодедово (аэропорт), Шереметьево (аэропорт)...</td>\n",
              "      <td>МОСКВА, 31 дек — РИА Новости. В московских аэр...</td>\n",
              "    </tr>\n",
              "    <tr>\n",
              "      <th>4</th>\n",
              "      <td>31 декабря 2020</td>\n",
              "      <td>20:07</td>\n",
              "      <td>455876</td>\n",
              "      <td>Депутат Рады надел шапку с красной звездой и о...</td>\n",
              "      <td>https://ria.ru/20201231/shapka-1591735431.html</td>\n",
              "      <td>[Оппозиционная платформа - За жизнь, Ситуация ...</td>\n",
              "      <td>МОСКВА, 31 дек — РИА Новости. Депутат Рады от ...</td>\n",
              "    </tr>\n",
              "  </tbody>\n",
              "</table>\n",
              "</div>"
            ],
            "text/plain": [
              "              date  ...                                               text\n",
              "0  31 декабря 2020  ...  БАКУ, 31 дек – РИА Новости. Президент Азербайд...\n",
              "1  31 декабря 2020  ...  МОСКВА, 31 дек - РИА Новости. Всемирная органи...\n",
              "2  31 декабря 2020  ...  МОСКВА, 31 дек — РИА Новости. Мужчина в костюм...\n",
              "3  31 декабря 2020  ...  МОСКВА, 31 дек — РИА Новости. В московских аэр...\n",
              "4  31 декабря 2020  ...  МОСКВА, 31 дек — РИА Новости. Депутат Рады от ...\n",
              "\n",
              "[5 rows x 7 columns]"
            ]
          },
          "metadata": {
            "tags": []
          },
          "execution_count": 47
        }
      ]
    },
    {
      "cell_type": "code",
      "metadata": {
        "colab": {
          "base_uri": "https://localhost:8080/"
        },
        "id": "hQlSo-2FOq3f",
        "outputId": "1638b10b-5cf4-4e82-8c64-0d5c55f5d574"
      },
      "source": [
        "data.tags[0]"
      ],
      "execution_count": null,
      "outputs": [
        {
          "output_type": "execute_result",
          "data": {
            "text/plain": [
              "['Ситуация в Нагорном Карабахе',\n",
              " 'Никол Пашинян',\n",
              " 'ЮНЕСКО',\n",
              " 'Ильхам Алиев',\n",
              " 'Москва',\n",
              " 'Азербайджан',\n",
              " 'Армения',\n",
              " 'В мире']"
            ]
          },
          "metadata": {
            "tags": []
          },
          "execution_count": 48
        }
      ]
    },
    {
      "cell_type": "code",
      "metadata": {
        "id": "vlWOqQZrOq3g"
      },
      "source": [
        ""
      ],
      "execution_count": null,
      "outputs": []
    },
    {
      "cell_type": "markdown",
      "metadata": {
        "id": "TtN9XERba2ol"
      },
      "source": [
        "# Тесты"
      ]
    },
    {
      "cell_type": "code",
      "metadata": {
        "colab": {
          "base_uri": "https://localhost:8080/"
        },
        "id": "QHJYx-n3a5Wa",
        "outputId": "766ae229-edda-468f-a9df-f700acea8757"
      },
      "source": [
        "import numpy as np\n",
        "n=1000000\n",
        "\n",
        "%timeit\n",
        "\n",
        "a=np.array(range(n))\n",
        "b=np.array(range(0,n*2,2))\n",
        "\n",
        "def sum_c():\n",
        "  c = np.zeros(n)\n",
        "  for i in range(n):\n",
        "      c[i] = a[i] + b[i]\n",
        "  return c\n",
        "sum_c()"
      ],
      "execution_count": null,
      "outputs": [
        {
          "output_type": "execute_result",
          "data": {
            "text/plain": [
              "array([0.000000e+00, 3.000000e+00, 6.000000e+00, ..., 2.999991e+06,\n",
              "       2.999994e+06, 2.999997e+06])"
            ]
          },
          "metadata": {
            "tags": []
          },
          "execution_count": 18
        }
      ]
    },
    {
      "cell_type": "code",
      "metadata": {
        "colab": {
          "base_uri": "https://localhost:8080/"
        },
        "id": "aSk5SZN7bxnw",
        "outputId": "a58ccb3d-96c7-4449-b050-b67b8934a867"
      },
      "source": [
        "!pip install numba"
      ],
      "execution_count": null,
      "outputs": [
        {
          "output_type": "stream",
          "text": [
            "Requirement already satisfied: numba in /usr/local/lib/python3.6/dist-packages (0.51.2)\n",
            "Requirement already satisfied: numpy>=1.15 in /usr/local/lib/python3.6/dist-packages (from numba) (1.19.5)\n",
            "Requirement already satisfied: setuptools in /usr/local/lib/python3.6/dist-packages (from numba) (53.0.0)\n",
            "Requirement already satisfied: llvmlite<0.35,>=0.34.0.dev0 in /usr/local/lib/python3.6/dist-packages (from numba) (0.34.0)\n"
          ],
          "name": "stdout"
        }
      ]
    },
    {
      "cell_type": "code",
      "metadata": {
        "id": "Jl8me2nFe12T"
      },
      "source": [
        "import os\n",
        "os.environ[\"CUDA_VISIBLE_DEVICES\"]=\"0\""
      ],
      "execution_count": null,
      "outputs": []
    },
    {
      "cell_type": "code",
      "metadata": {
        "id": "ZBDob5Z6a6jT"
      },
      "source": [
        "from numba import cuda # Библиотека Nvidia для работы с GPU \n",
        "import numpy as np \n",
        "\n",
        "@cuda.jit('void(float32[:], float32[:], float32[:])') #Динамический компилятор Cuda \n",
        "def cuda_addition(a,b,c):\n",
        "    \"\"\"Поток будет выполнять эту функцию ядра.\"\"\"\n",
        "    i = cuda.blockIdx.x * cuda.blockDim.x + cuda.threadIdx.x # Отображение потока на индекс массива\n",
        "    if i > c.size:\n",
        "        return\n",
        "    c[i] = a[i]+b[i] #Perform the addition\n",
        " \n",
        "# Подробности об устройстве\n",
        "device = cuda.get_current_device()\n",
        "\n",
        "device"
      ],
      "execution_count": null,
      "outputs": []
    },
    {
      "cell_type": "code",
      "metadata": {
        "id": "W34h5fmfa6oM"
      },
      "source": [
        "# Перенос с хоста на устройство\n",
        "d_a = cuda.to_device(a)  # Перенос данных в глобальную память GPU\n",
        "d_b = cuda.to_device(b)  # Перенос данных в глобальную память GPU\n",
        "d_c = cuda.device_array_like(a)\n",
        "\n",
        "tpb = device.WARP_SIZE       #blocksize или количество потоков на блок, стандартное значение = 32\n",
        "bpg = int(np.ceil((n)/tpb))  # блоков на грид\n",
        "\n",
        "cuda_addition[bpg, tpb](d_a, d_b, d_c) # вызов ядра\n",
        "\n",
        "# Перенос вывода с устройства на хост\n",
        "c = d_c.copy_to_host()\n",
        "print(c)"
      ],
      "execution_count": null,
      "outputs": []
    },
    {
      "cell_type": "code",
      "metadata": {
        "id": "K8vBirz_cM7O"
      },
      "source": [
        ""
      ],
      "execution_count": null,
      "outputs": []
    },
    {
      "cell_type": "code",
      "metadata": {
        "colab": {
          "base_uri": "https://localhost:8080/"
        },
        "id": "RicIixjJcNB7",
        "outputId": "71ebd6ca-051f-4e87-e473-e4beb9b027ee"
      },
      "source": [
        "import threading\n",
        "import time\n",
        "\n",
        "flag1=False\n",
        "flag2=False\n",
        "\n",
        "def print_time( threadName, delay):\n",
        "   count = 0\n",
        "   while count < 5:\n",
        "      time.sleep(delay)\n",
        "      count += 1\n",
        "      print (\"%s: %s: %s\" % ( count, threadName, time.ctime(time.time()) ))\n",
        "   \n",
        "\n",
        "not_started_threads = time.time()\n",
        "\n",
        "t1=threading.Thread(target=print_time, args= (\"Thread-1\", 0.1,) )\n",
        "t2=threading.Thread(target= print_time, args=(\"Thread-2\", 0.2,) )\n",
        "\n",
        "t1.start()\n",
        "t2.start()\n",
        "\n",
        "print(t1,t2)\n",
        "\n",
        "\n",
        "t1.join()\n",
        "t2.join()\n",
        "\n",
        "print(time.time() - not_started_threads)"
      ],
      "execution_count": null,
      "outputs": [
        {
          "output_type": "stream",
          "text": [
            "<Thread(Thread-11, started 140177633539840)> <Thread(Thread-12, started 140177616754432)>\n",
            "1: Thread-1: Mon Feb  8 16:43:52 2021\n",
            "1: Thread-2: Mon Feb  8 16:43:52 2021\n",
            "2: Thread-1: Mon Feb  8 16:43:52 2021\n",
            "3: Thread-1: Mon Feb  8 16:43:52 2021\n",
            "2: Thread-2: Mon Feb  8 16:43:52 2021\n",
            "4: Thread-1: Mon Feb  8 16:43:52 2021\n",
            "5: Thread-1: Mon Feb  8 16:43:52 2021\n",
            "3: Thread-2: Mon Feb  8 16:43:52 2021\n",
            "4: Thread-2: Mon Feb  8 16:43:52 2021\n",
            "5: Thread-2: Mon Feb  8 16:43:52 2021\n",
            "1.0066328048706055\n"
          ],
          "name": "stdout"
        }
      ]
    },
    {
      "cell_type": "code",
      "metadata": {
        "colab": {
          "base_uri": "https://localhost:8080/",
          "height": 132
        },
        "id": "_nEL8TPdcNIF",
        "outputId": "897c135f-a056-4c82-ec38-4a63af3fc88b"
      },
      "source": [
        "def fl( flag):\n",
        "  global flag.name()\n",
        "  flag=not flag\n",
        "  print(flag)\n",
        "\n",
        "print(flag1)\n",
        "fl(flag1)\n",
        "print(flag1)"
      ],
      "execution_count": null,
      "outputs": [
        {
          "output_type": "error",
          "ename": "SyntaxError",
          "evalue": "ignored",
          "traceback": [
            "\u001b[0;36m  File \u001b[0;32m\"<ipython-input-65-1d638209d72c>\"\u001b[0;36m, line \u001b[0;32m2\u001b[0m\n\u001b[0;31m    global flag.name()\u001b[0m\n\u001b[0m               ^\u001b[0m\n\u001b[0;31mSyntaxError\u001b[0m\u001b[0;31m:\u001b[0m invalid syntax\n"
          ]
        }
      ]
    },
    {
      "cell_type": "code",
      "metadata": {
        "id": "LmN4EyOHedxr"
      },
      "source": [
        ""
      ],
      "execution_count": null,
      "outputs": []
    },
    {
      "cell_type": "code",
      "metadata": {
        "id": "POPw6e2ned4s"
      },
      "source": [
        "global w\n",
        "    print(w)\n",
        "    w = 20"
      ],
      "execution_count": null,
      "outputs": []
    }
  ]
}