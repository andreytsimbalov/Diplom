{
  "nbformat": 4,
  "nbformat_minor": 0,
  "metadata": {
    "kernelspec": {
      "display_name": "Python 3",
      "language": "python",
      "name": "python3"
    },
    "language_info": {
      "codemirror_mode": {
        "name": "ipython",
        "version": 3
      },
      "file_extension": ".py",
      "mimetype": "text/x-python",
      "name": "python",
      "nbconvert_exporter": "python",
      "pygments_lexer": "ipython3",
      "version": "3.8.1"
    },
    "colab": {
      "name": "Parser_news_RIA.ipynb",
      "provenance": [],
      "collapsed_sections": [],
      "toc_visible": true,
      "include_colab_link": true
    }
  },
  "cells": [
    {
      "cell_type": "markdown",
      "metadata": {
        "id": "view-in-github",
        "colab_type": "text"
      },
      "source": [
        "<a href=\"https://colab.research.google.com/github/andreytsimbalov/News_Classification_and_Vectorization/blob/main/Parser_news_RIA.ipynb\" target=\"_parent\"><img src=\"https://colab.research.google.com/assets/colab-badge.svg\" alt=\"Open In Colab\"/></a>"
      ]
    },
    {
      "cell_type": "markdown",
      "metadata": {
        "id": "9rucQF6vOq1_"
      },
      "source": [
        "# Парсер с Риа новости"
      ]
    },
    {
      "cell_type": "markdown",
      "metadata": {
        "id": "zD6vPk853zKE"
      },
      "source": [
        "Данная программа парсит новости с https://ria.ru/search/ за определенный период"
      ]
    },
    {
      "cell_type": "code",
      "metadata": {
        "id": "kGUc0eFnOq2X"
      },
      "source": [
        "import requests\n",
        "import threading\n",
        "from bs4 import BeautifulSoup\n",
        "import numpy as np\n",
        "from tqdm.notebook import tqdm\n",
        "import pandas as pd\n",
        "import time\n",
        "import random\n",
        "\n",
        "%matplotlib inline\n",
        "import matplotlib.pyplot as plt"
      ],
      "execution_count": 1,
      "outputs": []
    },
    {
      "cell_type": "code",
      "metadata": {
        "id": "dXM6VvpgOq2l"
      },
      "source": [
        "def take_ria_news(url_one):\n",
        "    r=requests.get(url_one).text\n",
        "    bs = BeautifulSoup(r, 'html.parser')\n",
        "\n",
        "    tags = [tag.text for tag in bs.find_all('a', class_ = 'article__tags-item')] \n",
        "\n",
        "    texts = bs.find_all('div', class_ = 'article__block')\n",
        "    main_text = ''\n",
        "    for _ in texts:\n",
        "        t = _.find('div',class_ =\"article__quote\")\n",
        "        if not t is None:\n",
        "            main_text += t.text+' '\n",
        "\n",
        "        t = _.find('div',class_ =\"article__text\")\n",
        "        if not t is None:\n",
        "            main_text += t.text+' '\n",
        "\n",
        "    return tags, main_text"
      ],
      "execution_count": 2,
      "outputs": []
    },
    {
      "cell_type": "code",
      "metadata": {
        "id": "EWhKFmGZOq2n"
      },
      "source": [
        "def take_news(link): # просматривает новость на ria search\n",
        "\n",
        "    new_item = {}\n",
        "    new_item['date'] = link.find('div', class_=\"list-item__date\").text.split(', ')[0]\n",
        "    new_item['time'] = link.find('div', class_=\"list-item__date\").text.split(', ')[1]\n",
        "    new_item['views'] = int(link.find('div', class_='list-item__views-text').text)\n",
        "    \n",
        "    new_item['headline'] = link.find('span',class_=\"share\").get('data-title')\n",
        "    new_item['link']= link.find('a').get('href')\n",
        "    new_item['tags'] = []\n",
        "    new_item['text'] = ''\n",
        "\n",
        "    flag = new_item['link'].find('ria.ru')!=-1\n",
        "    if (flag):\n",
        "        try_to_get_tags_and_text = True\n",
        "        try_counter = 0\n",
        "\n",
        "        while try_to_get_tags_and_text: \n",
        "          try_counter+=1\n",
        "          if try_counter>20:\n",
        "            print(\"dont getted tags and text \"+ str(new_item['link']))\n",
        "            try_to_get_tags_and_text = False\n",
        "            continue\n",
        "\n",
        "          try:\n",
        "            new_item['tags'], new_item['text'] = take_ria_news(new_item['link']) #, new_item['text']\n",
        "          except:\n",
        "            print(\"smth is wrong with t&t\")\n",
        "\n",
        "          if new_item['text']=='':\n",
        "            time.sleep(random.uniform(0.01,0.1)+ try_counter//10)\n",
        "            time.sleep(0)\n",
        "          else:\n",
        "            try_to_get_tags_and_text = False\n",
        "              \n",
        "    else:\n",
        "      print(\"we have not news_text on link \"+str(link))\n",
        "    return new_item"
      ],
      "execution_count": 3,
      "outputs": []
    },
    {
      "cell_type": "code",
      "metadata": {
        "id": "eOUEhG92k8Ur"
      },
      "source": [
        "lock = threading.Lock()\n",
        "\n",
        "def take_1_news(news_item):\n",
        "  views_on_news = int(news_item.find('div', class_='list-item__views-text').text)\n",
        "  flag = news_item.find('a').get('href').find('radiosputnik.ria.ru')==-1 and \\\n",
        "      views_on_news>MIN_VIEWS_ON_NEWS \n",
        "\n",
        "  if flag: \n",
        "      news_one = take_news(news_item)\n",
        "      global news\n",
        "      with lock:\n",
        "        news.extend([news_one])\n",
        "\n",
        "\n",
        "def take_20_news(i, par):\n",
        "  one_news_of_time = time.time()\n",
        "\n",
        "  offset = i*20\n",
        "  params = par.copy()\n",
        "  params['offset'] = offset\n",
        "\n",
        "\n",
        "  success_try_to_parsing = True\n",
        "  try_counter=0\n",
        "\n",
        "  while success_try_to_parsing:\n",
        "    try_counter+=1\n",
        "    r = requests.get(url,params = params)\n",
        "    soup = BeautifulSoup(r.text, 'html.parser')\n",
        "\n",
        "    thrs = [threading.Thread(target=take_1_news, args= (news_item,)) \n",
        "            for news_item in soup.find_all('div', class_ =  'list-item')]\n",
        "    \n",
        "    if len(thrs)<20:\n",
        "      if try_counter>30:\n",
        "        print(f'ERROR__ {i} {params}')\n",
        "        return\n",
        "      time.sleep(random.uniform(0.01, 0.1)+try_counter//20)\n",
        "      continue\n",
        "    else:\n",
        "      success_try_to_parsing = False\n",
        "\n",
        "    for th in thrs:\n",
        "      th.start()\n",
        "    for th in thrs:\n",
        "      th.join()\n",
        "\n",
        "    time_delay = time.time()-one_news_of_time\n",
        "    global max_time_delay\n",
        "    with lock:\n",
        "      max_time_delay = max(max_time_delay, time_delay)\n",
        "  \n",
        "  print(f'{i} finished {len(news)} ({i*20/len_news})')\n",
        "  "
      ],
      "execution_count": 4,
      "outputs": []
    },
    {
      "cell_type": "markdown",
      "metadata": {
        "id": "MaQjq9tjwiQL"
      },
      "source": [
        "# Сбор данных"
      ]
    },
    {
      "cell_type": "code",
      "metadata": {
        "id": "JvgoWvfZzmQb"
      },
      "source": [
        "url = 'https://ria.ru/search/'\n",
        "\n",
        "HEADERS = {'user-agent': 'Mozilla/5.0 (Windows NT 10.0; Win64; x64) '\n",
        "                         'AppleWebKit/537.36 (KHTML, like Gecko) Chrome/84.0.4147.125 Safari/537.36', \n",
        "          'accept': '*/*'}\n",
        "\n",
        "PARAMS = {'interval': \"period\",\n",
        "          'date_from':'2020-01-01',\n",
        "          'date_to':'2020-01-01',\n",
        "          'offset': 0}\n",
        "\n",
        "MIN_VIEWS_ON_NEWS = 10000 #отсев новостей с менее 10 000 просмотров"
      ],
      "execution_count": 14,
      "outputs": []
    },
    {
      "cell_type": "code",
      "metadata": {
        "colab": {
          "base_uri": "https://localhost:8080/"
        },
        "id": "jYuS7esUzmQb",
        "outputId": "1a3ef387-92a6-4e33-fbc0-520602036ede"
      },
      "source": [
        "r = requests.get(url,params = PARAMS)\n",
        "soup = BeautifulSoup(r.text, 'html.parser')\n",
        "\n",
        "len_news = int(soup.find_all('div', class_ =  'rubric-count m-active')[0].text.split(' ')[0])\n",
        "len_news"
      ],
      "execution_count": 15,
      "outputs": [
        {
          "output_type": "execute_result",
          "data": {
            "text/plain": [
              "373"
            ]
          },
          "metadata": {
            "tags": []
          },
          "execution_count": 15
        }
      ]
    },
    {
      "cell_type": "code",
      "metadata": {
        "colab": {
          "base_uri": "https://localhost:8080/"
        },
        "id": "Dh27RErMrNMR",
        "outputId": "b24f7415-b16c-432e-f830-288e8f875726"
      },
      "source": [
        "news = []\n",
        "max_time_delay=0\n",
        "max_thread_number = 10\n",
        "threads_index = set([])\n",
        "\n",
        "\n",
        "arr_news_of_time = time.time()\n",
        "\n",
        "thrs_main = [threading.Thread(target=take_20_news, args= (i,PARAMS,)) \n",
        "              for i in range(len_news//20)]\n",
        "\n",
        "now_threads = set([])\n",
        "\n",
        "iterator = 0\n",
        "\n",
        "while iterator<len(thrs_main):\n",
        "  finished_threads=set([])\n",
        "  for th in now_threads:\n",
        "    if not th.isAlive():\n",
        "      finished_threads.add(th)\n",
        "  now_threads-=finished_threads\n",
        "  \n",
        "  while len(now_threads)<max_thread_number:\n",
        "    now_threads.add(thrs_main[iterator])\n",
        "    thrs_main[iterator].start()\n",
        "    iterator+=1\n",
        "    time.sleep(0.1)\n",
        "  \n",
        "  time.sleep(0)\n",
        "\n",
        "\n",
        "for ths in thrs_main:\n",
        "  ths.join()\n",
        "\n",
        "print(time.time()-arr_news_of_time)\n",
        "print(f'max_time_delay {max_time_delay}')\n",
        "len(news)"
      ],
      "execution_count": 16,
      "outputs": [
        {
          "output_type": "stream",
          "text": [
            "0 finished 24 (0.0)\n",
            "4 finished 27 (0.21447721179624665)\n",
            "8 finished 31 (0.4289544235924933)\n",
            "2 finished 33 (0.10723860589812333)\n",
            "1 finished 34 (0.05361930294906166)\n",
            "7 finished 35 (0.3753351206434316)\n",
            "5 finished 37 (0.2680965147453083)\n",
            "3 finished 39 (0.16085790884718498)\n",
            "6 finished 41 (0.32171581769436997)\n",
            "15 finished 56 (0.8042895442359249)\n",
            "14 finished 64 (0.7506702412868632)\n",
            "12 finished 66 (0.6434316353887399)\n",
            "17 finished 74 (0.9115281501340483)\n",
            "13 finished 75 (0.6970509383378016)\n",
            "ERROR__ 9 {'interval': 'period', 'date_from': '2020-01-01', 'date_to': '2020-01-01', 'offset': 180}\n",
            "ERROR__ 11 {'interval': 'period', 'date_from': '2020-01-01', 'date_to': '2020-01-01', 'offset': 220}\n",
            "ERROR__ 10 {'interval': 'period', 'date_from': '2020-01-01', 'date_to': '2020-01-01', 'offset': 200}\n",
            "ERROR__ 16 {'interval': 'period', 'date_from': '2020-01-01', 'date_to': '2020-01-01', 'offset': 320}\n",
            "51.69085478782654\n",
            "max_time_delay 16.23751187324524\n"
          ],
          "name": "stdout"
        },
        {
          "output_type": "execute_result",
          "data": {
            "text/plain": [
              "75"
            ]
          },
          "metadata": {
            "tags": []
          },
          "execution_count": 16
        }
      ]
    },
    {
      "cell_type": "code",
      "metadata": {
        "colab": {
          "base_uri": "https://localhost:8080/"
        },
        "id": "i05h6XvsAOTz",
        "outputId": "3ff95ef7-ec4d-4c45-95a5-56be08a7fd64"
      },
      "source": [
        "news[0]"
      ],
      "execution_count": 18,
      "outputs": [
        {
          "output_type": "execute_result",
          "data": {
            "text/plain": [
              "{'date': '1 января 2020',\n",
              " 'headline': 'Полицейские на Урале застрелили напавшего на них мужчину',\n",
              " 'link': 'https://ria.ru/20200101/1563066011.html',\n",
              " 'tags': ['Валерий Горелых',\n",
              "  'Следственный комитет России (СК РФ)',\n",
              "  'Министерство внутренних дел РФ (МВД России)',\n",
              "  'Свердловская область',\n",
              "  'Екатеринбург',\n",
              "  'Камышлов',\n",
              "  'Происшествия'],\n",
              " 'text': 'ЕКАТЕРИНБУРГ, 1 янв — РИА Новости. Полицейские в небольшом городе Камышлов на юге Свердловской области застрелили пьяного молодого человека, набросившегося на них с монтировкой, сообщил в среду журналистам руководитель пресс-службы областного управления МВД Валерий Горелых. Ранее в Telegram-каналах появилась информация о том, что в Камышлове произошел новогодний семейный скандал. На место вызвали полицию, но глава семейства накинулся на полицейских с монтировкой, правоохранители его застрелили. Горелых эту информацию подтвердил. По его словам, инцидент произошел во вторник в 21:40 (19:40 мск). В дежурную часть поступил звонок от жительницы частного дома на улице Мира в селе Обуховское. \"Заявительница сообщила, что ее муж 1986 года рождения, ранее судимый за совершение краж, причинил ей телесные повреждения, в пьяном виде бил и душил. По месту ее жительства был направлен участковый уполномоченный полиции и командир отделения патрульно-постовой службы\", — сказал Горелых. Когда полицейские прибыли на место, из дома вышел супруг женщины. По словам Горелых, мужчина действительно был пьян, а в руках держал монтировку. Он стал надвигаться на прапорщика 1975 года рождения, замахиваясь металлическим инструментом. Полицейский достал пистолет и предупредил, что выстрелит, но мужчина не остановился. Тогда прапорщик сделал предупредительный выстрел в воздух, но нападавшего не остановило и это. \"Силовик действовал в соответствии с федеральным законом \"О полиции\". В результате вооруженный металлическим предметом человек получил огнестрельные ранения. Прибывшие медики доставили семейного дебошира в больницу, где он скончался\", — добавил глава пресс-службы главка. По предварительным данным, табельное оружие применено правомерно. Собранные по факту ЧП материалы направлены в СК. Родственники погибшего, написавшие заявление в ОВД, охарактеризовали его крайне отрицательно, сообщив, что он и ранее, будучи пьяным, вел себя неадекватно и бросался на людей с топором. ',\n",
              " 'time': '18:25',\n",
              " 'views': 162457}"
            ]
          },
          "metadata": {
            "tags": []
          },
          "execution_count": 18
        }
      ]
    },
    {
      "cell_type": "markdown",
      "metadata": {
        "id": "GlTuWlJOOq3L"
      },
      "source": [
        "# Графики просмотров - views"
      ]
    },
    {
      "cell_type": "code",
      "metadata": {
        "colab": {
          "base_uri": "https://localhost:8080/"
        },
        "id": "EvSAlN_jOq3M",
        "outputId": "59915b7e-eb90-4e14-e479-a72f8a99bbb1"
      },
      "source": [
        "views = np.array([])\n",
        "for n in news:\n",
        "    views = np.append(views,n['views'])\n",
        "views = views.astype(int)\n",
        "views.sort()\n",
        "views[:10]"
      ],
      "execution_count": 21,
      "outputs": [
        {
          "output_type": "execute_result",
          "data": {
            "text/plain": [
              "array([10054, 10163, 10406, 10574, 11189, 11613, 12064, 12386, 13016,\n",
              "       14630])"
            ]
          },
          "metadata": {
            "tags": []
          },
          "execution_count": 21
        }
      ]
    },
    {
      "cell_type": "code",
      "metadata": {
        "colab": {
          "base_uri": "https://localhost:8080/"
        },
        "id": "jJjP2asGOq3P",
        "outputId": "ab072571-c944-413a-e944-201c6dc70ba2"
      },
      "source": [
        "len(views[views>1100000])"
      ],
      "execution_count": 22,
      "outputs": [
        {
          "output_type": "execute_result",
          "data": {
            "text/plain": [
              "1"
            ]
          },
          "metadata": {
            "tags": []
          },
          "execution_count": 22
        }
      ]
    },
    {
      "cell_type": "code",
      "metadata": {
        "colab": {
          "base_uri": "https://localhost:8080/",
          "height": 276
        },
        "id": "BK6gBICbOq3Q",
        "outputId": "39360a5c-2c30-4cc7-9134-0f32cfca9060"
      },
      "source": [
        "plt.plot(views)\n",
        "plt.show()"
      ],
      "execution_count": 23,
      "outputs": [
        {
          "output_type": "display_data",
          "data": {
            "image/png": "[encoded data removed]",
            "text/plain": [
              "<Figure size 432x288 with 1 Axes>"
            ]
          },
          "metadata": {
            "tags": [],
            "needs_background": "light"
          }
        }
      ]
    },
    {
      "cell_type": "code",
      "metadata": {
        "colab": {
          "base_uri": "https://localhost:8080/"
        },
        "id": "CCdeJNcmOq3R",
        "outputId": "414548b5-f0a1-483c-dc57-b89b26f5a9f7"
      },
      "source": [
        "num_views_hist = 100\n",
        "views_hist = np.histogram(views, bins = np.linspace(views.min(),views.max(), num_views_hist))\n",
        "views_hist = views_hist[0].astype(np.int64)\n",
        "views_hist"
      ],
      "execution_count": 24,
      "outputs": [
        {
          "output_type": "execute_result",
          "data": {
            "text/plain": [
              "array([31, 12,  7,  4,  4,  2,  3,  1,  2,  0,  1,  2,  0,  0,  0,  0,  1,\n",
              "        1,  0,  0,  0,  0,  0,  0,  0,  1,  0,  0,  0,  0,  0,  1,  0,  0,\n",
              "        0,  0,  0,  0,  0,  1,  0,  0,  0,  0,  0,  0,  0,  0,  0,  0,  0,\n",
              "        0,  0,  0,  0,  0,  0,  0,  0,  0,  0,  0,  0,  0,  0,  0,  0,  0,\n",
              "        0,  0,  0,  0,  0,  0,  0,  0,  0,  0,  0,  0,  0,  0,  0,  0,  0,\n",
              "        0,  0,  0,  0,  0,  0,  0,  0,  0,  0,  0,  0,  0,  1])"
            ]
          },
          "metadata": {
            "tags": []
          },
          "execution_count": 24
        }
      ]
    },
    {
      "cell_type": "code",
      "metadata": {
        "colab": {
          "base_uri": "https://localhost:8080/",
          "height": 278
        },
        "id": "ddCmmVWZOq3U",
        "outputId": "34f22dab-8c53-4d19-cc8e-27cd6bd34a42"
      },
      "source": [
        "plt.hist(views, bins = num_views_hist)#np.linspace(0,len(views), 7)\n",
        "plt.show()"
      ],
      "execution_count": 25,
      "outputs": [
        {
          "output_type": "display_data",
          "data": {
            "image/png": "[encoded data removed]",
            "text/plain": [
              "<Figure size 432x288 with 1 Axes>"
            ]
          },
          "metadata": {
            "tags": [],
            "needs_background": "light"
          }
        }
      ]
    },
    {
      "cell_type": "markdown",
      "metadata": {
        "id": "Z2vTvShuOq3W"
      },
      "source": [
        "# Создание датасета"
      ]
    },
    {
      "cell_type": "code",
      "metadata": {
        "colab": {
          "base_uri": "https://localhost:8080/"
        },
        "id": "EuK_EUFH80ZI",
        "outputId": "4f1ce43b-1af6-4fc4-f740-268f9e028163"
      },
      "source": [
        "from google.colab import drive\n",
        "drive.mount('/content/drive')\n",
        "\n",
        "md = '/content/drive/My Drive/Colab Notebooks/Diplom/'"
      ],
      "execution_count": null,
      "outputs": [
        {
          "output_type": "stream",
          "text": [
            "Mounted at /content/drive\n"
          ],
          "name": "stdout"
        }
      ]
    },
    {
      "cell_type": "code",
      "metadata": {
        "colab": {
          "base_uri": "https://localhost:8080/",
          "height": 375
        },
        "id": "3El7lrCAOq3b",
        "outputId": "1f374c16-d54c-4518-bc10-9559a114ac1f"
      },
      "source": [
        "data = pd.DataFrame(news)\n",
        "data.head()"
      ],
      "execution_count": 26,
      "outputs": [
        {
          "output_type": "execute_result",
          "data": {
            "text/html": [
              "<div>\n",
              "<style scoped>\n",
              "    .dataframe tbody tr th:only-of-type {\n",
              "        vertical-align: middle;\n",
              "    }\n",
              "\n",
              "    .dataframe tbody tr th {\n",
              "        vertical-align: top;\n",
              "    }\n",
              "\n",
              "    .dataframe thead th {\n",
              "        text-align: right;\n",
              "    }\n",
              "</style>\n",
              "<table border=\"1\" class=\"dataframe\">\n",
              "  <thead>\n",
              "    <tr style=\"text-align: right;\">\n",
              "      <th></th>\n",
              "      <th>date</th>\n",
              "      <th>time</th>\n",
              "      <th>views</th>\n",
              "      <th>headline</th>\n",
              "      <th>link</th>\n",
              "      <th>tags</th>\n",
              "      <th>text</th>\n",
              "    </tr>\n",
              "  </thead>\n",
              "  <tbody>\n",
              "    <tr>\n",
              "      <th>0</th>\n",
              "      <td>1 января 2020</td>\n",
              "      <td>18:25</td>\n",
              "      <td>162457</td>\n",
              "      <td>Полицейские на Урале застрелили напавшего на н...</td>\n",
              "      <td>https://ria.ru/20200101/1563066011.html</td>\n",
              "      <td>[Валерий Горелых, Следственный комитет России ...</td>\n",
              "      <td>ЕКАТЕРИНБУРГ, 1 янв — РИА Новости. Полицейские...</td>\n",
              "    </tr>\n",
              "    <tr>\n",
              "      <th>1</th>\n",
              "      <td>1 января 2020</td>\n",
              "      <td>17:15</td>\n",
              "      <td>234118</td>\n",
              "      <td>Россиянин выиграл в лотерею миллиард рублей</td>\n",
              "      <td>https://ria.ru/20200101/1563065171.html</td>\n",
              "      <td>[Москва, Общество]</td>\n",
              "      <td>МОСКВА, 1 янв — РИА Новости. Житель Москвы выи...</td>\n",
              "    </tr>\n",
              "    <tr>\n",
              "      <th>2</th>\n",
              "      <td>1 января 2020</td>\n",
              "      <td>21:12</td>\n",
              "      <td>15338</td>\n",
              "      <td>Путин присвоил главе ФССП звание генерал-полко...</td>\n",
              "      <td>https://ria.ru/20200101/1563067715.html</td>\n",
              "      <td>[Дмитрий Аристов, Федеральная служба судебных ...</td>\n",
              "      <td>МОСКВА, 1 янв — РИА Новости. Президент России ...</td>\n",
              "    </tr>\n",
              "    <tr>\n",
              "      <th>3</th>\n",
              "      <td>1 января 2020</td>\n",
              "      <td>20:32</td>\n",
              "      <td>345334</td>\n",
              "      <td>Москвич выиграл в лотерею один миллиард рублей</td>\n",
              "      <td>https://ria.ru/20200101/1563067036.html</td>\n",
              "      <td>[Москва]</td>\n",
              "      <td>МОСКВА, 1 янв — РИА Новости. В новогоднем тира...</td>\n",
              "    </tr>\n",
              "    <tr>\n",
              "      <th>4</th>\n",
              "      <td>1 января 2020</td>\n",
              "      <td>15:27</td>\n",
              "      <td>47194</td>\n",
              "      <td>Появилось видео чемпионского боя российского б...</td>\n",
              "      <td>https://rsport.ria.ru/20200101/1563063849.html</td>\n",
              "      <td>[Смешанные боевые искусства (ММА), США, Спорт]</td>\n",
              "      <td>МОСКВА, 1 янв — РИА Новости. Официальный аккау...</td>\n",
              "    </tr>\n",
              "  </tbody>\n",
              "</table>\n",
              "</div>"
            ],
            "text/plain": [
              "            date  ...                                               text\n",
              "0  1 января 2020  ...  ЕКАТЕРИНБУРГ, 1 янв — РИА Новости. Полицейские...\n",
              "1  1 января 2020  ...  МОСКВА, 1 янв — РИА Новости. Житель Москвы выи...\n",
              "2  1 января 2020  ...  МОСКВА, 1 янв — РИА Новости. Президент России ...\n",
              "3  1 января 2020  ...  МОСКВА, 1 янв — РИА Новости. В новогоднем тира...\n",
              "4  1 января 2020  ...  МОСКВА, 1 янв — РИА Новости. Официальный аккау...\n",
              "\n",
              "[5 rows x 7 columns]"
            ]
          },
          "metadata": {
            "tags": []
          },
          "execution_count": 26
        }
      ]
    },
    {
      "cell_type": "code",
      "metadata": {
        "id": "LqZjWsEIrRAN"
      },
      "source": [
        "data.index = np.arange(len(data))"
      ],
      "execution_count": null,
      "outputs": []
    },
    {
      "cell_type": "code",
      "metadata": {
        "id": "Ip_9MBHhOq3e"
      },
      "source": [
        "data.to_pickle(md+\"data/news_08_2020\")"
      ],
      "execution_count": null,
      "outputs": []
    }
  ]
}