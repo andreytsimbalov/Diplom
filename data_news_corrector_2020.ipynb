{
  "nbformat": 4,
  "nbformat_minor": 0,
  "metadata": {
    "colab": {
      "name": "data_news_corrector_2020.ipynb",
      "provenance": [],
      "collapsed_sections": [],
      "toc_visible": true,
      "include_colab_link": true
    },
    "kernelspec": {
      "display_name": "Python 3",
      "language": "python",
      "name": "python3"
    },
    "language_info": {
      "codemirror_mode": {
        "name": "ipython",
        "version": 3
      },
      "file_extension": ".py",
      "mimetype": "text/x-python",
      "name": "python",
      "nbconvert_exporter": "python",
      "pygments_lexer": "ipython3",
      "version": "3.8.1"
    },
    "widgets": {
      "application/vnd.jupyter.widget-state+json": {
        "d1d1efe5f4a444f8a08dc88d64252736": {
          "model_module": "@jupyter-widgets/controls",
          "model_name": "HBoxModel",
          "state": {
            "_dom_classes": [],
            "_model_module": "@jupyter-widgets/controls",
            "_model_module_version": "1.5.0",
            "_model_name": "HBoxModel",
            "_view_count": null,
            "_view_module": "@jupyter-widgets/controls",
            "_view_module_version": "1.5.0",
            "_view_name": "HBoxView",
            "box_style": "",
            "children": [
              "IPY_MODEL_978a28680022403a9f84bbc33d971a15",
              "IPY_MODEL_cb57a729e91d4e929c63b6dcd74a4e4f"
            ],
            "layout": "IPY_MODEL_0d61a4a70495430c88daddb72d6cba58"
          }
        },
        "978a28680022403a9f84bbc33d971a15": {
          "model_module": "@jupyter-widgets/controls",
          "model_name": "FloatProgressModel",
          "state": {
            "_dom_classes": [],
            "_model_module": "@jupyter-widgets/controls",
            "_model_module_version": "1.5.0",
            "_model_name": "FloatProgressModel",
            "_view_count": null,
            "_view_module": "@jupyter-widgets/controls",
            "_view_module_version": "1.5.0",
            "_view_name": "ProgressView",
            "bar_style": "success",
            "description": "100%",
            "description_tooltip": null,
            "layout": "IPY_MODEL_12dfe5cfc3a5481486cbb496c47b81ea",
            "max": 11,
            "min": 0,
            "orientation": "horizontal",
            "style": "IPY_MODEL_bb5603074f6749978b0952e34d804d6d",
            "value": 11
          }
        },
        "cb57a729e91d4e929c63b6dcd74a4e4f": {
          "model_module": "@jupyter-widgets/controls",
          "model_name": "HTMLModel",
          "state": {
            "_dom_classes": [],
            "_model_module": "@jupyter-widgets/controls",
            "_model_module_version": "1.5.0",
            "_model_name": "HTMLModel",
            "_view_count": null,
            "_view_module": "@jupyter-widgets/controls",
            "_view_module_version": "1.5.0",
            "_view_name": "HTMLView",
            "description": "",
            "description_tooltip": null,
            "layout": "IPY_MODEL_c69043f701894f4d98dfc8e68b674b40",
            "placeholder": "​",
            "style": "IPY_MODEL_c8cc0f23d3f94dffb14b80b050b27f00",
            "value": " 11/11 [07:58&lt;00:00, 43.49s/it]"
          }
        },
        "0d61a4a70495430c88daddb72d6cba58": {
          "model_module": "@jupyter-widgets/base",
          "model_name": "LayoutModel",
          "state": {
            "_model_module": "@jupyter-widgets/base",
            "_model_module_version": "1.2.0",
            "_model_name": "LayoutModel",
            "_view_count": null,
            "_view_module": "@jupyter-widgets/base",
            "_view_module_version": "1.2.0",
            "_view_name": "LayoutView",
            "align_content": null,
            "align_items": null,
            "align_self": null,
            "border": null,
            "bottom": null,
            "display": null,
            "flex": null,
            "flex_flow": null,
            "grid_area": null,
            "grid_auto_columns": null,
            "grid_auto_flow": null,
            "grid_auto_rows": null,
            "grid_column": null,
            "grid_gap": null,
            "grid_row": null,
            "grid_template_areas": null,
            "grid_template_columns": null,
            "grid_template_rows": null,
            "height": null,
            "justify_content": null,
            "justify_items": null,
            "left": null,
            "margin": null,
            "max_height": null,
            "max_width": null,
            "min_height": null,
            "min_width": null,
            "object_fit": null,
            "object_position": null,
            "order": null,
            "overflow": null,
            "overflow_x": null,
            "overflow_y": null,
            "padding": null,
            "right": null,
            "top": null,
            "visibility": null,
            "width": null
          }
        },
        "12dfe5cfc3a5481486cbb496c47b81ea": {
          "model_module": "@jupyter-widgets/base",
          "model_name": "LayoutModel",
          "state": {
            "_model_module": "@jupyter-widgets/base",
            "_model_module_version": "1.2.0",
            "_model_name": "LayoutModel",
            "_view_count": null,
            "_view_module": "@jupyter-widgets/base",
            "_view_module_version": "1.2.0",
            "_view_name": "LayoutView",
            "align_content": null,
            "align_items": null,
            "align_self": null,
            "border": null,
            "bottom": null,
            "display": null,
            "flex": null,
            "flex_flow": null,
            "grid_area": null,
            "grid_auto_columns": null,
            "grid_auto_flow": null,
            "grid_auto_rows": null,
            "grid_column": null,
            "grid_gap": null,
            "grid_row": null,
            "grid_template_areas": null,
            "grid_template_columns": null,
            "grid_template_rows": null,
            "height": null,
            "justify_content": null,
            "justify_items": null,
            "left": null,
            "margin": null,
            "max_height": null,
            "max_width": null,
            "min_height": null,
            "min_width": null,
            "object_fit": null,
            "object_position": null,
            "order": null,
            "overflow": null,
            "overflow_x": null,
            "overflow_y": null,
            "padding": null,
            "right": null,
            "top": null,
            "visibility": null,
            "width": null
          }
        },
        "bb5603074f6749978b0952e34d804d6d": {
          "model_module": "@jupyter-widgets/controls",
          "model_name": "ProgressStyleModel",
          "state": {
            "_model_module": "@jupyter-widgets/controls",
            "_model_module_version": "1.5.0",
            "_model_name": "ProgressStyleModel",
            "_view_count": null,
            "_view_module": "@jupyter-widgets/base",
            "_view_module_version": "1.2.0",
            "_view_name": "StyleView",
            "bar_color": null,
            "description_width": "initial"
          }
        },
        "c69043f701894f4d98dfc8e68b674b40": {
          "model_module": "@jupyter-widgets/base",
          "model_name": "LayoutModel",
          "state": {
            "_model_module": "@jupyter-widgets/base",
            "_model_module_version": "1.2.0",
            "_model_name": "LayoutModel",
            "_view_count": null,
            "_view_module": "@jupyter-widgets/base",
            "_view_module_version": "1.2.0",
            "_view_name": "LayoutView",
            "align_content": null,
            "align_items": null,
            "align_self": null,
            "border": null,
            "bottom": null,
            "display": null,
            "flex": null,
            "flex_flow": null,
            "grid_area": null,
            "grid_auto_columns": null,
            "grid_auto_flow": null,
            "grid_auto_rows": null,
            "grid_column": null,
            "grid_gap": null,
            "grid_row": null,
            "grid_template_areas": null,
            "grid_template_columns": null,
            "grid_template_rows": null,
            "height": null,
            "justify_content": null,
            "justify_items": null,
            "left": null,
            "margin": null,
            "max_height": null,
            "max_width": null,
            "min_height": null,
            "min_width": null,
            "object_fit": null,
            "object_position": null,
            "order": null,
            "overflow": null,
            "overflow_x": null,
            "overflow_y": null,
            "padding": null,
            "right": null,
            "top": null,
            "visibility": null,
            "width": null
          }
        },
        "c8cc0f23d3f94dffb14b80b050b27f00": {
          "model_module": "@jupyter-widgets/controls",
          "model_name": "DescriptionStyleModel",
          "state": {
            "_model_module": "@jupyter-widgets/controls",
            "_model_module_version": "1.5.0",
            "_model_name": "DescriptionStyleModel",
            "_view_count": null,
            "_view_module": "@jupyter-widgets/base",
            "_view_module_version": "1.2.0",
            "_view_name": "StyleView",
            "description_width": ""
          }
        },
        "81671cdc1ab64a529c97199c7c63e3ee": {
          "model_module": "@jupyter-widgets/controls",
          "model_name": "HBoxModel",
          "state": {
            "_view_name": "HBoxView",
            "_dom_classes": [],
            "_model_name": "HBoxModel",
            "_view_module": "@jupyter-widgets/controls",
            "_model_module_version": "1.5.0",
            "_view_count": null,
            "_view_module_version": "1.5.0",
            "box_style": "",
            "layout": "IPY_MODEL_9ad9fddef388428e9069640b651fcd7e",
            "_model_module": "@jupyter-widgets/controls",
            "children": [
              "IPY_MODEL_1e9fd88a8fca475bbe49d5b2c2e6b232",
              "IPY_MODEL_32989585e14c4987a53949c0ba5b300a"
            ]
          }
        },
        "9ad9fddef388428e9069640b651fcd7e": {
          "model_module": "@jupyter-widgets/base",
          "model_name": "LayoutModel",
          "state": {
            "_view_name": "LayoutView",
            "grid_template_rows": null,
            "right": null,
            "justify_content": null,
            "_view_module": "@jupyter-widgets/base",
            "overflow": null,
            "_model_module_version": "1.2.0",
            "_view_count": null,
            "flex_flow": null,
            "width": null,
            "min_width": null,
            "border": null,
            "align_items": null,
            "bottom": null,
            "_model_module": "@jupyter-widgets/base",
            "top": null,
            "grid_column": null,
            "overflow_y": null,
            "overflow_x": null,
            "grid_auto_flow": null,
            "grid_area": null,
            "grid_template_columns": null,
            "flex": null,
            "_model_name": "LayoutModel",
            "justify_items": null,
            "grid_row": null,
            "max_height": null,
            "align_content": null,
            "visibility": null,
            "align_self": null,
            "height": null,
            "min_height": null,
            "padding": null,
            "grid_auto_rows": null,
            "grid_gap": null,
            "max_width": null,
            "order": null,
            "_view_module_version": "1.2.0",
            "grid_template_areas": null,
            "object_position": null,
            "object_fit": null,
            "grid_auto_columns": null,
            "margin": null,
            "display": null,
            "left": null
          }
        },
        "1e9fd88a8fca475bbe49d5b2c2e6b232": {
          "model_module": "@jupyter-widgets/controls",
          "model_name": "FloatProgressModel",
          "state": {
            "_view_name": "ProgressView",
            "style": "IPY_MODEL_09a4675e1ffb4b1db47d57fa5575aec4",
            "_dom_classes": [],
            "description": "100%",
            "_model_name": "FloatProgressModel",
            "bar_style": "success",
            "max": 11,
            "_view_module": "@jupyter-widgets/controls",
            "_model_module_version": "1.5.0",
            "value": 11,
            "_view_count": null,
            "_view_module_version": "1.5.0",
            "orientation": "horizontal",
            "min": 0,
            "description_tooltip": null,
            "_model_module": "@jupyter-widgets/controls",
            "layout": "IPY_MODEL_50f2732c61734f8d8ddd9060d77e2489"
          }
        },
        "32989585e14c4987a53949c0ba5b300a": {
          "model_module": "@jupyter-widgets/controls",
          "model_name": "HTMLModel",
          "state": {
            "_view_name": "HTMLView",
            "style": "IPY_MODEL_5eacaeeaf8834c3aa4fa19d387a5946d",
            "_dom_classes": [],
            "description": "",
            "_model_name": "HTMLModel",
            "placeholder": "​",
            "_view_module": "@jupyter-widgets/controls",
            "_model_module_version": "1.5.0",
            "value": " 11/11 [06:46&lt;00:00, 36.93s/it]",
            "_view_count": null,
            "_view_module_version": "1.5.0",
            "description_tooltip": null,
            "_model_module": "@jupyter-widgets/controls",
            "layout": "IPY_MODEL_d762ba316b3d4bccb60e42789e24cb41"
          }
        },
        "09a4675e1ffb4b1db47d57fa5575aec4": {
          "model_module": "@jupyter-widgets/controls",
          "model_name": "ProgressStyleModel",
          "state": {
            "_view_name": "StyleView",
            "_model_name": "ProgressStyleModel",
            "description_width": "initial",
            "_view_module": "@jupyter-widgets/base",
            "_model_module_version": "1.5.0",
            "_view_count": null,
            "_view_module_version": "1.2.0",
            "bar_color": null,
            "_model_module": "@jupyter-widgets/controls"
          }
        },
        "50f2732c61734f8d8ddd9060d77e2489": {
          "model_module": "@jupyter-widgets/base",
          "model_name": "LayoutModel",
          "state": {
            "_view_name": "LayoutView",
            "grid_template_rows": null,
            "right": null,
            "justify_content": null,
            "_view_module": "@jupyter-widgets/base",
            "overflow": null,
            "_model_module_version": "1.2.0",
            "_view_count": null,
            "flex_flow": null,
            "width": null,
            "min_width": null,
            "border": null,
            "align_items": null,
            "bottom": null,
            "_model_module": "@jupyter-widgets/base",
            "top": null,
            "grid_column": null,
            "overflow_y": null,
            "overflow_x": null,
            "grid_auto_flow": null,
            "grid_area": null,
            "grid_template_columns": null,
            "flex": null,
            "_model_name": "LayoutModel",
            "justify_items": null,
            "grid_row": null,
            "max_height": null,
            "align_content": null,
            "visibility": null,
            "align_self": null,
            "height": null,
            "min_height": null,
            "padding": null,
            "grid_auto_rows": null,
            "grid_gap": null,
            "max_width": null,
            "order": null,
            "_view_module_version": "1.2.0",
            "grid_template_areas": null,
            "object_position": null,
            "object_fit": null,
            "grid_auto_columns": null,
            "margin": null,
            "display": null,
            "left": null
          }
        },
        "5eacaeeaf8834c3aa4fa19d387a5946d": {
          "model_module": "@jupyter-widgets/controls",
          "model_name": "DescriptionStyleModel",
          "state": {
            "_view_name": "StyleView",
            "_model_name": "DescriptionStyleModel",
            "description_width": "",
            "_view_module": "@jupyter-widgets/base",
            "_model_module_version": "1.5.0",
            "_view_count": null,
            "_view_module_version": "1.2.0",
            "_model_module": "@jupyter-widgets/controls"
          }
        },
        "d762ba316b3d4bccb60e42789e24cb41": {
          "model_module": "@jupyter-widgets/base",
          "model_name": "LayoutModel",
          "state": {
            "_view_name": "LayoutView",
            "grid_template_rows": null,
            "right": null,
            "justify_content": null,
            "_view_module": "@jupyter-widgets/base",
            "overflow": null,
            "_model_module_version": "1.2.0",
            "_view_count": null,
            "flex_flow": null,
            "width": null,
            "min_width": null,
            "border": null,
            "align_items": null,
            "bottom": null,
            "_model_module": "@jupyter-widgets/base",
            "top": null,
            "grid_column": null,
            "overflow_y": null,
            "overflow_x": null,
            "grid_auto_flow": null,
            "grid_area": null,
            "grid_template_columns": null,
            "flex": null,
            "_model_name": "LayoutModel",
            "justify_items": null,
            "grid_row": null,
            "max_height": null,
            "align_content": null,
            "visibility": null,
            "align_self": null,
            "height": null,
            "min_height": null,
            "padding": null,
            "grid_auto_rows": null,
            "grid_gap": null,
            "max_width": null,
            "order": null,
            "_view_module_version": "1.2.0",
            "grid_template_areas": null,
            "object_position": null,
            "object_fit": null,
            "grid_auto_columns": null,
            "margin": null,
            "display": null,
            "left": null
          }
        },
        "1f48d7772e33456a9693248a1806d1d2": {
          "model_module": "@jupyter-widgets/controls",
          "model_name": "HBoxModel",
          "state": {
            "_view_name": "HBoxView",
            "_dom_classes": [],
            "_model_name": "HBoxModel",
            "_view_module": "@jupyter-widgets/controls",
            "_model_module_version": "1.5.0",
            "_view_count": null,
            "_view_module_version": "1.5.0",
            "box_style": "",
            "layout": "IPY_MODEL_7b85f7dfa8644ee5b094deec647c904b",
            "_model_module": "@jupyter-widgets/controls",
            "children": [
              "IPY_MODEL_f547a0ad824945a89b1303dcc1286fa3",
              "IPY_MODEL_1a9e20b01caa4e36a24468f8d39613a2"
            ]
          }
        },
        "7b85f7dfa8644ee5b094deec647c904b": {
          "model_module": "@jupyter-widgets/base",
          "model_name": "LayoutModel",
          "state": {
            "_view_name": "LayoutView",
            "grid_template_rows": null,
            "right": null,
            "justify_content": null,
            "_view_module": "@jupyter-widgets/base",
            "overflow": null,
            "_model_module_version": "1.2.0",
            "_view_count": null,
            "flex_flow": null,
            "width": null,
            "min_width": null,
            "border": null,
            "align_items": null,
            "bottom": null,
            "_model_module": "@jupyter-widgets/base",
            "top": null,
            "grid_column": null,
            "overflow_y": null,
            "overflow_x": null,
            "grid_auto_flow": null,
            "grid_area": null,
            "grid_template_columns": null,
            "flex": null,
            "_model_name": "LayoutModel",
            "justify_items": null,
            "grid_row": null,
            "max_height": null,
            "align_content": null,
            "visibility": null,
            "align_self": null,
            "height": null,
            "min_height": null,
            "padding": null,
            "grid_auto_rows": null,
            "grid_gap": null,
            "max_width": null,
            "order": null,
            "_view_module_version": "1.2.0",
            "grid_template_areas": null,
            "object_position": null,
            "object_fit": null,
            "grid_auto_columns": null,
            "margin": null,
            "display": null,
            "left": null
          }
        },
        "f547a0ad824945a89b1303dcc1286fa3": {
          "model_module": "@jupyter-widgets/controls",
          "model_name": "FloatProgressModel",
          "state": {
            "_view_name": "ProgressView",
            "style": "IPY_MODEL_f213656789f64a7cae990419366b09e9",
            "_dom_classes": [],
            "description": "100%",
            "_model_name": "FloatProgressModel",
            "bar_style": "success",
            "max": 11,
            "_view_module": "@jupyter-widgets/controls",
            "_model_module_version": "1.5.0",
            "value": 11,
            "_view_count": null,
            "_view_module_version": "1.5.0",
            "orientation": "horizontal",
            "min": 0,
            "description_tooltip": null,
            "_model_module": "@jupyter-widgets/controls",
            "layout": "IPY_MODEL_9d043316e56b492691085d2b9eebaa87"
          }
        },
        "1a9e20b01caa4e36a24468f8d39613a2": {
          "model_module": "@jupyter-widgets/controls",
          "model_name": "HTMLModel",
          "state": {
            "_view_name": "HTMLView",
            "style": "IPY_MODEL_9f49a12fba7a4508aae59dd2c98ce675",
            "_dom_classes": [],
            "description": "",
            "_model_name": "HTMLModel",
            "placeholder": "​",
            "_view_module": "@jupyter-widgets/controls",
            "_model_module_version": "1.5.0",
            "value": " 11/11 [00:07&lt;00:00,  1.47it/s]",
            "_view_count": null,
            "_view_module_version": "1.5.0",
            "description_tooltip": null,
            "_model_module": "@jupyter-widgets/controls",
            "layout": "IPY_MODEL_033f73bf9de04eee97da72b3bf9b338e"
          }
        },
        "f213656789f64a7cae990419366b09e9": {
          "model_module": "@jupyter-widgets/controls",
          "model_name": "ProgressStyleModel",
          "state": {
            "_view_name": "StyleView",
            "_model_name": "ProgressStyleModel",
            "description_width": "initial",
            "_view_module": "@jupyter-widgets/base",
            "_model_module_version": "1.5.0",
            "_view_count": null,
            "_view_module_version": "1.2.0",
            "bar_color": null,
            "_model_module": "@jupyter-widgets/controls"
          }
        },
        "9d043316e56b492691085d2b9eebaa87": {
          "model_module": "@jupyter-widgets/base",
          "model_name": "LayoutModel",
          "state": {
            "_view_name": "LayoutView",
            "grid_template_rows": null,
            "right": null,
            "justify_content": null,
            "_view_module": "@jupyter-widgets/base",
            "overflow": null,
            "_model_module_version": "1.2.0",
            "_view_count": null,
            "flex_flow": null,
            "width": null,
            "min_width": null,
            "border": null,
            "align_items": null,
            "bottom": null,
            "_model_module": "@jupyter-widgets/base",
            "top": null,
            "grid_column": null,
            "overflow_y": null,
            "overflow_x": null,
            "grid_auto_flow": null,
            "grid_area": null,
            "grid_template_columns": null,
            "flex": null,
            "_model_name": "LayoutModel",
            "justify_items": null,
            "grid_row": null,
            "max_height": null,
            "align_content": null,
            "visibility": null,
            "align_self": null,
            "height": null,
            "min_height": null,
            "padding": null,
            "grid_auto_rows": null,
            "grid_gap": null,
            "max_width": null,
            "order": null,
            "_view_module_version": "1.2.0",
            "grid_template_areas": null,
            "object_position": null,
            "object_fit": null,
            "grid_auto_columns": null,
            "margin": null,
            "display": null,
            "left": null
          }
        },
        "9f49a12fba7a4508aae59dd2c98ce675": {
          "model_module": "@jupyter-widgets/controls",
          "model_name": "DescriptionStyleModel",
          "state": {
            "_view_name": "StyleView",
            "_model_name": "DescriptionStyleModel",
            "description_width": "",
            "_view_module": "@jupyter-widgets/base",
            "_model_module_version": "1.5.0",
            "_view_count": null,
            "_view_module_version": "1.2.0",
            "_model_module": "@jupyter-widgets/controls"
          }
        },
        "033f73bf9de04eee97da72b3bf9b338e": {
          "model_module": "@jupyter-widgets/base",
          "model_name": "LayoutModel",
          "state": {
            "_view_name": "LayoutView",
            "grid_template_rows": null,
            "right": null,
            "justify_content": null,
            "_view_module": "@jupyter-widgets/base",
            "overflow": null,
            "_model_module_version": "1.2.0",
            "_view_count": null,
            "flex_flow": null,
            "width": null,
            "min_width": null,
            "border": null,
            "align_items": null,
            "bottom": null,
            "_model_module": "@jupyter-widgets/base",
            "top": null,
            "grid_column": null,
            "overflow_y": null,
            "overflow_x": null,
            "grid_auto_flow": null,
            "grid_area": null,
            "grid_template_columns": null,
            "flex": null,
            "_model_name": "LayoutModel",
            "justify_items": null,
            "grid_row": null,
            "max_height": null,
            "align_content": null,
            "visibility": null,
            "align_self": null,
            "height": null,
            "min_height": null,
            "padding": null,
            "grid_auto_rows": null,
            "grid_gap": null,
            "max_width": null,
            "order": null,
            "_view_module_version": "1.2.0",
            "grid_template_areas": null,
            "object_position": null,
            "object_fit": null,
            "grid_auto_columns": null,
            "margin": null,
            "display": null,
            "left": null
          }
        }
      }
    }
  },
  "cells": [
    {
      "cell_type": "markdown",
      "metadata": {
        "id": "view-in-github",
        "colab_type": "text"
      },
      "source": [
        "<a href=\"https://colab.research.google.com/github/andreytsimbalov/Diplom/blob/main/data_news_corrector_2020.ipynb\" target=\"_parent\"><img src=\"https://colab.research.google.com/assets/colab-badge.svg\" alt=\"Open In Colab\"/></a>"
      ]
    },
    {
      "cell_type": "markdown",
      "metadata": {
        "id": "37aYdtJS4yvM"
      },
      "source": [
        "# Introduction"
      ]
    },
    {
      "cell_type": "code",
      "metadata": {
        "colab": {
          "base_uri": "https://localhost:8080/"
        },
        "id": "gjwgPKhx51Fd",
        "outputId": "6fa2bc97-1c56-441f-d06e-60bd1a794917"
      },
      "source": [
        "from google.colab import drive\n",
        "drive.mount('/content/drive')"
      ],
      "execution_count": null,
      "outputs": [
        {
          "output_type": "stream",
          "text": [
            "Mounted at /content/drive\n"
          ],
          "name": "stdout"
        }
      ]
    },
    {
      "cell_type": "code",
      "metadata": {
        "id": "UWSL2Wrg4yvR"
      },
      "source": [
        "import sklearn.cluster as sc\n",
        "import gensim\n",
        "import random\n",
        "import pandas as pd\n",
        "import numpy as np\n",
        "import time\n",
        "import datetime\n",
        "from tqdm.notebook import tqdm\n",
        "\n",
        "%matplotlib inline\n",
        "import matplotlib.pyplot as plt\n",
        "\n",
        "md = '/content/drive/My Drive/Colab Notebooks/Diplom/'"
      ],
      "execution_count": null,
      "outputs": []
    },
    {
      "cell_type": "code",
      "metadata": {
        "id": "fwxq4Avy4yvS"
      },
      "source": [
        "months = {\n",
        "    'января':'01',\n",
        "    'февраля':'02',\n",
        "    'марта':'03',\n",
        "    'апреля':'04',\n",
        "    'мая':'05',\n",
        "    'июня':'06',\n",
        "    'июля':'07',\n",
        "    'августа':'08',\n",
        "    'сентября':'09',\n",
        "    'октября':'10',\n",
        "    'ноября':'11',\n",
        "    'декабря':'12'\n",
        "}\n",
        "months_numbers = list(months.values())"
      ],
      "execution_count": null,
      "outputs": []
    },
    {
      "cell_type": "code",
      "metadata": {
        "id": "wauIW6atQ4m3"
      },
      "source": [
        "def show_elbow_plot(model,vocab_m):\r\n",
        "  scores = []\r\n",
        "  for n_cl in tqdm(range(1,10)):\r\n",
        "    km = sc.KMeans(init='k-means++',n_clusters=n_cl, random_state=0).fit(model.wv[vocab_m])\r\n",
        "    scores+= [-km.score(model.wv[vocab_m])]\r\n",
        "\r\n",
        "  plt.scatter(range(1,10),scores)\r\n",
        "  plt.show()"
      ],
      "execution_count": null,
      "outputs": []
    },
    {
      "cell_type": "code",
      "metadata": {
        "id": "8KdvLv95VPaN"
      },
      "source": [
        "def take_from_model(model):\r\n",
        "  vocab_m = np.array(list(model.wv.vocab))\r\n",
        "  counts_m = np.array([model.wv.vocab[v].count for v in vocab_m])\r\n",
        "  n=10 # Выводит первые n самых частотных слов\r\n",
        "  counts_max_m = sorted(np.unique(sorted(counts_m,reverse=True)[:n]),reverse=True)\r\n",
        "  freq_index = [j  for i in counts_max_m for j in np.where(counts_m == i)[0]]\r\n",
        "  freq_m = [vocab_m[i] for i in freq_index]\r\n",
        "  return vocab_m, counts_m, counts_max_m, freq_m"
      ],
      "execution_count": null,
      "outputs": []
    },
    {
      "cell_type": "code",
      "metadata": {
        "id": "8RA1faKs4yvT"
      },
      "source": [
        "def correct_text_news(text):\n",
        "    try:\n",
        "        if text.find('РИА Новости')!=-1:\n",
        "            text_start = text.find('РИА Новости')+len('РИА Новости')+2\n",
        "            text = text[text_start:]\n",
        "    except:\n",
        "        print(text)\n",
        "    return text\n",
        "\n",
        "def convert_to_datetime(date,time):\n",
        "    d = date.split()\n",
        "    # d = d[0] + '-' + months[d[1]] +  '-' + d[2]\n",
        "    d = d[2] + '-' + months[d[1]] +  '-' + d[0]\n",
        "    # print(d)\n",
        "    return pd.to_datetime(d + ' '+ time + ':00')\n",
        "\n",
        "def take_list_from_tags(tags_str):\n",
        "    s = tags_str[1:-1]\n",
        "    s = s.replace(' ','_')\n",
        "    s = s.replace(\"',_'\",' ')\n",
        "    s = s.replace(\"'\",'')\n",
        "    s = s.split()\n",
        "    return s"
      ],
      "execution_count": null,
      "outputs": []
    },
    {
      "cell_type": "markdown",
      "metadata": {
        "id": "4huCgveNDlYB"
      },
      "source": [
        "# Обработка новостей RIA 2020"
      ]
    },
    {
      "cell_type": "code",
      "metadata": {
        "id": "6b35SGi_D1Rf"
      },
      "source": [
        "data = pd.read_pickle(md+'data/news_ria_2020')"
      ],
      "execution_count": null,
      "outputs": []
    },
    {
      "cell_type": "code",
      "metadata": {
        "id": "bY3HlBkHS2tP"
      },
      "source": [
        "def get_data_with_filename(filename):\r\n",
        "  # data = pd.read_csv(file_name).drop('Unnamed: 0',axis=1)\r\n",
        "  data = pd.read_pickle(filename)\r\n",
        "  data.dropna(subset=['text'], inplace=True)\r\n",
        "  data['text'] = [correct_text_news(data.loc[i,'text']) for i in range(len(data))]\r\n",
        "  data = data.iloc[np.where(np.array(data.text!=['' for _ in data.text]))[0]]\r\n",
        "\r\n",
        "  # print(len(data))\r\n",
        "  data.index = np.arange(len(data))\r\n",
        "  data = data.iloc[np.where(np.array(data.text!=['' for _ in data.text]))[0]]\r\n",
        "  # print(len(data))\r\n",
        "\r\n",
        "  data['dt'] = [convert_to_datetime(data.date[i], data.time[i]) for i in range(len(data))]\r\n",
        "  data['main_text'] = data.headline + '. '+ data.text\r\n",
        "  data = data.drop(['date','time', 'link', 'headline', 'text','views'],axis=1)\r\n",
        "  data = data.sort_values('dt',ignore_index=True)\r\n",
        "  \r\n",
        "  return data"
      ],
      "execution_count": null,
      "outputs": []
    },
    {
      "cell_type": "code",
      "metadata": {
        "id": "yo80nNaFlbta"
      },
      "source": [
        "# for i in tqdm(range(0,len(months_numbers))):\r\n",
        "#   d = get_data_with_filename(md+'data/news_'+months_numbers[i]+'_2020')\r\n",
        "#   print(d.dt.head(1))\r\n",
        "#   print(d.dt.tail(1))"
      ],
      "execution_count": null,
      "outputs": []
    },
    {
      "cell_type": "code",
      "metadata": {
        "colab": {
          "base_uri": "https://localhost:8080/",
          "height": 456,
          "referenced_widgets": [
            "d1d1efe5f4a444f8a08dc88d64252736",
            "978a28680022403a9f84bbc33d971a15",
            "cb57a729e91d4e929c63b6dcd74a4e4f",
            "0d61a4a70495430c88daddb72d6cba58",
            "12dfe5cfc3a5481486cbb496c47b81ea",
            "bb5603074f6749978b0952e34d804d6d",
            "c69043f701894f4d98dfc8e68b674b40",
            "c8cc0f23d3f94dffb14b80b050b27f00"
          ]
        },
        "id": "EyuoFRyVTNh-",
        "outputId": "8c595229-e161-45d5-d255-b3a11990a3fa"
      },
      "source": [
        "# datas = [get_data_with_filename(md+'data/news_'+months_numbers[i]+'_2020') for i in range(len(months_numbers))]\r\n",
        "\r\n",
        "data = get_data_with_filename(md+'data/news_'+months_numbers[0]+'_2020') \r\n",
        "for i in tqdm(range(1,len(months_numbers))):\r\n",
        "  data = data.append(get_data_with_filename(md+'data/news_'+months_numbers[i]+'_2020'))\r\n",
        "  # print(i)\r\n",
        "data.index = np.arange(len(data))\r\n",
        "data"
      ],
      "execution_count": null,
      "outputs": [
        {
          "output_type": "display_data",
          "data": {
            "application/vnd.jupyter.widget-view+json": {
              "model_id": "d1d1efe5f4a444f8a08dc88d64252736",
              "version_major": 2,
              "version_minor": 0
            },
            "text/plain": [
              "HBox(children=(FloatProgress(value=0.0, max=11.0), HTML(value='')))"
            ]
          },
          "metadata": {
            "tags": []
          }
        },
        {
          "output_type": "stream",
          "text": [
            "\n"
          ],
          "name": "stdout"
        },
        {
          "output_type": "execute_result",
          "data": {
            "text/html": [
              "<div>\n",
              "<style scoped>\n",
              "    .dataframe tbody tr th:only-of-type {\n",
              "        vertical-align: middle;\n",
              "    }\n",
              "\n",
              "    .dataframe tbody tr th {\n",
              "        vertical-align: top;\n",
              "    }\n",
              "\n",
              "    .dataframe thead th {\n",
              "        text-align: right;\n",
              "    }\n",
              "</style>\n",
              "<table border=\"1\" class=\"dataframe\">\n",
              "  <thead>\n",
              "    <tr style=\"text-align: right;\">\n",
              "      <th></th>\n",
              "      <th>views</th>\n",
              "      <th>tags</th>\n",
              "      <th>dt</th>\n",
              "      <th>main_text</th>\n",
              "    </tr>\n",
              "  </thead>\n",
              "  <tbody>\n",
              "    <tr>\n",
              "      <th>0</th>\n",
              "      <td>12388</td>\n",
              "      <td>[Новый год—2020, Парковка, Москва, Общество]</td>\n",
              "      <td>2020-01-01 00:33:00</td>\n",
              "      <td>Парковка в Москве в новогодние праздники будет...</td>\n",
              "    </tr>\n",
              "    <tr>\n",
              "      <th>1</th>\n",
              "      <td>1029790</td>\n",
              "      <td>[Новый год—2020, Шоу-бизнес, Анастасия Заворот...</td>\n",
              "      <td>2020-01-01 00:38:00</td>\n",
              "      <td>Анастасия Заворотнюк поблагодарила россиян за ...</td>\n",
              "    </tr>\n",
              "    <tr>\n",
              "      <th>2</th>\n",
              "      <td>137369</td>\n",
              "      <td>[Культура, Россия, Шоу-бизнес, Юрий Лоза, Нико...</td>\n",
              "      <td>2020-01-01 00:57:00</td>\n",
              "      <td>Лоза отреагировал на критику концертов Пугачев...</td>\n",
              "    </tr>\n",
              "    <tr>\n",
              "      <th>3</th>\n",
              "      <td>24294</td>\n",
              "      <td>[Угрозы в адрес журналистов Sputnik Эстония, Е...</td>\n",
              "      <td>2020-01-01 01:08:00</td>\n",
              "      <td>Sputnik Эстония перешел на работу в чрезвычайн...</td>\n",
              "    </tr>\n",
              "    <tr>\n",
              "      <th>4</th>\n",
              "      <td>88263</td>\n",
              "      <td>[Ситуация на Украине, Новый год, Владимир Зеле...</td>\n",
              "      <td>2020-01-01 01:19:00</td>\n",
              "      <td>Зеленский в новогоднем поздравлении призвал ук...</td>\n",
              "    </tr>\n",
              "    <tr>\n",
              "      <th>...</th>\n",
              "      <td>...</td>\n",
              "      <td>...</td>\n",
              "      <td>...</td>\n",
              "      <td>...</td>\n",
              "    </tr>\n",
              "    <tr>\n",
              "      <th>45924</th>\n",
              "      <td>455876</td>\n",
              "      <td>[Оппозиционная платформа - За жизнь, Ситуация ...</td>\n",
              "      <td>2020-12-31 20:07:00</td>\n",
              "      <td>Депутат Рады надел шапку с красной звездой и о...</td>\n",
              "    </tr>\n",
              "    <tr>\n",
              "      <th>45925</th>\n",
              "      <td>29885</td>\n",
              "      <td>[Домодедово (аэропорт), Шереметьево (аэропорт)...</td>\n",
              "      <td>2020-12-31 21:16:00</td>\n",
              "      <td>В Москве задержали или отменили около 105 рейс...</td>\n",
              "    </tr>\n",
              "    <tr>\n",
              "      <th>45926</th>\n",
              "      <td>42263</td>\n",
              "      <td>[Россия, Снегурочка, Дед Мороз, Сургут, ДТП, П...</td>\n",
              "      <td>2020-12-31 21:42:00</td>\n",
              "      <td>В Сургуте Дед Мороз разбился в ДТП. Мужчина в ...</td>\n",
              "    </tr>\n",
              "    <tr>\n",
              "      <th>45927</th>\n",
              "      <td>40433</td>\n",
              "      <td>[Распространение коронавируса, Панамериканская...</td>\n",
              "      <td>2020-12-31 23:19:00</td>\n",
              "      <td>ВОЗ внесла вакцину Pfizer в список для экстрен...</td>\n",
              "    </tr>\n",
              "    <tr>\n",
              "      <th>45928</th>\n",
              "      <td>13334</td>\n",
              "      <td>[Ситуация в Нагорном Карабахе, Никол Пашинян, ...</td>\n",
              "      <td>2020-12-31 23:55:00</td>\n",
              "      <td>Алиев ответил на обвинения ЮНЕСКО из-за армянс...</td>\n",
              "    </tr>\n",
              "  </tbody>\n",
              "</table>\n",
              "<p>45929 rows × 4 columns</p>\n",
              "</div>"
            ],
            "text/plain": [
              "         views  ...                                          main_text\n",
              "0        12388  ...  Парковка в Москве в новогодние праздники будет...\n",
              "1      1029790  ...  Анастасия Заворотнюк поблагодарила россиян за ...\n",
              "2       137369  ...  Лоза отреагировал на критику концертов Пугачев...\n",
              "3        24294  ...  Sputnik Эстония перешел на работу в чрезвычайн...\n",
              "4        88263  ...  Зеленский в новогоднем поздравлении призвал ук...\n",
              "...        ...  ...                                                ...\n",
              "45924   455876  ...  Депутат Рады надел шапку с красной звездой и о...\n",
              "45925    29885  ...  В Москве задержали или отменили около 105 рейс...\n",
              "45926    42263  ...  В Сургуте Дед Мороз разбился в ДТП. Мужчина в ...\n",
              "45927    40433  ...  ВОЗ внесла вакцину Pfizer в список для экстрен...\n",
              "45928    13334  ...  Алиев ответил на обвинения ЮНЕСКО из-за армянс...\n",
              "\n",
              "[45929 rows x 4 columns]"
            ]
          },
          "metadata": {
            "tags": []
          },
          "execution_count": 132
        }
      ]
    },
    {
      "cell_type": "code",
      "metadata": {
        "id": "KrFMcArpVsGu"
      },
      "source": [
        "data.to_pickle(md+'data/news_ria_2020')"
      ],
      "execution_count": null,
      "outputs": []
    },
    {
      "cell_type": "code",
      "metadata": {
        "id": "eLPtw-PXYnd6",
        "colab": {
          "base_uri": "https://localhost:8080/",
          "height": 167
        },
        "outputId": "09e70810-e0bd-43e8-84e9-76503c7336d3"
      },
      "source": [
        "data.main_text[0]"
      ],
      "execution_count": null,
      "outputs": [
        {
          "output_type": "error",
          "ename": "NameError",
          "evalue": "ignored",
          "traceback": [
            "\u001b[0;31m---------------------------------------------------------------------------\u001b[0m",
            "\u001b[0;31mNameError\u001b[0m                                 Traceback (most recent call last)",
            "\u001b[0;32m<ipython-input-1-8853f916cb8d>\u001b[0m in \u001b[0;36m<module>\u001b[0;34m()\u001b[0m\n\u001b[0;32m----> 1\u001b[0;31m \u001b[0mdata\u001b[0m\u001b[0;34m.\u001b[0m\u001b[0mmain_text\u001b[0m\u001b[0;34m[\u001b[0m\u001b[0;36m0\u001b[0m\u001b[0;34m]\u001b[0m\u001b[0;34m\u001b[0m\u001b[0;34m\u001b[0m\u001b[0m\n\u001b[0m",
            "\u001b[0;31mNameError\u001b[0m: name 'data' is not defined"
          ]
        }
      ]
    },
    {
      "cell_type": "code",
      "metadata": {
        "id": "slCyLnL0Ynhf"
      },
      "source": [
        ""
      ],
      "execution_count": null,
      "outputs": []
    },
    {
      "cell_type": "markdown",
      "metadata": {
        "id": "nHxPzjoYqhi0"
      },
      "source": [
        "# Обработка новостей Lenta 2020"
      ]
    },
    {
      "cell_type": "code",
      "metadata": {
        "id": "A0I9AuJsqvqP"
      },
      "source": [
        "data = pd.read_pickle(md+'data/news_lenta_2020')"
      ],
      "execution_count": null,
      "outputs": []
    },
    {
      "cell_type": "code",
      "metadata": {
        "id": "fFlZMUEyrAFj"
      },
      "source": [
        "tags = data.tag.to_numpy()\r\n",
        "tags_un = np.unique(tags)"
      ],
      "execution_count": null,
      "outputs": []
    },
    {
      "cell_type": "code",
      "metadata": {
        "colab": {
          "base_uri": "https://localhost:8080/"
        },
        "id": "5jUpdUY2ZZZj",
        "outputId": "8db7890d-3fb4-44f4-aa0f-ac743cd83e4e"
      },
      "source": [
        "data.tags.to_numpy()"
      ],
      "execution_count": null,
      "outputs": [
        {
          "output_type": "execute_result",
          "data": {
            "text/plain": [
              "array(['Экономика', 'Бывший СССР', 'Экономика', ..., 'Мир',\n",
              "       'Наука и техника', 'Мир'], dtype=object)"
            ]
          },
          "metadata": {
            "tags": []
          },
          "execution_count": 20
        }
      ]
    },
    {
      "cell_type": "code",
      "metadata": {
        "colab": {
          "base_uri": "https://localhost:8080/"
        },
        "id": "yS0H3JLTrngs",
        "outputId": "76344818-7056-4720-a687-5c5c346e3b78"
      },
      "source": [
        "tags_un_counter = [len(data[data.tag==tu].text) for tu in tags_un]\r\n",
        "tags_un_dict = dict(zip(tags_un, tags_un_counter))\r\n",
        "tags_un_dict"
      ],
      "execution_count": null,
      "outputs": [
        {
          "output_type": "execute_result",
          "data": {
            "text/plain": [
              "{'69-я параллель': 44,\n",
              " 'Бывший СССР': 616,\n",
              " 'Дом': 345,\n",
              " 'Из жизни': 421,\n",
              " 'Интернет и СМИ': 452,\n",
              " 'Культура': 348,\n",
              " 'Мир': 967,\n",
              " 'Наука и техника': 451,\n",
              " 'Нацпроекты': 304,\n",
              " 'Путешествия': 366,\n",
              " 'Россия': 1655,\n",
              " 'Силовые структуры': 427,\n",
              " 'Спорт': 536,\n",
              " 'Ценности': 349,\n",
              " 'Экономика': 836}"
            ]
          },
          "metadata": {
            "tags": []
          },
          "execution_count": 26
        }
      ]
    },
    {
      "cell_type": "code",
      "metadata": {
        "id": "jv4cNnoMc8O-"
      },
      "source": [
        ""
      ],
      "execution_count": null,
      "outputs": []
    },
    {
      "cell_type": "code",
      "metadata": {
        "colab": {
          "base_uri": "https://localhost:8080/",
          "height": 411
        },
        "id": "r-nuFd7BqvqQ",
        "outputId": "36c819a2-a06d-463c-9057-5873f8a5f244"
      },
      "source": [
        "def get_data_lenta_with_filename(filename):\r\n",
        "  # data = pd.read_csv(file_name).drop('Unnamed: 0',axis=1)\r\n",
        "  data = pd.read_pickle(filename)\r\n",
        "  data.dropna(subset=['text'], inplace=True)\r\n",
        "  data = data[data.text!='']\r\n",
        "\r\n",
        "  # print(len(data))\r\n",
        "  data.index = np.arange(len(data))\r\n",
        "  # data = data.iloc[np.where(np.array(data.text!=['' for _ in data.text]))[0]]\r\n",
        "  # print(len(data))\r\n",
        "  data.rename(columns={'tag': 'tags'}, inplace=True)\r\n",
        "  for i in data.index:\r\n",
        "    data['tags'].iloc[i] = [data['tags'].iloc[i]]\r\n",
        "\r\n",
        "\r\n",
        "  data['dt'] = [convert_to_datetime(data.date[i], data.time[i]) for i in range(len(data))]\r\n",
        "  data['main_text'] = data.headline + '. '+ data.text\r\n",
        "  data = data.drop(['date','time', 'link', 'headline', 'text'],axis=1)\r\n",
        "  data = data.sort_values('dt',ignore_index=True)\r\n",
        "  \r\n",
        "  return data\r\n",
        "data = get_data_lenta_with_filename(md+'data/news_lenta_12_2020')\r\n",
        "data"
      ],
      "execution_count": null,
      "outputs": [
        {
          "output_type": "execute_result",
          "data": {
            "text/html": [
              "<div>\n",
              "<style scoped>\n",
              "    .dataframe tbody tr th:only-of-type {\n",
              "        vertical-align: middle;\n",
              "    }\n",
              "\n",
              "    .dataframe tbody tr th {\n",
              "        vertical-align: top;\n",
              "    }\n",
              "\n",
              "    .dataframe thead th {\n",
              "        text-align: right;\n",
              "    }\n",
              "</style>\n",
              "<table border=\"1\" class=\"dataframe\">\n",
              "  <thead>\n",
              "    <tr style=\"text-align: right;\">\n",
              "      <th></th>\n",
              "      <th>tags</th>\n",
              "      <th>dt</th>\n",
              "      <th>main_text</th>\n",
              "    </tr>\n",
              "  </thead>\n",
              "  <tbody>\n",
              "    <tr>\n",
              "      <th>0</th>\n",
              "      <td>[Россия]</td>\n",
              "      <td>2020-12-01 00:05:00</td>\n",
              "      <td>Врач описал поражения центральной нервной сист...</td>\n",
              "    </tr>\n",
              "    <tr>\n",
              "      <th>1</th>\n",
              "      <td>[Россия]</td>\n",
              "      <td>2020-12-01 00:09:00</td>\n",
              "      <td>В России внесли изменения в права и другие док...</td>\n",
              "    </tr>\n",
              "    <tr>\n",
              "      <th>2</th>\n",
              "      <td>[Наука и техника]</td>\n",
              "      <td>2020-12-01 00:09:00</td>\n",
              "      <td>Nokia выпустит свой первый ноутбук. Nokia пред...</td>\n",
              "    </tr>\n",
              "    <tr>\n",
              "      <th>3</th>\n",
              "      <td>[Экономика]</td>\n",
              "      <td>2020-12-01 00:13:00</td>\n",
              "      <td>Цены на нефть показали рекордные темпы роста с...</td>\n",
              "    </tr>\n",
              "    <tr>\n",
              "      <th>4</th>\n",
              "      <td>[Мир]</td>\n",
              "      <td>2020-12-01 00:28:00</td>\n",
              "      <td>Иран заявил о приведшем к смерти физика-ядерщи...</td>\n",
              "    </tr>\n",
              "    <tr>\n",
              "      <th>...</th>\n",
              "      <td>...</td>\n",
              "      <td>...</td>\n",
              "      <td>...</td>\n",
              "    </tr>\n",
              "    <tr>\n",
              "      <th>8112</th>\n",
              "      <td>[Мир]</td>\n",
              "      <td>2020-12-31 23:08:00</td>\n",
              "      <td>Трамп раскрыл срок поставок американской вакци...</td>\n",
              "    </tr>\n",
              "    <tr>\n",
              "      <th>8113</th>\n",
              "      <td>[Мир]</td>\n",
              "      <td>2020-12-31 23:29:00</td>\n",
              "      <td>США укрепили военную базу в Ираке в преддверии...</td>\n",
              "    </tr>\n",
              "    <tr>\n",
              "      <th>8114</th>\n",
              "      <td>[Мир]</td>\n",
              "      <td>2020-12-31 23:35:00</td>\n",
              "      <td>ВОЗ рекомендовала вакцину Pfizer для экстренно...</td>\n",
              "    </tr>\n",
              "    <tr>\n",
              "      <th>8115</th>\n",
              "      <td>[Наука и техника]</td>\n",
              "      <td>2020-12-31 23:38:00</td>\n",
              "      <td>Рогозин назвал чушью версию о причастности роб...</td>\n",
              "    </tr>\n",
              "    <tr>\n",
              "      <th>8116</th>\n",
              "      <td>[Мир]</td>\n",
              "      <td>2020-12-31 23:51:00</td>\n",
              "      <td>Трамп внезапно прервал отдых и вернулся в Белы...</td>\n",
              "    </tr>\n",
              "  </tbody>\n",
              "</table>\n",
              "<p>8117 rows × 3 columns</p>\n",
              "</div>"
            ],
            "text/plain": [
              "                   tags  ...                                          main_text\n",
              "0              [Россия]  ...  Врач описал поражения центральной нервной сист...\n",
              "1              [Россия]  ...  В России внесли изменения в права и другие док...\n",
              "2     [Наука и техника]  ...  Nokia выпустит свой первый ноутбук. Nokia пред...\n",
              "3           [Экономика]  ...  Цены на нефть показали рекордные темпы роста с...\n",
              "4                 [Мир]  ...  Иран заявил о приведшем к смерти физика-ядерщи...\n",
              "...                 ...  ...                                                ...\n",
              "8112              [Мир]  ...  Трамп раскрыл срок поставок американской вакци...\n",
              "8113              [Мир]  ...  США укрепили военную базу в Ираке в преддверии...\n",
              "8114              [Мир]  ...  ВОЗ рекомендовала вакцину Pfizer для экстренно...\n",
              "8115  [Наука и техника]  ...  Рогозин назвал чушью версию о причастности роб...\n",
              "8116              [Мир]  ...  Трамп внезапно прервал отдых и вернулся в Белы...\n",
              "\n",
              "[8117 rows x 3 columns]"
            ]
          },
          "metadata": {
            "tags": []
          },
          "execution_count": 56
        }
      ]
    },
    {
      "cell_type": "code",
      "metadata": {
        "colab": {
          "base_uri": "https://localhost:8080/",
          "height": 461,
          "referenced_widgets": [
            "81671cdc1ab64a529c97199c7c63e3ee",
            "9ad9fddef388428e9069640b651fcd7e",
            "1e9fd88a8fca475bbe49d5b2c2e6b232",
            "32989585e14c4987a53949c0ba5b300a",
            "09a4675e1ffb4b1db47d57fa5575aec4",
            "50f2732c61734f8d8ddd9060d77e2489",
            "5eacaeeaf8834c3aa4fa19d387a5946d",
            "d762ba316b3d4bccb60e42789e24cb41"
          ]
        },
        "id": "pZFo8IMaqvqT",
        "outputId": "c4067a08-02e6-4557-d820-33e7d7c910e1"
      },
      "source": [
        "# datas = [get_data_with_filename(md+'data/news_'+months_numbers[i]+'_2020') for i in range(len(months_numbers))]\r\n",
        "\r\n",
        "data = get_data_lenta_with_filename(md+'data/news_lenta_'+months_numbers[0]+'_2020') \r\n",
        "for i in tqdm(range(1,len(months_numbers))):\r\n",
        "  data = data.append(get_data_lenta_with_filename(md+'data/news_lenta_'+months_numbers[i]+'_2020'))\r\n",
        "  # print(i)\r\n",
        "data.index = np.arange(len(data))\r\n",
        "data"
      ],
      "execution_count": null,
      "outputs": [
        {
          "output_type": "display_data",
          "data": {
            "application/vnd.jupyter.widget-view+json": {
              "model_id": "81671cdc1ab64a529c97199c7c63e3ee",
              "version_minor": 0,
              "version_major": 2
            },
            "text/plain": [
              "HBox(children=(FloatProgress(value=0.0, max=11.0), HTML(value='')))"
            ]
          },
          "metadata": {
            "tags": []
          }
        },
        {
          "output_type": "stream",
          "text": [
            "\n"
          ],
          "name": "stdout"
        },
        {
          "output_type": "execute_result",
          "data": {
            "text/html": [
              "<div>\n",
              "<style scoped>\n",
              "    .dataframe tbody tr th:only-of-type {\n",
              "        vertical-align: middle;\n",
              "    }\n",
              "\n",
              "    .dataframe tbody tr th {\n",
              "        vertical-align: top;\n",
              "    }\n",
              "\n",
              "    .dataframe thead th {\n",
              "        text-align: right;\n",
              "    }\n",
              "</style>\n",
              "<table border=\"1\" class=\"dataframe\">\n",
              "  <thead>\n",
              "    <tr style=\"text-align: right;\">\n",
              "      <th></th>\n",
              "      <th>tags</th>\n",
              "      <th>dt</th>\n",
              "      <th>main_text</th>\n",
              "    </tr>\n",
              "  </thead>\n",
              "  <tbody>\n",
              "    <tr>\n",
              "      <th>0</th>\n",
              "      <td>[Экономика]</td>\n",
              "      <td>2020-01-01 00:07:00</td>\n",
              "      <td>В России повысили зарплаты. В России повышен м...</td>\n",
              "    </tr>\n",
              "    <tr>\n",
              "      <th>1</th>\n",
              "      <td>[Бывший СССР]</td>\n",
              "      <td>2020-01-01 00:27:00</td>\n",
              "      <td>Партия Порошенко потребовала запретить поставк...</td>\n",
              "    </tr>\n",
              "    <tr>\n",
              "      <th>2</th>\n",
              "      <td>[Экономика]</td>\n",
              "      <td>2020-01-01 00:35:00</td>\n",
              "      <td>В России подорожали алкогольные напитки и сига...</td>\n",
              "    </tr>\n",
              "    <tr>\n",
              "      <th>3</th>\n",
              "      <td>[Наука и техника]</td>\n",
              "      <td>2020-01-01 00:48:00</td>\n",
              "      <td>Рогозин назвал поклонников Маска «Свидетелями ...</td>\n",
              "    </tr>\n",
              "    <tr>\n",
              "      <th>4</th>\n",
              "      <td>[Россия]</td>\n",
              "      <td>2020-01-01 01:02:00</td>\n",
              "      <td>В России изменились правила регистрации новых ...</td>\n",
              "    </tr>\n",
              "    <tr>\n",
              "      <th>...</th>\n",
              "      <td>...</td>\n",
              "      <td>...</td>\n",
              "      <td>...</td>\n",
              "    </tr>\n",
              "    <tr>\n",
              "      <th>86788</th>\n",
              "      <td>[Мир]</td>\n",
              "      <td>2020-12-31 23:08:00</td>\n",
              "      <td>Трамп раскрыл срок поставок американской вакци...</td>\n",
              "    </tr>\n",
              "    <tr>\n",
              "      <th>86789</th>\n",
              "      <td>[Мир]</td>\n",
              "      <td>2020-12-31 23:29:00</td>\n",
              "      <td>США укрепили военную базу в Ираке в преддверии...</td>\n",
              "    </tr>\n",
              "    <tr>\n",
              "      <th>86790</th>\n",
              "      <td>[Мир]</td>\n",
              "      <td>2020-12-31 23:35:00</td>\n",
              "      <td>ВОЗ рекомендовала вакцину Pfizer для экстренно...</td>\n",
              "    </tr>\n",
              "    <tr>\n",
              "      <th>86791</th>\n",
              "      <td>[Наука и техника]</td>\n",
              "      <td>2020-12-31 23:38:00</td>\n",
              "      <td>Рогозин назвал чушью версию о причастности роб...</td>\n",
              "    </tr>\n",
              "    <tr>\n",
              "      <th>86792</th>\n",
              "      <td>[Мир]</td>\n",
              "      <td>2020-12-31 23:51:00</td>\n",
              "      <td>Трамп внезапно прервал отдых и вернулся в Белы...</td>\n",
              "    </tr>\n",
              "  </tbody>\n",
              "</table>\n",
              "<p>86793 rows × 3 columns</p>\n",
              "</div>"
            ],
            "text/plain": [
              "                    tags  ...                                          main_text\n",
              "0            [Экономика]  ...  В России повысили зарплаты. В России повышен м...\n",
              "1          [Бывший СССР]  ...  Партия Порошенко потребовала запретить поставк...\n",
              "2            [Экономика]  ...  В России подорожали алкогольные напитки и сига...\n",
              "3      [Наука и техника]  ...  Рогозин назвал поклонников Маска «Свидетелями ...\n",
              "4               [Россия]  ...  В России изменились правила регистрации новых ...\n",
              "...                  ...  ...                                                ...\n",
              "86788              [Мир]  ...  Трамп раскрыл срок поставок американской вакци...\n",
              "86789              [Мир]  ...  США укрепили военную базу в Ираке в преддверии...\n",
              "86790              [Мир]  ...  ВОЗ рекомендовала вакцину Pfizer для экстренно...\n",
              "86791  [Наука и техника]  ...  Рогозин назвал чушью версию о причастности роб...\n",
              "86792              [Мир]  ...  Трамп внезапно прервал отдых и вернулся в Белы...\n",
              "\n",
              "[86793 rows x 3 columns]"
            ]
          },
          "metadata": {
            "tags": []
          },
          "execution_count": 57
        }
      ]
    },
    {
      "cell_type": "code",
      "metadata": {
        "id": "dOjtCq8YqvqW"
      },
      "source": [
        "data.to_pickle(md+'data/news_lenta_2020')"
      ],
      "execution_count": null,
      "outputs": []
    },
    {
      "cell_type": "code",
      "metadata": {
        "id": "-jqvAeL0qpTe"
      },
      "source": [
        ""
      ],
      "execution_count": null,
      "outputs": []
    },
    {
      "cell_type": "code",
      "metadata": {
        "id": "3SI2J6KTqpf3"
      },
      "source": [
        ""
      ],
      "execution_count": null,
      "outputs": []
    },
    {
      "cell_type": "markdown",
      "metadata": {
        "id": "r-7eYLwIhfUy"
      },
      "source": [
        "# Обработка новостей RBC 2020"
      ]
    },
    {
      "cell_type": "code",
      "metadata": {
        "id": "HCKSJaCSqpqk"
      },
      "source": [
        "data = pd.read_pickle(md+'data/news_rbc_01_2020')"
      ],
      "execution_count": null,
      "outputs": []
    },
    {
      "cell_type": "code",
      "metadata": {
        "id": "_J95fT7EGGZe"
      },
      "source": [
        "data.dropna(subset=['text', 'tag', 'other_tags', 'headline', 'time_int'], inplace=True)\r\n",
        "data = data[data.text!='']\r\n",
        "\r\n",
        "data.index = np.arange(len(data))"
      ],
      "execution_count": null,
      "outputs": []
    },
    {
      "cell_type": "code",
      "metadata": {
        "id": "D9ansqNoiIgX"
      },
      "source": [
        "tags = data.tag.to_numpy()\r\n",
        "tags_un = np.unique(tags)"
      ],
      "execution_count": null,
      "outputs": []
    },
    {
      "cell_type": "code",
      "metadata": {
        "colab": {
          "base_uri": "https://localhost:8080/"
        },
        "id": "lymE7Y8riIgY",
        "outputId": "24be88ff-dcf7-4c07-c7a0-a23ea5376c7b"
      },
      "source": [
        "tags_un_counter = [len(data[data.tag==tu].text) for tu in tags_un]\r\n",
        "tags_un_dict = dict(zip(tags_un, tags_un_counter))\r\n",
        "tags_un_dict"
      ],
      "execution_count": null,
      "outputs": [
        {
          "output_type": "execute_result",
          "data": {
            "text/plain": [
              "{'Бизнес': 27,\n",
              " 'Общество': 1129,\n",
              " 'Политика': 315,\n",
              " 'Технологии и медиа': 57,\n",
              " 'Финансы': 12,\n",
              " 'Экономика': 27}"
            ]
          },
          "metadata": {
            "tags": []
          },
          "execution_count": 90
        }
      ]
    },
    {
      "cell_type": "code",
      "metadata": {
        "colab": {
          "base_uri": "https://localhost:8080/",
          "height": 520
        },
        "id": "LhEzAX5AiIgY",
        "outputId": "e30e3dba-ef9e-412c-d2d5-05a3af064b76"
      },
      "source": [
        "def get_data_lenta_with_filename(filename):\r\n",
        "  data = pd.read_pickle(filename)\r\n",
        "  data.dropna(subset=['text', 'tag', 'other_tags', 'headline', 'time_int'], inplace=True)\r\n",
        "  data = data[data.text!='']\r\n",
        "\r\n",
        "  data.index = np.arange(len(data))\r\n",
        "  data['tags'] = np.nan\r\n",
        "  for i in data.index:\r\n",
        "    data['tags'].iloc[i] = [data['tag'].iloc[i]] + data['other_tags'].iloc[i]\r\n",
        "\r\n",
        "\r\n",
        "  data['dt'] = pd.to_datetime(data.time_int, unit='s')\r\n",
        "  data['main_text'] = data.headline + '. '+ data.text\r\n",
        "  data = data.drop(['link', 'headline', 'text', 'tag', 'time_in_str','time_int','other_tags'],axis=1)\r\n",
        "  data = data.sort_values('dt',ignore_index=True)\r\n",
        "  \r\n",
        "  return data\r\n",
        "data = get_data_lenta_with_filename(md+'data/news_rbc_10_2020')\r\n",
        "data"
      ],
      "execution_count": null,
      "outputs": [
        {
          "output_type": "stream",
          "text": [
            "/usr/local/lib/python3.7/dist-packages/pandas/core/indexing.py:670: SettingWithCopyWarning: \n",
            "A value is trying to be set on a copy of a slice from a DataFrame\n",
            "\n",
            "See the caveats in the documentation: https://pandas.pydata.org/pandas-docs/stable/user_guide/indexing.html#returning-a-view-versus-a-copy\n",
            "  iloc._setitem_with_indexer(indexer, value)\n"
          ],
          "name": "stderr"
        },
        {
          "output_type": "execute_result",
          "data": {
            "text/html": [
              "<div>\n",
              "<style scoped>\n",
              "    .dataframe tbody tr th:only-of-type {\n",
              "        vertical-align: middle;\n",
              "    }\n",
              "\n",
              "    .dataframe tbody tr th {\n",
              "        vertical-align: top;\n",
              "    }\n",
              "\n",
              "    .dataframe thead th {\n",
              "        text-align: right;\n",
              "    }\n",
              "</style>\n",
              "<table border=\"1\" class=\"dataframe\">\n",
              "  <thead>\n",
              "    <tr style=\"text-align: right;\">\n",
              "      <th></th>\n",
              "      <th>tags</th>\n",
              "      <th>dt</th>\n",
              "      <th>main_text</th>\n",
              "    </tr>\n",
              "  </thead>\n",
              "  <tbody>\n",
              "    <tr>\n",
              "      <th>0</th>\n",
              "      <td>[Политика, Борис Грызлов, Минские соглашения, ...</td>\n",
              "      <td>2020-10-01 00:22:21</td>\n",
              "      <td>Грызлов заявил о «фактическом прекращении» мин...</td>\n",
              "    </tr>\n",
              "    <tr>\n",
              "      <th>1</th>\n",
              "      <td>[Общество, коронавирус, COVID-19]</td>\n",
              "      <td>2020-10-01 00:23:04</td>\n",
              "      <td>В Центре Гамалеи назвали главную ошибку зарази...</td>\n",
              "    </tr>\n",
              "    <tr>\n",
              "      <th>2</th>\n",
              "      <td>[Общество, Роспотребнадзор, коронавирус, COVID...</td>\n",
              "      <td>2020-10-01 01:26:54</td>\n",
              "      <td>В Роспотребнадзоре уточнили сроки выхода Росси...</td>\n",
              "    </tr>\n",
              "    <tr>\n",
              "      <th>3</th>\n",
              "      <td>[Общество, Киев, посольство, США, новости]</td>\n",
              "      <td>2020-10-01 02:59:47</td>\n",
              "      <td>Посольство США подтвердило гибель своей сотруд...</td>\n",
              "    </tr>\n",
              "    <tr>\n",
              "      <th>4</th>\n",
              "      <td>[Политика, Дональд Трамп, Владимир Познер, выб...</td>\n",
              "      <td>2020-10-01 04:07:09</td>\n",
              "      <td>Познер назвал постыдными оскорбления Трампа и ...</td>\n",
              "    </tr>\n",
              "    <tr>\n",
              "      <th>...</th>\n",
              "      <td>...</td>\n",
              "      <td>...</td>\n",
              "      <td>...</td>\n",
              "    </tr>\n",
              "    <tr>\n",
              "      <th>1803</th>\n",
              "      <td>[Общество, Франция, РПЦ, ислам]</td>\n",
              "      <td>2020-10-31 18:02:43</td>\n",
              "      <td>В РПЦ посоветовали Франции принять закон о защ...</td>\n",
              "    </tr>\n",
              "    <tr>\n",
              "      <th>1804</th>\n",
              "      <td>[Общество, Челябинск, больница, взрыв, пожар]</td>\n",
              "      <td>2020-10-31 18:49:01</td>\n",
              "      <td>В Челябинске 13 пациентов больницы после взрыв...</td>\n",
              "    </tr>\n",
              "    <tr>\n",
              "      <th>1805</th>\n",
              "      <td>[Общество, Турция, землетрясение]</td>\n",
              "      <td>2020-10-31 20:41:50</td>\n",
              "      <td>Число жертв землетрясения в Турции возросло до...</td>\n",
              "    </tr>\n",
              "    <tr>\n",
              "      <th>1806</th>\n",
              "      <td>[Политика, Михаил Саакашвили, парламентские вы...</td>\n",
              "      <td>2020-10-31 21:32:39</td>\n",
              "      <td>Саакашвили отказался претендовать на пост прем...</td>\n",
              "    </tr>\n",
              "    <tr>\n",
              "      <th>1807</th>\n",
              "      <td>[Политика, Владимир Путин, Росгвардия]</td>\n",
              "      <td>2020-10-31 22:31:09</td>\n",
              "      <td>Путин сократил число первых замов директора Ро...</td>\n",
              "    </tr>\n",
              "  </tbody>\n",
              "</table>\n",
              "<p>1808 rows × 3 columns</p>\n",
              "</div>"
            ],
            "text/plain": [
              "                                                   tags  ...                                          main_text\n",
              "0     [Политика, Борис Грызлов, Минские соглашения, ...  ...  Грызлов заявил о «фактическом прекращении» мин...\n",
              "1                     [Общество, коронавирус, COVID-19]  ...  В Центре Гамалеи назвали главную ошибку зарази...\n",
              "2     [Общество, Роспотребнадзор, коронавирус, COVID...  ...  В Роспотребнадзоре уточнили сроки выхода Росси...\n",
              "3            [Общество, Киев, посольство, США, новости]  ...  Посольство США подтвердило гибель своей сотруд...\n",
              "4     [Политика, Дональд Трамп, Владимир Познер, выб...  ...  Познер назвал постыдными оскорбления Трампа и ...\n",
              "...                                                 ...  ...                                                ...\n",
              "1803                    [Общество, Франция, РПЦ, ислам]  ...  В РПЦ посоветовали Франции принять закон о защ...\n",
              "1804      [Общество, Челябинск, больница, взрыв, пожар]  ...  В Челябинске 13 пациентов больницы после взрыв...\n",
              "1805                  [Общество, Турция, землетрясение]  ...  Число жертв землетрясения в Турции возросло до...\n",
              "1806  [Политика, Михаил Саакашвили, парламентские вы...  ...  Саакашвили отказался претендовать на пост прем...\n",
              "1807             [Политика, Владимир Путин, Росгвардия]  ...  Путин сократил число первых замов директора Ро...\n",
              "\n",
              "[1808 rows x 3 columns]"
            ]
          },
          "metadata": {
            "tags": []
          },
          "execution_count": 124
        }
      ]
    },
    {
      "cell_type": "code",
      "metadata": {
        "colab": {
          "base_uri": "https://localhost:8080/",
          "height": 1000,
          "referenced_widgets": [
            "1f48d7772e33456a9693248a1806d1d2",
            "7b85f7dfa8644ee5b094deec647c904b",
            "f547a0ad824945a89b1303dcc1286fa3",
            "1a9e20b01caa4e36a24468f8d39613a2",
            "f213656789f64a7cae990419366b09e9",
            "9d043316e56b492691085d2b9eebaa87",
            "9f49a12fba7a4508aae59dd2c98ce675",
            "033f73bf9de04eee97da72b3bf9b338e"
          ]
        },
        "id": "qjddKVU_iIga",
        "outputId": "fdb8c8df-bee6-4cde-9e28-3a0953db22e8"
      },
      "source": [
        "# datas = [get_data_with_filename(md+'data/news_'+months_numbers[i]+'_2020') for i in range(len(months_numbers))]\r\n",
        "\r\n",
        "data = get_data_lenta_with_filename(md+'data/news_rbc_'+months_numbers[0]+'_2020') \r\n",
        "for i in tqdm(range(1,len(months_numbers))):\r\n",
        "  data = data.append(get_data_lenta_with_filename(md+'data/news_rbc_'+months_numbers[i]+'_2020'))\r\n",
        "  # print(i)\r\n",
        "data.index = np.arange(len(data))\r\n",
        "data"
      ],
      "execution_count": null,
      "outputs": [
        {
          "output_type": "stream",
          "text": [
            "/usr/local/lib/python3.7/dist-packages/pandas/core/indexing.py:670: SettingWithCopyWarning: \n",
            "A value is trying to be set on a copy of a slice from a DataFrame\n",
            "\n",
            "See the caveats in the documentation: https://pandas.pydata.org/pandas-docs/stable/user_guide/indexing.html#returning-a-view-versus-a-copy\n",
            "  iloc._setitem_with_indexer(indexer, value)\n"
          ],
          "name": "stderr"
        },
        {
          "output_type": "display_data",
          "data": {
            "application/vnd.jupyter.widget-view+json": {
              "model_id": "1f48d7772e33456a9693248a1806d1d2",
              "version_minor": 0,
              "version_major": 2
            },
            "text/plain": [
              "HBox(children=(FloatProgress(value=0.0, max=11.0), HTML(value='')))"
            ]
          },
          "metadata": {
            "tags": []
          }
        },
        {
          "output_type": "stream",
          "text": [
            "/usr/local/lib/python3.7/dist-packages/pandas/core/indexing.py:670: SettingWithCopyWarning: \n",
            "A value is trying to be set on a copy of a slice from a DataFrame\n",
            "\n",
            "See the caveats in the documentation: https://pandas.pydata.org/pandas-docs/stable/user_guide/indexing.html#returning-a-view-versus-a-copy\n",
            "  iloc._setitem_with_indexer(indexer, value)\n",
            "/usr/local/lib/python3.7/dist-packages/pandas/core/indexing.py:670: SettingWithCopyWarning: \n",
            "A value is trying to be set on a copy of a slice from a DataFrame\n",
            "\n",
            "See the caveats in the documentation: https://pandas.pydata.org/pandas-docs/stable/user_guide/indexing.html#returning-a-view-versus-a-copy\n",
            "  iloc._setitem_with_indexer(indexer, value)\n",
            "/usr/local/lib/python3.7/dist-packages/pandas/core/indexing.py:670: SettingWithCopyWarning: \n",
            "A value is trying to be set on a copy of a slice from a DataFrame\n",
            "\n",
            "See the caveats in the documentation: https://pandas.pydata.org/pandas-docs/stable/user_guide/indexing.html#returning-a-view-versus-a-copy\n",
            "  iloc._setitem_with_indexer(indexer, value)\n",
            "/usr/local/lib/python3.7/dist-packages/pandas/core/indexing.py:670: SettingWithCopyWarning: \n",
            "A value is trying to be set on a copy of a slice from a DataFrame\n",
            "\n",
            "See the caveats in the documentation: https://pandas.pydata.org/pandas-docs/stable/user_guide/indexing.html#returning-a-view-versus-a-copy\n",
            "  iloc._setitem_with_indexer(indexer, value)\n",
            "/usr/local/lib/python3.7/dist-packages/pandas/core/indexing.py:670: SettingWithCopyWarning: \n",
            "A value is trying to be set on a copy of a slice from a DataFrame\n",
            "\n",
            "See the caveats in the documentation: https://pandas.pydata.org/pandas-docs/stable/user_guide/indexing.html#returning-a-view-versus-a-copy\n",
            "  iloc._setitem_with_indexer(indexer, value)\n",
            "/usr/local/lib/python3.7/dist-packages/pandas/core/indexing.py:670: SettingWithCopyWarning: \n",
            "A value is trying to be set on a copy of a slice from a DataFrame\n",
            "\n",
            "See the caveats in the documentation: https://pandas.pydata.org/pandas-docs/stable/user_guide/indexing.html#returning-a-view-versus-a-copy\n",
            "  iloc._setitem_with_indexer(indexer, value)\n",
            "/usr/local/lib/python3.7/dist-packages/pandas/core/indexing.py:670: SettingWithCopyWarning: \n",
            "A value is trying to be set on a copy of a slice from a DataFrame\n",
            "\n",
            "See the caveats in the documentation: https://pandas.pydata.org/pandas-docs/stable/user_guide/indexing.html#returning-a-view-versus-a-copy\n",
            "  iloc._setitem_with_indexer(indexer, value)\n",
            "/usr/local/lib/python3.7/dist-packages/pandas/core/indexing.py:670: SettingWithCopyWarning: \n",
            "A value is trying to be set on a copy of a slice from a DataFrame\n",
            "\n",
            "See the caveats in the documentation: https://pandas.pydata.org/pandas-docs/stable/user_guide/indexing.html#returning-a-view-versus-a-copy\n",
            "  iloc._setitem_with_indexer(indexer, value)\n",
            "/usr/local/lib/python3.7/dist-packages/pandas/core/indexing.py:670: SettingWithCopyWarning: \n",
            "A value is trying to be set on a copy of a slice from a DataFrame\n",
            "\n",
            "See the caveats in the documentation: https://pandas.pydata.org/pandas-docs/stable/user_guide/indexing.html#returning-a-view-versus-a-copy\n",
            "  iloc._setitem_with_indexer(indexer, value)\n",
            "/usr/local/lib/python3.7/dist-packages/pandas/core/indexing.py:670: SettingWithCopyWarning: \n",
            "A value is trying to be set on a copy of a slice from a DataFrame\n",
            "\n",
            "See the caveats in the documentation: https://pandas.pydata.org/pandas-docs/stable/user_guide/indexing.html#returning-a-view-versus-a-copy\n",
            "  iloc._setitem_with_indexer(indexer, value)\n",
            "/usr/local/lib/python3.7/dist-packages/pandas/core/indexing.py:670: SettingWithCopyWarning: \n",
            "A value is trying to be set on a copy of a slice from a DataFrame\n",
            "\n",
            "See the caveats in the documentation: https://pandas.pydata.org/pandas-docs/stable/user_guide/indexing.html#returning-a-view-versus-a-copy\n",
            "  iloc._setitem_with_indexer(indexer, value)\n"
          ],
          "name": "stderr"
        },
        {
          "output_type": "stream",
          "text": [
            "\n"
          ],
          "name": "stdout"
        },
        {
          "output_type": "execute_result",
          "data": {
            "text/html": [
              "<div>\n",
              "<style scoped>\n",
              "    .dataframe tbody tr th:only-of-type {\n",
              "        vertical-align: middle;\n",
              "    }\n",
              "\n",
              "    .dataframe tbody tr th {\n",
              "        vertical-align: top;\n",
              "    }\n",
              "\n",
              "    .dataframe thead th {\n",
              "        text-align: right;\n",
              "    }\n",
              "</style>\n",
              "<table border=\"1\" class=\"dataframe\">\n",
              "  <thead>\n",
              "    <tr style=\"text-align: right;\">\n",
              "      <th></th>\n",
              "      <th>tags</th>\n",
              "      <th>dt</th>\n",
              "      <th>main_text</th>\n",
              "    </tr>\n",
              "  </thead>\n",
              "  <tbody>\n",
              "    <tr>\n",
              "      <th>0</th>\n",
              "      <td>[Общество, Анастасия Заворотнюк, актриса]</td>\n",
              "      <td>2020-01-01 02:43:00</td>\n",
              "      <td>Семья Заворотнюк в Instagram поблагодарила рос...</td>\n",
              "    </tr>\n",
              "    <tr>\n",
              "      <th>1</th>\n",
              "      <td>[Политика, Дональд Трамп, Иран]</td>\n",
              "      <td>2020-01-01 10:29:24</td>\n",
              "      <td>Трамп заявил о нежелании вступать в военный ко...</td>\n",
              "    </tr>\n",
              "    <tr>\n",
              "      <th>2</th>\n",
              "      <td>[Общество, сон, праздники, новости РБК, Новый ...</td>\n",
              "      <td>2020-01-01 11:00:20</td>\n",
              "      <td>Врачи предупредили об опасности бессонной ново...</td>\n",
              "    </tr>\n",
              "    <tr>\n",
              "      <th>3</th>\n",
              "      <td>[Общество, Москва, пенсионерка, кража, новости...</td>\n",
              "      <td>2020-01-01 12:18:08</td>\n",
              "      <td>У пенсионерки украли сумку с более 10 млн руб....</td>\n",
              "    </tr>\n",
              "    <tr>\n",
              "      <th>4</th>\n",
              "      <td>[Общество, новости РБК, диета, Новый год]</td>\n",
              "      <td>2020-01-01 13:00:33</td>\n",
              "      <td>Диетологи рассказали об опасности переедания в...</td>\n",
              "    </tr>\n",
              "    <tr>\n",
              "      <th>...</th>\n",
              "      <td>...</td>\n",
              "      <td>...</td>\n",
              "      <td>...</td>\n",
              "    </tr>\n",
              "    <tr>\n",
              "      <th>19149</th>\n",
              "      <td>[Общество, Испания, Великобритания, Гибралтар,...</td>\n",
              "      <td>2020-12-31 19:20:50</td>\n",
              "      <td>Испания и Британия достигли соглашения по Гибр...</td>\n",
              "    </tr>\n",
              "    <tr>\n",
              "      <th>19150</th>\n",
              "      <td>[Экономика, инфляция, Росстат, Минэкономразвит...</td>\n",
              "      <td>2020-12-31 20:07:19</td>\n",
              "      <td>Росстат оценил инфляцию в России по итогам 202...</td>\n",
              "    </tr>\n",
              "    <tr>\n",
              "      <th>19151</th>\n",
              "      <td>[Общество, Великобритания, коронавирус, COVID-19]</td>\n",
              "      <td>2020-12-31 20:44:25</td>\n",
              "      <td>В Британии за сутки впервые выявили более 55 т...</td>\n",
              "    </tr>\n",
              "    <tr>\n",
              "      <th>19152</th>\n",
              "      <td>[Общество, Ералаш, Борис Грачевский, коронавир...</td>\n",
              "      <td>2020-12-31 21:24:11</td>\n",
              "      <td>Супруга худрука «Ералаша» сообщила о состоянии...</td>\n",
              "    </tr>\n",
              "    <tr>\n",
              "      <th>19153</th>\n",
              "      <td>[Общество, авиарейсы, аэропорты, Москва]</td>\n",
              "      <td>2020-12-31 21:36:24</td>\n",
              "      <td>В Москве задержали или отменили почти 100 авиа...</td>\n",
              "    </tr>\n",
              "  </tbody>\n",
              "</table>\n",
              "<p>19154 rows × 3 columns</p>\n",
              "</div>"
            ],
            "text/plain": [
              "                                                    tags  ...                                          main_text\n",
              "0              [Общество, Анастасия Заворотнюк, актриса]  ...  Семья Заворотнюк в Instagram поблагодарила рос...\n",
              "1                        [Политика, Дональд Трамп, Иран]  ...  Трамп заявил о нежелании вступать в военный ко...\n",
              "2      [Общество, сон, праздники, новости РБК, Новый ...  ...  Врачи предупредили об опасности бессонной ново...\n",
              "3      [Общество, Москва, пенсионерка, кража, новости...  ...  У пенсионерки украли сумку с более 10 млн руб....\n",
              "4              [Общество, новости РБК, диета, Новый год]  ...  Диетологи рассказали об опасности переедания в...\n",
              "...                                                  ...  ...                                                ...\n",
              "19149  [Общество, Испания, Великобритания, Гибралтар,...  ...  Испания и Британия достигли соглашения по Гибр...\n",
              "19150  [Экономика, инфляция, Росстат, Минэкономразвит...  ...  Росстат оценил инфляцию в России по итогам 202...\n",
              "19151  [Общество, Великобритания, коронавирус, COVID-19]  ...  В Британии за сутки впервые выявили более 55 т...\n",
              "19152  [Общество, Ералаш, Борис Грачевский, коронавир...  ...  Супруга худрука «Ералаша» сообщила о состоянии...\n",
              "19153           [Общество, авиарейсы, аэропорты, Москва]  ...  В Москве задержали или отменили почти 100 авиа...\n",
              "\n",
              "[19154 rows x 3 columns]"
            ]
          },
          "metadata": {
            "tags": []
          },
          "execution_count": 125
        }
      ]
    },
    {
      "cell_type": "code",
      "metadata": {
        "id": "2oFiaA-XiIga"
      },
      "source": [
        "data.to_pickle(md+'data/news_rbc_2020')"
      ],
      "execution_count": null,
      "outputs": []
    },
    {
      "cell_type": "code",
      "metadata": {
        "id": "VKMtUvM4hlf5"
      },
      "source": [
        ""
      ],
      "execution_count": null,
      "outputs": []
    },
    {
      "cell_type": "code",
      "metadata": {
        "id": "tMV6FQTMhljC"
      },
      "source": [
        ""
      ],
      "execution_count": null,
      "outputs": []
    },
    {
      "cell_type": "markdown",
      "metadata": {
        "id": "WNkG_RMiBZjh"
      },
      "source": [
        "# Создание общего датасета"
      ]
    },
    {
      "cell_type": "code",
      "metadata": {
        "id": "rxQhobmahll0"
      },
      "source": [
        ""
      ],
      "execution_count": null,
      "outputs": []
    },
    {
      "cell_type": "code",
      "metadata": {
        "id": "qMIO6_r5BfjA"
      },
      "source": [
        "df_ria = pd.read_pickle(md+'data/news_ria_2020')\r\n",
        "df_rbc = pd.read_pickle(md+'data/news_rbc_2020')\r\n",
        "df_len = pd.read_pickle(md+'data/news_lenta_2020')"
      ],
      "execution_count": null,
      "outputs": []
    },
    {
      "cell_type": "code",
      "metadata": {
        "id": "4J4BxZO6jbnA"
      },
      "source": [
        "df_ria['website'] = 'ria'\r\n",
        "df_rbc['website'] = 'rbc'\r\n",
        "df_len['website'] = 'lenta'"
      ],
      "execution_count": null,
      "outputs": []
    },
    {
      "cell_type": "code",
      "metadata": {
        "colab": {
          "base_uri": "https://localhost:8080/",
          "height": 218
        },
        "id": "CEKTu_BPjClw",
        "outputId": "fe01bc24-35c7-45b6-91da-19f18486c600"
      },
      "source": [
        "data = df_ria\r\n",
        "data = data.append(df_rbc, ignore_index = True)\r\n",
        "data = data.append(df_len, ignore_index = True)\r\n",
        "\r\n",
        "data.sort_values('dt',ignore_index=True, inplace=True)\r\n",
        "print(len(data))\r\n",
        "data.head()"
      ],
      "execution_count": null,
      "outputs": [
        {
          "output_type": "stream",
          "text": [
            "151876\n"
          ],
          "name": "stdout"
        },
        {
          "output_type": "execute_result",
          "data": {
            "text/html": [
              "<div>\n",
              "<style scoped>\n",
              "    .dataframe tbody tr th:only-of-type {\n",
              "        vertical-align: middle;\n",
              "    }\n",
              "\n",
              "    .dataframe tbody tr th {\n",
              "        vertical-align: top;\n",
              "    }\n",
              "\n",
              "    .dataframe thead th {\n",
              "        text-align: right;\n",
              "    }\n",
              "</style>\n",
              "<table border=\"1\" class=\"dataframe\">\n",
              "  <thead>\n",
              "    <tr style=\"text-align: right;\">\n",
              "      <th></th>\n",
              "      <th>tags</th>\n",
              "      <th>dt</th>\n",
              "      <th>main_text</th>\n",
              "      <th>website</th>\n",
              "    </tr>\n",
              "  </thead>\n",
              "  <tbody>\n",
              "    <tr>\n",
              "      <th>0</th>\n",
              "      <td>[Экономика]</td>\n",
              "      <td>2020-01-01 00:07:00</td>\n",
              "      <td>В России повысили зарплаты. В России повышен м...</td>\n",
              "      <td>lenta</td>\n",
              "    </tr>\n",
              "    <tr>\n",
              "      <th>1</th>\n",
              "      <td>[Бывший СССР]</td>\n",
              "      <td>2020-01-01 00:27:00</td>\n",
              "      <td>Партия Порошенко потребовала запретить поставк...</td>\n",
              "      <td>lenta</td>\n",
              "    </tr>\n",
              "    <tr>\n",
              "      <th>2</th>\n",
              "      <td>[Новый год—2020, Парковка, Москва, Общество]</td>\n",
              "      <td>2020-01-01 00:33:00</td>\n",
              "      <td>Парковка в Москве в новогодние праздники будет...</td>\n",
              "      <td>ria</td>\n",
              "    </tr>\n",
              "    <tr>\n",
              "      <th>3</th>\n",
              "      <td>[Экономика]</td>\n",
              "      <td>2020-01-01 00:35:00</td>\n",
              "      <td>В России подорожали алкогольные напитки и сига...</td>\n",
              "      <td>lenta</td>\n",
              "    </tr>\n",
              "    <tr>\n",
              "      <th>4</th>\n",
              "      <td>[Новый год—2020, Шоу-бизнес, Анастасия Заворот...</td>\n",
              "      <td>2020-01-01 00:38:00</td>\n",
              "      <td>Анастасия Заворотнюк поблагодарила россиян за ...</td>\n",
              "      <td>ria</td>\n",
              "    </tr>\n",
              "  </tbody>\n",
              "</table>\n",
              "</div>"
            ],
            "text/plain": [
              "                                                tags  ... website\n",
              "0                                        [Экономика]  ...   lenta\n",
              "1                                      [Бывший СССР]  ...   lenta\n",
              "2       [Новый год—2020, Парковка, Москва, Общество]  ...     ria\n",
              "3                                        [Экономика]  ...   lenta\n",
              "4  [Новый год—2020, Шоу-бизнес, Анастасия Заворот...  ...     ria\n",
              "\n",
              "[5 rows x 4 columns]"
            ]
          },
          "metadata": {
            "tags": []
          },
          "execution_count": 32
        }
      ]
    },
    {
      "cell_type": "code",
      "metadata": {
        "id": "9xBoJ85vEFfv"
      },
      "source": [
        "tags_len = data.tags.apply(lambda x: len(x))\r\n",
        "tags_len_non_zero_pos = np.where(tags_len!=0)\r\n",
        "data = data.iloc[tags_len_non_zero_pos]"
      ],
      "execution_count": null,
      "outputs": []
    },
    {
      "cell_type": "code",
      "metadata": {
        "id": "EDFsxSfVmPUh"
      },
      "source": [
        "data.to_pickle(md+'data/news_main_2020')"
      ],
      "execution_count": null,
      "outputs": []
    },
    {
      "cell_type": "code",
      "metadata": {
        "id": "U0wIpx_KBdHW"
      },
      "source": [
        ""
      ],
      "execution_count": null,
      "outputs": []
    },
    {
      "cell_type": "code",
      "metadata": {
        "id": "9LdXkl87BdJV"
      },
      "source": [
        ""
      ],
      "execution_count": null,
      "outputs": []
    },
    {
      "cell_type": "code",
      "metadata": {
        "id": "T-n99OifBdLg"
      },
      "source": [
        ""
      ],
      "execution_count": null,
      "outputs": []
    },
    {
      "cell_type": "code",
      "metadata": {
        "id": "-WLWRMZXBdNj"
      },
      "source": [
        ""
      ],
      "execution_count": null,
      "outputs": []
    },
    {
      "cell_type": "code",
      "metadata": {
        "id": "xf2FJrqzBdPo"
      },
      "source": [
        ""
      ],
      "execution_count": null,
      "outputs": []
    },
    {
      "cell_type": "code",
      "metadata": {
        "id": "sus-Nwq5BdTw"
      },
      "source": [
        ""
      ],
      "execution_count": null,
      "outputs": []
    },
    {
      "cell_type": "code",
      "metadata": {
        "id": "NAId-1erBdWJ"
      },
      "source": [
        ""
      ],
      "execution_count": null,
      "outputs": []
    }
  ]
}