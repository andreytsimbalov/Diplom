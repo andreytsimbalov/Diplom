{
  "nbformat": 4,
  "nbformat_minor": 0,
  "metadata": {
    "colab": {
      "name": "Parser_news_RBC.ipynb",
      "provenance": [],
      "collapsed_sections": [],
      "toc_visible": true,
      "include_colab_link": true
    },
    "kernelspec": {
      "display_name": "Python 3",
      "language": "python",
      "name": "python3"
    },
    "language_info": {
      "codemirror_mode": {
        "name": "ipython",
        "version": 3
      },
      "file_extension": ".py",
      "mimetype": "text/x-python",
      "name": "python",
      "nbconvert_exporter": "python",
      "pygments_lexer": "ipython3",
      "version": "3.8.1"
    }
  },
  "cells": [
    {
      "cell_type": "markdown",
      "metadata": {
        "id": "view-in-github",
        "colab_type": "text"
      },
      "source": [
        "<a href=\"https://colab.research.google.com/github/andreytsimbalov/News_Classification_and_Vectorization/blob/main/Parser_news_RBC.ipynb\" target=\"_parent\"><img src=\"https://colab.research.google.com/assets/colab-badge.svg\" alt=\"Open In Colab\"/></a>"
      ]
    },
    {
      "cell_type": "markdown",
      "metadata": {
        "id": "9rucQF6vOq1_"
      },
      "source": [
        "# Парсер с RBC новости"
      ]
    },
    {
      "cell_type": "markdown",
      "metadata": {
        "id": "06yINN5-8fH-"
      },
      "source": [
        "Данная программа парсит новости с https://www.rbc.ru/v10/search/ajax/?offset=0&limit=100&material=short_news&dateFrom=01.12.2020&dateTo=31.12.2020 за определенный период "
      ]
    },
    {
      "cell_type": "code",
      "metadata": {
        "id": "LvOibPWl-Yc2"
      },
      "source": [
        "from google.colab import drive\n",
        "drive.mount('/content/drive')\n",
        "\n",
        "md = '/content/drive/My Drive/Colab Notebooks/Diplom/'"
      ],
      "execution_count": null,
      "outputs": []
    },
    {
      "cell_type": "code",
      "metadata": {
        "id": "kGUc0eFnOq2X"
      },
      "source": [
        "import requests\n",
        "import threading\n",
        "from bs4 import BeautifulSoup\n",
        "import numpy as np\n",
        "from tqdm.notebook import tqdm\n",
        "import pandas as pd\n",
        "import time\n",
        "import random\n",
        "import json\n",
        "\n",
        "%matplotlib inline\n",
        "import matplotlib.pyplot as plt"
      ],
      "execution_count": 1,
      "outputs": []
    },
    {
      "cell_type": "code",
      "metadata": {
        "id": "o0y9xyZVWjIg"
      },
      "source": [
        "days_in_month_dict ={\n",
        "    1:31,\n",
        "    2:29,\n",
        "    3:31,\n",
        "    4:30,\n",
        "    5:31,\n",
        "    6:30,\n",
        "    7:31,\n",
        "    8:31,\n",
        "    9:30,\n",
        "    10:31,\n",
        "    11:30,\n",
        "    12:31\n",
        "}\n",
        "\n",
        "number_of_month_dict ={\n",
        "    1:'01',\n",
        "    2:'02',\n",
        "    3:'03',\n",
        "    4:'04',\n",
        "    5:'05',\n",
        "    6:'06',\n",
        "    7:'07',\n",
        "    8:'08',\n",
        "    9:'09',\n",
        "    10:'10',\n",
        "    11:'11',\n",
        "    12:'12'\n",
        "}"
      ],
      "execution_count": 4,
      "outputs": []
    },
    {
      "cell_type": "code",
      "metadata": {
        "id": "EpS8Cyp74Feu"
      },
      "source": [
        "def take_news_item_from_json_item(ji):\n",
        "  ni = {}\n",
        "  ni['headline'] = ji['title']\n",
        "  ni['link'] = ji['fronturl']\n",
        "  ni['tag'] = ji['category']\n",
        "  ni['time_int'] = int(ji['publish_date_t']) +10800 #+3 hours on Moscow\n",
        "  ni['time_in_str'] = ji['publish_date']\n",
        "\n",
        "  return ni\n",
        "  \n",
        "# take_news_item_from_json_item(rrr[0])"
      ],
      "execution_count": 12,
      "outputs": []
    },
    {
      "cell_type": "code",
      "metadata": {
        "id": "4PcLolsxPoFG"
      },
      "source": [
        "def teke_topic_news_dict(month):\n",
        "  topic_news_dict = []\n",
        "  start_step = 100\n",
        "  now_step = start_step\n",
        "  now_offset = 0\n",
        "  flag = True\n",
        "\n",
        "  while flag:\n",
        "    now_url = 'https://www.rbc.ru/v10/search/ajax/?offset=' + str(now_offset) + \\\n",
        "      '&limit='+str(now_step)+\\\n",
        "      '&material=short_news&dateFrom='+\\\n",
        "      '01.'+number_of_month_dict[month]+\\\n",
        "      '.2020&dateTo='+str(days_in_month_dict[month])+'.'+number_of_month_dict[month]+'.2020'\n",
        "\n",
        "    requests_item = requests.get(now_url)\n",
        "    requests_items = json.loads(requests_item.text)['items']\n",
        "\n",
        "    if requests_items==[]:\n",
        "      if now_step==1:\n",
        "        flag = False\n",
        "        break\n",
        "      now_step=now_step//10\n",
        "    else:\n",
        "      now_news = [take_news_item_from_json_item(_) for _ in requests_items]\n",
        "      print(f'{now_offset} - {now_step} - {len(now_news)}')\n",
        "      now_offset+=now_step\n",
        "      topic_news_dict.extend(now_news)\n",
        "\n",
        "  return topic_news_dict"
      ],
      "execution_count": 9,
      "outputs": []
    },
    {
      "cell_type": "code",
      "metadata": {
        "id": "kj99w40d95ve"
      },
      "source": [
        "lock = threading.Lock()\n",
        "\n",
        "def take_text_and_other_tags_news(id, now_link):\n",
        "  time_delay = time.time()\n",
        "  \n",
        "  other_tags = []\n",
        "  st=''\n",
        "  flag = True\n",
        "  iterator_0 = 0\n",
        "  while flag and iterator_0<10:\n",
        "    iterator_0+=1\n",
        "\n",
        "    r = requests.get(now_link)\n",
        "    soup = BeautifulSoup(r.text, 'html.parser')\n",
        "    \n",
        "    try:\n",
        "      ot = soup.find('div', class_ = 'article__tags__container').find_all('a', class_ = 'article__tags__item')\n",
        "      other_tags = [_.text for _ in ot]\n",
        "\n",
        "      sp = soup.find('div', class_ = 'article__text article__text_free').find_all('p', recursive=False)\n",
        "      for sp_ in sp:\n",
        "        st+=sp_.text+' '\n",
        "      st = st.replace('\\xa0', ' ')\n",
        "\n",
        "      tf = st.find('\\n')\n",
        "      if tf!=-1:\n",
        "        trf = st.rfind('\\n')\n",
        "        st = st[:tf]+st[trf+1:]\n",
        "    except:\n",
        "      pass\n",
        "\n",
        "    if st!='':\n",
        "      flag = False\n",
        "    else:\n",
        "      time.sleep(0.01)\n",
        "\n",
        "  time_delay = time.time() - time_delay\n",
        "  global max_time_delay\n",
        "  global news\n",
        "  with lock:\n",
        "      max_time_delay = max(max_time_delay, time_delay)\n",
        "      news.extend([(id,other_tags, st)])\n",
        "\n",
        "  if id%100==0:\n",
        "    print(f'{id}, len_tags: {len(other_tags)}')\n",
        "  return other_tags, st\n"
      ],
      "execution_count": null,
      "outputs": []
    },
    {
      "cell_type": "markdown",
      "metadata": {
        "id": "HbzaE0GN60f_"
      },
      "source": [
        "# Сбор новостей"
      ]
    },
    {
      "cell_type": "code",
      "metadata": {
        "id": "HNZ4rl5F6zqB"
      },
      "source": [
        "for mount_id in tqdm(range(1,13)):\n",
        "  print(f'now month {mount_id}')\n",
        "\n",
        "  topic_news_dict = teke_topic_news_dict(mount_id)\n",
        "\n",
        "  news = []\n",
        "  max_time_delay=0\n",
        "  max_thread_number = 50\n",
        "  threads_index = set([])\n",
        "\n",
        "\n",
        "  arr_news_of_time = time.time()\n",
        "\n",
        "  thrs_main = [threading.Thread(target=take_text_and_other_tags_news, args= (i, tnd['link'],)) \n",
        "                for i, tnd in enumerate(topic_news_dict)]\n",
        "\n",
        "  now_threads = set([])\n",
        "\n",
        "  iterator = 0\n",
        "\n",
        "  while iterator<len(thrs_main):\n",
        "    finished_threads=set([])\n",
        "    for th in now_threads:\n",
        "      if not th.isAlive():\n",
        "        finished_threads.add(th)\n",
        "    now_threads-=finished_threads\n",
        "    \n",
        "    while len(now_threads)<max_thread_number:\n",
        "      try:\n",
        "        now_threads.add(thrs_main[iterator])\n",
        "        thrs_main[iterator].start()\n",
        "        iterator+=1\n",
        "        time.sleep(0.03)\n",
        "      except:\n",
        "        print(f'iterator: {iterator}')\n",
        "        break\n",
        "    time.sleep(0)\n",
        "\n",
        "  for ths in thrs_main:\n",
        "    ths.join()\n",
        "\n",
        "  print(time.time()-arr_news_of_time)\n",
        "  print(f'max_time_delay {max_time_delay}')\n",
        "  len(news)\n",
        "\n",
        "  n_ = np.array([_[2] for _ in news])\n",
        "  n_count = len(np.where(n_ =='')[0])\n",
        "  print(f'not found news len - {n_count}')\n",
        "  \n",
        "\n",
        "  for n in news:\n",
        "    topic_news_dict[n[0]]['other_tags'] = n[1]\n",
        "    topic_news_dict[n[0]]['text'] = n[2]\n",
        "\n",
        "\n",
        "  data = pd.DataFrame(topic_news_dict)\n",
        "  data.head()\n",
        "\n",
        "\n",
        "  data.to_pickle(md+\"data/news_rbc_\"+ number_of_month_dict[mount_id]+ \"_2020\")"
      ],
      "execution_count": null,
      "outputs": []
    },
    {
      "cell_type": "code",
      "metadata": {
        "id": "9URvTz-V-jzK"
      },
      "source": [
        ""
      ],
      "execution_count": null,
      "outputs": []
    }
  ]
}