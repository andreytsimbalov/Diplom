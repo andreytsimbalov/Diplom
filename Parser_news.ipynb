{
 "cells": [
  {
   "cell_type": "markdown",
   "metadata": {},
   "source": [
    "# Парсер с Риа новости https://ria.ru/search/"
   ]
  },
  {
   "cell_type": "code",
   "execution_count": 67,
   "metadata": {},
   "outputs": [],
   "source": [
    "import requests\n",
    "from bs4 import BeautifulSoup\n",
    "import numpy as np\n",
    "from tqdm.notebook import tqdm\n",
    "\n",
    "%matplotlib inline\n",
    "import matplotlib.pyplot as plt"
   ]
  },
  {
   "cell_type": "markdown",
   "metadata": {},
   "source": [
    "url = 'https://newssearch.yandex.ru/yandsearch?rpt=nnews2&rel=rel&within=9'\n",
    "HEADER = {'user-agent': 'Mozilla/5.0 (Windows NT 10.0; Win64; x64) '\n",
    "                         'AppleWebKit/537.36 (KHTML, like Gecko) Chrome/84.0.4147.125 Safari/537.36', \n",
    "          'accept': '*/*'}\n",
    "r = requests.get(url, headers = HEADER)\n",
    "soup = BeautifulSoup(r.content.decode('utf-8','ignore'), 'html.parser')\n",
    "news = []\n",
    "for link in soup.find_all('li', class_ =  'search-item'):\n",
    "    news+=[link.text]\n",
    "news"
   ]
  },
  {
   "cell_type": "markdown",
   "metadata": {},
   "source": [
    "for i in tqdm(range(100)):\n",
    "    r = requests.get(url, headers = HEADER)\n",
    "    soup = BeautifulSoup(r.content.decode('utf-8','ignore'), 'html.parser')\n",
    "    if len(soup.find_all('li', class_ =  'search-item')):\n",
    "        print(123)    \n",
    "soup"
   ]
  },
  {
   "cell_type": "code",
   "execution_count": 4,
   "metadata": {},
   "outputs": [],
   "source": [
    "url = 'https://ria.ru/search/'\n",
    "# url = 'https://ria.ru/services/search/getmore/?query=&amp;offset=20&amp;interval=week'\n",
    "\n",
    "HEADERS = {'user-agent': 'Mozilla/5.0 (Windows NT 10.0; Win64; x64) '\n",
    "                         'AppleWebKit/537.36 (KHTML, like Gecko) Chrome/84.0.4147.125 Safari/537.36', \n",
    "          'accept': '*/*'}\n",
    "\n",
    "# /services/search/getmore/?query=&offset=20&interval=period&date_from=2020-12-18&date_to=2020-12-25\n",
    "\n",
    "PARAMS = {'interval': \"period\",\n",
    "          'date_from':'2020-12-18',\n",
    "          'date_to':'2020-12-25',\n",
    "          'offset':\"0\"}\n",
    "r = requests.get(url,params = PARAMS)\n",
    "soup = BeautifulSoup(r.text, 'html.parser')"
   ]
  },
  {
   "cell_type": "code",
   "execution_count": 5,
   "metadata": {},
   "outputs": [
    {
     "data": {
      "text/plain": [
       "6077"
      ]
     },
     "execution_count": 5,
     "metadata": {},
     "output_type": "execute_result"
    }
   ],
   "source": [
    "len_news = int(soup.find_all('div', class_ =  'rubric-count m-active')[0].text.split(' ')[0])\n",
    "len_news"
   ]
  },
  {
   "cell_type": "code",
   "execution_count": 6,
   "metadata": {},
   "outputs": [
    {
     "data": {
      "text/plain": [
       "303"
      ]
     },
     "execution_count": 6,
     "metadata": {},
     "output_type": "execute_result"
    }
   ],
   "source": [
    "len_news//20"
   ]
  },
  {
   "cell_type": "code",
   "execution_count": 8,
   "metadata": {},
   "outputs": [],
   "source": [
    "item = soup.find_all('div', class_ =  'list-item')[0]"
   ]
  },
  {
   "cell_type": "code",
   "execution_count": 18,
   "metadata": {},
   "outputs": [
    {
     "data": {
      "text/plain": [
       "<div class=\"list-item\"><div class=\"list-item__content\"><a class=\"list-item__image\" href=\"https://rsport.ria.ru/20201225/scherbakova-1591008586.html\"><picture><source media=\"(min-width: 480px)\" media-type=\"ar16x9\" srcset=\"https://cdn24.img.ria.ru/images/07e4/0c/19/1590990998_0:0:2658:1495_436x0_80_0_0_5dd569dcec7b324c2817c6e97519ad9f.jpg\"/><source media=\"(min-width: 375px)\" media-type=\"ar4x3\" srcset=\"https://cdn22.img.ria.ru/images/07e4/0c/19/1590990998_276:0:2639:1772_186x0_80_0_0_6c876a4330c6775eb27b7eb1ea73f23c.jpg\"/><source media=\"(min-width: 0px)\" media-type=\"ar1x1\" srcset=\"https://cdn21.img.ria.ru/images/07e4/0c/19/1590990998_572:0:2344:1772_140x0_80_0_0_f95f880a8f205a31ae33db0d29dcf637.jpg\"/><img alt=\"Анна Щербакова\" class=\"responsive_img m-list-img\" data-responsive0=\"https://cdn21.img.ria.ru/images/07e4/0c/19/1590990998_572:0:2344:1772_140x0_80_0_0_f95f880a8f205a31ae33db0d29dcf637.jpg\" data-responsive375=\"https://cdn22.img.ria.ru/images/07e4/0c/19/1590990998_276:0:2639:1772_186x0_80_0_0_6c876a4330c6775eb27b7eb1ea73f23c.jpg\" data-responsive480=\"https://cdn24.img.ria.ru/images/07e4/0c/19/1590990998_0:0:2658:1495_436x0_80_0_0_5dd569dcec7b324c2817c6e97519ad9f.jpg\" data-source-sid=\"rian_photo\" media-type=\"ar16x9\" src=\"https://cdn21.img.ria.ru/images/07e4/0c/19/1590990998_0:0:2658:1495_600x0_80_0_0_a18cd6d44bd38631480a9d0796ea9f82.jpg\" title=\"Анна Щербакова\"/></picture></a><a class=\"list-item__title color-font-hover-only\" href=\"https://rsport.ria.ru/20201225/scherbakova-1591008586.html\">Упала на плечо Тутберидзе: Щербакова лидирует после короткой программы  </a></div><div class=\"list-item__info\"><div class=\"list-item__date\">25 декабря, 23:50</div><div class=\"list-item__views\"><div class=\"list-item__views-icon\"><svg class=\"svg-icon\"><use xlink:href=\"#icon-views_small\" xmlns:xlink=\"http://www.w3.org/1999/xlink\"></use></svg></div><div class=\"list-item__views-text\">15988</div></div><div class=\"list-item__project\"><span class=\"m-rsport\"><svg class=\"svg-icon\"><use xlink:href=\"#icon-ria_logo\" xmlns:xlink=\"http://www.w3.org/1999/xlink\"></use></svg></span>Спорт РИА Новости\n",
       "                            </div><span class=\"list-item__share\"><span class=\"share\" data-title=\"Упала на плечо Тутберидзе: Щербакова лидирует после короткой программы \" data-url=\"https://rsport.ria.ru/20201225/scherbakova-1591008586.html\"></span></span></div></div>"
      ]
     },
     "execution_count": 18,
     "metadata": {},
     "output_type": "execute_result"
    }
   ],
   "source": [
    "item"
   ]
  },
  {
   "cell_type": "code",
   "execution_count": 36,
   "metadata": {},
   "outputs": [
    {
     "data": {
      "text/plain": [
       "{'date': '25 декабря',\n",
       " 'time': '23:50',\n",
       " 'views': 15988,\n",
       " 'headline': 'Упала на плечо Тутберидзе: Щербакова лидирует после короткой программы ',\n",
       " 'link': 'https://rsport.ria.ru/20201225/scherbakova-1591008586.html'}"
      ]
     },
     "execution_count": 36,
     "metadata": {},
     "output_type": "execute_result"
    }
   ],
   "source": [
    "def take_news(link):\n",
    "    new_item = {}\n",
    "    new_item['date'] = link.find('div', class_=\"list-item__date\").text.split(', ')[0]\n",
    "    new_item['time'] = link.find('div', class_=\"list-item__date\").text.split(', ')[1]\n",
    "    new_item['views'] = int(link.find('div', class_='list-item__views-text').text)\n",
    "    \n",
    "    new_item['headline'] = link.find('span',class_=\"share\").get('data-title')\n",
    "    new_item['link']= link.find('a').get('href')\n",
    "    \n",
    "    return new_item\n",
    "    \n",
    "take_news(item)"
   ]
  },
  {
   "cell_type": "code",
   "execution_count": 150,
   "metadata": {},
   "outputs": [
    {
     "data": {
      "application/vnd.jupyter.widget-view+json": {
       "model_id": "42baabb8116a47c697e10b953d7e788b",
       "version_major": 2,
       "version_minor": 0
      },
      "text/plain": [
       "HBox(children=(HTML(value=''), FloatProgress(value=0.0, max=30.0), HTML(value='')))"
      ]
     },
     "metadata": {},
     "output_type": "display_data"
    },
    {
     "name": "stdout",
     "output_type": "stream",
     "text": [
      "\n"
     ]
    },
    {
     "data": {
      "text/plain": [
       "91"
      ]
     },
     "execution_count": 150,
     "metadata": {},
     "output_type": "execute_result"
    }
   ],
   "source": [
    "news = []\n",
    "\n",
    "for i in tqdm(range(30)):#len_news//20\n",
    "    offset = i*20\n",
    "    PARAMS = {'interval': \"period\",\n",
    "          'date_from':'2020-12-18',\n",
    "          'date_to':'2020-12-25',\n",
    "          'offset': offset}\n",
    "    r = requests.get(url,params = PARAMS)\n",
    "    soup = BeautifulSoup(r.text, 'html.parser')\n",
    "\n",
    "    for link in soup.find_all('div', class_ =  'list-item'):\n",
    "        news_one = take_news(link)\n",
    "        if news_one['views']>10000: #отсев новостей с менее 10к просмотров\n",
    "            news.extend([take_news(link)])\n",
    "    \n",
    "len(news)"
   ]
  },
  {
   "cell_type": "code",
   "execution_count": 151,
   "metadata": {},
   "outputs": [
    {
     "data": {
      "text/plain": [
       "[{'date': '25 декабря',\n",
       "  'time': '23:50',\n",
       "  'views': 16008,\n",
       "  'headline': 'Упала на плечо Тутберидзе: Щербакова лидирует после короткой программы ',\n",
       "  'link': 'https://rsport.ria.ru/20201225/scherbakova-1591008586.html'},\n",
       " {'date': '25 декабря',\n",
       "  'time': '22:49',\n",
       "  'views': 18104,\n",
       "  'headline': 'Ученые объяснили опасность \"британского\" штамма коронавируса',\n",
       "  'link': 'https://ria.ru/20201225/shtamm-1591005690.html'}]"
      ]
     },
     "execution_count": 151,
     "metadata": {},
     "output_type": "execute_result"
    }
   ],
   "source": [
    "news[:2]"
   ]
  },
  {
   "cell_type": "markdown",
   "metadata": {},
   "source": [
    "**Тесты**"
   ]
  },
  {
   "cell_type": "code",
   "execution_count": 12,
   "metadata": {},
   "outputs": [],
   "source": [
    "item.find('span').get('data-title')"
   ]
  },
  {
   "cell_type": "code",
   "execution_count": 13,
   "metadata": {},
   "outputs": [
    {
     "data": {
      "text/plain": [
       "'Упала на плечо Тутберидзе: Щербакова лидирует после короткой программы '"
      ]
     },
     "execution_count": 13,
     "metadata": {},
     "output_type": "execute_result"
    }
   ],
   "source": [
    "item.find('span',class_=\"share\").get('data-title')"
   ]
  },
  {
   "cell_type": "code",
   "execution_count": 21,
   "metadata": {},
   "outputs": [
    {
     "data": {
      "text/plain": [
       "'25 декабря, 23:50'"
      ]
     },
     "execution_count": 21,
     "metadata": {},
     "output_type": "execute_result"
    }
   ],
   "source": [
    "item.find('div', class_=\"list-item__date\").text"
   ]
  },
  {
   "cell_type": "code",
   "execution_count": 25,
   "metadata": {},
   "outputs": [
    {
     "data": {
      "text/plain": [
       "'15988'"
      ]
     },
     "execution_count": 25,
     "metadata": {},
     "output_type": "execute_result"
    }
   ],
   "source": [
    "item.find('div', class_='list-item__views-text').text"
   ]
  },
  {
   "cell_type": "code",
   "execution_count": null,
   "metadata": {},
   "outputs": [],
   "source": []
  },
  {
   "cell_type": "markdown",
   "metadata": {},
   "source": [
    "**конец тестам**"
   ]
  },
  {
   "cell_type": "markdown",
   "metadata": {},
   "source": [
    "# Графики просмотров - views"
   ]
  },
  {
   "cell_type": "code",
   "execution_count": 152,
   "metadata": {},
   "outputs": [
    {
     "data": {
      "text/plain": [
       "array([ 16008,  18104,  12764, 174615,  17464,  14375,  20538,  13537,\n",
       "        17025,  31051])"
      ]
     },
     "execution_count": 152,
     "metadata": {},
     "output_type": "execute_result"
    }
   ],
   "source": [
    "views = np.array([])\n",
    "for n in news:\n",
    "    views = np.append(views,n['views'])\n",
    "views = views.astype(int)\n",
    "views[:10]"
   ]
  },
  {
   "cell_type": "code",
   "execution_count": 153,
   "metadata": {},
   "outputs": [
    {
     "data": {
      "text/plain": [
       "array([ 10097,  10151,  10215,  10354,  10509,  10725,  11699,  11775,\n",
       "        12706,  12713,  12764,  12834,  12871,  13329,  13342,  13422,\n",
       "        13500,  13537,  13721,  13941,  13952,  13968,  14375,  14535,\n",
       "        14659,  15491,  15699,  16008,  16791,  17013,  17025,  17464,\n",
       "        17516,  18066,  18104,  18112,  20115,  20507,  20538,  21043,\n",
       "        21077,  22220,  22691,  23964,  24166,  25153,  25728,  26516,\n",
       "        27392,  27672,  27870,  28268,  30264,  30333,  31051,  33277,\n",
       "        37308,  38484,  39052,  39198,  39869,  40120,  40697,  44407,\n",
       "        44995,  50458,  50868,  52703,  55632,  56642,  57569,  60696,\n",
       "        61689,  65244,  66273,  71679,  72760,  73469,  78457,  89353,\n",
       "        93097,  94037,  98942, 117101, 128637, 135872, 162318, 174615,\n",
       "       207732, 254281, 419641])"
      ]
     },
     "execution_count": 153,
     "metadata": {},
     "output_type": "execute_result"
    }
   ],
   "source": [
    "views.sort()\n",
    "views[-100:]"
   ]
  },
  {
   "cell_type": "code",
   "execution_count": 154,
   "metadata": {},
   "outputs": [
    {
     "data": {
      "text/plain": [
       "0"
      ]
     },
     "execution_count": 154,
     "metadata": {},
     "output_type": "execute_result"
    }
   ],
   "source": [
    "len(views[views<100])"
   ]
  },
  {
   "cell_type": "code",
   "execution_count": 155,
   "metadata": {},
   "outputs": [
    {
     "data": {
      "image/png": "[encoded data removed]",
      "text/plain": [
       "<Figure size 432x288 with 1 Axes>"
      ]
     },
     "metadata": {
      "needs_background": "light"
     },
     "output_type": "display_data"
    }
   ],
   "source": [
    "plt.plot(views)\n",
    "plt.show()"
   ]
  },
  {
   "cell_type": "code",
   "execution_count": 156,
   "metadata": {},
   "outputs": [
    {
     "data": {
      "text/plain": [
       "array([68, 15,  3,  2,  1,  1,  0,  0,  1], dtype=int64)"
      ]
     },
     "execution_count": 156,
     "metadata": {},
     "output_type": "execute_result"
    }
   ],
   "source": [
    "num_views_hist = 10\n",
    "views_hist = np.histogram(views, bins = np.linspace(views.min(),views.max(), num_views_hist))\n",
    "views_hist = views_hist[0].astype(np.int64)\n",
    "views_hist"
   ]
  },
  {
   "cell_type": "code",
   "execution_count": 157,
   "metadata": {},
   "outputs": [
    {
     "data": {
      "image/png": "[encoded data removed]",
      "text/plain": [
       "<Figure size 432x288 with 1 Axes>"
      ]
     },
     "metadata": {
      "needs_background": "light"
     },
     "output_type": "display_data"
    }
   ],
   "source": [
    "plt.hist(views, bins = num_views_hist)#np.linspace(0,len(views), 7)\n",
    "plt.show()"
   ]
  },
  {
   "cell_type": "code",
   "execution_count": null,
   "metadata": {},
   "outputs": [],
   "source": []
  }
 ],
 "metadata": {
  "kernelspec": {
   "display_name": "Python 3",
   "language": "python",
   "name": "python3"
  },
  "language_info": {
   "codemirror_mode": {
    "name": "ipython",
    "version": 3
   },
   "file_extension": ".py",
   "mimetype": "text/x-python",
   "name": "python",
   "nbconvert_exporter": "python",
   "pygments_lexer": "ipython3",
   "version": "3.8.1"
  }
 },
 "nbformat": 4,
 "nbformat_minor": 4
}
